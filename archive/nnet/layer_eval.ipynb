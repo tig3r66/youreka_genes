{
 "cells": [
  {
   "cell_type": "code",
   "execution_count": 282,
   "metadata": {},
   "outputs": [],
   "source": [
    "import itertools\n",
    "import numpy as np\n",
    "import pandas as pd\n",
    "import matplotlib.pyplot as plt\n",
    "# for data scaling and splitting\n",
    "from sklearn.preprocessing import MinMaxScaler \n",
    "from sklearn.model_selection import train_test_split\n",
    "# for neural net\n",
    "from tensorflow.keras.models import Sequential, load_model\n",
    "from tensorflow.keras.layers import Dense, Dropout\n",
    "from tensorflow.keras.wrappers.scikit_learn import KerasClassifier\n",
    "# for evaluation\n",
    "from sklearn.model_selection import KFold, cross_val_score, GridSearchCV\n",
    "from sklearn.metrics import classification_report, confusion_matrix"
   ]
  },
  {
   "cell_type": "code",
   "execution_count": 283,
   "metadata": {},
   "outputs": [
    {
     "data": {
      "text/plain": [
       "(642, 16383)"
      ]
     },
     "execution_count": 283,
     "metadata": {},
     "output_type": "execute_result"
    }
   ],
   "source": [
    "data = pd.read_csv(\"data/combined_expression.csv\")\n",
    "data['classification'].map({1: 0, 2: 1})\n",
    "data.head()\n",
    "data.shape"
   ]
  },
  {
   "cell_type": "code",
   "execution_count": 284,
   "metadata": {},
   "outputs": [],
   "source": [
    "selected_genes = pd.read_csv('cleaned/boruta-99-25-0.01.csv')\n",
    "selected_genes = selected_genes.values.tolist()\n",
    "selected_genes = list(itertools.chain(*selected_genes))"
   ]
  },
  {
   "cell_type": "code",
   "execution_count": 738,
   "metadata": {},
   "outputs": [],
   "source": [
    "# retrieving proper columns\n",
    "X = data.loc[:, selected_genes]\n",
    "y = data['classification'].values\n",
    "\n",
    "# scaling the data\n",
    "scalar = MinMaxScaler()\n",
    "x_scaled = scalar.fit_transform(X)\n",
    "\n",
    "# splitting data (20% test, 80% train)\n",
    "X_train, X_test, y_train, y_test = train_test_split(x_scaled, y, test_size=0.2)"
   ]
  },
  {
   "cell_type": "markdown",
   "metadata": {},
   "source": [
    "# 4 Hidden Layers (with batch normalization)"
   ]
  },
  {
   "cell_type": "code",
   "execution_count": 767,
   "metadata": {},
   "outputs": [],
   "source": [
    "from tensorflow.keras.layers import BatchNormalization\n",
    "\n",
    "def create_model(optimizer='rmsprop',init='glorot_uniform', dropout=0.3):\n",
    "    model = Sequential()\n",
    "    # adding layers and adding droplayers to avoid overfitting\n",
    "    hidden_layers = len(selected_genes)\n",
    "    model.add(Dense(hidden_layers, activation='relu'))\n",
    "    model.add(BatchNormalization())\n",
    "    model.add(Dropout(dropout))\n",
    "\n",
    "    model.add(Dense((hidden_layers*1.5), activation='relu'))\n",
    "    model.add(BatchNormalization())\n",
    "    model.add(Dropout(dropout))\n",
    "    \n",
    "    model.add(Dense((hidden_layers), activation='relu'))\n",
    "    model.add(BatchNormalization())\n",
    "    model.add(Dropout(dropout))\n",
    "    \n",
    "    model.add(Dense((hidden_layers*0.25), activation='relu'))\n",
    "    model.add(BatchNormalization())\n",
    "    model.add(Dropout(dropout))\n",
    "    \n",
    "    model.add(Dense(1, activation='sigmoid'))\n",
    "    # compiling\n",
    "    model.compile(optimizer=optimizer, loss='binary_crossentropy', metrics=['accuracy'])\n",
    "    return model"
   ]
  },
  {
   "cell_type": "code",
   "execution_count": 773,
   "metadata": {},
   "outputs": [],
   "source": [
    "# parameters selected from previous gridsearch\n",
    "model = KerasClassifier(build_fn=create_model, epochs=50, batch_size=32, optimizer='Adam',init='normal')\n",
    "# kfold = KFold(n_splits=3, shuffle=True)\n",
    "# results = cross_val_score(model, X_train, y_train, cv=kfold)\n",
    "# print(\"Baseline Accuracy: %.2f%% (%.2f%%)\" % (results.mean()*100, results.std()*100))"
   ]
  },
  {
   "cell_type": "code",
   "execution_count": 774,
   "metadata": {
    "scrolled": true
   },
   "outputs": [
    {
     "name": "stdout",
     "output_type": "stream",
     "text": [
      "Train on 513 samples, validate on 129 samples\n",
      "Epoch 1/50\n",
      "513/513 [==============================] - 3s 6ms/sample - loss: 0.9322 - accuracy: 0.5458 - val_loss: 1.0558 - val_accuracy: 0.0000e+00\n",
      "Epoch 2/50\n",
      "513/513 [==============================] - 0s 646us/sample - loss: 0.7391 - accuracy: 0.6647 - val_loss: 1.1220 - val_accuracy: 0.0000e+00\n",
      "Epoch 3/50\n",
      "513/513 [==============================] - 0s 644us/sample - loss: 0.6796 - accuracy: 0.6686 - val_loss: 1.0936 - val_accuracy: 0.0000e+00\n",
      "Epoch 4/50\n",
      "513/513 [==============================] - 0s 643us/sample - loss: 0.5798 - accuracy: 0.7154 - val_loss: 1.3205 - val_accuracy: 0.0000e+00\n",
      "Epoch 5/50\n",
      "513/513 [==============================] - 0s 676us/sample - loss: 0.5131 - accuracy: 0.7836 - val_loss: 1.4281 - val_accuracy: 0.0000e+00\n",
      "Epoch 6/50\n",
      "513/513 [==============================] - 0s 652us/sample - loss: 0.5527 - accuracy: 0.7407 - val_loss: 1.6394 - val_accuracy: 0.0000e+00\n",
      "Epoch 7/50\n",
      "513/513 [==============================] - 0s 649us/sample - loss: 0.4435 - accuracy: 0.7875 - val_loss: 1.5052 - val_accuracy: 0.0000e+00\n",
      "Epoch 8/50\n",
      "513/513 [==============================] - 0s 642us/sample - loss: 0.4280 - accuracy: 0.8012 - val_loss: 1.7155 - val_accuracy: 0.0000e+00\n",
      "Epoch 9/50\n",
      "513/513 [==============================] - 0s 645us/sample - loss: 0.4216 - accuracy: 0.8051 - val_loss: 1.9644 - val_accuracy: 0.0000e+00\n",
      "Epoch 10/50\n",
      "513/513 [==============================] - 0s 648us/sample - loss: 0.4197 - accuracy: 0.8109 - val_loss: 2.5598 - val_accuracy: 0.0078\n",
      "Epoch 11/50\n",
      "513/513 [==============================] - 0s 642us/sample - loss: 0.3554 - accuracy: 0.8382 - val_loss: 2.7598 - val_accuracy: 0.0000e+00\n",
      "Epoch 12/50\n",
      "513/513 [==============================] - 0s 645us/sample - loss: 0.3546 - accuracy: 0.8558 - val_loss: 2.6716 - val_accuracy: 0.0000e+00\n",
      "Epoch 13/50\n",
      "513/513 [==============================] - 0s 663us/sample - loss: 0.3259 - accuracy: 0.8577 - val_loss: 1.4899 - val_accuracy: 0.0233\n",
      "Epoch 14/50\n",
      "513/513 [==============================] - 0s 655us/sample - loss: 0.2973 - accuracy: 0.8752 - val_loss: 2.1416 - val_accuracy: 0.0155\n",
      "Epoch 15/50\n",
      "513/513 [==============================] - 0s 660us/sample - loss: 0.2700 - accuracy: 0.8850 - val_loss: 1.8388 - val_accuracy: 0.0388\n",
      "Epoch 16/50\n",
      "513/513 [==============================] - 0s 650us/sample - loss: 0.2304 - accuracy: 0.9103 - val_loss: 1.6087 - val_accuracy: 0.0930\n",
      "Epoch 17/50\n",
      "513/513 [==============================] - 0s 661us/sample - loss: 0.2484 - accuracy: 0.8811 - val_loss: 2.1261 - val_accuracy: 0.0310\n",
      "Epoch 18/50\n",
      "513/513 [==============================] - 0s 662us/sample - loss: 0.2391 - accuracy: 0.9103 - val_loss: 2.4378 - val_accuracy: 0.0310\n",
      "Epoch 19/50\n",
      "513/513 [==============================] - 0s 658us/sample - loss: 0.1880 - accuracy: 0.9318 - val_loss: 1.6669 - val_accuracy: 0.0775\n",
      "Epoch 20/50\n",
      "513/513 [==============================] - 0s 697us/sample - loss: 0.1873 - accuracy: 0.9220 - val_loss: 1.6676 - val_accuracy: 0.0775\n",
      "Epoch 21/50\n",
      "513/513 [==============================] - 0s 723us/sample - loss: 0.1974 - accuracy: 0.9181 - val_loss: 3.0953 - val_accuracy: 0.0310\n",
      "Epoch 22/50\n",
      "513/513 [==============================] - 0s 741us/sample - loss: 0.1593 - accuracy: 0.9376 - val_loss: 1.5713 - val_accuracy: 0.0930\n",
      "Epoch 23/50\n",
      "513/513 [==============================] - 0s 716us/sample - loss: 0.2042 - accuracy: 0.9396 - val_loss: 2.7856 - val_accuracy: 0.0310\n",
      "Epoch 24/50\n",
      "513/513 [==============================] - 0s 720us/sample - loss: 0.1902 - accuracy: 0.9181 - val_loss: 3.7531 - val_accuracy: 0.0233\n",
      "Epoch 25/50\n",
      "513/513 [==============================] - 0s 721us/sample - loss: 0.1352 - accuracy: 0.9415 - val_loss: 3.6115 - val_accuracy: 0.0233\n",
      "Epoch 26/50\n",
      "513/513 [==============================] - 0s 708us/sample - loss: 0.1561 - accuracy: 0.9493 - val_loss: 1.9730 - val_accuracy: 0.0775\n",
      "Epoch 27/50\n",
      "513/513 [==============================] - 0s 718us/sample - loss: 0.1563 - accuracy: 0.9376 - val_loss: 3.5111 - val_accuracy: 0.0310\n",
      "Epoch 28/50\n",
      "513/513 [==============================] - 0s 712us/sample - loss: 0.1128 - accuracy: 0.9708 - val_loss: 1.5995 - val_accuracy: 0.1163\n",
      "Epoch 29/50\n",
      "513/513 [==============================] - 0s 707us/sample - loss: 0.1183 - accuracy: 0.9591 - val_loss: 4.6802 - val_accuracy: 0.0233\n",
      "Epoch 30/50\n",
      "513/513 [==============================] - 0s 719us/sample - loss: 0.1198 - accuracy: 0.9591 - val_loss: 3.1955 - val_accuracy: 0.0233\n",
      "Epoch 31/50\n",
      "513/513 [==============================] - 0s 706us/sample - loss: 0.1225 - accuracy: 0.9552 - val_loss: 4.3170 - val_accuracy: 0.0310\n",
      "Epoch 32/50\n",
      "513/513 [==============================] - 0s 708us/sample - loss: 0.1229 - accuracy: 0.9532 - val_loss: -0.6677 - val_accuracy: 0.2481\n",
      "Epoch 33/50\n",
      "513/513 [==============================] - 0s 719us/sample - loss: 0.1198 - accuracy: 0.9493 - val_loss: 3.2115 - val_accuracy: 0.0465\n",
      "Epoch 34/50\n",
      "513/513 [==============================] - 0s 698us/sample - loss: 0.0929 - accuracy: 0.9727 - val_loss: 0.8595 - val_accuracy: 0.1163\n",
      "Epoch 35/50\n",
      "513/513 [==============================] - 0s 700us/sample - loss: 0.1114 - accuracy: 0.9669 - val_loss: 1.2730 - val_accuracy: 0.1163\n",
      "Epoch 36/50\n",
      "513/513 [==============================] - 0s 714us/sample - loss: 0.1067 - accuracy: 0.9630 - val_loss: 2.2120 - val_accuracy: 0.0930\n",
      "Epoch 37/50\n",
      "513/513 [==============================] - 0s 699us/sample - loss: 0.0735 - accuracy: 0.9786 - val_loss: 1.6978 - val_accuracy: 0.1085\n",
      "Epoch 38/50\n",
      "513/513 [==============================] - 0s 703us/sample - loss: 0.0809 - accuracy: 0.9747 - val_loss: 4.6436 - val_accuracy: 0.0310\n",
      "Epoch 39/50\n",
      "513/513 [==============================] - 0s 712us/sample - loss: 0.0838 - accuracy: 0.9669 - val_loss: 3.4742 - val_accuracy: 0.0853\n",
      "Epoch 40/50\n",
      "513/513 [==============================] - 0s 697us/sample - loss: 0.1111 - accuracy: 0.9727 - val_loss: 3.0761 - val_accuracy: 0.0698\n",
      "Epoch 41/50\n",
      "513/513 [==============================] - 0s 706us/sample - loss: 0.0726 - accuracy: 0.9805 - val_loss: 2.4852 - val_accuracy: 0.0853\n",
      "Epoch 42/50\n",
      "513/513 [==============================] - 0s 706us/sample - loss: 0.0892 - accuracy: 0.9669 - val_loss: 2.7657 - val_accuracy: 0.0698\n",
      "Epoch 43/50\n",
      "513/513 [==============================] - 0s 703us/sample - loss: 0.0756 - accuracy: 0.9688 - val_loss: 2.2333 - val_accuracy: 0.0620\n",
      "Epoch 44/50\n",
      "513/513 [==============================] - 0s 722us/sample - loss: 0.0553 - accuracy: 0.9825 - val_loss: 2.6946 - val_accuracy: 0.0698\n",
      "Epoch 45/50\n",
      "513/513 [==============================] - 0s 701us/sample - loss: 0.1058 - accuracy: 0.9552 - val_loss: 2.0614 - val_accuracy: 0.0775\n",
      "Epoch 46/50\n",
      "513/513 [==============================] - 0s 699us/sample - loss: 0.0553 - accuracy: 0.9844 - val_loss: 3.5822 - val_accuracy: 0.0465\n",
      "Epoch 47/50\n",
      "513/513 [==============================] - 0s 723us/sample - loss: 0.0745 - accuracy: 0.9747 - val_loss: 2.5861 - val_accuracy: 0.1085\n",
      "Epoch 48/50\n",
      "513/513 [==============================] - 0s 726us/sample - loss: 0.0834 - accuracy: 0.9688 - val_loss: 2.2978 - val_accuracy: 0.1085\n",
      "Epoch 49/50\n",
      "513/513 [==============================] - 0s 720us/sample - loss: 0.0623 - accuracy: 0.9747 - val_loss: 2.1038 - val_accuracy: 0.0930\n",
      "Epoch 50/50\n",
      "513/513 [==============================] - 0s 711us/sample - loss: 0.0753 - accuracy: 0.9708 - val_loss: 1.4913 - val_accuracy: 0.1085\n"
     ]
    }
   ],
   "source": [
    "history = model.fit(X_train, y_train, validation_data=(X_test,y_test))\n",
    "y_pred = model.predict(X_test)"
   ]
  },
  {
   "cell_type": "code",
   "execution_count": 775,
   "metadata": {
    "scrolled": true
   },
   "outputs": [
    {
     "name": "stdout",
     "output_type": "stream",
     "text": [
      "              precision    recall  f1-score   support\n",
      "\n",
      "           1       0.83      0.83      0.83        82\n",
      "           2       0.70      0.70      0.70        47\n",
      "\n",
      "    accuracy                           0.78       129\n",
      "   macro avg       0.77      0.77      0.77       129\n",
      "weighted avg       0.78      0.78      0.78       129\n",
      "\n"
     ]
    }
   ],
   "source": [
    "print(classification_report(y_test, y_pred))"
   ]
  },
  {
   "cell_type": "code",
   "execution_count": 776,
   "metadata": {
    "scrolled": true
   },
   "outputs": [
    {
     "name": "stdout",
     "output_type": "stream",
     "text": [
      "[[68 14]\n",
      " [14 33]]\n"
     ]
    }
   ],
   "source": [
    "print(confusion_matrix(y_test, y_pred))"
   ]
  },
  {
   "cell_type": "code",
   "execution_count": 777,
   "metadata": {
    "scrolled": true
   },
   "outputs": [
    {
     "data": {
      "image/png": "[encoded data removed]",
      "text/plain": [
       "<Figure size 432x288 with 1 Axes>"
      ]
     },
     "metadata": {
      "needs_background": "light"
     },
     "output_type": "display_data"
    }
   ],
   "source": [
    "plt.plot(history.history['accuracy'])\n",
    "plt.plot(history.history['val_accuracy'])\n",
    "plt.plot(history.history['loss'])\n",
    "plt.ylabel('accuracy')\n",
    "plt.xlabel('epoch')\n",
    "plt.legend(['train', 'test', 'loss'], loc='upper right')\n",
    "plt.ylim(0, 1)\n",
    "plt.show()"
   ]
  },
  {
   "cell_type": "markdown",
   "metadata": {},
   "source": [
    "# 3 Hidden Layers"
   ]
  },
  {
   "cell_type": "code",
   "execution_count": 796,
   "metadata": {},
   "outputs": [],
   "source": [
    "def create_model2(optimizer='rmsprop',init='glorot_uniform', dropout=0.3):\n",
    "    model = Sequential()\n",
    "    # adding layers and adding droplayers to avoid overfitting\n",
    "    hidden_layers = len(selected_genes)\n",
    "    model.add(BatchNormalization())\n",
    "    model.add(Dense(hidden_layers, activation='relu'))\n",
    "    model.add(Dropout(dropout))\n",
    "    \n",
    "    model.add(BatchNormalization())\n",
    "    model.add(Dense((hidden_layers*1.75), activation='relu'))\n",
    "    model.add(Dropout(dropout))\n",
    "\n",
    "    model.add(BatchNormalization())\n",
    "    model.add(Dense((hidden_layers*0.25), activation='relu'))\n",
    "    model.add(Dropout(dropout))\n",
    "    \n",
    "    model.add(Dense(1, activation='sigmoid'))\n",
    "    # compiling\n",
    "    model.compile(optimizer=optimizer, loss='binary_crossentropy', metrics=['accuracy'])\n",
    "    return model"
   ]
  },
  {
   "cell_type": "code",
   "execution_count": 797,
   "metadata": {},
   "outputs": [],
   "source": [
    "# parameters selected from previous gridsearch\n",
    "model = KerasClassifier(build_fn=create_model2, epochs=50, batch_size=32, optimizer='Adam', init='normal')\n",
    "# kfold = KFold(n_splits=3, shuffle=True)\n",
    "# results = cross_val_score(model, X_train, y_train, cv=kfold)\n",
    "# print(\"Baseline Accuracy: %.2f%% (%.2f%%)\" % (results.mean()*100, results.std()*100))"
   ]
  },
  {
   "cell_type": "code",
   "execution_count": 798,
   "metadata": {
    "scrolled": true
   },
   "outputs": [
    {
     "name": "stdout",
     "output_type": "stream",
     "text": [
      "Train on 513 samples, validate on 129 samples\n",
      "Epoch 1/50\n",
      "513/513 [==============================] - 3s 5ms/sample - loss: 0.8081 - accuracy: 0.5673 - val_loss: 1.0474 - val_accuracy: 0.0000e+00\n",
      "Epoch 2/50\n",
      "513/513 [==============================] - 0s 639us/sample - loss: 0.5930 - accuracy: 0.7173 - val_loss: 1.5087 - val_accuracy: 0.0000e+00\n",
      "Epoch 3/50\n",
      "513/513 [==============================] - 0s 549us/sample - loss: 0.4865 - accuracy: 0.7622 - val_loss: 1.4476 - val_accuracy: 0.0000e+00\n",
      "Epoch 4/50\n",
      "513/513 [==============================] - 0s 560us/sample - loss: 0.4738 - accuracy: 0.7719 - val_loss: 1.6567 - val_accuracy: 0.0000e+00\n",
      "Epoch 5/50\n",
      "513/513 [==============================] - 0s 602us/sample - loss: 0.3777 - accuracy: 0.8207 - val_loss: 1.6513 - val_accuracy: 0.0000e+00\n",
      "Epoch 6/50\n",
      "513/513 [==============================] - 0s 546us/sample - loss: 0.3221 - accuracy: 0.8499 - val_loss: 1.7757 - val_accuracy: 0.0000e+00\n",
      "Epoch 7/50\n",
      "513/513 [==============================] - 0s 554us/sample - loss: 0.3004 - accuracy: 0.8596 - val_loss: 1.8611 - val_accuracy: 0.0000e+00\n",
      "Epoch 8/50\n",
      "513/513 [==============================] - 0s 555us/sample - loss: 0.2648 - accuracy: 0.8791 - val_loss: 2.2343 - val_accuracy: 0.0000e+00\n",
      "Epoch 9/50\n",
      "513/513 [==============================] - 0s 557us/sample - loss: 0.2411 - accuracy: 0.9123 - val_loss: 2.5959 - val_accuracy: 0.0000e+00\n",
      "Epoch 10/50\n",
      "513/513 [==============================] - 0s 543us/sample - loss: 0.1937 - accuracy: 0.9201 - val_loss: 2.7957 - val_accuracy: 0.0000e+00\n",
      "Epoch 11/50\n",
      "513/513 [==============================] - 0s 551us/sample - loss: 0.1728 - accuracy: 0.9357 - val_loss: 2.8578 - val_accuracy: 0.0000e+00\n",
      "Epoch 12/50\n",
      "513/513 [==============================] - 0s 543us/sample - loss: 0.1993 - accuracy: 0.9162 - val_loss: 3.6268 - val_accuracy: 0.0000e+00\n",
      "Epoch 13/50\n",
      "513/513 [==============================] - 0s 544us/sample - loss: 0.1673 - accuracy: 0.9318 - val_loss: 3.5380 - val_accuracy: 0.0000e+00\n",
      "Epoch 14/50\n",
      "513/513 [==============================] - 0s 535us/sample - loss: 0.1539 - accuracy: 0.9318 - val_loss: 4.1291 - val_accuracy: 0.0000e+00\n",
      "Epoch 15/50\n",
      "513/513 [==============================] - 0s 539us/sample - loss: 0.1394 - accuracy: 0.9571 - val_loss: 4.6360 - val_accuracy: 0.0078\n",
      "Epoch 16/50\n",
      "513/513 [==============================] - 0s 535us/sample - loss: 0.0956 - accuracy: 0.9591 - val_loss: 4.5586 - val_accuracy: 0.0155\n",
      "Epoch 17/50\n",
      "513/513 [==============================] - 0s 527us/sample - loss: 0.1103 - accuracy: 0.9591 - val_loss: 4.3459 - val_accuracy: 0.0155\n",
      "Epoch 18/50\n",
      "513/513 [==============================] - 0s 596us/sample - loss: 0.0984 - accuracy: 0.9688 - val_loss: 4.5879 - val_accuracy: 0.0233\n",
      "Epoch 19/50\n",
      "513/513 [==============================] - 0s 564us/sample - loss: 0.0756 - accuracy: 0.9766 - val_loss: 4.6953 - val_accuracy: 0.0310\n",
      "Epoch 20/50\n",
      "513/513 [==============================] - 0s 542us/sample - loss: 0.1011 - accuracy: 0.9630 - val_loss: 4.3945 - val_accuracy: 0.0310\n",
      "Epoch 21/50\n",
      "513/513 [==============================] - 0s 535us/sample - loss: 0.1016 - accuracy: 0.9649 - val_loss: 3.9368 - val_accuracy: 0.0465\n",
      "Epoch 22/50\n",
      "513/513 [==============================] - 0s 533us/sample - loss: 0.0665 - accuracy: 0.9727 - val_loss: 3.8907 - val_accuracy: 0.0388\n",
      "Epoch 23/50\n",
      "513/513 [==============================] - 0s 606us/sample - loss: 0.0695 - accuracy: 0.9825 - val_loss: 4.1316 - val_accuracy: 0.0465\n",
      "Epoch 24/50\n",
      "513/513 [==============================] - 0s 576us/sample - loss: 0.0875 - accuracy: 0.9630 - val_loss: 4.1530 - val_accuracy: 0.0543\n",
      "Epoch 25/50\n",
      "513/513 [==============================] - 0s 575us/sample - loss: 0.0559 - accuracy: 0.9825 - val_loss: 4.3777 - val_accuracy: 0.0465\n",
      "Epoch 26/50\n",
      "513/513 [==============================] - 0s 635us/sample - loss: 0.0984 - accuracy: 0.9688 - val_loss: 4.4988 - val_accuracy: 0.0465\n",
      "Epoch 27/50\n",
      "513/513 [==============================] - 0s 601us/sample - loss: 0.0699 - accuracy: 0.9688 - val_loss: 4.3925 - val_accuracy: 0.0698\n",
      "Epoch 28/50\n",
      "513/513 [==============================] - 0s 601us/sample - loss: 0.0686 - accuracy: 0.9766 - val_loss: 4.3653 - val_accuracy: 0.0853\n",
      "Epoch 29/50\n",
      "513/513 [==============================] - 0s 598us/sample - loss: 0.0743 - accuracy: 0.9688 - val_loss: 4.2503 - val_accuracy: 0.0775\n",
      "Epoch 30/50\n",
      "513/513 [==============================] - 0s 658us/sample - loss: 0.0602 - accuracy: 0.9864 - val_loss: 4.1633 - val_accuracy: 0.0698\n",
      "Epoch 31/50\n",
      "513/513 [==============================] - 0s 605us/sample - loss: 0.0470 - accuracy: 0.9864 - val_loss: 4.5161 - val_accuracy: 0.0698\n",
      "Epoch 32/50\n",
      "513/513 [==============================] - 0s 612us/sample - loss: 0.0852 - accuracy: 0.9708 - val_loss: 4.1504 - val_accuracy: 0.0775\n",
      "Epoch 33/50\n",
      "513/513 [==============================] - 0s 585us/sample - loss: 0.0639 - accuracy: 0.9825 - val_loss: 3.9002 - val_accuracy: 0.0775\n",
      "Epoch 34/50\n",
      "513/513 [==============================] - 0s 633us/sample - loss: 0.0591 - accuracy: 0.9786 - val_loss: 3.8266 - val_accuracy: 0.0698\n",
      "Epoch 35/50\n",
      "513/513 [==============================] - 0s 599us/sample - loss: 0.0398 - accuracy: 0.9825 - val_loss: 3.6640 - val_accuracy: 0.0930\n",
      "Epoch 36/50\n",
      "513/513 [==============================] - 0s 561us/sample - loss: 0.0341 - accuracy: 0.9844 - val_loss: 3.8041 - val_accuracy: 0.0930\n",
      "Epoch 37/50\n",
      "513/513 [==============================] - 0s 574us/sample - loss: 0.0329 - accuracy: 0.9864 - val_loss: 4.1248 - val_accuracy: 0.0930\n",
      "Epoch 38/50\n",
      "513/513 [==============================] - 0s 574us/sample - loss: 0.0452 - accuracy: 0.9844 - val_loss: 4.1326 - val_accuracy: 0.0620\n",
      "Epoch 39/50\n",
      "513/513 [==============================] - 0s 582us/sample - loss: 0.0363 - accuracy: 0.9883 - val_loss: 3.8567 - val_accuracy: 0.0775\n",
      "Epoch 40/50\n",
      "513/513 [==============================] - 0s 592us/sample - loss: 0.0632 - accuracy: 0.9766 - val_loss: 3.5881 - val_accuracy: 0.0853\n",
      "Epoch 41/50\n",
      "513/513 [==============================] - 0s 599us/sample - loss: 0.0752 - accuracy: 0.9786 - val_loss: 3.3720 - val_accuracy: 0.1008\n",
      "Epoch 42/50\n",
      "513/513 [==============================] - 0s 600us/sample - loss: 0.0280 - accuracy: 0.9961 - val_loss: 3.6481 - val_accuracy: 0.1163\n",
      "Epoch 43/50\n",
      "513/513 [==============================] - 0s 593us/sample - loss: 0.0205 - accuracy: 0.9942 - val_loss: 4.2736 - val_accuracy: 0.1008\n",
      "Epoch 44/50\n",
      "513/513 [==============================] - 0s 595us/sample - loss: 0.0201 - accuracy: 0.9942 - val_loss: 4.5061 - val_accuracy: 0.1008\n",
      "Epoch 45/50\n",
      "513/513 [==============================] - 0s 602us/sample - loss: 0.0441 - accuracy: 0.9864 - val_loss: 5.0954 - val_accuracy: 0.0930\n",
      "Epoch 46/50\n",
      "513/513 [==============================] - 0s 602us/sample - loss: 0.0284 - accuracy: 0.9864 - val_loss: 4.2414 - val_accuracy: 0.1008\n",
      "Epoch 47/50\n",
      "513/513 [==============================] - 0s 603us/sample - loss: 0.0497 - accuracy: 0.9825 - val_loss: 4.2754 - val_accuracy: 0.1008\n",
      "Epoch 48/50\n",
      "513/513 [==============================] - 0s 589us/sample - loss: 0.0485 - accuracy: 0.9844 - val_loss: 4.3820 - val_accuracy: 0.0775\n",
      "Epoch 49/50\n",
      "513/513 [==============================] - 0s 586us/sample - loss: 0.0281 - accuracy: 0.9883 - val_loss: 3.8028 - val_accuracy: 0.0853\n",
      "Epoch 50/50\n",
      "513/513 [==============================] - 0s 592us/sample - loss: 0.0211 - accuracy: 0.9942 - val_loss: 4.3570 - val_accuracy: 0.0853\n"
     ]
    }
   ],
   "source": [
    "history = model.fit(X_train, y_train, validation_data=(X_test, y_test), shuffle=True)\n",
    "y_pred = model.predict(X_test)"
   ]
  },
  {
   "cell_type": "code",
   "execution_count": 799,
   "metadata": {},
   "outputs": [
    {
     "name": "stdout",
     "output_type": "stream",
     "text": [
      "              precision    recall  f1-score   support\n",
      "\n",
      "           1       0.83      0.87      0.85        82\n",
      "           2       0.74      0.68      0.71        47\n",
      "\n",
      "    accuracy                           0.80       129\n",
      "   macro avg       0.78      0.77      0.78       129\n",
      "weighted avg       0.80      0.80      0.80       129\n",
      "\n"
     ]
    }
   ],
   "source": [
    "print(classification_report(y_test, y_pred))"
   ]
  },
  {
   "cell_type": "code",
   "execution_count": 800,
   "metadata": {
    "scrolled": false
   },
   "outputs": [
    {
     "name": "stdout",
     "output_type": "stream",
     "text": [
      "[[71 11]\n",
      " [15 32]]\n"
     ]
    }
   ],
   "source": [
    "print(confusion_matrix(y_test, y_pred))"
   ]
  },
  {
   "cell_type": "code",
   "execution_count": 801,
   "metadata": {},
   "outputs": [
    {
     "data": {
      "image/png": "[encoded data removed]",
      "text/plain": [
       "<Figure size 432x288 with 1 Axes>"
      ]
     },
     "metadata": {
      "needs_background": "light"
     },
     "output_type": "display_data"
    }
   ],
   "source": [
    "plt.plot(history.history['accuracy'])\n",
    "plt.plot(history.history['val_accuracy'])\n",
    "plt.plot(history.history['loss'])\n",
    "plt.ylabel('accuracy')\n",
    "plt.xlabel('epoch')\n",
    "plt.legend(['train', 'test', 'loss'], loc='upper right')\n",
    "plt.xlim(0, 50)\n",
    "plt.show()"
   ]
  },
  {
   "cell_type": "markdown",
   "metadata": {},
   "source": [
    "# 2 Hidden Layers"
   ]
  },
  {
   "cell_type": "code",
   "execution_count": 860,
   "metadata": {},
   "outputs": [],
   "source": [
    "def create_model(optimizer='rmsprop',init='glorot_uniform', dropout=0.3):\n",
    "    model = Sequential()\n",
    "    # adding layers and adding droplayers to avoid overfitting\n",
    "    hidden_layers = len(selected_genes)\n",
    "    model.add(Dense(hidden_layers*1.5, activation='relu'))\n",
    "    model.add(BatchNormalization())\n",
    "    model.add(Dropout(dropout))\n",
    "    \n",
    "    model.add(Dense((hidden_layers), activation='relu'))\n",
    "    model.add(BatchNormalization())\n",
    "    model.add(Dropout(dropout))\n",
    "    \n",
    "    model.add(Dense(1, activation='sigmoid'))\n",
    "    # compiling\n",
    "    model.compile(optimizer=optimizer, loss='binary_crossentropy', metrics=['accuracy'])\n",
    "    return model"
   ]
  },
  {
   "cell_type": "code",
   "execution_count": 861,
   "metadata": {},
   "outputs": [],
   "source": [
    "# parameters selected from previous gridsearch\n",
    "model = KerasClassifier(build_fn=create_model, epochs=50, batch_size=32, optimizer='Adam',init='uniform')\n",
    "# kfold = KFold(n_splits=3, shuffle=True)\n",
    "# results = cross_val_score(model, X_train, y_train, cv=kfold)\n",
    "# print(\"Baseline Accuracy: %.2f%% (%.2f%%)\" % (results.mean()*100, results.std()*100))"
   ]
  },
  {
   "cell_type": "code",
   "execution_count": 862,
   "metadata": {
    "scrolled": true
   },
   "outputs": [
    {
     "name": "stdout",
     "output_type": "stream",
     "text": [
      "Train on 513 samples, validate on 129 samples\n",
      "Epoch 1/50\n",
      "513/513 [==============================] - 2s 4ms/sample - loss: 0.8510 - accuracy: 0.6004 - val_loss: 0.6535 - val_accuracy: 0.2558\n",
      "Epoch 2/50\n",
      "513/513 [==============================] - 0s 586us/sample - loss: 0.6036 - accuracy: 0.7115 - val_loss: 1.1957 - val_accuracy: 0.0000e+00\n",
      "Epoch 3/50\n",
      "513/513 [==============================] - 0s 583us/sample - loss: 0.4708 - accuracy: 0.7856 - val_loss: 1.4727 - val_accuracy: 0.0000e+00\n",
      "Epoch 4/50\n",
      "513/513 [==============================] - 0s 487us/sample - loss: 0.4216 - accuracy: 0.7992 - val_loss: 1.5635 - val_accuracy: 0.0000e+00\n",
      "Epoch 5/50\n",
      "513/513 [==============================] - 0s 508us/sample - loss: 0.3806 - accuracy: 0.8187 - val_loss: 1.8596 - val_accuracy: 0.0000e+00\n",
      "Epoch 6/50\n",
      "513/513 [==============================] - 0s 521us/sample - loss: 0.3015 - accuracy: 0.8811 - val_loss: 2.3799 - val_accuracy: 0.0000e+00\n",
      "Epoch 7/50\n",
      "513/513 [==============================] - 0s 481us/sample - loss: 0.2922 - accuracy: 0.9006 - val_loss: 2.4432 - val_accuracy: 0.0000e+00\n",
      "Epoch 8/50\n",
      "513/513 [==============================] - 0s 458us/sample - loss: 0.2737 - accuracy: 0.8713 - val_loss: 2.6570 - val_accuracy: 0.0000e+00\n",
      "Epoch 9/50\n",
      "513/513 [==============================] - 0s 491us/sample - loss: 0.2215 - accuracy: 0.9220 - val_loss: 2.8343 - val_accuracy: 0.0000e+00\n",
      "Epoch 10/50\n",
      "513/513 [==============================] - 0s 455us/sample - loss: 0.2250 - accuracy: 0.9181 - val_loss: 2.3814 - val_accuracy: 0.0078\n",
      "Epoch 11/50\n",
      "513/513 [==============================] - 0s 462us/sample - loss: 0.1824 - accuracy: 0.9415 - val_loss: 1.7737 - val_accuracy: 0.0233\n",
      "Epoch 12/50\n",
      "513/513 [==============================] - 0s 472us/sample - loss: 0.1812 - accuracy: 0.9357 - val_loss: 2.3997 - val_accuracy: 0.0155\n",
      "Epoch 13/50\n",
      "513/513 [==============================] - 0s 462us/sample - loss: 0.1520 - accuracy: 0.9552 - val_loss: 2.6239 - val_accuracy: 0.0078\n",
      "Epoch 14/50\n",
      "513/513 [==============================] - 0s 460us/sample - loss: 0.1363 - accuracy: 0.9571 - val_loss: 2.1084 - val_accuracy: 0.0155\n",
      "Epoch 15/50\n",
      "513/513 [==============================] - 0s 462us/sample - loss: 0.1227 - accuracy: 0.9610 - val_loss: 2.6457 - val_accuracy: 0.0233\n",
      "Epoch 16/50\n",
      "513/513 [==============================] - 0s 467us/sample - loss: 0.1128 - accuracy: 0.9571 - val_loss: 2.4508 - val_accuracy: 0.0233\n",
      "Epoch 17/50\n",
      "513/513 [==============================] - 0s 467us/sample - loss: 0.1309 - accuracy: 0.9591 - val_loss: 1.8754 - val_accuracy: 0.0388\n",
      "Epoch 18/50\n",
      "513/513 [==============================] - 0s 473us/sample - loss: 0.1165 - accuracy: 0.9610 - val_loss: 4.7500 - val_accuracy: 0.0155\n",
      "Epoch 19/50\n",
      "513/513 [==============================] - 0s 486us/sample - loss: 0.1262 - accuracy: 0.9610 - val_loss: 2.1265 - val_accuracy: 0.0388\n",
      "Epoch 20/50\n",
      "513/513 [==============================] - 0s 484us/sample - loss: 0.0844 - accuracy: 0.9708 - val_loss: 3.8106 - val_accuracy: 0.0233\n",
      "Epoch 21/50\n",
      "513/513 [==============================] - 0s 479us/sample - loss: 0.0965 - accuracy: 0.9571 - val_loss: 2.2427 - val_accuracy: 0.0620\n",
      "Epoch 22/50\n",
      "513/513 [==============================] - 0s 473us/sample - loss: 0.0926 - accuracy: 0.9727 - val_loss: 2.7397 - val_accuracy: 0.0543\n",
      "Epoch 23/50\n",
      "513/513 [==============================] - 0s 488us/sample - loss: 0.0715 - accuracy: 0.9766 - val_loss: 4.1654 - val_accuracy: 0.0310\n",
      "Epoch 24/50\n",
      "513/513 [==============================] - 0s 488us/sample - loss: 0.0661 - accuracy: 0.9883 - val_loss: 2.4668 - val_accuracy: 0.0543\n",
      "Epoch 25/50\n",
      "513/513 [==============================] - 0s 476us/sample - loss: 0.0893 - accuracy: 0.9688 - val_loss: 2.9257 - val_accuracy: 0.0543\n",
      "Epoch 26/50\n",
      "513/513 [==============================] - 0s 490us/sample - loss: 0.0701 - accuracy: 0.9766 - val_loss: 2.4128 - val_accuracy: 0.0853\n",
      "Epoch 27/50\n",
      "513/513 [==============================] - 0s 488us/sample - loss: 0.0553 - accuracy: 0.9844 - val_loss: 2.7960 - val_accuracy: 0.0853\n",
      "Epoch 28/50\n",
      "513/513 [==============================] - 0s 504us/sample - loss: 0.0414 - accuracy: 0.9942 - val_loss: 3.4781 - val_accuracy: 0.0465\n",
      "Epoch 29/50\n",
      "513/513 [==============================] - 0s 513us/sample - loss: 0.0598 - accuracy: 0.9844 - val_loss: 5.2599 - val_accuracy: 0.0310\n",
      "Epoch 30/50\n",
      "513/513 [==============================] - 0s 499us/sample - loss: 0.0373 - accuracy: 0.9903 - val_loss: 4.3829 - val_accuracy: 0.0388\n",
      "Epoch 31/50\n",
      "513/513 [==============================] - 0s 518us/sample - loss: 0.0351 - accuracy: 0.9903 - val_loss: 5.3249 - val_accuracy: 0.0233\n",
      "Epoch 32/50\n",
      "513/513 [==============================] - 0s 514us/sample - loss: 0.0602 - accuracy: 0.9805 - val_loss: 2.4576 - val_accuracy: 0.0620\n",
      "Epoch 33/50\n",
      "513/513 [==============================] - 0s 517us/sample - loss: 0.0599 - accuracy: 0.9747 - val_loss: 4.0631 - val_accuracy: 0.0388\n",
      "Epoch 34/50\n",
      "513/513 [==============================] - 0s 513us/sample - loss: 0.0413 - accuracy: 0.9922 - val_loss: 3.8403 - val_accuracy: 0.0388\n",
      "Epoch 35/50\n",
      "513/513 [==============================] - 0s 519us/sample - loss: 0.0501 - accuracy: 0.9825 - val_loss: 3.5081 - val_accuracy: 0.0465\n",
      "Epoch 36/50\n",
      "513/513 [==============================] - 0s 523us/sample - loss: 0.0355 - accuracy: 0.9903 - val_loss: 3.6641 - val_accuracy: 0.0465\n",
      "Epoch 37/50\n",
      "513/513 [==============================] - 0s 574us/sample - loss: 0.0416 - accuracy: 0.9922 - val_loss: 2.1544 - val_accuracy: 0.0930\n",
      "Epoch 38/50\n",
      "513/513 [==============================] - 0s 540us/sample - loss: 0.0329 - accuracy: 0.9942 - val_loss: 1.4860 - val_accuracy: 0.1395\n",
      "Epoch 39/50\n",
      "513/513 [==============================] - 0s 544us/sample - loss: 0.0489 - accuracy: 0.9883 - val_loss: 1.2377 - val_accuracy: 0.1628\n",
      "Epoch 40/50\n",
      "513/513 [==============================] - 0s 555us/sample - loss: 0.0347 - accuracy: 0.9903 - val_loss: 3.7255 - val_accuracy: 0.0465\n",
      "Epoch 41/50\n",
      "513/513 [==============================] - 0s 527us/sample - loss: 0.0604 - accuracy: 0.9844 - val_loss: 0.8623 - val_accuracy: 0.1783\n",
      "Epoch 42/50\n",
      "513/513 [==============================] - 0s 522us/sample - loss: 0.0354 - accuracy: 0.9942 - val_loss: 3.1422 - val_accuracy: 0.0853\n",
      "Epoch 43/50\n",
      "513/513 [==============================] - 0s 530us/sample - loss: 0.0530 - accuracy: 0.9844 - val_loss: 0.5244 - val_accuracy: 0.2326\n",
      "Epoch 44/50\n",
      "513/513 [==============================] - 0s 535us/sample - loss: 0.0602 - accuracy: 0.9805 - val_loss: 3.0263 - val_accuracy: 0.0698\n",
      "Epoch 45/50\n",
      "513/513 [==============================] - 0s 516us/sample - loss: 0.0226 - accuracy: 0.9961 - val_loss: 2.1296 - val_accuracy: 0.1085\n",
      "Epoch 46/50\n",
      "513/513 [==============================] - 0s 515us/sample - loss: 0.0317 - accuracy: 0.9922 - val_loss: 2.5794 - val_accuracy: 0.0930\n",
      "Epoch 47/50\n",
      "513/513 [==============================] - 0s 518us/sample - loss: 0.0389 - accuracy: 0.9903 - val_loss: 3.2244 - val_accuracy: 0.0775\n",
      "Epoch 48/50\n",
      "513/513 [==============================] - 0s 533us/sample - loss: 0.0364 - accuracy: 0.9922 - val_loss: 3.6918 - val_accuracy: 0.0465\n",
      "Epoch 49/50\n",
      "513/513 [==============================] - 0s 531us/sample - loss: 0.0511 - accuracy: 0.9883 - val_loss: 1.5889 - val_accuracy: 0.1240\n",
      "Epoch 50/50\n",
      "513/513 [==============================] - 0s 527us/sample - loss: 0.0398 - accuracy: 0.9883 - val_loss: 5.4062 - val_accuracy: 0.0388\n"
     ]
    }
   ],
   "source": [
    "history = model.fit(X_train, y_train, validation_data=(X_test, y_test), shuffle=True)\n",
    "y_pred = model.predict(X_test)"
   ]
  },
  {
   "cell_type": "code",
   "execution_count": 863,
   "metadata": {},
   "outputs": [
    {
     "name": "stdout",
     "output_type": "stream",
     "text": [
      "              precision    recall  f1-score   support\n",
      "\n",
      "           1       0.79      0.94      0.86        82\n",
      "           2       0.84      0.57      0.68        47\n",
      "\n",
      "    accuracy                           0.81       129\n",
      "   macro avg       0.82      0.76      0.77       129\n",
      "weighted avg       0.81      0.81      0.80       129\n",
      "\n"
     ]
    }
   ],
   "source": [
    "print(classification_report(y_test, y_pred))"
   ]
  },
  {
   "cell_type": "code",
   "execution_count": 864,
   "metadata": {},
   "outputs": [
    {
     "name": "stdout",
     "output_type": "stream",
     "text": [
      "[[77  5]\n",
      " [20 27]]\n"
     ]
    }
   ],
   "source": [
    "print(confusion_matrix(y_test, y_pred))"
   ]
  },
  {
   "cell_type": "code",
   "execution_count": 865,
   "metadata": {},
   "outputs": [],
   "source": [
    "model.model.save('models/hidden_2.h5')"
   ]
  },
  {
   "cell_type": "markdown",
   "metadata": {},
   "source": [
    "# 1 Hidden Layer"
   ]
  },
  {
   "cell_type": "code",
   "execution_count": 843,
   "metadata": {},
   "outputs": [],
   "source": [
    "def create_model(optimizer='rmsprop',init='glorot_uniform', dropout=0.3):\n",
    "    model = Sequential()\n",
    "    # adding layers and adding droplayers to avoid overfitting\n",
    "    hidden_layers = len(selected_genes)\n",
    "    model.add(Dense(hidden_layers*1.5, activation='relu'))\n",
    "    model.add(BatchNormalization())\n",
    "    model.add(Dropout(dropout))\n",
    "    \n",
    "    model.add(Dense(1, activation='sigmoid'))\n",
    "    # compiling\n",
    "    model.compile(optimizer=optimizer, loss='binary_crossentropy', metrics=['accuracy'])\n",
    "    return model"
   ]
  },
  {
   "cell_type": "code",
   "execution_count": 844,
   "metadata": {},
   "outputs": [],
   "source": [
    "# parameters selected from previous gridsearch\n",
    "model = KerasClassifier(build_fn=create_model, epochs=50, batch_size=16, optimizer='Adam',init='uniform')\n",
    "# kfold = KFold(n_splits=3, shuffle=True)\n",
    "# results = cross_val_score(model, X_train, y_train, cv=kfold)\n",
    "# print(\"Baseline Accuracy: %.2f%% (%.2f%%)\" % (results.mean()*100, results.std()*100))"
   ]
  },
  {
   "cell_type": "code",
   "execution_count": 845,
   "metadata": {
    "scrolled": true
   },
   "outputs": [
    {
     "name": "stdout",
     "output_type": "stream",
     "text": [
      "Train on 513 samples, validate on 129 samples\n",
      "Epoch 1/50\n",
      "513/513 [==============================] - 1s 3ms/sample - loss: 0.7552 - accuracy: 0.6179 - val_loss: 1.6000 - val_accuracy: 0.0000e+00\n",
      "Epoch 2/50\n",
      "513/513 [==============================] - 0s 465us/sample - loss: 0.5348 - accuracy: 0.7563 - val_loss: 1.6052 - val_accuracy: 0.0000e+00\n",
      "Epoch 3/50\n",
      "513/513 [==============================] - 0s 472us/sample - loss: 0.4958 - accuracy: 0.7641 - val_loss: 1.9520 - val_accuracy: 0.0000e+00\n",
      "Epoch 4/50\n",
      "513/513 [==============================] - 0s 475us/sample - loss: 0.4552 - accuracy: 0.7661 - val_loss: 2.1026 - val_accuracy: 0.0000e+00\n",
      "Epoch 5/50\n",
      "513/513 [==============================] - 0s 477us/sample - loss: 0.3919 - accuracy: 0.8207 - val_loss: 2.8331 - val_accuracy: 0.0000e+00\n",
      "Epoch 6/50\n",
      "513/513 [==============================] - 0s 474us/sample - loss: 0.3805 - accuracy: 0.8265 - val_loss: 2.3526 - val_accuracy: 0.0000e+00\n",
      "Epoch 7/50\n",
      "513/513 [==============================] - 0s 478us/sample - loss: 0.3668 - accuracy: 0.8129 - val_loss: 2.2990 - val_accuracy: 0.0078\n",
      "Epoch 8/50\n",
      "513/513 [==============================] - 0s 476us/sample - loss: 0.3855 - accuracy: 0.8207 - val_loss: 2.3395 - val_accuracy: 0.0078\n",
      "Epoch 9/50\n",
      "513/513 [==============================] - 0s 485us/sample - loss: 0.3683 - accuracy: 0.8207 - val_loss: 2.4812 - val_accuracy: 0.0078\n",
      "Epoch 10/50\n",
      "513/513 [==============================] - 0s 475us/sample - loss: 0.3034 - accuracy: 0.8811 - val_loss: 3.8447 - val_accuracy: 0.0000e+00\n",
      "Epoch 11/50\n",
      "513/513 [==============================] - 0s 483us/sample - loss: 0.3371 - accuracy: 0.8616 - val_loss: 1.9502 - val_accuracy: 0.0543\n",
      "Epoch 12/50\n",
      "513/513 [==============================] - 0s 481us/sample - loss: 0.3255 - accuracy: 0.8616 - val_loss: 2.4256 - val_accuracy: 0.0543\n",
      "Epoch 13/50\n",
      "513/513 [==============================] - 0s 487us/sample - loss: 0.3188 - accuracy: 0.8538 - val_loss: 3.4446 - val_accuracy: 0.0233\n",
      "Epoch 14/50\n",
      "513/513 [==============================] - 0s 486us/sample - loss: 0.3167 - accuracy: 0.8596 - val_loss: 2.5224 - val_accuracy: 0.0465\n",
      "Epoch 15/50\n",
      "513/513 [==============================] - 0s 482us/sample - loss: 0.3268 - accuracy: 0.8402 - val_loss: 2.1825 - val_accuracy: 0.0620\n",
      "Epoch 16/50\n",
      "513/513 [==============================] - 0s 483us/sample - loss: 0.2608 - accuracy: 0.8830 - val_loss: 3.1309 - val_accuracy: 0.0310\n",
      "Epoch 17/50\n",
      "513/513 [==============================] - 0s 487us/sample - loss: 0.2786 - accuracy: 0.8791 - val_loss: 1.5646 - val_accuracy: 0.1163\n",
      "Epoch 18/50\n",
      "513/513 [==============================] - 0s 493us/sample - loss: 0.2857 - accuracy: 0.8791 - val_loss: 4.3372 - val_accuracy: 0.0233\n",
      "Epoch 19/50\n",
      "513/513 [==============================] - 0s 491us/sample - loss: 0.2661 - accuracy: 0.8986 - val_loss: 2.4665 - val_accuracy: 0.0620\n",
      "Epoch 20/50\n",
      "513/513 [==============================] - 0s 486us/sample - loss: 0.2699 - accuracy: 0.8908 - val_loss: 1.7115 - val_accuracy: 0.1008\n",
      "Epoch 21/50\n",
      "513/513 [==============================] - 0s 500us/sample - loss: 0.2617 - accuracy: 0.8889 - val_loss: 2.7790 - val_accuracy: 0.0620\n",
      "Epoch 22/50\n",
      "513/513 [==============================] - 0s 499us/sample - loss: 0.2697 - accuracy: 0.8889 - val_loss: 1.5051 - val_accuracy: 0.1240\n",
      "Epoch 23/50\n",
      "513/513 [==============================] - 0s 496us/sample - loss: 0.2710 - accuracy: 0.8947 - val_loss: 1.7782 - val_accuracy: 0.1628\n",
      "Epoch 24/50\n",
      "513/513 [==============================] - 0s 494us/sample - loss: 0.2898 - accuracy: 0.8655 - val_loss: 2.1761 - val_accuracy: 0.0853\n",
      "Epoch 25/50\n",
      "513/513 [==============================] - 0s 532us/sample - loss: 0.2516 - accuracy: 0.8869 - val_loss: 8.1442 - val_accuracy: 0.0078\n",
      "Epoch 26/50\n",
      "513/513 [==============================] - 0s 550us/sample - loss: 0.2281 - accuracy: 0.9084 - val_loss: 3.9058 - val_accuracy: 0.0465\n",
      "Epoch 27/50\n",
      "513/513 [==============================] - 0s 553us/sample - loss: 0.2489 - accuracy: 0.8986 - val_loss: 1.0371 - val_accuracy: 0.1938\n",
      "Epoch 28/50\n",
      "513/513 [==============================] - 0s 560us/sample - loss: 0.2823 - accuracy: 0.8908 - val_loss: 2.1314 - val_accuracy: 0.0930\n",
      "Epoch 29/50\n",
      "513/513 [==============================] - 0s 552us/sample - loss: 0.2501 - accuracy: 0.8908 - val_loss: 2.0924 - val_accuracy: 0.0853\n",
      "Epoch 30/50\n",
      "513/513 [==============================] - 0s 544us/sample - loss: 0.2476 - accuracy: 0.8830 - val_loss: 3.9422 - val_accuracy: 0.0543\n",
      "Epoch 31/50\n",
      "513/513 [==============================] - 0s 593us/sample - loss: 0.2413 - accuracy: 0.8947 - val_loss: 2.8403 - val_accuracy: 0.0620\n",
      "Epoch 32/50\n",
      "513/513 [==============================] - 0s 571us/sample - loss: 0.2849 - accuracy: 0.8830 - val_loss: 0.7718 - val_accuracy: 0.2016\n",
      "Epoch 33/50\n",
      "513/513 [==============================] - 0s 573us/sample - loss: 0.2499 - accuracy: 0.8947 - val_loss: 1.9125 - val_accuracy: 0.1395\n",
      "Epoch 34/50\n",
      "513/513 [==============================] - 0s 560us/sample - loss: 0.2818 - accuracy: 0.8928 - val_loss: 3.1153 - val_accuracy: 0.0775\n",
      "Epoch 35/50\n",
      "513/513 [==============================] - 0s 559us/sample - loss: 0.2318 - accuracy: 0.9025 - val_loss: 4.6448 - val_accuracy: 0.0465\n",
      "Epoch 36/50\n",
      "513/513 [==============================] - 0s 557us/sample - loss: 0.2129 - accuracy: 0.9259 - val_loss: 1.8542 - val_accuracy: 0.1240\n",
      "Epoch 37/50\n",
      "513/513 [==============================] - 0s 542us/sample - loss: 0.2245 - accuracy: 0.9084 - val_loss: 4.3718 - val_accuracy: 0.0620\n",
      "Epoch 38/50\n",
      "513/513 [==============================] - 0s 564us/sample - loss: 0.2327 - accuracy: 0.8869 - val_loss: 2.1289 - val_accuracy: 0.1163\n",
      "Epoch 39/50\n",
      "513/513 [==============================] - 0s 579us/sample - loss: 0.2028 - accuracy: 0.9103 - val_loss: 1.4087 - val_accuracy: 0.1705\n",
      "Epoch 40/50\n",
      "513/513 [==============================] - 0s 560us/sample - loss: 0.2241 - accuracy: 0.9103 - val_loss: 0.2621 - val_accuracy: 0.2636\n",
      "Epoch 41/50\n",
      "513/513 [==============================] - 0s 538us/sample - loss: 0.2326 - accuracy: 0.9025 - val_loss: 1.4524 - val_accuracy: 0.1473\n",
      "Epoch 42/50\n",
      "513/513 [==============================] - 0s 561us/sample - loss: 0.2254 - accuracy: 0.9025 - val_loss: 4.5944 - val_accuracy: 0.0543\n",
      "Epoch 43/50\n",
      "513/513 [==============================] - 0s 572us/sample - loss: 0.2298 - accuracy: 0.8850 - val_loss: 5.3319 - val_accuracy: 0.0388\n",
      "Epoch 44/50\n",
      "513/513 [==============================] - 0s 543us/sample - loss: 0.2237 - accuracy: 0.8947 - val_loss: 1.4313 - val_accuracy: 0.1395\n",
      "Epoch 45/50\n",
      "513/513 [==============================] - 0s 574us/sample - loss: 0.2467 - accuracy: 0.8967 - val_loss: 2.9991 - val_accuracy: 0.0620\n",
      "Epoch 46/50\n",
      "513/513 [==============================] - 0s 599us/sample - loss: 0.2205 - accuracy: 0.9181 - val_loss: 0.8276 - val_accuracy: 0.2016\n",
      "Epoch 47/50\n",
      "513/513 [==============================] - 0s 636us/sample - loss: 0.2175 - accuracy: 0.9045 - val_loss: 1.9709 - val_accuracy: 0.1395\n",
      "Epoch 48/50\n",
      "513/513 [==============================] - 0s 582us/sample - loss: 0.2138 - accuracy: 0.9220 - val_loss: 1.9399 - val_accuracy: 0.1395\n",
      "Epoch 49/50\n",
      "513/513 [==============================] - 0s 577us/sample - loss: 0.2262 - accuracy: 0.9006 - val_loss: -0.2555 - val_accuracy: 0.2868\n",
      "Epoch 50/50\n",
      "513/513 [==============================] - 0s 573us/sample - loss: 0.2712 - accuracy: 0.8772 - val_loss: 3.3569 - val_accuracy: 0.0698\n"
     ]
    }
   ],
   "source": [
    "history = model.fit(X_train, y_train, validation_data=(X_test, y_test), shuffle=True)\n",
    "y_pred = model.predict(X_test)"
   ]
  },
  {
   "cell_type": "code",
   "execution_count": 846,
   "metadata": {},
   "outputs": [
    {
     "name": "stdout",
     "output_type": "stream",
     "text": [
      "              precision    recall  f1-score   support\n",
      "\n",
      "           1       0.81      0.89      0.85        82\n",
      "           2       0.77      0.64      0.70        47\n",
      "\n",
      "    accuracy                           0.80       129\n",
      "   macro avg       0.79      0.76      0.77       129\n",
      "weighted avg       0.80      0.80      0.79       129\n",
      "\n"
     ]
    }
   ],
   "source": [
    "print(classification_report(y_test, y_pred))"
   ]
  },
  {
   "cell_type": "code",
   "execution_count": 847,
   "metadata": {},
   "outputs": [
    {
     "name": "stdout",
     "output_type": "stream",
     "text": [
      "[[73  9]\n",
      " [17 30]]\n"
     ]
    }
   ],
   "source": [
    "print(confusion_matrix(y_test, y_pred))"
   ]
  },
  {
   "cell_type": "code",
   "execution_count": 828,
   "metadata": {},
   "outputs": [],
   "source": [
    "model.model.save('models/hidden_1.h5')"
   ]
  },
  {
   "cell_type": "code",
   "execution_count": null,
   "metadata": {},
   "outputs": [],
   "source": []
  }
 ],
 "metadata": {
  "kernelspec": {
   "display_name": "Python 3",
   "language": "python",
   "name": "python3"
  },
  "language_info": {
   "codemirror_mode": {
    "name": "ipython",
    "version": 3
   },
   "file_extension": ".py",
   "mimetype": "text/x-python",
   "name": "python",
   "nbconvert_exporter": "python",
   "pygments_lexer": "ipython3",
   "version": "3.6.10"
  }
 },
 "nbformat": 4,
 "nbformat_minor": 4
}
