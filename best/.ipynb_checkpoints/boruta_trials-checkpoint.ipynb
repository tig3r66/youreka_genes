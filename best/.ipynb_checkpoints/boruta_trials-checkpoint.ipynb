{
 "cells": [
  {
   "cell_type": "code",
   "execution_count": 1,
   "metadata": {},
   "outputs": [],
   "source": [
    "import numpy as np\n",
    "import pandas as pd\n",
    "from sklearn.ensemble import RandomForestClassifier\n",
    "from boruta import BorutaPy\n",
    "from sklearn import preprocessing"
   ]
  },
  {
   "cell_type": "markdown",
   "metadata": {},
   "source": [
    "# Transforming and Splitting Data"
   ]
  },
  {
   "cell_type": "code",
   "execution_count": 2,
   "metadata": {},
   "outputs": [
    {
     "data": {
      "text/html": [
       "<div>\n",
       "<style scoped>\n",
       "    .dataframe tbody tr th:only-of-type {\n",
       "        vertical-align: middle;\n",
       "    }\n",
       "\n",
       "    .dataframe tbody tr th {\n",
       "        vertical-align: top;\n",
       "    }\n",
       "\n",
       "    .dataframe thead th {\n",
       "        text-align: right;\n",
       "    }\n",
       "</style>\n",
       "<table border=\"1\" class=\"dataframe\">\n",
       "  <thead>\n",
       "    <tr style=\"text-align: right;\">\n",
       "      <th></th>\n",
       "      <th>CELL_LINE_NAME</th>\n",
       "      <th>cluster</th>\n",
       "      <th>TSPAN6</th>\n",
       "      <th>TNMD</th>\n",
       "      <th>DPM1</th>\n",
       "      <th>SCYL3</th>\n",
       "      <th>C1orf112</th>\n",
       "      <th>FGR</th>\n",
       "      <th>CFH</th>\n",
       "      <th>FUCA2</th>\n",
       "      <th>...</th>\n",
       "      <th>C6orf10</th>\n",
       "      <th>TMEM225</th>\n",
       "      <th>NOTCH4</th>\n",
       "      <th>PBX2</th>\n",
       "      <th>AGER</th>\n",
       "      <th>RNF5</th>\n",
       "      <th>AGPAT1</th>\n",
       "      <th>DFNB59</th>\n",
       "      <th>PRRT1</th>\n",
       "      <th>FKBPL</th>\n",
       "    </tr>\n",
       "  </thead>\n",
       "  <tbody>\n",
       "    <tr>\n",
       "      <th>0</th>\n",
       "      <td>1240123</td>\n",
       "      <td>2</td>\n",
       "      <td>8.319417</td>\n",
       "      <td>3.111183</td>\n",
       "      <td>9.643558</td>\n",
       "      <td>4.757258</td>\n",
       "      <td>3.919757</td>\n",
       "      <td>3.602185</td>\n",
       "      <td>3.329644</td>\n",
       "      <td>9.076950</td>\n",
       "      <td>...</td>\n",
       "      <td>3.085394</td>\n",
       "      <td>3.462811</td>\n",
       "      <td>3.339030</td>\n",
       "      <td>4.614897</td>\n",
       "      <td>3.395845</td>\n",
       "      <td>3.419193</td>\n",
       "      <td>3.971646</td>\n",
       "      <td>3.729310</td>\n",
       "      <td>3.320022</td>\n",
       "      <td>6.447316</td>\n",
       "    </tr>\n",
       "    <tr>\n",
       "      <th>1</th>\n",
       "      <td>1240131</td>\n",
       "      <td>1</td>\n",
       "      <td>7.611268</td>\n",
       "      <td>2.704739</td>\n",
       "      <td>10.276079</td>\n",
       "      <td>3.650299</td>\n",
       "      <td>3.481567</td>\n",
       "      <td>3.145538</td>\n",
       "      <td>3.565127</td>\n",
       "      <td>7.861068</td>\n",
       "      <td>...</td>\n",
       "      <td>2.801456</td>\n",
       "      <td>2.985889</td>\n",
       "      <td>3.180068</td>\n",
       "      <td>5.415729</td>\n",
       "      <td>3.299858</td>\n",
       "      <td>3.028414</td>\n",
       "      <td>3.877889</td>\n",
       "      <td>3.911516</td>\n",
       "      <td>3.379405</td>\n",
       "      <td>4.729557</td>\n",
       "    </tr>\n",
       "    <tr>\n",
       "      <th>2</th>\n",
       "      <td>1240132</td>\n",
       "      <td>1</td>\n",
       "      <td>7.678658</td>\n",
       "      <td>2.845781</td>\n",
       "      <td>10.180954</td>\n",
       "      <td>3.573048</td>\n",
       "      <td>3.431235</td>\n",
       "      <td>3.090781</td>\n",
       "      <td>4.116643</td>\n",
       "      <td>8.121190</td>\n",
       "      <td>...</td>\n",
       "      <td>2.934962</td>\n",
       "      <td>2.952937</td>\n",
       "      <td>3.164655</td>\n",
       "      <td>5.707506</td>\n",
       "      <td>3.434295</td>\n",
       "      <td>2.961345</td>\n",
       "      <td>4.272194</td>\n",
       "      <td>3.085696</td>\n",
       "      <td>3.002557</td>\n",
       "      <td>5.653588</td>\n",
       "    </tr>\n",
       "    <tr>\n",
       "      <th>3</th>\n",
       "      <td>1240134</td>\n",
       "      <td>1</td>\n",
       "      <td>3.265063</td>\n",
       "      <td>3.063746</td>\n",
       "      <td>10.490285</td>\n",
       "      <td>3.340791</td>\n",
       "      <td>3.676912</td>\n",
       "      <td>3.512821</td>\n",
       "      <td>3.873922</td>\n",
       "      <td>8.790851</td>\n",
       "      <td>...</td>\n",
       "      <td>3.041839</td>\n",
       "      <td>3.398847</td>\n",
       "      <td>3.106710</td>\n",
       "      <td>5.773963</td>\n",
       "      <td>3.412641</td>\n",
       "      <td>3.136110</td>\n",
       "      <td>4.422262</td>\n",
       "      <td>3.522122</td>\n",
       "      <td>3.509437</td>\n",
       "      <td>5.953242</td>\n",
       "    </tr>\n",
       "    <tr>\n",
       "      <th>4</th>\n",
       "      <td>1240140</td>\n",
       "      <td>1</td>\n",
       "      <td>7.090138</td>\n",
       "      <td>2.988043</td>\n",
       "      <td>10.264692</td>\n",
       "      <td>4.119555</td>\n",
       "      <td>3.432585</td>\n",
       "      <td>3.308033</td>\n",
       "      <td>3.318371</td>\n",
       "      <td>6.927761</td>\n",
       "      <td>...</td>\n",
       "      <td>3.028787</td>\n",
       "      <td>3.225982</td>\n",
       "      <td>3.275820</td>\n",
       "      <td>5.334283</td>\n",
       "      <td>3.864678</td>\n",
       "      <td>3.259242</td>\n",
       "      <td>3.840581</td>\n",
       "      <td>5.809553</td>\n",
       "      <td>3.674587</td>\n",
       "      <td>5.577503</td>\n",
       "    </tr>\n",
       "  </tbody>\n",
       "</table>\n",
       "<p>5 rows × 16384 columns</p>\n",
       "</div>"
      ],
      "text/plain": [
       "   CELL_LINE_NAME  cluster    TSPAN6      TNMD       DPM1     SCYL3  C1orf112  \\\n",
       "0         1240123        2  8.319417  3.111183   9.643558  4.757258  3.919757   \n",
       "1         1240131        1  7.611268  2.704739  10.276079  3.650299  3.481567   \n",
       "2         1240132        1  7.678658  2.845781  10.180954  3.573048  3.431235   \n",
       "3         1240134        1  3.265063  3.063746  10.490285  3.340791  3.676912   \n",
       "4         1240140        1  7.090138  2.988043  10.264692  4.119555  3.432585   \n",
       "\n",
       "        FGR       CFH     FUCA2  ...   C6orf10   TMEM225    NOTCH4      PBX2  \\\n",
       "0  3.602185  3.329644  9.076950  ...  3.085394  3.462811  3.339030  4.614897   \n",
       "1  3.145538  3.565127  7.861068  ...  2.801456  2.985889  3.180068  5.415729   \n",
       "2  3.090781  4.116643  8.121190  ...  2.934962  2.952937  3.164655  5.707506   \n",
       "3  3.512821  3.873922  8.790851  ...  3.041839  3.398847  3.106710  5.773963   \n",
       "4  3.308033  3.318371  6.927761  ...  3.028787  3.225982  3.275820  5.334283   \n",
       "\n",
       "       AGER      RNF5    AGPAT1    DFNB59     PRRT1     FKBPL  \n",
       "0  3.395845  3.419193  3.971646  3.729310  3.320022  6.447316  \n",
       "1  3.299858  3.028414  3.877889  3.911516  3.379405  4.729557  \n",
       "2  3.434295  2.961345  4.272194  3.085696  3.002557  5.653588  \n",
       "3  3.412641  3.136110  4.422262  3.522122  3.509437  5.953242  \n",
       "4  3.864678  3.259242  3.840581  5.809553  3.674587  5.577503  \n",
       "\n",
       "[5 rows x 16384 columns]"
      ]
     },
     "execution_count": 2,
     "metadata": {},
     "output_type": "execute_result"
    }
   ],
   "source": [
    "df = pd.read_csv(\"data/combined_expression.csv\")\n",
    "df.head()"
   ]
  },
  {
   "cell_type": "code",
   "execution_count": 3,
   "metadata": {},
   "outputs": [
    {
     "data": {
      "text/plain": [
       "16382"
      ]
     },
     "execution_count": 3,
     "metadata": {},
     "output_type": "execute_result"
    }
   ],
   "source": [
    "features = [f for f in  df.columns if f not in ['CELL_LINE_NAME', 'cluster']]\n",
    "len(features)"
   ]
  },
  {
   "cell_type": "code",
   "execution_count": 4,
   "metadata": {},
   "outputs": [],
   "source": [
    "X = df[features].values\n",
    "Y = df['cluster'].values.ravel()"
   ]
  },
  {
   "cell_type": "code",
   "execution_count": 5,
   "metadata": {},
   "outputs": [],
   "source": [
    "min_max_scaler = preprocessing.MinMaxScaler()\n",
    "X = min_max_scaler.fit_transform(X)"
   ]
  },
  {
   "cell_type": "code",
   "execution_count": null,
   "metadata": {
    "scrolled": true
   },
   "outputs": [
    {
     "name": "stdout",
     "output_type": "stream",
     "text": [
      "Iteration: \t1 / 100\n",
      "Confirmed: \t0\n",
      "Tentative: \t16382\n",
      "Rejected: \t0\n",
      "Iteration: \t2 / 100\n",
      "Confirmed: \t0\n",
      "Tentative: \t16382\n",
      "Rejected: \t0\n",
      "Iteration: \t3 / 100\n",
      "Confirmed: \t0\n",
      "Tentative: \t16382\n",
      "Rejected: \t0\n",
      "Iteration: \t4 / 100\n",
      "Confirmed: \t0\n",
      "Tentative: \t16382\n",
      "Rejected: \t0\n",
      "Iteration: \t5 / 100\n",
      "Confirmed: \t0\n",
      "Tentative: \t16382\n",
      "Rejected: \t0\n",
      "Iteration: \t6 / 100\n",
      "Confirmed: \t0\n",
      "Tentative: \t16382\n",
      "Rejected: \t0\n",
      "Iteration: \t7 / 100\n",
      "Confirmed: \t0\n",
      "Tentative: \t16382\n",
      "Rejected: \t0\n",
      "Iteration: \t8 / 100\n",
      "Confirmed: \t5858\n",
      "Tentative: \t10524\n",
      "Rejected: \t0\n",
      "Iteration: \t9 / 100\n",
      "Confirmed: \t5858\n",
      "Tentative: \t10524\n",
      "Rejected: \t0\n"
     ]
    }
   ],
   "source": [
    "# max_depth of tree advised on Boruta Github to be ~3-7\n",
    "rf = RandomForestClassifier(n_jobs=-1, class_weight='balanced', max_depth=5)\n",
    "boruta_feature_selector = BorutaPy(rf, n_estimators='auto', verbose=2, random_state=1, max_iter=100)\n",
    "boruta_feature_selector.fit(X, Y)"
   ]
  },
  {
   "cell_type": "code",
   "execution_count": null,
   "metadata": {},
   "outputs": [],
   "source": [
    "# check selected features - first 5 features are selected\n",
    "boruta_feature_selector.support_"
   ]
  },
  {
   "cell_type": "code",
   "execution_count": null,
   "metadata": {},
   "outputs": [],
   "source": [
    "# check ranking of features\n",
    "boruta_feature_selector.ranking_"
   ]
  },
  {
   "cell_type": "code",
   "execution_count": null,
   "metadata": {
    "scrolled": true
   },
   "outputs": [],
   "source": [
    "X_filtered = boruta_feature_selector.transform(X)\n",
    "X_filtered.shape"
   ]
  },
  {
   "cell_type": "code",
   "execution_count": null,
   "metadata": {},
   "outputs": [],
   "source": [
    "final_features = list()\n",
    "indices = np.where(boruta_feature_selector.support_ == True)\n",
    "for x in np.nditer(indices):\n",
    "    final_features.append(features[x])\n",
    "final_features"
   ]
  },
  {
   "cell_type": "code",
   "execution_count": null,
   "metadata": {},
   "outputs": [],
   "source": [
    "s_feats = pd.DataFrame(final_features)\n",
    "s_feats.to_csv('cleaned/boruta.csv', index=False)"
   ]
  },
  {
   "cell_type": "code",
   "execution_count": null,
   "metadata": {},
   "outputs": [],
   "source": []
  }
 ],
 "metadata": {
  "kernelspec": {
   "display_name": "Python 3",
   "language": "python",
   "name": "python3"
  },
  "language_info": {
   "codemirror_mode": {
    "name": "ipython",
    "version": 3
   },
   "file_extension": ".py",
   "mimetype": "text/x-python",
   "name": "python",
   "nbconvert_exporter": "python",
   "pygments_lexer": "ipython3",
   "version": "3.6.10"
  }
 },
 "nbformat": 4,
 "nbformat_minor": 4
}
