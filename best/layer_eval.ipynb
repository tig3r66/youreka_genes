{
 "cells": [
  {
   "cell_type": "code",
   "execution_count": 105,
   "metadata": {},
   "outputs": [],
   "source": [
    "import itertools\n",
    "import numpy as np\n",
    "import pandas as pd\n",
    "import matplotlib.pyplot as plt\n",
    "# for data scaling and splitting\n",
    "from sklearn.preprocessing import MinMaxScaler \n",
    "from sklearn.model_selection import train_test_split\n",
    "from imblearn.over_sampling import SMOTE\n",
    "# for neural net\n",
    "from tensorflow.keras.models import Sequential, load_model\n",
    "from tensorflow.keras.layers import Dense, Dropout, BatchNormalization\n",
    "from tensorflow.keras.wrappers.scikit_learn import KerasClassifier\n",
    "# for evaluation\n",
    "from sklearn.model_selection import KFold, cross_val_score, GridSearchCV\n",
    "from sklearn.metrics import classification_report, confusion_matrix, ConfusionMatrixDisplay"
   ]
  },
  {
   "cell_type": "code",
   "execution_count": 106,
   "metadata": {},
   "outputs": [
    {
     "data": {
      "text/html": [
       "<div>\n",
       "<style scoped>\n",
       "    .dataframe tbody tr th:only-of-type {\n",
       "        vertical-align: middle;\n",
       "    }\n",
       "\n",
       "    .dataframe tbody tr th {\n",
       "        vertical-align: top;\n",
       "    }\n",
       "\n",
       "    .dataframe thead th {\n",
       "        text-align: right;\n",
       "    }\n",
       "</style>\n",
       "<table border=\"1\" class=\"dataframe\">\n",
       "  <thead>\n",
       "    <tr style=\"text-align: right;\">\n",
       "      <th></th>\n",
       "      <th>CELL_LINE_NAME</th>\n",
       "      <th>cluster</th>\n",
       "      <th>TSPAN6</th>\n",
       "      <th>TNMD</th>\n",
       "      <th>DPM1</th>\n",
       "      <th>SCYL3</th>\n",
       "      <th>C1orf112</th>\n",
       "      <th>FGR</th>\n",
       "      <th>CFH</th>\n",
       "      <th>FUCA2</th>\n",
       "      <th>...</th>\n",
       "      <th>C6orf10</th>\n",
       "      <th>TMEM225</th>\n",
       "      <th>NOTCH4</th>\n",
       "      <th>PBX2</th>\n",
       "      <th>AGER</th>\n",
       "      <th>RNF5</th>\n",
       "      <th>AGPAT1</th>\n",
       "      <th>DFNB59</th>\n",
       "      <th>PRRT1</th>\n",
       "      <th>FKBPL</th>\n",
       "    </tr>\n",
       "  </thead>\n",
       "  <tbody>\n",
       "    <tr>\n",
       "      <th>0</th>\n",
       "      <td>1240123</td>\n",
       "      <td>2</td>\n",
       "      <td>8.319417</td>\n",
       "      <td>3.111183</td>\n",
       "      <td>9.643558</td>\n",
       "      <td>4.757258</td>\n",
       "      <td>3.919757</td>\n",
       "      <td>3.602185</td>\n",
       "      <td>3.329644</td>\n",
       "      <td>9.076950</td>\n",
       "      <td>...</td>\n",
       "      <td>3.085394</td>\n",
       "      <td>3.462811</td>\n",
       "      <td>3.339030</td>\n",
       "      <td>4.614897</td>\n",
       "      <td>3.395845</td>\n",
       "      <td>3.419193</td>\n",
       "      <td>3.971646</td>\n",
       "      <td>3.729310</td>\n",
       "      <td>3.320022</td>\n",
       "      <td>6.447316</td>\n",
       "    </tr>\n",
       "    <tr>\n",
       "      <th>1</th>\n",
       "      <td>1240131</td>\n",
       "      <td>1</td>\n",
       "      <td>7.611268</td>\n",
       "      <td>2.704739</td>\n",
       "      <td>10.276079</td>\n",
       "      <td>3.650299</td>\n",
       "      <td>3.481567</td>\n",
       "      <td>3.145538</td>\n",
       "      <td>3.565127</td>\n",
       "      <td>7.861068</td>\n",
       "      <td>...</td>\n",
       "      <td>2.801456</td>\n",
       "      <td>2.985889</td>\n",
       "      <td>3.180068</td>\n",
       "      <td>5.415729</td>\n",
       "      <td>3.299858</td>\n",
       "      <td>3.028414</td>\n",
       "      <td>3.877889</td>\n",
       "      <td>3.911516</td>\n",
       "      <td>3.379405</td>\n",
       "      <td>4.729557</td>\n",
       "    </tr>\n",
       "    <tr>\n",
       "      <th>2</th>\n",
       "      <td>1240132</td>\n",
       "      <td>1</td>\n",
       "      <td>7.678658</td>\n",
       "      <td>2.845781</td>\n",
       "      <td>10.180954</td>\n",
       "      <td>3.573048</td>\n",
       "      <td>3.431235</td>\n",
       "      <td>3.090781</td>\n",
       "      <td>4.116643</td>\n",
       "      <td>8.121190</td>\n",
       "      <td>...</td>\n",
       "      <td>2.934962</td>\n",
       "      <td>2.952937</td>\n",
       "      <td>3.164655</td>\n",
       "      <td>5.707506</td>\n",
       "      <td>3.434295</td>\n",
       "      <td>2.961345</td>\n",
       "      <td>4.272194</td>\n",
       "      <td>3.085696</td>\n",
       "      <td>3.002557</td>\n",
       "      <td>5.653588</td>\n",
       "    </tr>\n",
       "    <tr>\n",
       "      <th>3</th>\n",
       "      <td>1240134</td>\n",
       "      <td>1</td>\n",
       "      <td>3.265063</td>\n",
       "      <td>3.063746</td>\n",
       "      <td>10.490285</td>\n",
       "      <td>3.340791</td>\n",
       "      <td>3.676912</td>\n",
       "      <td>3.512821</td>\n",
       "      <td>3.873922</td>\n",
       "      <td>8.790851</td>\n",
       "      <td>...</td>\n",
       "      <td>3.041839</td>\n",
       "      <td>3.398847</td>\n",
       "      <td>3.106710</td>\n",
       "      <td>5.773963</td>\n",
       "      <td>3.412641</td>\n",
       "      <td>3.136110</td>\n",
       "      <td>4.422262</td>\n",
       "      <td>3.522122</td>\n",
       "      <td>3.509437</td>\n",
       "      <td>5.953242</td>\n",
       "    </tr>\n",
       "    <tr>\n",
       "      <th>4</th>\n",
       "      <td>1240140</td>\n",
       "      <td>1</td>\n",
       "      <td>7.090138</td>\n",
       "      <td>2.988043</td>\n",
       "      <td>10.264692</td>\n",
       "      <td>4.119555</td>\n",
       "      <td>3.432585</td>\n",
       "      <td>3.308033</td>\n",
       "      <td>3.318371</td>\n",
       "      <td>6.927761</td>\n",
       "      <td>...</td>\n",
       "      <td>3.028787</td>\n",
       "      <td>3.225982</td>\n",
       "      <td>3.275820</td>\n",
       "      <td>5.334283</td>\n",
       "      <td>3.864678</td>\n",
       "      <td>3.259242</td>\n",
       "      <td>3.840581</td>\n",
       "      <td>5.809553</td>\n",
       "      <td>3.674587</td>\n",
       "      <td>5.577503</td>\n",
       "    </tr>\n",
       "  </tbody>\n",
       "</table>\n",
       "<p>5 rows × 16384 columns</p>\n",
       "</div>"
      ],
      "text/plain": [
       "   CELL_LINE_NAME  cluster    TSPAN6      TNMD       DPM1     SCYL3  C1orf112  \\\n",
       "0         1240123        2  8.319417  3.111183   9.643558  4.757258  3.919757   \n",
       "1         1240131        1  7.611268  2.704739  10.276079  3.650299  3.481567   \n",
       "2         1240132        1  7.678658  2.845781  10.180954  3.573048  3.431235   \n",
       "3         1240134        1  3.265063  3.063746  10.490285  3.340791  3.676912   \n",
       "4         1240140        1  7.090138  2.988043  10.264692  4.119555  3.432585   \n",
       "\n",
       "        FGR       CFH     FUCA2  ...   C6orf10   TMEM225    NOTCH4      PBX2  \\\n",
       "0  3.602185  3.329644  9.076950  ...  3.085394  3.462811  3.339030  4.614897   \n",
       "1  3.145538  3.565127  7.861068  ...  2.801456  2.985889  3.180068  5.415729   \n",
       "2  3.090781  4.116643  8.121190  ...  2.934962  2.952937  3.164655  5.707506   \n",
       "3  3.512821  3.873922  8.790851  ...  3.041839  3.398847  3.106710  5.773963   \n",
       "4  3.308033  3.318371  6.927761  ...  3.028787  3.225982  3.275820  5.334283   \n",
       "\n",
       "       AGER      RNF5    AGPAT1    DFNB59     PRRT1     FKBPL  \n",
       "0  3.395845  3.419193  3.971646  3.729310  3.320022  6.447316  \n",
       "1  3.299858  3.028414  3.877889  3.911516  3.379405  4.729557  \n",
       "2  3.434295  2.961345  4.272194  3.085696  3.002557  5.653588  \n",
       "3  3.412641  3.136110  4.422262  3.522122  3.509437  5.953242  \n",
       "4  3.864678  3.259242  3.840581  5.809553  3.674587  5.577503  \n",
       "\n",
       "[5 rows x 16384 columns]"
      ]
     },
     "execution_count": 106,
     "metadata": {},
     "output_type": "execute_result"
    }
   ],
   "source": [
    "data = pd.read_csv(\"data/combined_expression.csv\")\n",
    "data.head()"
   ]
  },
  {
   "cell_type": "code",
   "execution_count": 107,
   "metadata": {
    "scrolled": true
   },
   "outputs": [
    {
     "data": {
      "text/plain": [
       "(541, 16384)"
      ]
     },
     "execution_count": 107,
     "metadata": {},
     "output_type": "execute_result"
    }
   ],
   "source": [
    "data.shape"
   ]
  },
  {
   "cell_type": "code",
   "execution_count": 108,
   "metadata": {},
   "outputs": [],
   "source": [
    "selected_genes = pd.read_csv('cleaned/boruta.csv')\n",
    "selected_genes = selected_genes.values.tolist()\n",
    "selected_genes = list(itertools.chain(*selected_genes))"
   ]
  },
  {
   "cell_type": "code",
   "execution_count": 109,
   "metadata": {},
   "outputs": [],
   "source": [
    "# retrieving proper columns\n",
    "X = data.loc[:, selected_genes]\n",
    "y = data['cluster'].values\n",
    "# scaling the data\n",
    "scalar = MinMaxScaler()\n",
    "x_scaled = scalar.fit_transform(X)\n",
    "# splitting data (20% test, 80% train)\n",
    "X_train, X_test, y_train, y_test = train_test_split(x_scaled, y, test_size=0.2)\n",
    "sm = SMOTE()\n",
    "X_train, y_train = sm.fit_sample(X_train, y_train)"
   ]
  },
  {
   "cell_type": "markdown",
   "metadata": {},
   "source": [
    "# Confusion Matrix Plotting Function"
   ]
  },
  {
   "cell_type": "code",
   "execution_count": 72,
   "metadata": {},
   "outputs": [],
   "source": [
    "def plot_confusion_matrix(cm, target_names, title='Confusion matrix', cmap=None, normalize=True):\n",
    "    import matplotlib.pyplot as plt\n",
    "    import numpy as np\n",
    "    import itertools\n",
    "\n",
    "    accuracy = np.trace(cm) / np.sum(cm).astype('float')\n",
    "    misclass = 1 - accuracy\n",
    "\n",
    "    if cmap is None:\n",
    "        cmap = plt.get_cmap('Blues')\n",
    "\n",
    "    plt.figure(figsize=(8, 6))\n",
    "    plt.imshow(cm, interpolation='nearest', cmap=cmap)\n",
    "    plt.title(title)\n",
    "    plt.colorbar()\n",
    "\n",
    "    if target_names is not None:\n",
    "        tick_marks = np.arange(len(target_names))\n",
    "        plt.xticks(tick_marks, target_names)\n",
    "        plt.yticks(tick_marks, target_names)\n",
    "\n",
    "    if normalize:\n",
    "        cm = cm.astype('float') / cm.sum(axis=1)[:, np.newaxis]\n",
    "\n",
    "\n",
    "    thresh = cm.max() / 1.5 if normalize else cm.max() / 2\n",
    "    for i, j in itertools.product(range(cm.shape[0]), range(cm.shape[1])):\n",
    "        if normalize:\n",
    "            plt.text(j, i, \"{:0.4f}\".format(cm[i, j]),\n",
    "                     horizontalalignment=\"center\",\n",
    "                     color=\"white\" if cm[i, j] > thresh else \"black\")\n",
    "        else:\n",
    "            plt.text(j, i, \"{:,}\".format(cm[i, j]),\n",
    "                     horizontalalignment=\"center\",\n",
    "                     color=\"white\" if cm[i, j] > thresh else \"black\")\n",
    "\n",
    "\n",
    "    plt.tight_layout()\n",
    "    plt.ylabel('True label')\n",
    "    plt.xlabel('Predicted label\\naccuracy={:0.4f}; misclass={:0.4f}'.format(accuracy, misclass))\n",
    "    plt.show()"
   ]
  },
  {
   "cell_type": "markdown",
   "metadata": {},
   "source": [
    "# 4 Hidden Layers (with batch normalization)"
   ]
  },
  {
   "cell_type": "code",
   "execution_count": 73,
   "metadata": {},
   "outputs": [],
   "source": [
    "def create_model(optimizer='adam', init='normal', dropout=0.3):\n",
    "    model = Sequential()\n",
    "    # adding layers and adding droplayers to avoid overfitting\n",
    "    hidden_layers = len(selected_genes)\n",
    "\n",
    "    # first hidden layer\n",
    "    model.add(Dense(hidden_layers, activation='relu'))\n",
    "    model.add(BatchNormalization())\n",
    "    model.add(Dropout(dropout))\n",
    "    # second hidden layer\n",
    "    model.add(Dense((hidden_layers*1.5), activation='relu'))\n",
    "    model.add(BatchNormalization())\n",
    "    model.add(Dropout(dropout))\n",
    "    # third hidden layer\n",
    "    model.add(Dense((hidden_layers), activation='relu'))\n",
    "    model.add(BatchNormalization())\n",
    "    model.add(Dropout(dropout))\n",
    "    # fourth hidden layer\n",
    "    model.add(Dense((hidden_layers*0.25), activation='relu'))\n",
    "    model.add(BatchNormalization())\n",
    "    model.add(Dropout(dropout))\n",
    "\n",
    "    model.add(Dense(1, activation='sigmoid'))\n",
    "    # compiling\n",
    "    model.compile(optimizer=optimizer, loss='binary_crossentropy', metrics=['accuracy'])\n",
    "    return model"
   ]
  },
  {
   "cell_type": "code",
   "execution_count": 74,
   "metadata": {},
   "outputs": [],
   "source": [
    "# parameters selected from previous gridsearch\n",
    "model4 = KerasClassifier(build_fn=hidden4, epochs=50, batch_size=32, optimizer='adagrad',init='normal')\n",
    "# kfold = KFold(n_splits=3, shuffle=True)\n",
    "# results = cross_val_score(model, X_train, y_train, cv=kfold)\n",
    "# print(\"Baseline Accuracy: %.2f%% (%.2f%%)\" % (results.mean()*100, results.std()*100))"
   ]
  },
  {
   "cell_type": "code",
   "execution_count": 75,
   "metadata": {
    "scrolled": true
   },
   "outputs": [
    {
     "name": "stdout",
     "output_type": "stream",
     "text": [
      "Train on 554 samples, validate on 109 samples\n",
      "Epoch 1/50\n",
      "554/554 [==============================] - 4s 8ms/sample - loss: 0.4057 - accuracy: 0.8339 - val_loss: 0.7158 - val_accuracy: 0.1193\n",
      "Epoch 2/50\n",
      "554/554 [==============================] - 0s 869us/sample - loss: 0.2223 - accuracy: 0.9224 - val_loss: 0.4182 - val_accuracy: 0.4679\n",
      "Epoch 3/50\n",
      "554/554 [==============================] - 0s 854us/sample - loss: 0.1927 - accuracy: 0.9278 - val_loss: 0.1299 - val_accuracy: 0.6881\n",
      "Epoch 4/50\n",
      "554/554 [==============================] - 0s 888us/sample - loss: 0.1385 - accuracy: 0.9585 - val_loss: -0.0599 - val_accuracy: 0.6881\n",
      "Epoch 5/50\n",
      "554/554 [==============================] - 0s 737us/sample - loss: 0.1239 - accuracy: 0.9549 - val_loss: -0.1838 - val_accuracy: 0.6881\n",
      "Epoch 6/50\n",
      "554/554 [==============================] - 0s 724us/sample - loss: 0.1163 - accuracy: 0.9603 - val_loss: -0.3816 - val_accuracy: 0.6881\n",
      "Epoch 7/50\n",
      "554/554 [==============================] - 0s 819us/sample - loss: 0.1220 - accuracy: 0.9549 - val_loss: -0.4685 - val_accuracy: 0.6881\n",
      "Epoch 8/50\n",
      "554/554 [==============================] - 0s 894us/sample - loss: 0.0904 - accuracy: 0.9765 - val_loss: -0.5002 - val_accuracy: 0.6789\n",
      "Epoch 9/50\n",
      "554/554 [==============================] - 0s 760us/sample - loss: 0.1011 - accuracy: 0.9765 - val_loss: -0.5390 - val_accuracy: 0.6239\n",
      "Epoch 10/50\n",
      "554/554 [==============================] - 0s 844us/sample - loss: 0.0768 - accuracy: 0.9765 - val_loss: -0.5882 - val_accuracy: 0.6330\n",
      "Epoch 11/50\n",
      "554/554 [==============================] - 0s 842us/sample - loss: 0.0651 - accuracy: 0.9874 - val_loss: -0.6343 - val_accuracy: 0.6055\n",
      "Epoch 12/50\n",
      "554/554 [==============================] - 0s 846us/sample - loss: 0.0669 - accuracy: 0.9874 - val_loss: -0.6495 - val_accuracy: 0.5688\n",
      "Epoch 13/50\n",
      "554/554 [==============================] - 0s 789us/sample - loss: 0.0599 - accuracy: 0.9874 - val_loss: -0.6912 - val_accuracy: 0.5413\n",
      "Epoch 14/50\n",
      "554/554 [==============================] - 1s 948us/sample - loss: 0.0621 - accuracy: 0.9838 - val_loss: -0.6738 - val_accuracy: 0.5138\n",
      "Epoch 15/50\n",
      "554/554 [==============================] - 1s 976us/sample - loss: 0.0867 - accuracy: 0.9783 - val_loss: -0.7553 - val_accuracy: 0.5780\n",
      "Epoch 16/50\n",
      "554/554 [==============================] - 0s 870us/sample - loss: 0.0610 - accuracy: 0.9910 - val_loss: -0.5847 - val_accuracy: 0.4495\n",
      "Epoch 17/50\n",
      "554/554 [==============================] - 0s 827us/sample - loss: 0.0739 - accuracy: 0.9838 - val_loss: -0.5906 - val_accuracy: 0.4312\n",
      "Epoch 18/50\n",
      "554/554 [==============================] - 0s 821us/sample - loss: 0.0642 - accuracy: 0.9910 - val_loss: -0.3573 - val_accuracy: 0.3303\n",
      "Epoch 19/50\n",
      "554/554 [==============================] - 0s 818us/sample - loss: 0.0588 - accuracy: 0.9874 - val_loss: -0.1234 - val_accuracy: 0.2569\n",
      "Epoch 20/50\n",
      "554/554 [==============================] - 1s 942us/sample - loss: 0.0481 - accuracy: 0.9874 - val_loss: 0.1517 - val_accuracy: 0.2202\n",
      "Epoch 21/50\n",
      "554/554 [==============================] - 0s 829us/sample - loss: 0.0713 - accuracy: 0.9819 - val_loss: 0.0747 - val_accuracy: 0.2294\n",
      "Epoch 22/50\n",
      "554/554 [==============================] - 0s 881us/sample - loss: 0.0609 - accuracy: 0.9838 - val_loss: 0.3725 - val_accuracy: 0.1927\n",
      "Epoch 23/50\n",
      "554/554 [==============================] - 0s 819us/sample - loss: 0.0412 - accuracy: 0.9946 - val_loss: 0.4517 - val_accuracy: 0.1743\n",
      "Epoch 24/50\n",
      "554/554 [==============================] - 0s 833us/sample - loss: 0.0479 - accuracy: 0.9892 - val_loss: 0.5671 - val_accuracy: 0.1560\n",
      "Epoch 25/50\n",
      "554/554 [==============================] - 0s 823us/sample - loss: 0.0421 - accuracy: 0.9910 - val_loss: 0.6544 - val_accuracy: 0.1743\n",
      "Epoch 26/50\n",
      "554/554 [==============================] - 0s 838us/sample - loss: 0.0370 - accuracy: 0.9946 - val_loss: 0.7985 - val_accuracy: 0.1651\n",
      "Epoch 27/50\n",
      "554/554 [==============================] - 0s 836us/sample - loss: 0.0347 - accuracy: 0.9982 - val_loss: 1.0470 - val_accuracy: 0.1560\n",
      "Epoch 28/50\n",
      "554/554 [==============================] - 0s 880us/sample - loss: 0.0496 - accuracy: 0.9856 - val_loss: 1.1216 - val_accuracy: 0.1468\n",
      "Epoch 29/50\n",
      "554/554 [==============================] - 0s 781us/sample - loss: 0.0369 - accuracy: 0.9892 - val_loss: 1.3019 - val_accuracy: 0.1284\n",
      "Epoch 30/50\n",
      "554/554 [==============================] - 0s 818us/sample - loss: 0.0394 - accuracy: 0.9946 - val_loss: 1.3656 - val_accuracy: 0.1284\n",
      "Epoch 31/50\n",
      "554/554 [==============================] - 0s 810us/sample - loss: 0.0381 - accuracy: 0.9946 - val_loss: 1.3184 - val_accuracy: 0.1284\n",
      "Epoch 32/50\n",
      "554/554 [==============================] - 0s 817us/sample - loss: 0.0498 - accuracy: 0.9874 - val_loss: 1.4438 - val_accuracy: 0.1101\n",
      "Epoch 33/50\n",
      "554/554 [==============================] - 0s 805us/sample - loss: 0.0372 - accuracy: 0.9964 - val_loss: 1.5864 - val_accuracy: 0.1193\n",
      "Epoch 34/50\n",
      "554/554 [==============================] - 0s 813us/sample - loss: 0.0489 - accuracy: 0.9892 - val_loss: 1.6088 - val_accuracy: 0.1009\n",
      "Epoch 35/50\n",
      "554/554 [==============================] - 0s 828us/sample - loss: 0.0296 - accuracy: 1.0000 - val_loss: 1.8727 - val_accuracy: 0.0917\n",
      "Epoch 36/50\n",
      "554/554 [==============================] - 1s 962us/sample - loss: 0.0332 - accuracy: 0.9964 - val_loss: 1.6646 - val_accuracy: 0.1101\n",
      "Epoch 37/50\n",
      "554/554 [==============================] - 1s 947us/sample - loss: 0.0379 - accuracy: 0.9964 - val_loss: 1.8075 - val_accuracy: 0.1009\n",
      "Epoch 38/50\n",
      "554/554 [==============================] - 0s 875us/sample - loss: 0.0300 - accuracy: 0.9928 - val_loss: 1.8782 - val_accuracy: 0.1009\n",
      "Epoch 39/50\n",
      "554/554 [==============================] - 0s 815us/sample - loss: 0.0306 - accuracy: 0.9946 - val_loss: 2.1424 - val_accuracy: 0.0917\n",
      "Epoch 40/50\n",
      "554/554 [==============================] - 0s 861us/sample - loss: 0.0282 - accuracy: 0.9964 - val_loss: 2.2656 - val_accuracy: 0.0826\n",
      "Epoch 41/50\n",
      "554/554 [==============================] - 0s 853us/sample - loss: 0.0339 - accuracy: 0.9910 - val_loss: 2.2450 - val_accuracy: 0.0826\n",
      "Epoch 42/50\n",
      "554/554 [==============================] - 0s 867us/sample - loss: 0.0313 - accuracy: 0.9946 - val_loss: 2.1798 - val_accuracy: 0.0826\n",
      "Epoch 43/50\n",
      "554/554 [==============================] - 0s 890us/sample - loss: 0.0319 - accuracy: 0.9982 - val_loss: 2.0514 - val_accuracy: 0.0826\n",
      "Epoch 44/50\n",
      "554/554 [==============================] - 1s 1ms/sample - loss: 0.0247 - accuracy: 0.9964 - val_loss: 2.0736 - val_accuracy: 0.0826\n",
      "Epoch 45/50\n",
      "554/554 [==============================] - 1s 960us/sample - loss: 0.0313 - accuracy: 0.9982 - val_loss: 2.1727 - val_accuracy: 0.0917\n",
      "Epoch 46/50\n",
      "554/554 [==============================] - 0s 866us/sample - loss: 0.0286 - accuracy: 0.9946 - val_loss: 2.0814 - val_accuracy: 0.0917\n",
      "Epoch 47/50\n",
      "554/554 [==============================] - 0s 849us/sample - loss: 0.0289 - accuracy: 0.9946 - val_loss: 2.0340 - val_accuracy: 0.1009\n",
      "Epoch 48/50\n",
      "554/554 [==============================] - 0s 897us/sample - loss: 0.0251 - accuracy: 0.9946 - val_loss: 1.9675 - val_accuracy: 0.1009\n",
      "Epoch 49/50\n",
      "554/554 [==============================] - 0s 868us/sample - loss: 0.0379 - accuracy: 0.9892 - val_loss: 1.8804 - val_accuracy: 0.1193\n",
      "Epoch 50/50\n",
      "554/554 [==============================] - 1s 904us/sample - loss: 0.0337 - accuracy: 0.9946 - val_loss: 2.0293 - val_accuracy: 0.1009\n"
     ]
    }
   ],
   "source": [
    "history4 = model4.fit(X_train, y_train, validation_data=(X_test,y_test), shuffle=True)\n",
    "y_pred4 = model4.predict(X_test)"
   ]
  },
  {
   "cell_type": "code",
   "execution_count": 76,
   "metadata": {
    "scrolled": true
   },
   "outputs": [
    {
     "name": "stdout",
     "output_type": "stream",
     "text": [
      "              precision    recall  f1-score   support\n",
      "\n",
      "           1       0.90      0.85      0.88        75\n",
      "           2       0.71      0.79      0.75        34\n",
      "\n",
      "    accuracy                           0.83       109\n",
      "   macro avg       0.81      0.82      0.81       109\n",
      "weighted avg       0.84      0.83      0.84       109\n",
      "\n"
     ]
    }
   ],
   "source": [
    "print(classification_report(y_test, y_pred4))"
   ]
  },
  {
   "cell_type": "code",
   "execution_count": 77,
   "metadata": {
    "scrolled": true
   },
   "outputs": [
    {
     "data": {
      "image/png": "[encoded data removed]",
      "text/plain": [
       "<Figure size 432x288 with 1 Axes>"
      ]
     },
     "metadata": {
      "needs_background": "light"
     },
     "output_type": "display_data"
    }
   ],
   "source": [
    "plt.plot(history4.history['accuracy'])\n",
    "plt.plot(history4.history['val_accuracy'])\n",
    "plt.ylabel('accuracy')\n",
    "plt.xlabel('epoch')\n",
    "plt.legend(['train', 'test'], loc='upper right')\n",
    "plt.ylim(0, 1)\n",
    "plt.show()"
   ]
  },
  {
   "cell_type": "code",
   "execution_count": 78,
   "metadata": {
    "scrolled": true
   },
   "outputs": [
    {
     "data": {
      "image/png": "[encoded data removed]",
      "text/plain": [
       "<Figure size 576x432 with 2 Axes>"
      ]
     },
     "metadata": {
      "needs_background": "light"
     },
     "output_type": "display_data"
    }
   ],
   "source": [
    "cm = confusion_matrix(y_test, y_pred4)\n",
    "plt.rcParams.update({'font.size': 18})\n",
    "plot_confusion_matrix(cm, ['1', '2'], title='', normalize=False)"
   ]
  },
  {
   "cell_type": "code",
   "execution_count": 114,
   "metadata": {},
   "outputs": [],
   "source": [
    "model4.model.save('models/hidden4.h5')"
   ]
  },
  {
   "cell_type": "markdown",
   "metadata": {},
   "source": [
    "# 3 Hidden Layers"
   ]
  },
  {
   "cell_type": "code",
   "execution_count": 79,
   "metadata": {},
   "outputs": [],
   "source": [
    "def hidden3(optimizer='rmsprop',init='glorot_uniform', dropout=0.3):\n",
    "    model = Sequential()\n",
    "    # adding layers and adding droplayers to avoid overfitting\n",
    "    hidden_layers = len(selected_genes)\n",
    "    model.add(BatchNormalization())\n",
    "    model.add(Dense(hidden_layers*1.5, activation='relu'))\n",
    "    model.add(Dropout(dropout))\n",
    "    \n",
    "    model.add(BatchNormalization())\n",
    "    model.add(Dense((hidden_layers*1), activation='relu'))\n",
    "    model.add(Dropout(dropout))\n",
    "\n",
    "    model.add(BatchNormalization())\n",
    "    model.add(Dense((hidden_layers*0.5), activation='relu'))\n",
    "    model.add(Dropout(dropout))\n",
    "    \n",
    "    model.add(Dense(1, activation='sigmoid'))\n",
    "    # compiling\n",
    "    model.compile(optimizer=optimizer, loss='binary_crossentropy', metrics=['accuracy'])\n",
    "    return model"
   ]
  },
  {
   "cell_type": "code",
   "execution_count": 80,
   "metadata": {},
   "outputs": [],
   "source": [
    "# parameters selected from previous gridsearch\n",
    "model3 = KerasClassifier(build_fn=hidden3, epochs=50, batch_size=64, optimizer='adam', init='normal')\n",
    "# kfold = KFold(n_splits=3, shuffle=True)\n",
    "# results = cross_val_score(model, X_train, y_train, cv=kfold)\n",
    "# print(\"Baseline Accuracy: %.2f%% (%.2f%%)\" % (results.mean()*100, results.std()*100))"
   ]
  },
  {
   "cell_type": "code",
   "execution_count": 81,
   "metadata": {
    "scrolled": true
   },
   "outputs": [
    {
     "name": "stdout",
     "output_type": "stream",
     "text": [
      "Train on 554 samples, validate on 109 samples\n",
      "Epoch 1/50\n",
      "554/554 [==============================] - 3s 5ms/sample - loss: 0.4853 - accuracy: 0.7816 - val_loss: 1.3624 - val_accuracy: 0.0183\n",
      "Epoch 2/50\n",
      "554/554 [==============================] - 0s 369us/sample - loss: 0.3071 - accuracy: 0.8881 - val_loss: 0.8554 - val_accuracy: 0.0826\n",
      "Epoch 3/50\n",
      "554/554 [==============================] - 0s 376us/sample - loss: 0.2540 - accuracy: 0.8953 - val_loss: 0.5215 - val_accuracy: 0.1927\n",
      "Epoch 4/50\n",
      "554/554 [==============================] - 0s 372us/sample - loss: 0.1781 - accuracy: 0.9278 - val_loss: 0.5616 - val_accuracy: 0.1743\n",
      "Epoch 5/50\n",
      "554/554 [==============================] - 0s 385us/sample - loss: 0.1494 - accuracy: 0.9495 - val_loss: 0.4126 - val_accuracy: 0.2294\n",
      "Epoch 6/50\n",
      "554/554 [==============================] - 0s 380us/sample - loss: 0.1120 - accuracy: 0.9675 - val_loss: -0.0061 - val_accuracy: 0.5138\n",
      "Epoch 7/50\n",
      "554/554 [==============================] - 0s 373us/sample - loss: 0.0927 - accuracy: 0.9765 - val_loss: -0.1366 - val_accuracy: 0.5138\n",
      "Epoch 8/50\n",
      "554/554 [==============================] - 0s 387us/sample - loss: 0.0569 - accuracy: 0.9838 - val_loss: -0.1893 - val_accuracy: 0.4312\n",
      "Epoch 9/50\n",
      "554/554 [==============================] - 0s 377us/sample - loss: 0.0503 - accuracy: 0.9819 - val_loss: -0.3352 - val_accuracy: 0.4404\n",
      "Epoch 10/50\n",
      "554/554 [==============================] - 0s 370us/sample - loss: 0.0460 - accuracy: 0.9874 - val_loss: -0.6952 - val_accuracy: 0.6055\n",
      "Epoch 11/50\n",
      "554/554 [==============================] - 0s 364us/sample - loss: 0.0649 - accuracy: 0.9765 - val_loss: -0.7136 - val_accuracy: 0.5321\n",
      "Epoch 12/50\n",
      "554/554 [==============================] - 0s 368us/sample - loss: 0.0366 - accuracy: 0.9892 - val_loss: -0.6573 - val_accuracy: 0.5138\n",
      "Epoch 13/50\n",
      "554/554 [==============================] - 0s 388us/sample - loss: 0.0282 - accuracy: 0.9928 - val_loss: -0.8224 - val_accuracy: 0.5596\n",
      "Epoch 14/50\n",
      "554/554 [==============================] - 0s 392us/sample - loss: 0.0193 - accuracy: 0.9946 - val_loss: -0.8375 - val_accuracy: 0.5321\n",
      "Epoch 15/50\n",
      "554/554 [==============================] - 0s 391us/sample - loss: 0.0164 - accuracy: 0.9982 - val_loss: -0.8002 - val_accuracy: 0.4495\n",
      "Epoch 16/50\n",
      "554/554 [==============================] - 0s 382us/sample - loss: 0.0207 - accuracy: 0.9928 - val_loss: -0.4130 - val_accuracy: 0.3394\n",
      "Epoch 17/50\n",
      "554/554 [==============================] - 0s 387us/sample - loss: 0.0168 - accuracy: 0.9964 - val_loss: -0.2044 - val_accuracy: 0.3028\n",
      "Epoch 18/50\n",
      "554/554 [==============================] - 0s 381us/sample - loss: 0.0233 - accuracy: 0.9928 - val_loss: -0.3752 - val_accuracy: 0.2752\n",
      "Epoch 19/50\n",
      "554/554 [==============================] - 0s 372us/sample - loss: 0.0181 - accuracy: 0.9928 - val_loss: -0.2848 - val_accuracy: 0.2569\n",
      "Epoch 20/50\n",
      "554/554 [==============================] - 0s 370us/sample - loss: 0.0129 - accuracy: 0.9964 - val_loss: -0.1909 - val_accuracy: 0.2752\n",
      "Epoch 21/50\n",
      "554/554 [==============================] - 0s 366us/sample - loss: 0.0180 - accuracy: 0.9928 - val_loss: -0.3752 - val_accuracy: 0.3028\n",
      "Epoch 22/50\n",
      "554/554 [==============================] - 0s 376us/sample - loss: 0.0207 - accuracy: 0.9946 - val_loss: 0.1493 - val_accuracy: 0.2294\n",
      "Epoch 23/50\n",
      "554/554 [==============================] - 0s 369us/sample - loss: 0.0159 - accuracy: 0.9910 - val_loss: -0.8370 - val_accuracy: 0.3303\n",
      "Epoch 24/50\n",
      "554/554 [==============================] - 0s 381us/sample - loss: 0.0275 - accuracy: 0.9910 - val_loss: -0.3297 - val_accuracy: 0.2661\n",
      "Epoch 25/50\n",
      "554/554 [==============================] - 0s 391us/sample - loss: 0.0109 - accuracy: 0.9982 - val_loss: 0.7346 - val_accuracy: 0.1835\n",
      "Epoch 26/50\n",
      "554/554 [==============================] - 0s 389us/sample - loss: 0.0096 - accuracy: 0.9982 - val_loss: 0.3267 - val_accuracy: 0.2110\n",
      "Epoch 27/50\n",
      "554/554 [==============================] - 0s 401us/sample - loss: 0.0090 - accuracy: 0.9964 - val_loss: 0.5859 - val_accuracy: 0.1835\n",
      "Epoch 28/50\n",
      "554/554 [==============================] - 0s 403us/sample - loss: 0.0113 - accuracy: 0.9946 - val_loss: 0.9428 - val_accuracy: 0.1835\n",
      "Epoch 29/50\n",
      "554/554 [==============================] - 0s 396us/sample - loss: 0.0114 - accuracy: 0.9946 - val_loss: 0.3112 - val_accuracy: 0.2018\n",
      "Epoch 30/50\n",
      "554/554 [==============================] - 0s 413us/sample - loss: 0.0103 - accuracy: 0.9964 - val_loss: 1.2073 - val_accuracy: 0.1651\n",
      "Epoch 31/50\n",
      "554/554 [==============================] - 0s 409us/sample - loss: 0.0047 - accuracy: 0.9982 - val_loss: 1.5693 - val_accuracy: 0.1560\n",
      "Epoch 32/50\n",
      "554/554 [==============================] - 0s 446us/sample - loss: 0.0094 - accuracy: 0.9946 - val_loss: 1.3094 - val_accuracy: 0.1835\n",
      "Epoch 33/50\n",
      "554/554 [==============================] - 0s 469us/sample - loss: 0.0056 - accuracy: 0.9982 - val_loss: 2.1110 - val_accuracy: 0.1376\n",
      "Epoch 34/50\n",
      "554/554 [==============================] - 0s 456us/sample - loss: 0.0345 - accuracy: 0.9874 - val_loss: -0.2565 - val_accuracy: 0.2661\n",
      "Epoch 35/50\n",
      "554/554 [==============================] - 0s 464us/sample - loss: 0.0226 - accuracy: 0.9892 - val_loss: 1.8155 - val_accuracy: 0.1743\n",
      "Epoch 36/50\n",
      "554/554 [==============================] - 0s 439us/sample - loss: 0.0070 - accuracy: 0.9982 - val_loss: 2.6678 - val_accuracy: 0.1468\n",
      "Epoch 37/50\n",
      "554/554 [==============================] - 0s 471us/sample - loss: 0.0049 - accuracy: 1.0000 - val_loss: 2.2500 - val_accuracy: 0.1376\n",
      "Epoch 38/50\n",
      "554/554 [==============================] - 0s 438us/sample - loss: 0.0095 - accuracy: 0.9964 - val_loss: 2.1383 - val_accuracy: 0.1193\n",
      "Epoch 39/50\n",
      "554/554 [==============================] - 0s 426us/sample - loss: 0.0091 - accuracy: 0.9982 - val_loss: 3.2124 - val_accuracy: 0.1009\n",
      "Epoch 40/50\n",
      "554/554 [==============================] - 0s 417us/sample - loss: 0.0248 - accuracy: 0.9874 - val_loss: 2.7203 - val_accuracy: 0.1376\n",
      "Epoch 41/50\n",
      "554/554 [==============================] - 0s 427us/sample - loss: 0.0134 - accuracy: 0.9964 - val_loss: 4.2511 - val_accuracy: 0.1284\n",
      "Epoch 42/50\n",
      "554/554 [==============================] - 0s 410us/sample - loss: 0.0183 - accuracy: 0.9928 - val_loss: 3.6083 - val_accuracy: 0.1376\n",
      "Epoch 43/50\n",
      "554/554 [==============================] - 0s 435us/sample - loss: 0.0161 - accuracy: 0.9928 - val_loss: 3.5943 - val_accuracy: 0.1009\n",
      "Epoch 44/50\n",
      "554/554 [==============================] - 0s 402us/sample - loss: 0.0116 - accuracy: 0.9964 - val_loss: 2.3096 - val_accuracy: 0.1284\n",
      "Epoch 45/50\n",
      "554/554 [==============================] - 0s 431us/sample - loss: 0.0038 - accuracy: 1.0000 - val_loss: 2.7957 - val_accuracy: 0.1284\n",
      "Epoch 46/50\n",
      "554/554 [==============================] - 0s 415us/sample - loss: 0.0074 - accuracy: 0.9964 - val_loss: 4.2939 - val_accuracy: 0.1284\n",
      "Epoch 47/50\n",
      "554/554 [==============================] - 0s 426us/sample - loss: 0.0039 - accuracy: 0.9982 - val_loss: 4.7188 - val_accuracy: 0.1193\n",
      "Epoch 48/50\n",
      "554/554 [==============================] - 0s 415us/sample - loss: 0.0072 - accuracy: 0.9982 - val_loss: 5.3516 - val_accuracy: 0.1193\n",
      "Epoch 49/50\n",
      "554/554 [==============================] - 0s 433us/sample - loss: 0.0029 - accuracy: 1.0000 - val_loss: 5.5601 - val_accuracy: 0.1193\n",
      "Epoch 50/50\n",
      "554/554 [==============================] - 0s 435us/sample - loss: 0.0085 - accuracy: 0.9964 - val_loss: 4.6185 - val_accuracy: 0.1193\n"
     ]
    }
   ],
   "source": [
    "history3 = model3.fit(X_train, y_train, validation_data=(X_test, y_test), shuffle=True)\n",
    "y_pred3 = model3.predict(X_test)"
   ]
  },
  {
   "cell_type": "code",
   "execution_count": 82,
   "metadata": {},
   "outputs": [
    {
     "name": "stdout",
     "output_type": "stream",
     "text": [
      "              precision    recall  f1-score   support\n",
      "\n",
      "           1       0.86      0.83      0.84        75\n",
      "           2       0.65      0.71      0.68        34\n",
      "\n",
      "    accuracy                           0.79       109\n",
      "   macro avg       0.75      0.77      0.76       109\n",
      "weighted avg       0.79      0.79      0.79       109\n",
      "\n"
     ]
    }
   ],
   "source": [
    "print(classification_report(y_test, y_pred3))"
   ]
  },
  {
   "cell_type": "code",
   "execution_count": 83,
   "metadata": {
    "scrolled": false
   },
   "outputs": [
    {
     "name": "stdout",
     "output_type": "stream",
     "text": [
      "[[62 13]\n",
      " [10 24]]\n"
     ]
    }
   ],
   "source": [
    "print(confusion_matrix(y_test, y_pred3))"
   ]
  },
  {
   "cell_type": "code",
   "execution_count": 84,
   "metadata": {},
   "outputs": [
    {
     "data": {
      "image/png": "[encoded data removed]",
      "text/plain": [
       "<Figure size 432x288 with 1 Axes>"
      ]
     },
     "metadata": {
      "needs_background": "light"
     },
     "output_type": "display_data"
    }
   ],
   "source": [
    "plt.plot(history3.history['accuracy'])\n",
    "plt.plot(history3.history['val_accuracy'])\n",
    "plt.ylabel('accuracy')\n",
    "plt.xlabel('epoch')\n",
    "plt.legend(['train', 'test'], loc='upper right')\n",
    "plt.xlim(0, 50)\n",
    "plt.show()"
   ]
  },
  {
   "cell_type": "code",
   "execution_count": 85,
   "metadata": {
    "scrolled": true
   },
   "outputs": [
    {
     "data": {
      "image/png": "[encoded data removed]",
      "text/plain": [
       "<Figure size 576x432 with 2 Axes>"
      ]
     },
     "metadata": {
      "needs_background": "light"
     },
     "output_type": "display_data"
    }
   ],
   "source": [
    "cm = confusion_matrix(y_test, y_pred3)\n",
    "plt.rcParams.update({'font.size': 18})\n",
    "plot_confusion_matrix(cm, ['1', '2'], title='', normalize=False)"
   ]
  },
  {
   "cell_type": "code",
   "execution_count": null,
   "metadata": {},
   "outputs": [],
   "source": [
    "model3.model.save('models/hidden3.h5')"
   ]
  },
  {
   "cell_type": "markdown",
   "metadata": {},
   "source": [
    "# 2 Hidden Layers"
   ]
  },
  {
   "cell_type": "code",
   "execution_count": 86,
   "metadata": {},
   "outputs": [],
   "source": [
    "def hidden2(optimizer='rmsprop',init='glorot_uniform', dropout=0.3):\n",
    "    model = Sequential()\n",
    "    # adding layers and adding droplayers to avoid overfitting\n",
    "    hidden_layers = len(selected_genes)\n",
    "    model.add(Dense(hidden_layers*1.5, activation='relu'))\n",
    "    model.add(BatchNormalization())\n",
    "    model.add(Dropout(dropout))\n",
    "    \n",
    "    model.add(Dense((hidden_layers), activation='relu'))\n",
    "    model.add(BatchNormalization())\n",
    "    model.add(Dropout(dropout))\n",
    "    \n",
    "    model.add(Dense(1, activation='sigmoid'))\n",
    "    # compiling\n",
    "    model.compile(optimizer=optimizer, loss='binary_crossentropy', metrics=['accuracy'])\n",
    "    return model"
   ]
  },
  {
   "cell_type": "code",
   "execution_count": 87,
   "metadata": {},
   "outputs": [],
   "source": [
    "# parameters selected from previous gridsearch\n",
    "model2 = KerasClassifier(build_fn=hidden2, epochs=75, batch_size=32, optimizer='adagrad',init='uniform')\n",
    "# kfold = KFold(n_splits=3, shuffle=True)\n",
    "# results = cross_val_score(model, X_train, y_train, cv=kfold)\n",
    "# print(\"Baseline Accuracy: %.2f%% (%.2f%%)\" % (results.mean()*100, results.std()*100))"
   ]
  },
  {
   "cell_type": "code",
   "execution_count": 98,
   "metadata": {
    "scrolled": true
   },
   "outputs": [
    {
     "name": "stdout",
     "output_type": "stream",
     "text": [
      "Train on 554 samples, validate on 109 samples\n",
      "Epoch 1/75\n",
      "554/554 [==============================] - 2s 4ms/sample - loss: 0.5978 - accuracy: 0.7347 - val_loss: 0.4233 - val_accuracy: 0.6330\n",
      "Epoch 2/75\n",
      "554/554 [==============================] - 0s 479us/sample - loss: 0.5402 - accuracy: 0.7816 - val_loss: 0.5435 - val_accuracy: 0.2110\n",
      "Epoch 3/75\n",
      "554/554 [==============================] - 0s 478us/sample - loss: 0.4785 - accuracy: 0.7978 - val_loss: 0.5710 - val_accuracy: 0.1560\n",
      "Epoch 4/75\n",
      "554/554 [==============================] - 0s 478us/sample - loss: 0.4496 - accuracy: 0.8069 - val_loss: 0.6558 - val_accuracy: 0.0917\n",
      "Epoch 5/75\n",
      "554/554 [==============================] - 0s 481us/sample - loss: 0.4313 - accuracy: 0.8123 - val_loss: 0.7617 - val_accuracy: 0.0826\n",
      "Epoch 6/75\n",
      "554/554 [==============================] - 0s 497us/sample - loss: 0.4060 - accuracy: 0.8123 - val_loss: 0.7730 - val_accuracy: 0.0826\n",
      "Epoch 7/75\n",
      "554/554 [==============================] - 0s 492us/sample - loss: 0.3851 - accuracy: 0.8375 - val_loss: 0.7983 - val_accuracy: 0.0642\n",
      "Epoch 8/75\n",
      "554/554 [==============================] - 0s 483us/sample - loss: 0.3731 - accuracy: 0.8502 - val_loss: 0.8107 - val_accuracy: 0.0550\n",
      "Epoch 9/75\n",
      "554/554 [==============================] - 0s 490us/sample - loss: 0.3679 - accuracy: 0.8484 - val_loss: 0.8749 - val_accuracy: 0.0734\n",
      "Epoch 10/75\n",
      "554/554 [==============================] - 0s 488us/sample - loss: 0.3635 - accuracy: 0.8375 - val_loss: 0.8716 - val_accuracy: 0.0734\n",
      "Epoch 11/75\n",
      "554/554 [==============================] - 0s 499us/sample - loss: 0.3788 - accuracy: 0.8502 - val_loss: 0.8588 - val_accuracy: 0.0734\n",
      "Epoch 12/75\n",
      "554/554 [==============================] - 0s 490us/sample - loss: 0.3385 - accuracy: 0.8700 - val_loss: 0.8851 - val_accuracy: 0.0734\n",
      "Epoch 13/75\n",
      "554/554 [==============================] - 0s 497us/sample - loss: 0.3436 - accuracy: 0.8484 - val_loss: 1.0198 - val_accuracy: 0.0642\n",
      "Epoch 14/75\n",
      "554/554 [==============================] - 0s 485us/sample - loss: 0.3443 - accuracy: 0.8574 - val_loss: 1.0278 - val_accuracy: 0.0642\n",
      "Epoch 15/75\n",
      "554/554 [==============================] - 0s 497us/sample - loss: 0.3273 - accuracy: 0.8502 - val_loss: 1.1141 - val_accuracy: 0.0642\n",
      "Epoch 16/75\n",
      "554/554 [==============================] - 0s 494us/sample - loss: 0.3511 - accuracy: 0.8394 - val_loss: 1.1052 - val_accuracy: 0.0642\n",
      "Epoch 17/75\n",
      "554/554 [==============================] - 0s 500us/sample - loss: 0.3543 - accuracy: 0.8718 - val_loss: 1.0432 - val_accuracy: 0.0642\n",
      "Epoch 18/75\n",
      "554/554 [==============================] - 0s 504us/sample - loss: 0.3031 - accuracy: 0.8556 - val_loss: 1.0972 - val_accuracy: 0.0642\n",
      "Epoch 19/75\n",
      "554/554 [==============================] - 0s 509us/sample - loss: 0.3096 - accuracy: 0.8718 - val_loss: 1.0249 - val_accuracy: 0.0642\n",
      "Epoch 20/75\n",
      "554/554 [==============================] - 0s 510us/sample - loss: 0.3178 - accuracy: 0.8736 - val_loss: 1.0213 - val_accuracy: 0.0642\n",
      "Epoch 21/75\n",
      "554/554 [==============================] - 0s 525us/sample - loss: 0.3212 - accuracy: 0.8502 - val_loss: 1.0823 - val_accuracy: 0.0642\n",
      "Epoch 22/75\n",
      "554/554 [==============================] - 0s 592us/sample - loss: 0.3207 - accuracy: 0.8484 - val_loss: 1.0700 - val_accuracy: 0.0642\n",
      "Epoch 23/75\n",
      "554/554 [==============================] - 0s 588us/sample - loss: 0.3036 - accuracy: 0.8556 - val_loss: 1.1046 - val_accuracy: 0.0642\n",
      "Epoch 24/75\n",
      "554/554 [==============================] - 0s 585us/sample - loss: 0.3080 - accuracy: 0.8773 - val_loss: 1.1464 - val_accuracy: 0.0734\n",
      "Epoch 25/75\n",
      "554/554 [==============================] - 0s 558us/sample - loss: 0.2906 - accuracy: 0.8664 - val_loss: 1.1663 - val_accuracy: 0.0734\n",
      "Epoch 26/75\n",
      "554/554 [==============================] - 0s 562us/sample - loss: 0.3155 - accuracy: 0.8610 - val_loss: 1.2779 - val_accuracy: 0.0642\n",
      "Epoch 27/75\n",
      "554/554 [==============================] - 0s 564us/sample - loss: 0.2866 - accuracy: 0.8827 - val_loss: 1.2765 - val_accuracy: 0.0826\n",
      "Epoch 28/75\n",
      "554/554 [==============================] - 0s 538us/sample - loss: 0.2975 - accuracy: 0.8736 - val_loss: 1.1056 - val_accuracy: 0.0917\n",
      "Epoch 29/75\n",
      "554/554 [==============================] - 0s 542us/sample - loss: 0.3070 - accuracy: 0.8592 - val_loss: 1.1531 - val_accuracy: 0.0917\n",
      "Epoch 30/75\n",
      "554/554 [==============================] - 0s 549us/sample - loss: 0.3014 - accuracy: 0.8809 - val_loss: 1.1748 - val_accuracy: 0.0826\n",
      "Epoch 31/75\n",
      "554/554 [==============================] - 0s 541us/sample - loss: 0.2867 - accuracy: 0.8718 - val_loss: 1.2532 - val_accuracy: 0.0734\n",
      "Epoch 32/75\n",
      "554/554 [==============================] - 0s 531us/sample - loss: 0.2831 - accuracy: 0.8827 - val_loss: 1.2987 - val_accuracy: 0.0826\n",
      "Epoch 33/75\n",
      "554/554 [==============================] - 0s 550us/sample - loss: 0.2753 - accuracy: 0.8736 - val_loss: 1.3261 - val_accuracy: 0.0642\n",
      "Epoch 34/75\n",
      "554/554 [==============================] - 0s 552us/sample - loss: 0.2737 - accuracy: 0.8755 - val_loss: 1.4279 - val_accuracy: 0.0642\n",
      "Epoch 35/75\n",
      "554/554 [==============================] - 0s 549us/sample - loss: 0.2671 - accuracy: 0.8791 - val_loss: 1.4411 - val_accuracy: 0.0550\n",
      "Epoch 36/75\n",
      "554/554 [==============================] - 0s 559us/sample - loss: 0.2656 - accuracy: 0.8899 - val_loss: 1.4962 - val_accuracy: 0.0550\n",
      "Epoch 37/75\n",
      "554/554 [==============================] - 0s 568us/sample - loss: 0.2756 - accuracy: 0.8791 - val_loss: 1.5673 - val_accuracy: 0.0550\n",
      "Epoch 38/75\n",
      "554/554 [==============================] - 0s 547us/sample - loss: 0.2790 - accuracy: 0.8845 - val_loss: 1.4638 - val_accuracy: 0.0550\n",
      "Epoch 39/75\n",
      "554/554 [==============================] - 0s 563us/sample - loss: 0.2770 - accuracy: 0.8899 - val_loss: 1.5319 - val_accuracy: 0.0550\n",
      "Epoch 40/75\n",
      "554/554 [==============================] - 0s 548us/sample - loss: 0.2638 - accuracy: 0.8863 - val_loss: 1.5556 - val_accuracy: 0.0642\n",
      "Epoch 41/75\n",
      "554/554 [==============================] - 0s 558us/sample - loss: 0.2699 - accuracy: 0.8736 - val_loss: 1.3932 - val_accuracy: 0.0734\n",
      "Epoch 42/75\n",
      "554/554 [==============================] - 0s 570us/sample - loss: 0.2613 - accuracy: 0.8989 - val_loss: 1.4382 - val_accuracy: 0.0734\n",
      "Epoch 43/75\n",
      "554/554 [==============================] - 0s 558us/sample - loss: 0.2555 - accuracy: 0.8917 - val_loss: 1.5078 - val_accuracy: 0.0734\n",
      "Epoch 44/75\n",
      "554/554 [==============================] - 0s 564us/sample - loss: 0.2904 - accuracy: 0.8791 - val_loss: 1.3954 - val_accuracy: 0.0734\n",
      "Epoch 45/75\n",
      "554/554 [==============================] - 0s 563us/sample - loss: 0.2648 - accuracy: 0.8881 - val_loss: 1.4205 - val_accuracy: 0.0734\n",
      "Epoch 46/75\n",
      "554/554 [==============================] - 0s 565us/sample - loss: 0.2715 - accuracy: 0.8845 - val_loss: 1.3260 - val_accuracy: 0.0734\n",
      "Epoch 47/75\n",
      "554/554 [==============================] - 0s 562us/sample - loss: 0.2743 - accuracy: 0.8827 - val_loss: 1.5427 - val_accuracy: 0.0734\n",
      "Epoch 48/75\n",
      "554/554 [==============================] - 0s 564us/sample - loss: 0.2927 - accuracy: 0.8773 - val_loss: 1.5789 - val_accuracy: 0.0642\n",
      "Epoch 49/75\n",
      "554/554 [==============================] - 0s 557us/sample - loss: 0.2659 - accuracy: 0.8845 - val_loss: 1.4711 - val_accuracy: 0.0826\n",
      "Epoch 50/75\n",
      "554/554 [==============================] - 0s 570us/sample - loss: 0.2702 - accuracy: 0.8845 - val_loss: 1.3439 - val_accuracy: 0.0734\n",
      "Epoch 51/75\n",
      "554/554 [==============================] - 0s 554us/sample - loss: 0.2584 - accuracy: 0.8935 - val_loss: 1.3243 - val_accuracy: 0.0734\n",
      "Epoch 52/75\n",
      "554/554 [==============================] - 0s 553us/sample - loss: 0.2638 - accuracy: 0.8881 - val_loss: 1.3836 - val_accuracy: 0.0734\n",
      "Epoch 53/75\n",
      "554/554 [==============================] - 0s 563us/sample - loss: 0.2460 - accuracy: 0.9007 - val_loss: 1.4495 - val_accuracy: 0.0826\n",
      "Epoch 54/75\n",
      "554/554 [==============================] - 0s 559us/sample - loss: 0.2647 - accuracy: 0.8863 - val_loss: 1.3343 - val_accuracy: 0.0917\n",
      "Epoch 55/75\n",
      "554/554 [==============================] - 0s 554us/sample - loss: 0.2333 - accuracy: 0.9116 - val_loss: 1.2753 - val_accuracy: 0.0917\n",
      "Epoch 56/75\n"
     ]
    },
    {
     "name": "stdout",
     "output_type": "stream",
     "text": [
      "554/554 [==============================] - 0s 551us/sample - loss: 0.2378 - accuracy: 0.9061 - val_loss: 1.2223 - val_accuracy: 0.0917\n",
      "Epoch 57/75\n",
      "554/554 [==============================] - 0s 554us/sample - loss: 0.2531 - accuracy: 0.8845 - val_loss: 1.2548 - val_accuracy: 0.0917\n",
      "Epoch 58/75\n",
      "554/554 [==============================] - 0s 549us/sample - loss: 0.2370 - accuracy: 0.8971 - val_loss: 1.3581 - val_accuracy: 0.0826\n",
      "Epoch 59/75\n",
      "554/554 [==============================] - 0s 559us/sample - loss: 0.2524 - accuracy: 0.8809 - val_loss: 1.4754 - val_accuracy: 0.0734\n",
      "Epoch 60/75\n",
      "554/554 [==============================] - 0s 545us/sample - loss: 0.2373 - accuracy: 0.9007 - val_loss: 1.6575 - val_accuracy: 0.0550\n",
      "Epoch 61/75\n",
      "554/554 [==============================] - 0s 543us/sample - loss: 0.2496 - accuracy: 0.8899 - val_loss: 1.5105 - val_accuracy: 0.0734\n",
      "Epoch 62/75\n",
      "554/554 [==============================] - 0s 550us/sample - loss: 0.2513 - accuracy: 0.8881 - val_loss: 1.4944 - val_accuracy: 0.0642\n",
      "Epoch 63/75\n",
      "554/554 [==============================] - 0s 555us/sample - loss: 0.2612 - accuracy: 0.8899 - val_loss: 1.5216 - val_accuracy: 0.0642\n",
      "Epoch 64/75\n",
      "554/554 [==============================] - 0s 574us/sample - loss: 0.2348 - accuracy: 0.8953 - val_loss: 1.5932 - val_accuracy: 0.0734\n",
      "Epoch 65/75\n",
      "554/554 [==============================] - 0s 572us/sample - loss: 0.2462 - accuracy: 0.9079 - val_loss: 1.5663 - val_accuracy: 0.0734\n",
      "Epoch 66/75\n",
      "554/554 [==============================] - 0s 568us/sample - loss: 0.2453 - accuracy: 0.8953 - val_loss: 1.6034 - val_accuracy: 0.0734\n",
      "Epoch 67/75\n",
      "554/554 [==============================] - 0s 571us/sample - loss: 0.2336 - accuracy: 0.9061 - val_loss: 1.4941 - val_accuracy: 0.0734\n",
      "Epoch 68/75\n",
      "554/554 [==============================] - 0s 572us/sample - loss: 0.2450 - accuracy: 0.8971 - val_loss: 1.5046 - val_accuracy: 0.0734\n",
      "Epoch 69/75\n",
      "554/554 [==============================] - 0s 569us/sample - loss: 0.2459 - accuracy: 0.8917 - val_loss: 1.4293 - val_accuracy: 0.0734\n",
      "Epoch 70/75\n",
      "554/554 [==============================] - 0s 574us/sample - loss: 0.2421 - accuracy: 0.8863 - val_loss: 1.4780 - val_accuracy: 0.0826\n",
      "Epoch 71/75\n",
      "554/554 [==============================] - 0s 565us/sample - loss: 0.2425 - accuracy: 0.8809 - val_loss: 1.4604 - val_accuracy: 0.0826\n",
      "Epoch 72/75\n",
      "554/554 [==============================] - 0s 605us/sample - loss: 0.2484 - accuracy: 0.8899 - val_loss: 1.4824 - val_accuracy: 0.0734\n",
      "Epoch 73/75\n",
      "554/554 [==============================] - 0s 593us/sample - loss: 0.2318 - accuracy: 0.9061 - val_loss: 1.4836 - val_accuracy: 0.0734\n",
      "Epoch 74/75\n",
      "554/554 [==============================] - 0s 608us/sample - loss: 0.2273 - accuracy: 0.8935 - val_loss: 1.4982 - val_accuracy: 0.0826\n",
      "Epoch 75/75\n",
      "554/554 [==============================] - 0s 573us/sample - loss: 0.2121 - accuracy: 0.9061 - val_loss: 1.5174 - val_accuracy: 0.0826\n"
     ]
    }
   ],
   "source": [
    "history2 = model2.fit(X_train, y_train, validation_data=(X_test, y_test), shuffle=True)\n",
    "y_pred2 = model2.predict(X_test)"
   ]
  },
  {
   "cell_type": "code",
   "execution_count": 99,
   "metadata": {},
   "outputs": [
    {
     "name": "stdout",
     "output_type": "stream",
     "text": [
      "              precision    recall  f1-score   support\n",
      "\n",
      "           1       0.88      0.88      0.88        75\n",
      "           2       0.74      0.74      0.74        34\n",
      "\n",
      "    accuracy                           0.83       109\n",
      "   macro avg       0.81      0.81      0.81       109\n",
      "weighted avg       0.83      0.83      0.83       109\n",
      "\n"
     ]
    }
   ],
   "source": [
    "print(classification_report(y_test, y_pred2))"
   ]
  },
  {
   "cell_type": "code",
   "execution_count": 102,
   "metadata": {},
   "outputs": [
    {
     "name": "stdout",
     "output_type": "stream",
     "text": [
      "[[66  9]\n",
      " [ 9 25]]\n"
     ]
    }
   ],
   "source": [
    "print(confusion_matrix(y_test, y_pred2))"
   ]
  },
  {
   "cell_type": "code",
   "execution_count": 103,
   "metadata": {},
   "outputs": [
    {
     "data": {
      "image/png": "[encoded data removed]",
      "text/plain": [
       "<Figure size 432x288 with 1 Axes>"
      ]
     },
     "metadata": {
      "needs_background": "light"
     },
     "output_type": "display_data"
    }
   ],
   "source": [
    "plt.plot(history2.history['accuracy'])\n",
    "plt.plot(history2.history['val_accuracy'])\n",
    "plt.ylabel('accuracy')\n",
    "plt.xlabel('epoch')\n",
    "plt.legend(['train', 'test'], loc='upper right')\n",
    "plt.xlim(0, 50)\n",
    "plt.show()"
   ]
  },
  {
   "cell_type": "code",
   "execution_count": 104,
   "metadata": {
    "scrolled": true
   },
   "outputs": [
    {
     "data": {
      "image/png": "[encoded data removed]",
      "text/plain": [
       "<Figure size 576x432 with 2 Axes>"
      ]
     },
     "metadata": {
      "needs_background": "light"
     },
     "output_type": "display_data"
    }
   ],
   "source": [
    "cm = confusion_matrix(y_test, y_pred2)\n",
    "plt.rcParams.update({'font.size': 18})\n",
    "plot_confusion_matrix(cm, ['1', '2'], title='', normalize=False)"
   ]
  },
  {
   "cell_type": "code",
   "execution_count": 54,
   "metadata": {},
   "outputs": [],
   "source": [
    "model2.model.save('models/hidden2.h5')"
   ]
  },
  {
   "cell_type": "markdown",
   "metadata": {},
   "source": [
    "# 1 Hidden Layer"
   ]
  },
  {
   "cell_type": "code",
   "execution_count": 59,
   "metadata": {},
   "outputs": [],
   "source": [
    "def hidden1(optimizer='rmsprop',init='glorot_uniform', dropout=0.3):\n",
    "    model = Sequential()\n",
    "    # adding layers and adding droplayers to avoid overfitting\n",
    "    hidden_layers = len(selected_genes)\n",
    "    model.add(Dense(hidden_layers*1.5, activation='relu'))\n",
    "    model.add(BatchNormalization())\n",
    "    model.add(Dropout(dropout))\n",
    "    \n",
    "    model.add(Dense(1, activation='sigmoid'))\n",
    "    # compiling\n",
    "    model.compile(optimizer=optimizer, loss='binary_crossentropy', metrics=['accuracy'])\n",
    "    return model"
   ]
  },
  {
   "cell_type": "code",
   "execution_count": 60,
   "metadata": {},
   "outputs": [],
   "source": [
    "# parameters selected from previous gridsearch\n",
    "model1 = KerasClassifier(build_fn=hidden1, epochs=50, batch_size=16, optimizer='Adam',init='uniform')\n",
    "# kfold = KFold(n_splits=3, shuffle=True)\n",
    "# results = cross_val_score(model, X_train, y_train, cv=kfold)\n",
    "# print(\"Baseline Accuracy: %.2f%% (%.2f%%)\" % (results.mean()*100, results.std()*100))"
   ]
  },
  {
   "cell_type": "code",
   "execution_count": 61,
   "metadata": {
    "scrolled": true
   },
   "outputs": [
    {
     "name": "stdout",
     "output_type": "stream",
     "text": [
      "Train on 432 samples, validate on 109 samples\n",
      "Epoch 1/50\n",
      "432/432 [==============================] - 1s 3ms/sample - loss: 0.5160 - accuracy: 0.7894 - val_loss: 0.1683 - val_accuracy: 0.1376\n",
      "Epoch 2/50\n",
      "432/432 [==============================] - 0s 496us/sample - loss: 0.3299 - accuracy: 0.8704 - val_loss: -0.3621 - val_accuracy: 0.6330\n",
      "Epoch 3/50\n",
      "432/432 [==============================] - 0s 504us/sample - loss: 0.2892 - accuracy: 0.8727 - val_loss: 0.4693 - val_accuracy: 0.0826\n",
      "Epoch 4/50\n",
      "432/432 [==============================] - 0s 520us/sample - loss: 0.2278 - accuracy: 0.9167 - val_loss: 0.4603 - val_accuracy: 0.0734\n",
      "Epoch 5/50\n",
      "432/432 [==============================] - 0s 527us/sample - loss: 0.1944 - accuracy: 0.9236 - val_loss: 0.3522 - val_accuracy: 0.0917\n",
      "Epoch 6/50\n",
      "432/432 [==============================] - 0s 555us/sample - loss: 0.2453 - accuracy: 0.9028 - val_loss: -0.1920 - val_accuracy: 0.1743\n",
      "Epoch 7/50\n",
      "432/432 [==============================] - 0s 545us/sample - loss: 0.1942 - accuracy: 0.9190 - val_loss: -0.4839 - val_accuracy: 0.2569\n",
      "Epoch 8/50\n",
      "432/432 [==============================] - 0s 584us/sample - loss: 0.2012 - accuracy: 0.9190 - val_loss: -0.0153 - val_accuracy: 0.1101\n",
      "Epoch 9/50\n",
      "432/432 [==============================] - 0s 597us/sample - loss: 0.1698 - accuracy: 0.9306 - val_loss: -0.6762 - val_accuracy: 0.2752\n",
      "Epoch 10/50\n",
      "432/432 [==============================] - 0s 586us/sample - loss: 0.1401 - accuracy: 0.9583 - val_loss: -0.4554 - val_accuracy: 0.2477\n",
      "Epoch 11/50\n",
      "432/432 [==============================] - 0s 620us/sample - loss: 0.1156 - accuracy: 0.9653 - val_loss: -1.6163 - val_accuracy: 0.4312\n",
      "Epoch 12/50\n",
      "432/432 [==============================] - 0s 724us/sample - loss: 0.1379 - accuracy: 0.9444 - val_loss: -0.6567 - val_accuracy: 0.2477\n",
      "Epoch 13/50\n",
      "432/432 [==============================] - 0s 567us/sample - loss: 0.1657 - accuracy: 0.9329 - val_loss: 0.0767 - val_accuracy: 0.1468\n",
      "Epoch 14/50\n",
      "432/432 [==============================] - 0s 579us/sample - loss: 0.1358 - accuracy: 0.9468 - val_loss: 1.7119 - val_accuracy: 0.0550\n",
      "Epoch 15/50\n",
      "432/432 [==============================] - 0s 555us/sample - loss: 0.1419 - accuracy: 0.9491 - val_loss: -1.0786 - val_accuracy: 0.2661\n",
      "Epoch 16/50\n",
      "432/432 [==============================] - 0s 547us/sample - loss: 0.0971 - accuracy: 0.9606 - val_loss: -0.9006 - val_accuracy: 0.2294\n",
      "Epoch 17/50\n",
      "432/432 [==============================] - 0s 554us/sample - loss: 0.1222 - accuracy: 0.9514 - val_loss: -0.2495 - val_accuracy: 0.1560\n",
      "Epoch 18/50\n",
      "432/432 [==============================] - 0s 590us/sample - loss: 0.1092 - accuracy: 0.9537 - val_loss: -1.9297 - val_accuracy: 0.3394\n",
      "Epoch 19/50\n",
      "432/432 [==============================] - 0s 555us/sample - loss: 0.0870 - accuracy: 0.9630 - val_loss: -0.7859 - val_accuracy: 0.2569\n",
      "Epoch 20/50\n",
      "432/432 [==============================] - 0s 592us/sample - loss: 0.0946 - accuracy: 0.9699 - val_loss: 1.5352 - val_accuracy: 0.0917\n",
      "Epoch 21/50\n",
      "432/432 [==============================] - 0s 646us/sample - loss: 0.1279 - accuracy: 0.9606 - val_loss: 1.1847 - val_accuracy: 0.1101\n",
      "Epoch 22/50\n",
      "432/432 [==============================] - 0s 657us/sample - loss: 0.1034 - accuracy: 0.9606 - val_loss: 1.2759 - val_accuracy: 0.1101\n",
      "Epoch 23/50\n",
      "432/432 [==============================] - 0s 589us/sample - loss: 0.1138 - accuracy: 0.9514 - val_loss: 0.7972 - val_accuracy: 0.1009\n",
      "Epoch 24/50\n",
      "432/432 [==============================] - 0s 598us/sample - loss: 0.0939 - accuracy: 0.9606 - val_loss: -2.0011 - val_accuracy: 0.3945\n",
      "Epoch 25/50\n",
      "432/432 [==============================] - 0s 606us/sample - loss: 0.0893 - accuracy: 0.9722 - val_loss: -0.9085 - val_accuracy: 0.2569\n",
      "Epoch 26/50\n",
      "432/432 [==============================] - 0s 586us/sample - loss: 0.0886 - accuracy: 0.9722 - val_loss: -1.2484 - val_accuracy: 0.2569\n",
      "Epoch 27/50\n",
      "432/432 [==============================] - 0s 588us/sample - loss: 0.0950 - accuracy: 0.9606 - val_loss: -1.0243 - val_accuracy: 0.2385\n",
      "Epoch 28/50\n",
      "432/432 [==============================] - 0s 591us/sample - loss: 0.1022 - accuracy: 0.9676 - val_loss: -0.5040 - val_accuracy: 0.2385\n",
      "Epoch 29/50\n",
      "432/432 [==============================] - 0s 630us/sample - loss: 0.0695 - accuracy: 0.9769 - val_loss: -1.6470 - val_accuracy: 0.2844\n",
      "Epoch 30/50\n",
      "432/432 [==============================] - 0s 600us/sample - loss: 0.0939 - accuracy: 0.9769 - val_loss: 2.3470 - val_accuracy: 0.0917\n",
      "Epoch 31/50\n",
      "432/432 [==============================] - 0s 573us/sample - loss: 0.1344 - accuracy: 0.9560 - val_loss: 4.7208 - val_accuracy: 0.0367\n",
      "Epoch 32/50\n",
      "432/432 [==============================] - 0s 602us/sample - loss: 0.0751 - accuracy: 0.9769 - val_loss: 0.3873 - val_accuracy: 0.1651\n",
      "Epoch 33/50\n",
      "432/432 [==============================] - 0s 571us/sample - loss: 0.0570 - accuracy: 0.9838 - val_loss: 2.4463 - val_accuracy: 0.0917\n",
      "Epoch 34/50\n",
      "432/432 [==============================] - 0s 606us/sample - loss: 0.0767 - accuracy: 0.9699 - val_loss: -0.1423 - val_accuracy: 0.2202\n",
      "Epoch 35/50\n",
      "432/432 [==============================] - 0s 613us/sample - loss: 0.1221 - accuracy: 0.9606 - val_loss: -0.7646 - val_accuracy: 0.2752\n",
      "Epoch 36/50\n",
      "432/432 [==============================] - 0s 588us/sample - loss: 0.1089 - accuracy: 0.9630 - val_loss: -0.0729 - val_accuracy: 0.2110\n",
      "Epoch 37/50\n",
      "432/432 [==============================] - 0s 568us/sample - loss: 0.0798 - accuracy: 0.9722 - val_loss: 4.1984 - val_accuracy: 0.0459\n",
      "Epoch 38/50\n",
      "432/432 [==============================] - 0s 577us/sample - loss: 0.0630 - accuracy: 0.9838 - val_loss: -0.0677 - val_accuracy: 0.2110\n",
      "Epoch 39/50\n",
      "432/432 [==============================] - 0s 564us/sample - loss: 0.0550 - accuracy: 0.9769 - val_loss: 1.5125 - val_accuracy: 0.1009\n",
      "Epoch 40/50\n",
      "432/432 [==============================] - 0s 568us/sample - loss: 0.0854 - accuracy: 0.9699 - val_loss: 0.0704 - val_accuracy: 0.2110\n",
      "Epoch 41/50\n",
      "432/432 [==============================] - 0s 549us/sample - loss: 0.0739 - accuracy: 0.9699 - val_loss: 2.7375 - val_accuracy: 0.1009\n",
      "Epoch 42/50\n",
      "432/432 [==============================] - 0s 557us/sample - loss: 0.0475 - accuracy: 0.9884 - val_loss: -0.1708 - val_accuracy: 0.1927\n",
      "Epoch 43/50\n",
      "432/432 [==============================] - 0s 559us/sample - loss: 0.0408 - accuracy: 0.9838 - val_loss: 2.2237 - val_accuracy: 0.1009\n",
      "Epoch 44/50\n",
      "432/432 [==============================] - 0s 563us/sample - loss: 0.0260 - accuracy: 0.9977 - val_loss: 0.7609 - val_accuracy: 0.1193\n",
      "Epoch 45/50\n",
      "432/432 [==============================] - 0s 553us/sample - loss: 0.0337 - accuracy: 0.9907 - val_loss: 1.9301 - val_accuracy: 0.1101\n",
      "Epoch 46/50\n",
      "432/432 [==============================] - 0s 580us/sample - loss: 0.0352 - accuracy: 0.9907 - val_loss: 2.0225 - val_accuracy: 0.1101\n",
      "Epoch 47/50\n",
      "432/432 [==============================] - 0s 563us/sample - loss: 0.0632 - accuracy: 0.9769 - val_loss: 2.2984 - val_accuracy: 0.1101\n",
      "Epoch 48/50\n",
      "432/432 [==============================] - 0s 545us/sample - loss: 0.0645 - accuracy: 0.9815 - val_loss: 0.0781 - val_accuracy: 0.1927\n",
      "Epoch 49/50\n",
      "432/432 [==============================] - 0s 544us/sample - loss: 0.0657 - accuracy: 0.9815 - val_loss: -1.1283 - val_accuracy: 0.2569\n",
      "Epoch 50/50\n",
      "432/432 [==============================] - 0s 550us/sample - loss: 0.0960 - accuracy: 0.9630 - val_loss: 2.4299 - val_accuracy: 0.1009\n"
     ]
    }
   ],
   "source": [
    "history1 = model1.fit(X_train, y_train, validation_data=(X_test, y_test), shuffle=True)\n",
    "y_pred1 = model1.predict(X_test)"
   ]
  },
  {
   "cell_type": "code",
   "execution_count": 62,
   "metadata": {},
   "outputs": [
    {
     "name": "stdout",
     "output_type": "stream",
     "text": [
      "              precision    recall  f1-score   support\n",
      "\n",
      "           1       0.87      0.84      0.86        70\n",
      "           2       0.73      0.77      0.75        39\n",
      "\n",
      "    accuracy                           0.82       109\n",
      "   macro avg       0.80      0.81      0.80       109\n",
      "weighted avg       0.82      0.82      0.82       109\n",
      "\n"
     ]
    }
   ],
   "source": [
    "print(classification_report(y_test, y_pred1))"
   ]
  },
  {
   "cell_type": "code",
   "execution_count": 63,
   "metadata": {},
   "outputs": [
    {
     "name": "stdout",
     "output_type": "stream",
     "text": [
      "[[59 11]\n",
      " [ 9 30]]\n"
     ]
    }
   ],
   "source": [
    "print(confusion_matrix(y_test, y_pred1))"
   ]
  },
  {
   "cell_type": "code",
   "execution_count": 66,
   "metadata": {
    "scrolled": true
   },
   "outputs": [
    {
     "data": {
      "image/png": "[encoded data removed]",
      "text/plain": [
       "<Figure size 576x432 with 2 Axes>"
      ]
     },
     "metadata": {
      "needs_background": "light"
     },
     "output_type": "display_data"
    }
   ],
   "source": [
    "cm = confusion_matrix(y_test, y_pred1)\n",
    "plt.rcParams.update({'font.size': 18})\n",
    "plot_confusion_matrix(cm, ['1', '2'], title='', normalize=False)"
   ]
  },
  {
   "cell_type": "code",
   "execution_count": 65,
   "metadata": {},
   "outputs": [],
   "source": [
    "model1.model.save('models/hidden1.h5')"
   ]
  },
  {
   "cell_type": "code",
   "execution_count": null,
   "metadata": {},
   "outputs": [],
   "source": []
  }
 ],
 "metadata": {
  "kernelspec": {
   "display_name": "Python 3",
   "language": "python",
   "name": "python3"
  },
  "language_info": {
   "codemirror_mode": {
    "name": "ipython",
    "version": 3
   },
   "file_extension": ".py",
   "mimetype": "text/x-python",
   "name": "python",
   "nbconvert_exporter": "python",
   "pygments_lexer": "ipython3",
   "version": "3.6.10"
  }
 },
 "nbformat": 4,
 "nbformat_minor": 4
}
