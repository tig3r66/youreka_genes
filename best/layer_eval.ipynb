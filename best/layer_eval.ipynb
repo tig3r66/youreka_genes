{
 "cells": [
  {
   "cell_type": "code",
   "execution_count": 1,
   "metadata": {},
   "outputs": [],
   "source": [
    "import itertools\n",
    "import numpy as np\n",
    "import pandas as pd\n",
    "import matplotlib.pyplot as plt\n",
    "# for data scaling and splitting\n",
    "from sklearn.preprocessing import MinMaxScaler \n",
    "from sklearn.model_selection import train_test_split\n",
    "# for neural net\n",
    "from tensorflow.keras.models import Sequential, load_model\n",
    "from tensorflow.keras.layers import Dense, Dropout, BatchNormalization\n",
    "from tensorflow.keras.wrappers.scikit_learn import KerasClassifier\n",
    "# for evaluation\n",
    "from sklearn.model_selection import KFold, cross_val_score, GridSearchCV\n",
    "from sklearn.metrics import classification_report, confusion_matrix, ConfusionMatrixDisplay"
   ]
  },
  {
   "cell_type": "code",
   "execution_count": 2,
   "metadata": {},
   "outputs": [
    {
     "data": {
      "text/html": [
       "<div>\n",
       "<style scoped>\n",
       "    .dataframe tbody tr th:only-of-type {\n",
       "        vertical-align: middle;\n",
       "    }\n",
       "\n",
       "    .dataframe tbody tr th {\n",
       "        vertical-align: top;\n",
       "    }\n",
       "\n",
       "    .dataframe thead th {\n",
       "        text-align: right;\n",
       "    }\n",
       "</style>\n",
       "<table border=\"1\" class=\"dataframe\">\n",
       "  <thead>\n",
       "    <tr style=\"text-align: right;\">\n",
       "      <th></th>\n",
       "      <th>CELL_LINE_NAME</th>\n",
       "      <th>cluster</th>\n",
       "      <th>TSPAN6</th>\n",
       "      <th>TNMD</th>\n",
       "      <th>DPM1</th>\n",
       "      <th>SCYL3</th>\n",
       "      <th>C1orf112</th>\n",
       "      <th>FGR</th>\n",
       "      <th>CFH</th>\n",
       "      <th>FUCA2</th>\n",
       "      <th>...</th>\n",
       "      <th>C6orf10</th>\n",
       "      <th>TMEM225</th>\n",
       "      <th>NOTCH4</th>\n",
       "      <th>PBX2</th>\n",
       "      <th>AGER</th>\n",
       "      <th>RNF5</th>\n",
       "      <th>AGPAT1</th>\n",
       "      <th>DFNB59</th>\n",
       "      <th>PRRT1</th>\n",
       "      <th>FKBPL</th>\n",
       "    </tr>\n",
       "  </thead>\n",
       "  <tbody>\n",
       "    <tr>\n",
       "      <th>0</th>\n",
       "      <td>1240123</td>\n",
       "      <td>2</td>\n",
       "      <td>8.319417</td>\n",
       "      <td>3.111183</td>\n",
       "      <td>9.643558</td>\n",
       "      <td>4.757258</td>\n",
       "      <td>3.919757</td>\n",
       "      <td>3.602185</td>\n",
       "      <td>3.329644</td>\n",
       "      <td>9.076950</td>\n",
       "      <td>...</td>\n",
       "      <td>3.085394</td>\n",
       "      <td>3.462811</td>\n",
       "      <td>3.339030</td>\n",
       "      <td>4.614897</td>\n",
       "      <td>3.395845</td>\n",
       "      <td>3.419193</td>\n",
       "      <td>3.971646</td>\n",
       "      <td>3.729310</td>\n",
       "      <td>3.320022</td>\n",
       "      <td>6.447316</td>\n",
       "    </tr>\n",
       "    <tr>\n",
       "      <th>1</th>\n",
       "      <td>1240131</td>\n",
       "      <td>1</td>\n",
       "      <td>7.611268</td>\n",
       "      <td>2.704739</td>\n",
       "      <td>10.276079</td>\n",
       "      <td>3.650299</td>\n",
       "      <td>3.481567</td>\n",
       "      <td>3.145538</td>\n",
       "      <td>3.565127</td>\n",
       "      <td>7.861068</td>\n",
       "      <td>...</td>\n",
       "      <td>2.801456</td>\n",
       "      <td>2.985889</td>\n",
       "      <td>3.180068</td>\n",
       "      <td>5.415729</td>\n",
       "      <td>3.299858</td>\n",
       "      <td>3.028414</td>\n",
       "      <td>3.877889</td>\n",
       "      <td>3.911516</td>\n",
       "      <td>3.379405</td>\n",
       "      <td>4.729557</td>\n",
       "    </tr>\n",
       "    <tr>\n",
       "      <th>2</th>\n",
       "      <td>1240132</td>\n",
       "      <td>1</td>\n",
       "      <td>7.678658</td>\n",
       "      <td>2.845781</td>\n",
       "      <td>10.180954</td>\n",
       "      <td>3.573048</td>\n",
       "      <td>3.431235</td>\n",
       "      <td>3.090781</td>\n",
       "      <td>4.116643</td>\n",
       "      <td>8.121190</td>\n",
       "      <td>...</td>\n",
       "      <td>2.934962</td>\n",
       "      <td>2.952937</td>\n",
       "      <td>3.164655</td>\n",
       "      <td>5.707506</td>\n",
       "      <td>3.434295</td>\n",
       "      <td>2.961345</td>\n",
       "      <td>4.272194</td>\n",
       "      <td>3.085696</td>\n",
       "      <td>3.002557</td>\n",
       "      <td>5.653588</td>\n",
       "    </tr>\n",
       "    <tr>\n",
       "      <th>3</th>\n",
       "      <td>1240134</td>\n",
       "      <td>1</td>\n",
       "      <td>3.265063</td>\n",
       "      <td>3.063746</td>\n",
       "      <td>10.490285</td>\n",
       "      <td>3.340791</td>\n",
       "      <td>3.676912</td>\n",
       "      <td>3.512821</td>\n",
       "      <td>3.873922</td>\n",
       "      <td>8.790851</td>\n",
       "      <td>...</td>\n",
       "      <td>3.041839</td>\n",
       "      <td>3.398847</td>\n",
       "      <td>3.106710</td>\n",
       "      <td>5.773963</td>\n",
       "      <td>3.412641</td>\n",
       "      <td>3.136110</td>\n",
       "      <td>4.422262</td>\n",
       "      <td>3.522122</td>\n",
       "      <td>3.509437</td>\n",
       "      <td>5.953242</td>\n",
       "    </tr>\n",
       "    <tr>\n",
       "      <th>4</th>\n",
       "      <td>1240140</td>\n",
       "      <td>1</td>\n",
       "      <td>7.090138</td>\n",
       "      <td>2.988043</td>\n",
       "      <td>10.264692</td>\n",
       "      <td>4.119555</td>\n",
       "      <td>3.432585</td>\n",
       "      <td>3.308033</td>\n",
       "      <td>3.318371</td>\n",
       "      <td>6.927761</td>\n",
       "      <td>...</td>\n",
       "      <td>3.028787</td>\n",
       "      <td>3.225982</td>\n",
       "      <td>3.275820</td>\n",
       "      <td>5.334283</td>\n",
       "      <td>3.864678</td>\n",
       "      <td>3.259242</td>\n",
       "      <td>3.840581</td>\n",
       "      <td>5.809553</td>\n",
       "      <td>3.674587</td>\n",
       "      <td>5.577503</td>\n",
       "    </tr>\n",
       "  </tbody>\n",
       "</table>\n",
       "<p>5 rows × 16384 columns</p>\n",
       "</div>"
      ],
      "text/plain": [
       "   CELL_LINE_NAME  cluster    TSPAN6      TNMD       DPM1     SCYL3  C1orf112  \\\n",
       "0         1240123        2  8.319417  3.111183   9.643558  4.757258  3.919757   \n",
       "1         1240131        1  7.611268  2.704739  10.276079  3.650299  3.481567   \n",
       "2         1240132        1  7.678658  2.845781  10.180954  3.573048  3.431235   \n",
       "3         1240134        1  3.265063  3.063746  10.490285  3.340791  3.676912   \n",
       "4         1240140        1  7.090138  2.988043  10.264692  4.119555  3.432585   \n",
       "\n",
       "        FGR       CFH     FUCA2  ...   C6orf10   TMEM225    NOTCH4      PBX2  \\\n",
       "0  3.602185  3.329644  9.076950  ...  3.085394  3.462811  3.339030  4.614897   \n",
       "1  3.145538  3.565127  7.861068  ...  2.801456  2.985889  3.180068  5.415729   \n",
       "2  3.090781  4.116643  8.121190  ...  2.934962  2.952937  3.164655  5.707506   \n",
       "3  3.512821  3.873922  8.790851  ...  3.041839  3.398847  3.106710  5.773963   \n",
       "4  3.308033  3.318371  6.927761  ...  3.028787  3.225982  3.275820  5.334283   \n",
       "\n",
       "       AGER      RNF5    AGPAT1    DFNB59     PRRT1     FKBPL  \n",
       "0  3.395845  3.419193  3.971646  3.729310  3.320022  6.447316  \n",
       "1  3.299858  3.028414  3.877889  3.911516  3.379405  4.729557  \n",
       "2  3.434295  2.961345  4.272194  3.085696  3.002557  5.653588  \n",
       "3  3.412641  3.136110  4.422262  3.522122  3.509437  5.953242  \n",
       "4  3.864678  3.259242  3.840581  5.809553  3.674587  5.577503  \n",
       "\n",
       "[5 rows x 16384 columns]"
      ]
     },
     "execution_count": 2,
     "metadata": {},
     "output_type": "execute_result"
    }
   ],
   "source": [
    "data = pd.read_csv(\"data/combined_expression.csv\")\n",
    "data.head()"
   ]
  },
  {
   "cell_type": "code",
   "execution_count": 3,
   "metadata": {
    "scrolled": true
   },
   "outputs": [
    {
     "data": {
      "text/plain": [
       "(541, 16384)"
      ]
     },
     "execution_count": 3,
     "metadata": {},
     "output_type": "execute_result"
    }
   ],
   "source": [
    "data.shape"
   ]
  },
  {
   "cell_type": "code",
   "execution_count": 5,
   "metadata": {},
   "outputs": [],
   "source": [
    "selected_genes = pd.read_csv('cleaned/boruta.csv')\n",
    "selected_genes = selected_genes.values.tolist()\n",
    "selected_genes = list(itertools.chain(*selected_genes))"
   ]
  },
  {
   "cell_type": "code",
   "execution_count": 6,
   "metadata": {},
   "outputs": [],
   "source": [
    "# retrieving proper columns\n",
    "X = data.loc[:, selected_genes]\n",
    "y = data['cluster'].values\n",
    "# scaling the data\n",
    "scalar = MinMaxScaler()\n",
    "x_scaled = scalar.fit_transform(X)\n",
    "# splitting data (20% test, 80% train)\n",
    "X_train, X_test, y_train, y_test = train_test_split(x_scaled, y, test_size=0.2)"
   ]
  },
  {
   "cell_type": "markdown",
   "metadata": {},
   "source": [
    "# Confusion Matrix Plotting Function"
   ]
  },
  {
   "cell_type": "code",
   "execution_count": 7,
   "metadata": {},
   "outputs": [],
   "source": [
    "def plot_confusion_matrix(cm, target_names, title='Confusion matrix', cmap=None, normalize=True):\n",
    "    import matplotlib.pyplot as plt\n",
    "    import numpy as np\n",
    "    import itertools\n",
    "\n",
    "    accuracy = np.trace(cm) / np.sum(cm).astype('float')\n",
    "    misclass = 1 - accuracy\n",
    "\n",
    "    if cmap is None:\n",
    "        cmap = plt.get_cmap('Blues')\n",
    "\n",
    "    plt.figure(figsize=(8, 6))\n",
    "    plt.imshow(cm, interpolation='nearest', cmap=cmap)\n",
    "    plt.title(title)\n",
    "    plt.colorbar()\n",
    "\n",
    "    if target_names is not None:\n",
    "        tick_marks = np.arange(len(target_names))\n",
    "        plt.xticks(tick_marks, target_names)\n",
    "        plt.yticks(tick_marks, target_names)\n",
    "\n",
    "    if normalize:\n",
    "        cm = cm.astype('float') / cm.sum(axis=1)[:, np.newaxis]\n",
    "\n",
    "\n",
    "    thresh = cm.max() / 1.5 if normalize else cm.max() / 2\n",
    "    for i, j in itertools.product(range(cm.shape[0]), range(cm.shape[1])):\n",
    "        if normalize:\n",
    "            plt.text(j, i, \"{:0.4f}\".format(cm[i, j]),\n",
    "                     horizontalalignment=\"center\",\n",
    "                     color=\"white\" if cm[i, j] > thresh else \"black\")\n",
    "        else:\n",
    "            plt.text(j, i, \"{:,}\".format(cm[i, j]),\n",
    "                     horizontalalignment=\"center\",\n",
    "                     color=\"white\" if cm[i, j] > thresh else \"black\")\n",
    "\n",
    "\n",
    "    plt.tight_layout()\n",
    "    plt.ylabel('True label')\n",
    "    plt.xlabel('Predicted label\\naccuracy={:0.4f}; misclass={:0.4f}'.format(accuracy, misclass))\n",
    "    plt.show()"
   ]
  },
  {
   "cell_type": "markdown",
   "metadata": {},
   "source": [
    "# 4 Hidden Layers (with batch normalization)"
   ]
  },
  {
   "cell_type": "code",
   "execution_count": 14,
   "metadata": {},
   "outputs": [],
   "source": [
    "def create_model(optimizer='adam', init='normal', dropout=0.3):\n",
    "    model = Sequential()\n",
    "    # adding layers and adding droplayers to avoid overfitting\n",
    "    hidden_layers = len(selected_genes)\n",
    "\n",
    "    # first hidden layer\n",
    "    model.add(Dense(hidden_layers, activation='relu'))\n",
    "    model.add(BatchNormalization())\n",
    "    model.add(Dropout(dropout))\n",
    "    # second hidden layer\n",
    "    model.add(Dense((hidden_layers*1.5), activation='relu'))\n",
    "    model.add(BatchNormalization())\n",
    "    model.add(Dropout(dropout))\n",
    "    # third hidden layer\n",
    "    model.add(Dense((hidden_layers), activation='relu'))\n",
    "    model.add(BatchNormalization())\n",
    "    model.add(Dropout(dropout))\n",
    "    # fourth hidden layer\n",
    "    model.add(Dense((hidden_layers*0.25), activation='relu'))\n",
    "    model.add(BatchNormalization())\n",
    "    model.add(Dropout(dropout))\n",
    "\n",
    "    model.add(Dense(1, activation='sigmoid'))\n",
    "    # compiling\n",
    "    model.compile(optimizer=optimizer, loss='binary_crossentropy', metrics=['accuracy'])\n",
    "    return model"
   ]
  },
  {
   "cell_type": "code",
   "execution_count": 15,
   "metadata": {},
   "outputs": [],
   "source": [
    "# parameters selected from previous gridsearch\n",
    "model4 = KerasClassifier(build_fn=hidden4, epochs=50, batch_size=32, optimizer='adagrad',init='normal')\n",
    "# kfold = KFold(n_splits=3, shuffle=True)\n",
    "# results = cross_val_score(model, X_train, y_train, cv=kfold)\n",
    "# print(\"Baseline Accuracy: %.2f%% (%.2f%%)\" % (results.mean()*100, results.std()*100))"
   ]
  },
  {
   "cell_type": "code",
   "execution_count": 16,
   "metadata": {
    "scrolled": true
   },
   "outputs": [
    {
     "name": "stdout",
     "output_type": "stream",
     "text": [
      "Train on 432 samples, validate on 109 samples\n",
      "Epoch 1/50\n",
      "432/432 [==============================] - 5s 10ms/sample - loss: 0.5232 - accuracy: 0.7662 - val_loss: 0.6350 - val_accuracy: 0.3853\n",
      "Epoch 2/50\n",
      "432/432 [==============================] - 0s 797us/sample - loss: 0.3415 - accuracy: 0.8588 - val_loss: 0.6480 - val_accuracy: 0.2752\n",
      "Epoch 3/50\n",
      "432/432 [==============================] - 0s 796us/sample - loss: 0.2623 - accuracy: 0.9005 - val_loss: 0.6602 - val_accuracy: 0.1009\n",
      "Epoch 4/50\n",
      "432/432 [==============================] - 0s 762us/sample - loss: 0.2312 - accuracy: 0.9190 - val_loss: 0.6507 - val_accuracy: 0.0367\n",
      "Epoch 5/50\n",
      "432/432 [==============================] - 0s 770us/sample - loss: 0.1978 - accuracy: 0.9375 - val_loss: 0.5988 - val_accuracy: 0.0550\n",
      "Epoch 6/50\n",
      "432/432 [==============================] - 0s 794us/sample - loss: 0.2044 - accuracy: 0.9306 - val_loss: 0.5599 - val_accuracy: 0.0642\n",
      "Epoch 7/50\n",
      "432/432 [==============================] - 0s 777us/sample - loss: 0.1927 - accuracy: 0.9282 - val_loss: 0.5423 - val_accuracy: 0.0550\n",
      "Epoch 8/50\n",
      "432/432 [==============================] - 0s 787us/sample - loss: 0.1649 - accuracy: 0.9468 - val_loss: 0.5464 - val_accuracy: 0.0550\n",
      "Epoch 9/50\n",
      "432/432 [==============================] - 0s 776us/sample - loss: 0.1998 - accuracy: 0.9352 - val_loss: 0.5091 - val_accuracy: 0.0550\n",
      "Epoch 10/50\n",
      "432/432 [==============================] - 0s 780us/sample - loss: 0.1380 - accuracy: 0.9653 - val_loss: 0.5052 - val_accuracy: 0.0459\n",
      "Epoch 11/50\n",
      "432/432 [==============================] - 0s 797us/sample - loss: 0.1451 - accuracy: 0.9630 - val_loss: 0.4638 - val_accuracy: 0.0459\n",
      "Epoch 12/50\n",
      "432/432 [==============================] - 0s 830us/sample - loss: 0.1253 - accuracy: 0.9699 - val_loss: 0.4529 - val_accuracy: 0.0459\n",
      "Epoch 13/50\n",
      "432/432 [==============================] - 0s 800us/sample - loss: 0.1263 - accuracy: 0.9699 - val_loss: 0.4322 - val_accuracy: 0.0550\n",
      "Epoch 14/50\n",
      "432/432 [==============================] - 0s 804us/sample - loss: 0.1125 - accuracy: 0.9699 - val_loss: 0.3939 - val_accuracy: 0.0642\n",
      "Epoch 15/50\n",
      "432/432 [==============================] - 0s 822us/sample - loss: 0.0917 - accuracy: 0.9792 - val_loss: 0.3675 - val_accuracy: 0.0550\n",
      "Epoch 16/50\n",
      "432/432 [==============================] - 0s 809us/sample - loss: 0.1000 - accuracy: 0.9722 - val_loss: 0.3226 - val_accuracy: 0.0550\n",
      "Epoch 17/50\n",
      "432/432 [==============================] - 0s 797us/sample - loss: 0.1031 - accuracy: 0.9722 - val_loss: 0.2888 - val_accuracy: 0.0459\n",
      "Epoch 18/50\n",
      "432/432 [==============================] - 0s 837us/sample - loss: 0.0991 - accuracy: 0.9838 - val_loss: 0.2505 - val_accuracy: 0.0642\n",
      "Epoch 19/50\n",
      "432/432 [==============================] - 0s 867us/sample - loss: 0.0853 - accuracy: 0.9907 - val_loss: 0.2046 - val_accuracy: 0.0550\n",
      "Epoch 20/50\n",
      "432/432 [==============================] - 0s 882us/sample - loss: 0.0999 - accuracy: 0.9861 - val_loss: 0.2076 - val_accuracy: 0.0550\n",
      "Epoch 21/50\n",
      "432/432 [==============================] - 0s 893us/sample - loss: 0.0841 - accuracy: 0.9931 - val_loss: 0.2282 - val_accuracy: 0.0550\n",
      "Epoch 22/50\n",
      "432/432 [==============================] - 0s 848us/sample - loss: 0.0855 - accuracy: 0.9838 - val_loss: 0.2653 - val_accuracy: 0.0459\n",
      "Epoch 23/50\n",
      "432/432 [==============================] - 0s 893us/sample - loss: 0.0744 - accuracy: 0.9931 - val_loss: 0.2710 - val_accuracy: 0.0459\n",
      "Epoch 24/50\n",
      "432/432 [==============================] - 0s 870us/sample - loss: 0.0844 - accuracy: 0.9838 - val_loss: 0.2165 - val_accuracy: 0.0459\n",
      "Epoch 25/50\n",
      "432/432 [==============================] - 0s 855us/sample - loss: 0.0778 - accuracy: 0.9838 - val_loss: 0.1616 - val_accuracy: 0.0459\n",
      "Epoch 26/50\n",
      "432/432 [==============================] - 0s 859us/sample - loss: 0.0650 - accuracy: 0.9954 - val_loss: 0.1707 - val_accuracy: 0.0459\n",
      "Epoch 27/50\n",
      "432/432 [==============================] - 0s 847us/sample - loss: 0.0709 - accuracy: 0.9884 - val_loss: 0.0753 - val_accuracy: 0.0550\n",
      "Epoch 28/50\n",
      "432/432 [==============================] - 0s 857us/sample - loss: 0.0518 - accuracy: 0.9931 - val_loss: 0.1250 - val_accuracy: 0.0550\n",
      "Epoch 29/50\n",
      "432/432 [==============================] - 0s 913us/sample - loss: 0.0658 - accuracy: 0.9907 - val_loss: 0.1326 - val_accuracy: 0.0642\n",
      "Epoch 30/50\n",
      "432/432 [==============================] - 0s 874us/sample - loss: 0.0714 - accuracy: 0.9884 - val_loss: 0.1890 - val_accuracy: 0.0642\n",
      "Epoch 31/50\n",
      "432/432 [==============================] - 0s 891us/sample - loss: 0.0706 - accuracy: 0.9884 - val_loss: 0.1230 - val_accuracy: 0.0734\n",
      "Epoch 32/50\n",
      "432/432 [==============================] - 0s 881us/sample - loss: 0.0540 - accuracy: 0.9954 - val_loss: 0.1287 - val_accuracy: 0.0642\n",
      "Epoch 33/50\n",
      "432/432 [==============================] - 0s 874us/sample - loss: 0.0655 - accuracy: 0.9884 - val_loss: 0.0027 - val_accuracy: 0.0826\n",
      "Epoch 34/50\n",
      "432/432 [==============================] - 0s 884us/sample - loss: 0.0503 - accuracy: 0.9977 - val_loss: 0.0893 - val_accuracy: 0.0734\n",
      "Epoch 35/50\n",
      "432/432 [==============================] - 0s 878us/sample - loss: 0.0515 - accuracy: 0.9931 - val_loss: 0.1161 - val_accuracy: 0.0642\n",
      "Epoch 36/50\n",
      "432/432 [==============================] - 0s 908us/sample - loss: 0.0487 - accuracy: 0.9977 - val_loss: 0.0891 - val_accuracy: 0.0826\n",
      "Epoch 37/50\n",
      "432/432 [==============================] - 0s 879us/sample - loss: 0.0591 - accuracy: 0.9931 - val_loss: 0.1333 - val_accuracy: 0.0917\n",
      "Epoch 38/50\n",
      "432/432 [==============================] - 0s 868us/sample - loss: 0.0614 - accuracy: 0.9907 - val_loss: 0.2010 - val_accuracy: 0.0826\n",
      "Epoch 39/50\n",
      "432/432 [==============================] - 0s 895us/sample - loss: 0.0656 - accuracy: 0.9861 - val_loss: 0.3015 - val_accuracy: 0.0734\n",
      "Epoch 40/50\n",
      "432/432 [==============================] - 0s 917us/sample - loss: 0.0457 - accuracy: 0.9954 - val_loss: 0.3043 - val_accuracy: 0.0642\n",
      "Epoch 41/50\n",
      "432/432 [==============================] - 0s 868us/sample - loss: 0.0489 - accuracy: 1.0000 - val_loss: 0.2903 - val_accuracy: 0.0550\n",
      "Epoch 42/50\n",
      "432/432 [==============================] - 0s 896us/sample - loss: 0.0549 - accuracy: 0.9884 - val_loss: 0.1431 - val_accuracy: 0.0826\n",
      "Epoch 43/50\n",
      "432/432 [==============================] - 0s 884us/sample - loss: 0.0558 - accuracy: 0.9954 - val_loss: 0.1736 - val_accuracy: 0.0917\n",
      "Epoch 44/50\n",
      "432/432 [==============================] - 0s 925us/sample - loss: 0.0428 - accuracy: 0.9954 - val_loss: 0.1200 - val_accuracy: 0.0826\n",
      "Epoch 45/50\n",
      "432/432 [==============================] - 0s 916us/sample - loss: 0.0396 - accuracy: 0.9954 - val_loss: 0.1210 - val_accuracy: 0.0826\n",
      "Epoch 46/50\n",
      "432/432 [==============================] - 0s 910us/sample - loss: 0.0464 - accuracy: 0.9884 - val_loss: 0.0962 - val_accuracy: 0.0917\n",
      "Epoch 47/50\n",
      "432/432 [==============================] - 0s 898us/sample - loss: 0.0609 - accuracy: 0.9838 - val_loss: 0.0252 - val_accuracy: 0.1101\n",
      "Epoch 48/50\n",
      "432/432 [==============================] - 0s 874us/sample - loss: 0.0574 - accuracy: 0.9931 - val_loss: 0.1109 - val_accuracy: 0.0917\n",
      "Epoch 49/50\n",
      "432/432 [==============================] - 0s 886us/sample - loss: 0.0363 - accuracy: 1.0000 - val_loss: 0.2218 - val_accuracy: 0.0734\n",
      "Epoch 50/50\n",
      "432/432 [==============================] - 0s 886us/sample - loss: 0.0480 - accuracy: 0.9931 - val_loss: 0.2803 - val_accuracy: 0.0734\n"
     ]
    }
   ],
   "source": [
    "history4 = model4.fit(X_train, y_train, validation_data=(X_test,y_test), shuffle=True)\n",
    "y_pred4 = model4.predict(X_test)"
   ]
  },
  {
   "cell_type": "code",
   "execution_count": 17,
   "metadata": {
    "scrolled": true
   },
   "outputs": [
    {
     "name": "stdout",
     "output_type": "stream",
     "text": [
      "              precision    recall  f1-score   support\n",
      "\n",
      "           1       0.87      0.89      0.88        70\n",
      "           2       0.79      0.77      0.78        39\n",
      "\n",
      "    accuracy                           0.84       109\n",
      "   macro avg       0.83      0.83      0.83       109\n",
      "weighted avg       0.84      0.84      0.84       109\n",
      "\n"
     ]
    }
   ],
   "source": [
    "print(classification_report(y_test, y_pred4))"
   ]
  },
  {
   "cell_type": "code",
   "execution_count": 18,
   "metadata": {
    "scrolled": true
   },
   "outputs": [
    {
     "data": {
      "image/png": "[encoded data removed]",
      "text/plain": [
       "<Figure size 432x288 with 1 Axes>"
      ]
     },
     "metadata": {
      "needs_background": "light"
     },
     "output_type": "display_data"
    }
   ],
   "source": [
    "plt.plot(history4.history['accuracy'])\n",
    "plt.plot(history4.history['val_accuracy'])\n",
    "plt.ylabel('accuracy')\n",
    "plt.xlabel('epoch')\n",
    "plt.legend(['train', 'test'], loc='upper right')\n",
    "plt.ylim(0, 1)\n",
    "plt.show()"
   ]
  },
  {
   "cell_type": "code",
   "execution_count": 19,
   "metadata": {
    "scrolled": true
   },
   "outputs": [
    {
     "data": {
      "image/png": "[encoded data removed]",
      "text/plain": [
       "<Figure size 576x432 with 2 Axes>"
      ]
     },
     "metadata": {
      "needs_background": "light"
     },
     "output_type": "display_data"
    }
   ],
   "source": [
    "cm = confusion_matrix(y_test, y_pred4)\n",
    "plt.rcParams.update({'font.size': 18})\n",
    "plot_confusion_matrix(cm, ['1', '2'], title='', normalize=False)"
   ]
  },
  {
   "cell_type": "code",
   "execution_count": 114,
   "metadata": {},
   "outputs": [],
   "source": [
    "model4.model.save('models/hidden4.h5')"
   ]
  },
  {
   "cell_type": "markdown",
   "metadata": {},
   "source": [
    "# 3 Hidden Layers"
   ]
  },
  {
   "cell_type": "code",
   "execution_count": 21,
   "metadata": {},
   "outputs": [],
   "source": [
    "def hidden3(optimizer='rmsprop',init='glorot_uniform', dropout=0.3):\n",
    "    model = Sequential()\n",
    "    # adding layers and adding droplayers to avoid overfitting\n",
    "    hidden_layers = len(selected_genes)\n",
    "    model.add(BatchNormalization())\n",
    "    model.add(Dense(hidden_layers*1.5, activation='relu'))\n",
    "    model.add(Dropout(dropout))\n",
    "    \n",
    "    model.add(BatchNormalization())\n",
    "    model.add(Dense((hidden_layers*1), activation='relu'))\n",
    "    model.add(Dropout(dropout))\n",
    "\n",
    "    model.add(BatchNormalization())\n",
    "    model.add(Dense((hidden_layers*0.5), activation='relu'))\n",
    "    model.add(Dropout(dropout))\n",
    "    \n",
    "    model.add(Dense(1, activation='sigmoid'))\n",
    "    # compiling\n",
    "    model.compile(optimizer=optimizer, loss='binary_crossentropy', metrics=['accuracy'])\n",
    "    return model"
   ]
  },
  {
   "cell_type": "code",
   "execution_count": 22,
   "metadata": {},
   "outputs": [],
   "source": [
    "# parameters selected from previous gridsearch\n",
    "model3 = KerasClassifier(build_fn=hidden3, epochs=50, batch_size=64, optimizer='adam', init='normal')\n",
    "# kfold = KFold(n_splits=3, shuffle=True)\n",
    "# results = cross_val_score(model, X_train, y_train, cv=kfold)\n",
    "# print(\"Baseline Accuracy: %.2f%% (%.2f%%)\" % (results.mean()*100, results.std()*100))"
   ]
  },
  {
   "cell_type": "code",
   "execution_count": 23,
   "metadata": {
    "scrolled": true
   },
   "outputs": [
    {
     "name": "stdout",
     "output_type": "stream",
     "text": [
      "Train on 432 samples, validate on 109 samples\n",
      "Epoch 1/50\n",
      "432/432 [==============================] - 4s 8ms/sample - loss: 0.4614 - accuracy: 0.8194 - val_loss: 1.0212 - val_accuracy: 0.0092\n",
      "Epoch 2/50\n",
      "432/432 [==============================] - 0s 546us/sample - loss: 0.3684 - accuracy: 0.8588 - val_loss: 0.7367 - val_accuracy: 0.0092\n",
      "Epoch 3/50\n",
      "432/432 [==============================] - 0s 502us/sample - loss: 0.2480 - accuracy: 0.8981 - val_loss: 0.4560 - val_accuracy: 0.1284\n",
      "Epoch 4/50\n",
      "432/432 [==============================] - 0s 573us/sample - loss: 0.2365 - accuracy: 0.9005 - val_loss: 0.3829 - val_accuracy: 0.1376\n",
      "Epoch 5/50\n",
      "432/432 [==============================] - 0s 442us/sample - loss: 0.1784 - accuracy: 0.9282 - val_loss: 0.2693 - val_accuracy: 0.2477\n",
      "Epoch 6/50\n",
      "432/432 [==============================] - 0s 457us/sample - loss: 0.1263 - accuracy: 0.9630 - val_loss: 0.1565 - val_accuracy: 0.4128\n",
      "Epoch 7/50\n",
      "432/432 [==============================] - 0s 416us/sample - loss: 0.1240 - accuracy: 0.9537 - val_loss: 0.1013 - val_accuracy: 0.4037\n",
      "Epoch 8/50\n",
      "432/432 [==============================] - 0s 425us/sample - loss: 0.0928 - accuracy: 0.9653 - val_loss: 0.0304 - val_accuracy: 0.4312\n",
      "Epoch 9/50\n",
      "432/432 [==============================] - 0s 440us/sample - loss: 0.0838 - accuracy: 0.9769 - val_loss: 0.0916 - val_accuracy: 0.3211\n",
      "Epoch 10/50\n",
      "432/432 [==============================] - 0s 509us/sample - loss: 0.0547 - accuracy: 0.9884 - val_loss: 0.0157 - val_accuracy: 0.3578\n",
      "Epoch 11/50\n",
      "432/432 [==============================] - 0s 442us/sample - loss: 0.0612 - accuracy: 0.9769 - val_loss: -0.0068 - val_accuracy: 0.3578\n",
      "Epoch 12/50\n",
      "432/432 [==============================] - 0s 448us/sample - loss: 0.0383 - accuracy: 0.9931 - val_loss: -0.1453 - val_accuracy: 0.4495\n",
      "Epoch 13/50\n",
      "432/432 [==============================] - 0s 503us/sample - loss: 0.0385 - accuracy: 0.9861 - val_loss: 4.5617e-04 - val_accuracy: 0.2844\n",
      "Epoch 14/50\n",
      "432/432 [==============================] - 0s 491us/sample - loss: 0.0223 - accuracy: 0.9954 - val_loss: 0.0145 - val_accuracy: 0.2477\n",
      "Epoch 15/50\n",
      "432/432 [==============================] - 0s 527us/sample - loss: 0.0379 - accuracy: 0.9838 - val_loss: -0.0284 - val_accuracy: 0.2936\n",
      "Epoch 16/50\n",
      "432/432 [==============================] - 0s 471us/sample - loss: 0.0289 - accuracy: 0.9907 - val_loss: 0.1881 - val_accuracy: 0.2018\n",
      "Epoch 17/50\n",
      "432/432 [==============================] - 0s 409us/sample - loss: 0.0273 - accuracy: 0.9907 - val_loss: 0.2917 - val_accuracy: 0.2110\n",
      "Epoch 18/50\n",
      "432/432 [==============================] - 0s 557us/sample - loss: 0.0160 - accuracy: 1.0000 - val_loss: 0.3784 - val_accuracy: 0.1468\n",
      "Epoch 19/50\n",
      "432/432 [==============================] - 0s 450us/sample - loss: 0.0195 - accuracy: 0.9907 - val_loss: 0.2535 - val_accuracy: 0.1560\n",
      "Epoch 20/50\n",
      "432/432 [==============================] - 0s 437us/sample - loss: 0.0193 - accuracy: 0.9954 - val_loss: -0.1623 - val_accuracy: 0.3211\n",
      "Epoch 21/50\n",
      "432/432 [==============================] - 0s 421us/sample - loss: 0.0140 - accuracy: 0.9931 - val_loss: 0.0085 - val_accuracy: 0.2018\n",
      "Epoch 22/50\n",
      "432/432 [==============================] - 0s 432us/sample - loss: 0.0085 - accuracy: 0.9977 - val_loss: 0.1959 - val_accuracy: 0.1835\n",
      "Epoch 23/50\n",
      "432/432 [==============================] - 0s 417us/sample - loss: 0.0119 - accuracy: 1.0000 - val_loss: -4.5181e-04 - val_accuracy: 0.2018\n",
      "Epoch 24/50\n",
      "432/432 [==============================] - 0s 454us/sample - loss: 0.0209 - accuracy: 0.9954 - val_loss: 0.2492 - val_accuracy: 0.1560\n",
      "Epoch 25/50\n",
      "432/432 [==============================] - 0s 427us/sample - loss: 0.0128 - accuracy: 0.9954 - val_loss: 0.9730 - val_accuracy: 0.0917\n",
      "Epoch 26/50\n",
      "432/432 [==============================] - 0s 415us/sample - loss: 0.0083 - accuracy: 0.9977 - val_loss: 1.4371 - val_accuracy: 0.0734\n",
      "Epoch 27/50\n",
      "432/432 [==============================] - 0s 422us/sample - loss: 0.0088 - accuracy: 0.9954 - val_loss: 1.5494 - val_accuracy: 0.0734\n",
      "Epoch 28/50\n",
      "432/432 [==============================] - 0s 437us/sample - loss: 0.0084 - accuracy: 0.9977 - val_loss: 1.4435 - val_accuracy: 0.0917\n",
      "Epoch 29/50\n",
      "432/432 [==============================] - 0s 497us/sample - loss: 0.0058 - accuracy: 1.0000 - val_loss: 1.6787 - val_accuracy: 0.0917\n",
      "Epoch 30/50\n",
      "432/432 [==============================] - 0s 499us/sample - loss: 0.0118 - accuracy: 0.9931 - val_loss: 1.8945 - val_accuracy: 0.0917\n",
      "Epoch 31/50\n",
      "432/432 [==============================] - 0s 445us/sample - loss: 0.0133 - accuracy: 0.9931 - val_loss: 2.1190 - val_accuracy: 0.0826\n",
      "Epoch 32/50\n",
      "432/432 [==============================] - 0s 470us/sample - loss: 0.0172 - accuracy: 0.9954 - val_loss: 2.2963 - val_accuracy: 0.0642\n",
      "Epoch 33/50\n",
      "432/432 [==============================] - 0s 472us/sample - loss: 0.0052 - accuracy: 1.0000 - val_loss: 1.6727 - val_accuracy: 0.0642\n",
      "Epoch 34/50\n",
      "432/432 [==============================] - 0s 532us/sample - loss: 0.0152 - accuracy: 0.9931 - val_loss: 1.4045 - val_accuracy: 0.0917\n",
      "Epoch 35/50\n",
      "432/432 [==============================] - 0s 548us/sample - loss: 0.0196 - accuracy: 0.9931 - val_loss: 2.0500 - val_accuracy: 0.1009\n",
      "Epoch 36/50\n",
      "432/432 [==============================] - 0s 519us/sample - loss: 0.0134 - accuracy: 0.9977 - val_loss: 2.3135 - val_accuracy: 0.0550\n",
      "Epoch 37/50\n",
      "432/432 [==============================] - 0s 492us/sample - loss: 0.0062 - accuracy: 0.9977 - val_loss: 2.0843 - val_accuracy: 0.0550\n",
      "Epoch 38/50\n",
      "432/432 [==============================] - 0s 492us/sample - loss: 0.0039 - accuracy: 1.0000 - val_loss: 1.8465 - val_accuracy: 0.0734\n",
      "Epoch 39/50\n",
      "432/432 [==============================] - 0s 488us/sample - loss: 0.0145 - accuracy: 0.9954 - val_loss: 2.2114 - val_accuracy: 0.0642\n",
      "Epoch 40/50\n",
      "432/432 [==============================] - 0s 499us/sample - loss: 0.0030 - accuracy: 1.0000 - val_loss: 2.6537 - val_accuracy: 0.0734\n",
      "Epoch 41/50\n",
      "432/432 [==============================] - 0s 585us/sample - loss: 0.0107 - accuracy: 0.9954 - val_loss: 2.6343 - val_accuracy: 0.0734\n",
      "Epoch 42/50\n",
      "432/432 [==============================] - 0s 507us/sample - loss: 0.0067 - accuracy: 0.9954 - val_loss: 2.6574 - val_accuracy: 0.0734\n",
      "Epoch 43/50\n",
      "432/432 [==============================] - 0s 594us/sample - loss: 0.0036 - accuracy: 1.0000 - val_loss: 3.0143 - val_accuracy: 0.0642\n",
      "Epoch 44/50\n",
      "432/432 [==============================] - 0s 578us/sample - loss: 0.0062 - accuracy: 0.9977 - val_loss: 3.1733 - val_accuracy: 0.0550\n",
      "Epoch 45/50\n",
      "432/432 [==============================] - 0s 489us/sample - loss: 0.0067 - accuracy: 0.9977 - val_loss: 3.1519 - val_accuracy: 0.0459\n",
      "Epoch 46/50\n",
      "432/432 [==============================] - 0s 502us/sample - loss: 0.0066 - accuracy: 0.9954 - val_loss: 3.0869 - val_accuracy: 0.0459\n",
      "Epoch 47/50\n",
      "432/432 [==============================] - 0s 642us/sample - loss: 0.0046 - accuracy: 1.0000 - val_loss: 2.6162 - val_accuracy: 0.0734\n",
      "Epoch 48/50\n",
      "432/432 [==============================] - 0s 497us/sample - loss: 0.0107 - accuracy: 0.9977 - val_loss: 3.0359 - val_accuracy: 0.0459\n",
      "Epoch 49/50\n",
      "432/432 [==============================] - 0s 489us/sample - loss: 0.0070 - accuracy: 0.9954 - val_loss: 3.2347 - val_accuracy: 0.0642\n",
      "Epoch 50/50\n",
      "432/432 [==============================] - 0s 467us/sample - loss: 0.0048 - accuracy: 1.0000 - val_loss: 3.2864 - val_accuracy: 0.0734\n"
     ]
    }
   ],
   "source": [
    "history3 = model3.fit(X_train, y_train, validation_data=(X_test, y_test), shuffle=True)\n",
    "y_pred3 = model3.predict(X_test)"
   ]
  },
  {
   "cell_type": "code",
   "execution_count": 24,
   "metadata": {},
   "outputs": [
    {
     "name": "stdout",
     "output_type": "stream",
     "text": [
      "              precision    recall  f1-score   support\n",
      "\n",
      "           1       0.91      0.89      0.90        70\n",
      "           2       0.80      0.85      0.83        39\n",
      "\n",
      "    accuracy                           0.87       109\n",
      "   macro avg       0.86      0.87      0.86       109\n",
      "weighted avg       0.87      0.87      0.87       109\n",
      "\n"
     ]
    }
   ],
   "source": [
    "print(classification_report(y_test, y_pred3))"
   ]
  },
  {
   "cell_type": "code",
   "execution_count": 25,
   "metadata": {
    "scrolled": false
   },
   "outputs": [
    {
     "name": "stdout",
     "output_type": "stream",
     "text": [
      "[[62  8]\n",
      " [ 6 33]]\n"
     ]
    }
   ],
   "source": [
    "print(confusion_matrix(y_test, y_pred3))"
   ]
  },
  {
   "cell_type": "code",
   "execution_count": 26,
   "metadata": {},
   "outputs": [
    {
     "data": {
      "image/png": "[encoded data removed]",
      "text/plain": [
       "<Figure size 432x288 with 1 Axes>"
      ]
     },
     "metadata": {
      "needs_background": "light"
     },
     "output_type": "display_data"
    }
   ],
   "source": [
    "plt.plot(history3.history['accuracy'])\n",
    "plt.plot(history3.history['val_accuracy'])\n",
    "plt.ylabel('accuracy')\n",
    "plt.xlabel('epoch')\n",
    "plt.legend(['train', 'test'], loc='upper right')\n",
    "plt.xlim(0, 50)\n",
    "plt.show()"
   ]
  },
  {
   "cell_type": "code",
   "execution_count": 27,
   "metadata": {
    "scrolled": true
   },
   "outputs": [
    {
     "data": {
      "image/png": "[encoded data removed]",
      "text/plain": [
       "<Figure size 576x432 with 2 Axes>"
      ]
     },
     "metadata": {
      "needs_background": "light"
     },
     "output_type": "display_data"
    }
   ],
   "source": [
    "cm = confusion_matrix(y_test, y_pred3)\n",
    "plt.rcParams.update({'font.size': 18})\n",
    "plot_confusion_matrix(cm, ['1', '2'], title='', normalize=False)"
   ]
  },
  {
   "cell_type": "code",
   "execution_count": null,
   "metadata": {},
   "outputs": [],
   "source": [
    "model3.model.save('models/hidden3.h5')"
   ]
  },
  {
   "cell_type": "markdown",
   "metadata": {},
   "source": [
    "# 2 Hidden Layers"
   ]
  },
  {
   "cell_type": "code",
   "execution_count": 147,
   "metadata": {},
   "outputs": [],
   "source": [
    "def hidden2(optimizer='rmsprop',init='glorot_uniform', dropout=0.3):\n",
    "    model = Sequential()\n",
    "    # adding layers and adding droplayers to avoid overfitting\n",
    "    hidden_layers = len(selected_genes)\n",
    "    model.add(Dense(hidden_layers*1.5, activation='relu'))\n",
    "    model.add(BatchNormalization())\n",
    "    model.add(Dropout(dropout))\n",
    "    \n",
    "    model.add(Dense((hidden_layers), activation='relu'))\n",
    "    model.add(BatchNormalization())\n",
    "    model.add(Dropout(dropout))\n",
    "    \n",
    "    model.add(Dense(3, activation='softmax'))\n",
    "    # compiling\n",
    "    model.compile(optimizer=optimizer, loss='categorical_crossentropy', metrics=['accuracy'])\n",
    "    return model"
   ]
  },
  {
   "cell_type": "code",
   "execution_count": 148,
   "metadata": {},
   "outputs": [],
   "source": [
    "# parameters selected from previous gridsearch\n",
    "model2 = KerasClassifier(build_fn=hidden2, epochs=75, batch_size=64, optimizer='Adagrad',init='uniform')\n",
    "# kfold = KFold(n_splits=3, shuffle=True)\n",
    "# results = cross_val_score(model, X_train, y_train, cv=kfold)\n",
    "# print(\"Baseline Accuracy: %.2f%% (%.2f%%)\" % (results.mean()*100, results.std()*100))"
   ]
  },
  {
   "cell_type": "code",
   "execution_count": 149,
   "metadata": {
    "scrolled": true
   },
   "outputs": [
    {
     "name": "stdout",
     "output_type": "stream",
     "text": [
      "Train on 432 samples, validate on 109 samples\n",
      "Epoch 1/75\n",
      "432/432 [==============================] - 2s 4ms/sample - loss: 1.3817 - accuracy: 0.4421 - val_loss: 7.7001 - val_accuracy: 0.6422\n",
      "Epoch 2/75\n",
      "432/432 [==============================] - 0s 286us/sample - loss: 1.1376 - accuracy: 0.5509 - val_loss: 7.7828 - val_accuracy: 0.3945\n",
      "Epoch 3/75\n",
      "432/432 [==============================] - 0s 280us/sample - loss: 0.9973 - accuracy: 0.6134 - val_loss: 7.8597 - val_accuracy: 0.2936\n",
      "Epoch 4/75\n",
      "432/432 [==============================] - 0s 283us/sample - loss: 0.8847 - accuracy: 0.6481 - val_loss: 7.9480 - val_accuracy: 0.2569\n",
      "Epoch 5/75\n",
      "432/432 [==============================] - 0s 282us/sample - loss: 0.8756 - accuracy: 0.6296 - val_loss: 7.9803 - val_accuracy: 0.2018\n",
      "Epoch 6/75\n",
      "432/432 [==============================] - 0s 308us/sample - loss: 0.8004 - accuracy: 0.6968 - val_loss: 8.0103 - val_accuracy: 0.1927\n",
      "Epoch 7/75\n",
      "432/432 [==============================] - 0s 284us/sample - loss: 0.8810 - accuracy: 0.6389 - val_loss: 8.0676 - val_accuracy: 0.1835\n",
      "Epoch 8/75\n",
      "432/432 [==============================] - 0s 282us/sample - loss: 0.8269 - accuracy: 0.6690 - val_loss: 8.1015 - val_accuracy: 0.1560\n",
      "Epoch 9/75\n",
      "432/432 [==============================] - 0s 283us/sample - loss: 0.8539 - accuracy: 0.6412 - val_loss: 8.1171 - val_accuracy: 0.1835\n",
      "Epoch 10/75\n",
      "432/432 [==============================] - 0s 286us/sample - loss: 0.8161 - accuracy: 0.6481 - val_loss: 8.1695 - val_accuracy: 0.1743\n",
      "Epoch 11/75\n",
      "432/432 [==============================] - 0s 288us/sample - loss: 0.7592 - accuracy: 0.6944 - val_loss: 8.2061 - val_accuracy: 0.1560\n",
      "Epoch 12/75\n",
      "432/432 [==============================] - 0s 304us/sample - loss: 0.7227 - accuracy: 0.7083 - val_loss: 8.2557 - val_accuracy: 0.1651\n",
      "Epoch 13/75\n",
      "432/432 [==============================] - 0s 288us/sample - loss: 0.8239 - accuracy: 0.6528 - val_loss: 8.2931 - val_accuracy: 0.1560\n",
      "Epoch 14/75\n",
      "432/432 [==============================] - 0s 287us/sample - loss: 0.7583 - accuracy: 0.6620 - val_loss: 8.3202 - val_accuracy: 0.1468\n",
      "Epoch 15/75\n",
      "432/432 [==============================] - 0s 285us/sample - loss: 0.7133 - accuracy: 0.7014 - val_loss: 8.3284 - val_accuracy: 0.1560\n",
      "Epoch 16/75\n",
      "432/432 [==============================] - 0s 286us/sample - loss: 0.6683 - accuracy: 0.7407 - val_loss: 8.3308 - val_accuracy: 0.1743\n",
      "Epoch 17/75\n",
      "432/432 [==============================] - 0s 312us/sample - loss: 0.7215 - accuracy: 0.7130 - val_loss: 8.3505 - val_accuracy: 0.1927\n",
      "Epoch 18/75\n",
      "432/432 [==============================] - 0s 290us/sample - loss: 0.7048 - accuracy: 0.7037 - val_loss: 8.4220 - val_accuracy: 0.1927\n",
      "Epoch 19/75\n",
      "432/432 [==============================] - 0s 294us/sample - loss: 0.6987 - accuracy: 0.7106 - val_loss: 8.4488 - val_accuracy: 0.2018\n",
      "Epoch 20/75\n",
      "432/432 [==============================] - 0s 309us/sample - loss: 0.6937 - accuracy: 0.7083 - val_loss: 8.4958 - val_accuracy: 0.2110\n",
      "Epoch 21/75\n",
      "432/432 [==============================] - 0s 298us/sample - loss: 0.6611 - accuracy: 0.7292 - val_loss: 8.5268 - val_accuracy: 0.2110\n",
      "Epoch 22/75\n",
      "432/432 [==============================] - 0s 299us/sample - loss: 0.6283 - accuracy: 0.7269 - val_loss: 8.5702 - val_accuracy: 0.2477\n",
      "Epoch 23/75\n",
      "432/432 [==============================] - 0s 297us/sample - loss: 0.6600 - accuracy: 0.7199 - val_loss: 8.5943 - val_accuracy: 0.2294\n",
      "Epoch 24/75\n",
      "432/432 [==============================] - 0s 304us/sample - loss: 0.6733 - accuracy: 0.7199 - val_loss: 8.6379 - val_accuracy: 0.2294\n",
      "Epoch 25/75\n",
      "432/432 [==============================] - 0s 299us/sample - loss: 0.6505 - accuracy: 0.7454 - val_loss: 8.6935 - val_accuracy: 0.2294\n",
      "Epoch 26/75\n",
      "432/432 [==============================] - 0s 303us/sample - loss: 0.6108 - accuracy: 0.7523 - val_loss: 8.7518 - val_accuracy: 0.2294\n",
      "Epoch 27/75\n",
      "432/432 [==============================] - 0s 314us/sample - loss: 0.6059 - accuracy: 0.7662 - val_loss: 8.8189 - val_accuracy: 0.2569\n",
      "Epoch 28/75\n",
      "432/432 [==============================] - 0s 313us/sample - loss: 0.6114 - accuracy: 0.7546 - val_loss: 8.8817 - val_accuracy: 0.2569\n",
      "Epoch 29/75\n",
      "432/432 [==============================] - 0s 305us/sample - loss: 0.6306 - accuracy: 0.7292 - val_loss: 8.8955 - val_accuracy: 0.2477\n",
      "Epoch 30/75\n",
      "432/432 [==============================] - 0s 315us/sample - loss: 0.5635 - accuracy: 0.7639 - val_loss: 8.9507 - val_accuracy: 0.2385\n",
      "Epoch 31/75\n",
      "432/432 [==============================] - 0s 311us/sample - loss: 0.5755 - accuracy: 0.7616 - val_loss: 8.9997 - val_accuracy: 0.2294\n",
      "Epoch 32/75\n",
      "432/432 [==============================] - 0s 304us/sample - loss: 0.6570 - accuracy: 0.7245 - val_loss: 9.0682 - val_accuracy: 0.2294\n",
      "Epoch 33/75\n",
      "432/432 [==============================] - 0s 307us/sample - loss: 0.6318 - accuracy: 0.7593 - val_loss: 9.1096 - val_accuracy: 0.2477\n",
      "Epoch 34/75\n",
      "432/432 [==============================] - 0s 300us/sample - loss: 0.6046 - accuracy: 0.7593 - val_loss: 9.1534 - val_accuracy: 0.2569\n",
      "Epoch 35/75\n",
      "432/432 [==============================] - 0s 307us/sample - loss: 0.5844 - accuracy: 0.7593 - val_loss: 9.2448 - val_accuracy: 0.2477\n",
      "Epoch 36/75\n",
      "432/432 [==============================] - 0s 330us/sample - loss: 0.5934 - accuracy: 0.7454 - val_loss: 9.3241 - val_accuracy: 0.2385\n",
      "Epoch 37/75\n",
      "432/432 [==============================] - 0s 310us/sample - loss: 0.5856 - accuracy: 0.7384 - val_loss: 9.3779 - val_accuracy: 0.2569\n",
      "Epoch 38/75\n",
      "432/432 [==============================] - 0s 305us/sample - loss: 0.5850 - accuracy: 0.7662 - val_loss: 9.4538 - val_accuracy: 0.2569\n",
      "Epoch 39/75\n",
      "432/432 [==============================] - 0s 302us/sample - loss: 0.6427 - accuracy: 0.7176 - val_loss: 9.5240 - val_accuracy: 0.3028\n",
      "Epoch 40/75\n",
      "432/432 [==============================] - 0s 304us/sample - loss: 0.5732 - accuracy: 0.7616 - val_loss: 9.5860 - val_accuracy: 0.2936\n",
      "Epoch 41/75\n",
      "432/432 [==============================] - 0s 307us/sample - loss: 0.6006 - accuracy: 0.7176 - val_loss: 9.6571 - val_accuracy: 0.3119\n",
      "Epoch 42/75\n",
      "432/432 [==============================] - 0s 297us/sample - loss: 0.5950 - accuracy: 0.7477 - val_loss: 9.7374 - val_accuracy: 0.3211\n",
      "Epoch 43/75\n",
      "432/432 [==============================] - 0s 297us/sample - loss: 0.6132 - accuracy: 0.7384 - val_loss: 9.8291 - val_accuracy: 0.3119\n",
      "Epoch 44/75\n",
      "432/432 [==============================] - 0s 296us/sample - loss: 0.5359 - accuracy: 0.7708 - val_loss: 9.9400 - val_accuracy: 0.2936\n",
      "Epoch 45/75\n",
      "432/432 [==============================] - 0s 313us/sample - loss: 0.6166 - accuracy: 0.7500 - val_loss: 10.0439 - val_accuracy: 0.2936\n",
      "Epoch 46/75\n",
      "432/432 [==============================] - 0s 308us/sample - loss: 0.5918 - accuracy: 0.7454 - val_loss: 10.1105 - val_accuracy: 0.2844\n",
      "Epoch 47/75\n",
      "432/432 [==============================] - 0s 302us/sample - loss: 0.5665 - accuracy: 0.7708 - val_loss: 10.2312 - val_accuracy: 0.2936\n",
      "Epoch 48/75\n",
      "432/432 [==============================] - 0s 299us/sample - loss: 0.5228 - accuracy: 0.7801 - val_loss: 10.2873 - val_accuracy: 0.2844\n",
      "Epoch 49/75\n",
      "432/432 [==============================] - 0s 313us/sample - loss: 0.5686 - accuracy: 0.7778 - val_loss: 10.3332 - val_accuracy: 0.2661\n",
      "Epoch 50/75\n",
      "432/432 [==============================] - 0s 313us/sample - loss: 0.5549 - accuracy: 0.7847 - val_loss: 10.3774 - val_accuracy: 0.2936\n",
      "Epoch 51/75\n",
      "432/432 [==============================] - 0s 307us/sample - loss: 0.5550 - accuracy: 0.7731 - val_loss: 10.4003 - val_accuracy: 0.3028\n",
      "Epoch 52/75\n",
      "432/432 [==============================] - 0s 305us/sample - loss: 0.5242 - accuracy: 0.7801 - val_loss: 10.5023 - val_accuracy: 0.3028\n",
      "Epoch 53/75\n",
      "432/432 [==============================] - 0s 306us/sample - loss: 0.5365 - accuracy: 0.7917 - val_loss: 10.6145 - val_accuracy: 0.2844\n",
      "Epoch 54/75\n",
      "432/432 [==============================] - 0s 308us/sample - loss: 0.5206 - accuracy: 0.7731 - val_loss: 10.7347 - val_accuracy: 0.2844\n",
      "Epoch 55/75\n",
      "432/432 [==============================] - 0s 325us/sample - loss: 0.5629 - accuracy: 0.7569 - val_loss: 10.8078 - val_accuracy: 0.2752\n",
      "Epoch 56/75\n",
      "432/432 [==============================] - 0s 308us/sample - loss: 0.5445 - accuracy: 0.7593 - val_loss: 10.9651 - val_accuracy: 0.2752\n",
      "Epoch 57/75\n",
      "432/432 [==============================] - 0s 306us/sample - loss: 0.5395 - accuracy: 0.7824 - val_loss: 11.0864 - val_accuracy: 0.2936\n",
      "Epoch 58/75\n",
      "432/432 [==============================] - 0s 320us/sample - loss: 0.5439 - accuracy: 0.7824 - val_loss: 11.1919 - val_accuracy: 0.2844\n",
      "Epoch 59/75\n",
      "432/432 [==============================] - 0s 323us/sample - loss: 0.5357 - accuracy: 0.7593 - val_loss: 11.2324 - val_accuracy: 0.2936\n",
      "Epoch 60/75\n",
      "432/432 [==============================] - 0s 328us/sample - loss: 0.5388 - accuracy: 0.7731 - val_loss: 11.2644 - val_accuracy: 0.2936\n",
      "Epoch 61/75\n",
      "432/432 [==============================] - 0s 331us/sample - loss: 0.5040 - accuracy: 0.7963 - val_loss: 11.3636 - val_accuracy: 0.2844\n",
      "Epoch 62/75\n",
      "432/432 [==============================] - 0s 333us/sample - loss: 0.5461 - accuracy: 0.7824 - val_loss: 11.4045 - val_accuracy: 0.2936\n",
      "Epoch 63/75\n",
      "432/432 [==============================] - 0s 326us/sample - loss: 0.4711 - accuracy: 0.8333 - val_loss: 11.5532 - val_accuracy: 0.2936\n",
      "Epoch 64/75\n",
      "432/432 [==============================] - 0s 322us/sample - loss: 0.5098 - accuracy: 0.7963 - val_loss: 11.6458 - val_accuracy: 0.2936\n",
      "Epoch 65/75\n",
      "432/432 [==============================] - 0s 330us/sample - loss: 0.4289 - accuracy: 0.8495 - val_loss: 11.7580 - val_accuracy: 0.2936\n",
      "Epoch 66/75\n",
      "432/432 [==============================] - 0s 331us/sample - loss: 0.5061 - accuracy: 0.7986 - val_loss: 11.7914 - val_accuracy: 0.2936\n",
      "Epoch 67/75\n",
      "432/432 [==============================] - 0s 325us/sample - loss: 0.4703 - accuracy: 0.8102 - val_loss: 12.0061 - val_accuracy: 0.2844\n",
      "Epoch 68/75\n",
      "432/432 [==============================] - 0s 335us/sample - loss: 0.5141 - accuracy: 0.7940 - val_loss: 12.0414 - val_accuracy: 0.2936\n",
      "Epoch 69/75\n",
      "432/432 [==============================] - 0s 345us/sample - loss: 0.5221 - accuracy: 0.7917 - val_loss: 12.0747 - val_accuracy: 0.2936\n",
      "Epoch 70/75\n",
      "432/432 [==============================] - 0s 339us/sample - loss: 0.5260 - accuracy: 0.7755 - val_loss: 12.1507 - val_accuracy: 0.2844\n",
      "Epoch 71/75\n",
      "432/432 [==============================] - 0s 329us/sample - loss: 0.4786 - accuracy: 0.7917 - val_loss: 12.2259 - val_accuracy: 0.2844\n",
      "Epoch 72/75\n",
      "432/432 [==============================] - 0s 337us/sample - loss: 0.5029 - accuracy: 0.7986 - val_loss: 12.2446 - val_accuracy: 0.2844\n",
      "Epoch 73/75\n",
      "432/432 [==============================] - 0s 335us/sample - loss: 0.5142 - accuracy: 0.8009 - val_loss: 12.3325 - val_accuracy: 0.2752\n",
      "Epoch 74/75\n",
      "432/432 [==============================] - 0s 330us/sample - loss: 0.4998 - accuracy: 0.7917 - val_loss: 12.4005 - val_accuracy: 0.2752\n",
      "Epoch 75/75\n",
      "432/432 [==============================] - 0s 330us/sample - loss: 0.4658 - accuracy: 0.7870 - val_loss: 12.4117 - val_accuracy: 0.2752\n"
     ]
    }
   ],
   "source": [
    "history2 = model2.fit(X_train, y_train, validation_data=(X_test, y_test), shuffle=True)\n",
    "y_pred2 = model2.predict(X_test)"
   ]
  },
  {
   "cell_type": "code",
   "execution_count": 150,
   "metadata": {},
   "outputs": [
    {
     "name": "stdout",
     "output_type": "stream",
     "text": [
      "              precision    recall  f1-score   support\n",
      "\n",
      "           1       0.50      0.56      0.53        27\n",
      "           2       0.68      0.76      0.72        25\n",
      "           3       0.78      0.70      0.74        57\n",
      "\n",
      "    accuracy                           0.68       109\n",
      "   macro avg       0.65      0.67      0.66       109\n",
      "weighted avg       0.69      0.68      0.68       109\n",
      "\n"
     ]
    }
   ],
   "source": [
    "print(classification_report(y_test, y_pred2))"
   ]
  },
  {
   "cell_type": "code",
   "execution_count": 151,
   "metadata": {},
   "outputs": [
    {
     "name": "stdout",
     "output_type": "stream",
     "text": [
      "[[15  3  9]\n",
      " [ 4 19  2]\n",
      " [11  6 40]]\n"
     ]
    }
   ],
   "source": [
    "print(confusion_matrix(y_test, y_pred2))"
   ]
  },
  {
   "cell_type": "code",
   "execution_count": 152,
   "metadata": {},
   "outputs": [
    {
     "data": {
      "image/png": "[encoded data removed]",
      "text/plain": [
       "<Figure size 432x288 with 1 Axes>"
      ]
     },
     "metadata": {
      "needs_background": "light"
     },
     "output_type": "display_data"
    }
   ],
   "source": [
    "plt.plot(history2.history['accuracy'])\n",
    "plt.plot(history2.history['val_accuracy'])\n",
    "plt.ylabel('accuracy')\n",
    "plt.xlabel('epoch')\n",
    "plt.legend(['train', 'test'], loc='upper right')\n",
    "plt.xlim(0, 50)\n",
    "plt.show()"
   ]
  },
  {
   "cell_type": "code",
   "execution_count": 153,
   "metadata": {
    "scrolled": true
   },
   "outputs": [
    {
     "data": {
      "image/png": "[encoded data removed]",
      "text/plain": [
       "<Figure size 576x432 with 2 Axes>"
      ]
     },
     "metadata": {
      "needs_background": "light"
     },
     "output_type": "display_data"
    }
   ],
   "source": [
    "cm = confusion_matrix(y_test, y_pred2)\n",
    "plt.rcParams.update({'font.size': 18})\n",
    "plot_confusion_matrix(cm, ['1', '2', '3'], title='', normalize=False)"
   ]
  },
  {
   "cell_type": "code",
   "execution_count": null,
   "metadata": {},
   "outputs": [],
   "source": [
    "model2.model.save('models/hidden2.h5')"
   ]
  },
  {
   "cell_type": "markdown",
   "metadata": {},
   "source": [
    "# 1 Hidden Layer"
   ]
  },
  {
   "cell_type": "code",
   "execution_count": null,
   "metadata": {},
   "outputs": [],
   "source": [
    "def hidden1(optimizer='rmsprop',init='glorot_uniform', dropout=0.3):\n",
    "    model = Sequential()\n",
    "    # adding layers and adding droplayers to avoid overfitting\n",
    "    hidden_layers = len(selected_genes)\n",
    "    model.add(Dense(hidden_layers*1.5, activation='relu'))\n",
    "    model.add(BatchNormalization())\n",
    "    model.add(Dropout(dropout))\n",
    "    \n",
    "    model.add(Dense(1, activation='softmax'))\n",
    "    # compiling\n",
    "    model.compile(optimizer=optimizer, loss='categorical_crossentropy', metrics=['accuracy'])\n",
    "    return model"
   ]
  },
  {
   "cell_type": "code",
   "execution_count": null,
   "metadata": {},
   "outputs": [],
   "source": [
    "# parameters selected from previous gridsearch\n",
    "model1 = KerasClassifier(build_fn=hidden1, epochs=50, batch_size=16, optimizer='Adam',init='uniform')\n",
    "# kfold = KFold(n_splits=3, shuffle=True)\n",
    "# results = cross_val_score(model, X_train, y_train, cv=kfold)\n",
    "# print(\"Baseline Accuracy: %.2f%% (%.2f%%)\" % (results.mean()*100, results.std()*100))"
   ]
  },
  {
   "cell_type": "code",
   "execution_count": null,
   "metadata": {
    "scrolled": true
   },
   "outputs": [],
   "source": [
    "history1 = model1.fit(X_train, y_train, validation_data=(X_test, y_test), shuffle=True)\n",
    "y_pred1 = model1.predict(X_test)"
   ]
  },
  {
   "cell_type": "code",
   "execution_count": null,
   "metadata": {},
   "outputs": [],
   "source": [
    "print(classification_report(y_test, y_pred1))"
   ]
  },
  {
   "cell_type": "code",
   "execution_count": null,
   "metadata": {},
   "outputs": [],
   "source": [
    "print(confusion_matrix(y_test, y_pred1))"
   ]
  },
  {
   "cell_type": "code",
   "execution_count": 153,
   "metadata": {
    "scrolled": true
   },
   "outputs": [
    {
     "data": {
      "image/png": "[encoded data removed]",
      "text/plain": [
       "<Figure size 576x432 with 2 Axes>"
      ]
     },
     "metadata": {
      "needs_background": "light"
     },
     "output_type": "display_data"
    }
   ],
   "source": [
    "cm = confusion_matrix(y_test, y_pred1)\n",
    "plt.rcParams.update({'font.size': 18})\n",
    "plot_confusion_matrix(cm, ['1', '2', '3'], title='', normalize=False)"
   ]
  },
  {
   "cell_type": "code",
   "execution_count": null,
   "metadata": {},
   "outputs": [],
   "source": [
    "model1.model.save('models/hidden1.h5')"
   ]
  },
  {
   "cell_type": "code",
   "execution_count": null,
   "metadata": {},
   "outputs": [],
   "source": []
  }
 ],
 "metadata": {
  "kernelspec": {
   "display_name": "Python 3",
   "language": "python",
   "name": "python3"
  },
  "language_info": {
   "codemirror_mode": {
    "name": "ipython",
    "version": 3
   },
   "file_extension": ".py",
   "mimetype": "text/x-python",
   "name": "python",
   "nbconvert_exporter": "python",
   "pygments_lexer": "ipython3",
   "version": "3.6.10"
  }
 },
 "nbformat": 4,
 "nbformat_minor": 4
}
