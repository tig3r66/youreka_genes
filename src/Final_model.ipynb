{
 "cells": [
  {
   "cell_type": "code",
   "execution_count": 81,
   "metadata": {},
   "outputs": [],
   "source": [
    "import itertools\n",
    "import numpy as np\n",
    "import pandas as pd\n",
    "import matplotlib.pyplot as plt\n",
    "# for data scaling and splitting\n",
    "from sklearn.preprocessing import MinMaxScaler \n",
    "from sklearn.model_selection import train_test_split\n",
    "from imblearn.over_sampling import SMOTE\n",
    "# for neural net\n",
    "from tensorflow.keras.models import Sequential, load_model\n",
    "from tensorflow.keras.layers import Dense, Dropout, BatchNormalization\n",
    "from tensorflow.keras.wrappers.scikit_learn import KerasClassifier\n",
    "# for evaluation\n",
    "from sklearn.model_selection import StratifiedKFold, cross_val_score, GridSearchCV, validation_curve\n",
    "from sklearn.metrics import classification_report, confusion_matrix, ConfusionMatrixDisplay, roc_curve, auc\n",
    "seed = 0\n",
    "np.random.seed(seed)\n"
   ]
  },
  {
   "cell_type": "code",
   "execution_count": 82,
   "metadata": {},
   "outputs": [
    {
     "output_type": "execute_result",
     "data": {
      "text/plain": "(541, 16384)"
     },
     "metadata": {},
     "execution_count": 82
    }
   ],
   "source": [
    "data = pd.read_csv(\"data/combined_expression.csv\")\n",
    "#Defining the positive and negative response clusters\n",
    "data['cluster'].replace([1, 2],[0, 1],inplace=True) \n",
    "data.head()\n",
    "data.shape"
   ]
  },
  {
   "cell_type": "code",
   "execution_count": 83,
   "metadata": {},
   "outputs": [
    {
     "output_type": "execute_result",
     "data": {
      "text/plain": "300"
     },
     "metadata": {},
     "execution_count": 83
    }
   ],
   "source": [
    "#Feature Selection done via Buruta\n",
    "selected_genes = pd.read_csv('cleaned/boruta.csv')\n",
    "selected_genes = selected_genes.values.tolist()\n",
    "selected_genes = list(itertools.chain(*selected_genes))\n",
    "len(selected_genes)"
   ]
  },
  {
   "cell_type": "code",
   "execution_count": 84,
   "metadata": {},
   "outputs": [
    {
     "output_type": "execute_result",
     "data": {
      "text/plain": "(570, 300)"
     },
     "metadata": {},
     "execution_count": 84
    }
   ],
   "source": [
    "# retrieving proper columns\n",
    "X = data.loc[:, selected_genes]\n",
    "y = data['cluster'].values\n",
    "# scaling the data\n",
    "scalar = MinMaxScaler()\n",
    "x_scaled = scalar.fit_transform(X)\n",
    "# splitting data (20% test, 80% train)\n",
    "X_train, X_test, y_train, y_test = train_test_split(x_scaled, y, test_size=0.2)\n",
    "#SMOTE oversampling to combat uneven classes\n",
    "sm = SMOTE()\n",
    "X_train, y_train = sm.fit_sample(X_train, y_train)\n",
    "X_train.shape\n",
    "\n"
   ]
  },
  {
   "cell_type": "code",
   "execution_count": 85,
   "metadata": {},
   "outputs": [],
   "source": [
    "#def create_model(optimizer='adagrad',init='normal'):\n",
    "model = Sequential()\n",
    "    # adding layers and adding droplayers to avoid overfitting\n",
    "hidden_layers = len(selected_genes)\n",
    "\n",
    "model.add(Dense(hidden_layers*2, activation='relu'))\n",
    "model.add(BatchNormalization())\n",
    "model.add(Dropout(0.3))\n",
    "\n",
    "model.add(Dense(hidden_layers*4, activation='relu'))\n",
    "model.add(BatchNormalization())\n",
    "model.add(Dropout(0.3))\n",
    "\n",
    "model.add(Dense(hidden_layers*4, activation='relu'))\n",
    "model.add(BatchNormalization())\n",
    "model.add(Dropout(0.3))\n",
    "\n",
    "model.add(Dense(hidden_layers*2, activation='relu'))\n",
    "model.add(BatchNormalization())\n",
    "model.add(Dropout(0.3))\n",
    "\n",
    "model.add(Dense(1, activation='sigmoid'))\n",
    "    # compiling\n",
    "model.compile(optimizer='adagrad', loss='binary_crossentropy', metrics=['accuracy'])\n",
    "#return model"
   ]
  },
  {
   "cell_type": "code",
   "execution_count": 115,
   "metadata": {
    "tags": [
     "outputPrepend",
     "outputPrepend",
     "outputPrepend",
     "outputPrepend",
     "outputPrepend",
     "outputPrepend",
     "outputPrepend",
     "outputPrepend",
     "outputPrepend",
     "outputPrepend",
     "outputPrepend",
     "outputPrepend",
     "outputPrepend",
     "outputPrepend",
     "outputPrepend",
     "outputPrepend",
     "outputPrepend",
     "outputPrepend",
     "outputPrepend",
     "outputPrepend",
     "outputPrepend",
     "outputPrepend",
     "outputPrepend",
     "outputPrepend",
     "outputPrepend",
     "outputPrepend",
     "outputPrepend",
     "outputPrepend",
     "outputPrepend",
     "outputPrepend",
     "outputPrepend",
     "outputPrepend",
     "outputPrepend",
     "outputPrepend",
     "outputPrepend",
     "outputPrepend",
     "outputPrepend",
     "outputPrepend",
     "outputPrepend",
     "outputPrepend",
     "outputPrepend",
     "outputPrepend",
     "outputPrepend",
     "outputPrepend",
     "outputPrepend",
     "outputPrepend",
     "outputPrepend",
     "outputPrepend",
     "outputPrepend",
     "outputPrepend",
     "outputPrepend",
     "outputPrepend",
     "outputPrepend",
     "outputPrepend",
     "outputPrepend",
     "outputPrepend",
     "outputPrepend",
     "outputPrepend",
     "outputPrepend",
     "outputPrepend",
     "outputPrepend",
     "outputPrepend",
     "outputPrepend",
     "outputPrepend",
     "outputPrepend",
     "outputPrepend",
     "outputPrepend",
     "outputPrepend",
     "outputPrepend",
     "outputPrepend",
     "outputPrepend",
     "outputPrepend",
     "outputPrepend",
     "outputPrepend",
     "outputPrepend",
     "outputPrepend",
     "outputPrepend",
     "outputPrepend",
     "outputPrepend",
     "outputPrepend",
     "outputPrepend",
     "outputPrepend",
     "outputPrepend",
     "outputPrepend",
     "outputPrepend",
     "outputPrepend",
     "outputPrepend",
     "outputPrepend",
     "outputPrepend",
     "outputPrepend",
     "outputPrepend",
     "outputPrepend",
     "outputPrepend",
     "outputPrepend",
     "outputPrepend",
     "outputPrepend",
     "outputPrepend",
     "outputPrepend",
     "outputPrepend",
     "outputPrepend",
     "outputPrepend",
     "outputPrepend",
     "outputPrepend",
     "outputPrepend",
     "outputPrepend",
     "outputPrepend",
     "outputPrepend",
     "outputPrepend",
     "outputPrepend",
     "outputPrepend",
     "outputPrepend",
     "outputPrepend",
     "outputPrepend",
     "outputPrepend",
     "outputPrepend",
     "outputPrepend",
     "outputPrepend",
     "outputPrepend",
     "outputPrepend",
     "outputPrepend",
     "outputPrepend",
     "outputPrepend",
     "outputPrepend",
     "outputPrepend",
     "outputPrepend",
     "outputPrepend",
     "outputPrepend",
     "outputPrepend",
     "outputPrepend",
     "outputPrepend",
     "outputPrepend",
     "outputPrepend",
     "outputPrepend",
     "outputPrepend"
    ]
   },
   "outputs": [
    {
     "output_type": "stream",
     "name": "stdout",
     "text": "Epoch 1/50\n285/285 [==============================] - 0s 2ms/sample - loss: 0.0097 - acc: 0.9965\nEpoch 2/50\n285/285 [==============================] - 0s 2ms/sample - loss: 0.0145 - acc: 0.9965\nEpoch 3/50\n285/285 [==============================] - 0s 2ms/sample - loss: 0.0048 - acc: 1.0000\nEpoch 4/50\n285/285 [==============================] - 0s 2ms/sample - loss: 0.0063 - acc: 0.9965\nEpoch 5/50\n285/285 [==============================] - 1s 2ms/sample - loss: 0.0024 - acc: 1.0000\nEpoch 6/50\n285/285 [==============================] - 0s 2ms/sample - loss: 0.0049 - acc: 1.0000\nEpoch 7/50\n285/285 [==============================] - 0s 2ms/sample - loss: 0.0126 - acc: 0.9965\nEpoch 8/50\n285/285 [==============================] - 0s 1ms/sample - loss: 0.0021 - acc: 1.0000\nEpoch 9/50\n285/285 [==============================] - 0s 1ms/sample - loss: 0.0075 - acc: 0.9965\nEpoch 10/50\n285/285 [==============================] - 0s 1ms/sample - loss: 0.0111 - acc: 0.9965\nEpoch 11/50\n285/285 [==============================] - 0s 1ms/sample - loss: 0.0107 - acc: 0.9965\nEpoch 12/50\n285/285 [==============================] - 0s 2ms/sample - loss: 0.0048 - acc: 1.0000\nEpoch 13/50\n285/285 [==============================] - 0s 1ms/sample - loss: 0.0072 - acc: 0.9965\nEpoch 14/50\n285/285 [==============================] - 0s 1ms/sample - loss: 0.0104 - acc: 0.9965\nEpoch 15/50\n285/285 [==============================] - 0s 1ms/sample - loss: 0.0029 - acc: 1.0000\nEpoch 16/50\n285/285 [==============================] - 0s 2ms/sample - loss: 0.0029 - acc: 1.0000\nEpoch 17/50\n285/285 [==============================] - 0s 1ms/sample - loss: 0.0108 - acc: 0.9930\nEpoch 18/50\n285/285 [==============================] - 0s 1ms/sample - loss: 0.0026 - acc: 1.0000\nEpoch 19/50\n285/285 [==============================] - 0s 2ms/sample - loss: 0.0150 - acc: 0.9930\nEpoch 20/50\n285/285 [==============================] - 0s 1ms/sample - loss: 0.0036 - acc: 1.0000\nEpoch 21/50\n285/285 [==============================] - 0s 1ms/sample - loss: 0.0055 - acc: 0.9965\nEpoch 22/50\n285/285 [==============================] - 0s 1ms/sample - loss: 0.0028 - acc: 1.0000\nEpoch 23/50\n285/285 [==============================] - 0s 1ms/sample - loss: 0.0164 - acc: 0.9965\nEpoch 24/50\n285/285 [==============================] - 0s 1ms/sample - loss: 0.0026 - acc: 1.0000\nEpoch 25/50\n285/285 [==============================] - 0s 1ms/sample - loss: 0.0072 - acc: 1.0000\nEpoch 26/50\n285/285 [==============================] - 0s 1ms/sample - loss: 0.0092 - acc: 0.9965\nEpoch 27/50\n285/285 [==============================] - 0s 1ms/sample - loss: 0.0039 - acc: 1.0000\nEpoch 28/50\n285/285 [==============================] - 0s 1ms/sample - loss: 0.0065 - acc: 0.9965\nEpoch 29/50\n285/285 [==============================] - 0s 1ms/sample - loss: 0.0142 - acc: 0.9930\nEpoch 30/50\n285/285 [==============================] - 0s 1ms/sample - loss: 0.0047 - acc: 1.0000\nEpoch 31/50\n285/285 [==============================] - 0s 1ms/sample - loss: 0.0102 - acc: 0.9930\nEpoch 32/50\n285/285 [==============================] - 0s 1ms/sample - loss: 0.0050 - acc: 1.0000\nEpoch 33/50\n285/285 [==============================] - 0s 1ms/sample - loss: 0.0123 - acc: 0.9965\nEpoch 34/50\n285/285 [==============================] - 0s 1ms/sample - loss: 0.0039 - acc: 1.0000\nEpoch 35/50\n285/285 [==============================] - 0s 1ms/sample - loss: 0.0026 - acc: 1.0000\nEpoch 36/50\n285/285 [==============================] - 0s 2ms/sample - loss: 0.0042 - acc: 1.0000\nEpoch 37/50\n285/285 [==============================] - 0s 1ms/sample - loss: 0.0135 - acc: 0.9965\nEpoch 38/50\n285/285 [==============================] - 0s 1ms/sample - loss: 0.0067 - acc: 0.9965\nEpoch 39/50\n285/285 [==============================] - 0s 2ms/sample - loss: 0.0090 - acc: 1.0000\nEpoch 40/50\n285/285 [==============================] - 0s 1ms/sample - loss: 0.0051 - acc: 1.0000\nEpoch 41/50\n285/285 [==============================] - 0s 2ms/sample - loss: 0.0041 - acc: 1.0000\nEpoch 42/50\n285/285 [==============================] - 0s 1ms/sample - loss: 0.0069 - acc: 0.9965\nEpoch 43/50\n285/285 [==============================] - 0s 1ms/sample - loss: 0.0042 - acc: 1.0000\nEpoch 44/50\n285/285 [==============================] - 0s 2ms/sample - loss: 0.0080 - acc: 0.9965\nEpoch 45/50\n285/285 [==============================] - 0s 1ms/sample - loss: 0.0105 - acc: 0.9965\nEpoch 46/50\n285/285 [==============================] - 0s 1ms/sample - loss: 9.2789e-04 - acc: 1.0000\nEpoch 47/50\n285/285 [==============================] - 0s 2ms/sample - loss: 0.0049 - acc: 1.0000\nEpoch 48/50\n285/285 [==============================] - 0s 2ms/sample - loss: 0.0067 - acc: 0.9965\nEpoch 49/50\n285/285 [==============================] - 0s 2ms/sample - loss: 0.0200 - acc: 0.9965\nEpoch 50/50\n285/285 [==============================] - 0s 2ms/sample - loss: 0.0058 - acc: 1.0000\nacc: 100.00%\nEpoch 1/50\n285/285 [==============================] - 1s 2ms/sample - loss: 0.0039 - acc: 1.0000\nEpoch 2/50\n285/285 [==============================] - 0s 2ms/sample - loss: 0.0273 - acc: 0.9930\nEpoch 3/50\n285/285 [==============================] - 0s 2ms/sample - loss: 0.0118 - acc: 0.9965\nEpoch 4/50\n285/285 [==============================] - 1s 2ms/sample - loss: 0.0055 - acc: 1.0000\nEpoch 5/50\n285/285 [==============================] - 0s 2ms/sample - loss: 0.0157 - acc: 0.9965\nEpoch 6/50\n285/285 [==============================] - 0s 2ms/sample - loss: 0.0049 - acc: 1.0000\nEpoch 7/50\n285/285 [==============================] - 0s 2ms/sample - loss: 0.0024 - acc: 1.0000\nEpoch 8/50\n285/285 [==============================] - 0s 2ms/sample - loss: 0.0090 - acc: 0.9965\nEpoch 9/50\n285/285 [==============================] - 0s 2ms/sample - loss: 0.0140 - acc: 0.9930\nEpoch 10/50\n285/285 [==============================] - 0s 2ms/sample - loss: 0.0229 - acc: 0.9860\nEpoch 11/50\n285/285 [==============================] - 0s 1ms/sample - loss: 0.0133 - acc: 0.9965\nEpoch 12/50\n285/285 [==============================] - 0s 1ms/sample - loss: 0.0100 - acc: 0.9895\nEpoch 13/50\n285/285 [==============================] - 0s 2ms/sample - loss: 0.0046 - acc: 1.0000\nEpoch 14/50\n285/285 [==============================] - 0s 1ms/sample - loss: 0.0098 - acc: 1.0000\nEpoch 15/50\n285/285 [==============================] - 0s 2ms/sample - loss: 0.0037 - acc: 1.0000\nEpoch 16/50\n285/285 [==============================] - 0s 2ms/sample - loss: 0.0159 - acc: 0.9965\nEpoch 17/50\n285/285 [==============================] - 0s 2ms/sample - loss: 0.0053 - acc: 1.0000\nEpoch 18/50\n285/285 [==============================] - 0s 2ms/sample - loss: 0.0029 - acc: 1.0000\nEpoch 19/50\n285/285 [==============================] - 0s 1ms/sample - loss: 0.0065 - acc: 0.9965\nEpoch 20/50\n285/285 [==============================] - 0s 2ms/sample - loss: 0.0023 - acc: 1.0000\nEpoch 21/50\n285/285 [==============================] - 0s 1ms/sample - loss: 0.0047 - acc: 1.0000\nEpoch 22/50\n285/285 [==============================] - 0s 1ms/sample - loss: 0.0075 - acc: 0.9965\nEpoch 23/50\n285/285 [==============================] - 0s 2ms/sample - loss: 0.0014 - acc: 1.0000\nEpoch 24/50\n285/285 [==============================] - 0s 1ms/sample - loss: 0.0052 - acc: 1.0000\nEpoch 25/50\n285/285 [==============================] - 0s 1ms/sample - loss: 0.0099 - acc: 0.9930\nEpoch 26/50\n285/285 [==============================] - 0s 1ms/sample - loss: 0.0087 - acc: 0.9965\nEpoch 27/50\n285/285 [==============================] - 0s 2ms/sample - loss: 0.0075 - acc: 1.0000\nEpoch 28/50\n285/285 [==============================] - 0s 2ms/sample - loss: 0.0162 - acc: 0.9965\nEpoch 29/50\n285/285 [==============================] - 1s 2ms/sample - loss: 0.0039 - acc: 1.0000\nEpoch 30/50\n285/285 [==============================] - 0s 2ms/sample - loss: 0.0033 - acc: 1.0000\nEpoch 31/50\n285/285 [==============================] - 0s 1ms/sample - loss: 0.0033 - acc: 1.0000\nEpoch 32/50\n285/285 [==============================] - 0s 1ms/sample - loss: 0.0029 - acc: 1.0000\nEpoch 33/50\n285/285 [==============================] - 0s 1ms/sample - loss: 0.0206 - acc: 0.9930\nEpoch 34/50\n285/285 [==============================] - 0s 2ms/sample - loss: 0.0198 - acc: 0.9930\nEpoch 35/50\n285/285 [==============================] - 0s 2ms/sample - loss: 0.0049 - acc: 1.0000\nEpoch 36/50\n285/285 [==============================] - 1s 2ms/sample - loss: 0.0078 - acc: 0.9965\nEpoch 37/50\n285/285 [==============================] - 1s 2ms/sample - loss: 0.0030 - acc: 1.0000\nEpoch 38/50\n285/285 [==============================] - 0s 2ms/sample - loss: 0.0138 - acc: 0.9965\nEpoch 39/50\n285/285 [==============================] - 1s 2ms/sample - loss: 0.0151 - acc: 0.9965\nEpoch 40/50\n285/285 [==============================] - 0s 1ms/sample - loss: 0.0097 - acc: 0.9965\nEpoch 41/50\n285/285 [==============================] - 0s 2ms/sample - loss: 0.0028 - acc: 1.0000\nEpoch 42/50\n285/285 [==============================] - 0s 2ms/sample - loss: 0.0013 - acc: 1.0000\nEpoch 43/50\n285/285 [==============================] - 0s 2ms/sample - loss: 0.0100 - acc: 0.9965\nEpoch 44/50\n285/285 [==============================] - 0s 2ms/sample - loss: 0.0407 - acc: 0.9860\nEpoch 45/50\n285/285 [==============================] - 0s 2ms/sample - loss: 0.0121 - acc: 0.9965\nEpoch 46/50\n285/285 [==============================] - 1s 2ms/sample - loss: 0.0053 - acc: 1.0000\nEpoch 47/50\n285/285 [==============================] - 1s 2ms/sample - loss: 0.0014 - acc: 1.0000\nEpoch 48/50\n285/285 [==============================] - 1s 2ms/sample - loss: 0.0030 - acc: 1.0000\nEpoch 49/50\n285/285 [==============================] - 1s 2ms/sample - loss: 0.0030 - acc: 1.0000\nEpoch 50/50\n285/285 [==============================] - 0s 2ms/sample - loss: 0.0048 - acc: 1.0000\nacc: 100.00%\n100.00% (+/- 0.00%)\n"
    }
   ],
   "source": [
    "kfold = StratifiedKFold(n_splits=2, shuffle=True, random_state=seed)\n",
    "cvscores = []\n",
    "history = []\n",
    "tprs_cv = []\n",
    "base_fpr_cv = np.linspace(0, 1, 101)\n",
    "for train, test in kfold.split(X_train, y_train):\n",
    "\t# Fit the model\n",
    "\tmodel_cv = model.fit(X_train[train], y_train[train],validation_set=(X_train[test],y_train[test]), epochs=50,batch_size=32,verbose=1)\n",
    "\tresults_fold = model_cv.history\n",
    "\tresults_fold.append(history)\n",
    "\t# roc and auc\n",
    "\ty_score = model.predict_proba(X_train[test])\n",
    "\tfpr_cv, tpr_cv, _ = roc_curve(y_train[test], y_score[:, 1])\n",
    "\ttpr_cv = np.interp(base_fpr_cv, fpr_cv, tpr_cv)\n",
    "\ttpr_cv[0] = 0.0\n",
    "\ttprs_cv.append(tpr_cv)\n",
    "\t# evaluate the model\n",
    "\tscores = model.evaluate( X_train[test], y_train[test], verbose=0)\n",
    "\tprint(\"%s: %.2f%%\" % (model.metrics_names[1], scores[1]*100))\n",
    "\tcvscores.append(scores[1] * 100)\n",
    "print(\"%.2f%% (+/- %.2f%%)\" % (np.mean(cvscores), np.std(cvscores)))"
   ]
  },
  {
   "cell_type": "code",
   "execution_count": null,
   "metadata": {},
   "outputs": [],
   "source": [
    "plt.plot(hostory.history['accuracy'])\n",
    "plt.plot(history.history['val_accuracy'])\n",
    "plt.ylabel('accuracy')\n",
    "plt.xlabel('epoch')\n",
    "plt.legend(['train', 'test'], loc='upper right')\n",
    "plt.ylim(0, 1)\n",
    "plt.show()"
   ]
  },
  {
   "cell_type": "code",
   "execution_count": 116,
   "metadata": {},
   "outputs": [
    {
     "output_type": "stream",
     "name": "stdout",
     "text": "109/109 [==============================] - 0s 592us/sample - loss: 0.7303 - acc: 0.8257\nacc: 82.57%\n"
    }
   ],
   "source": [
    "scores = model.evaluate(X_test, y_test)\n",
    "print(\"%s: %.2f%%\" % (model.metrics_names[1], scores[1]*100))"
   ]
  },
  {
   "cell_type": "code",
   "execution_count": 122,
   "metadata": {},
   "outputs": [],
   "source": [
    "base_fpr_model = np.linspace(0, 1, 101)\n",
    "y_prediction = model.predict(X_test).ravel()\n",
    "fpr_model, tpr_model, thresholds_model = roc_curve(y_test,y_prediction)\n",
    "tpr_model = np.array(tpr_model)\n",
    "auc_model = (base_fpr_model,tpr_model)\n"
   ]
  },
  {
   "cell_type": "code",
   "execution_count": 123,
   "metadata": {},
   "outputs": [],
   "source": [
    "# for 4 hidden layers\n",
    "tprs_cv = np.array(tprs_cv)\n",
    "mean_tprs_cv = tprs_cv.mean(axis=0)\n",
    "std_cv = tprs_cv.std(axis=0)\n",
    "tprs_upper = np.minimum(mean_tprs_cv + std_cv, 1)\n",
    "tprs_lower = mean_tprs_cv - std_cv\n",
    "auc_cv = auc(base_fpr, mean_tprs_cv)"
   ]
  },
  {
   "cell_type": "code",
   "execution_count": 125,
   "metadata": {},
   "outputs": [
    {
     "output_type": "display_data",
     "data": {
      "text/plain": "<Figure size 432x288 with 1 Axes>",
      "image/svg+xml": "<?xml version=\"1.0\" encoding=\"utf-8\" standalone=\"no\"?>\r\n<!DOCTYPE svg PUBLIC \"-//W3C//DTD SVG 1.1//EN\"\r\n  \"http://www.w3.org/Graphics/SVG/1.1/DTD/svg11.dtd\">\r\n<!-- Created with matplotlib (https://matplotlib.org/) -->\r\n<svg height=\"290.447812pt\" version=\"1.1\" viewBox=\"0 0 416.687813 290.447812\" width=\"416.687813pt\" xmlns=\"http://www.w3.org/2000/svg\" xmlns:xlink=\"http://www.w3.org/1999/xlink\">\r\n <defs>\r\n  <style type=\"text/css\">\r\n*{stroke-linecap:butt;stroke-linejoin:round;}\r\n  </style>\r\n </defs>\r\n <g id=\"figure_1\">\r\n  <g id=\"patch_1\">\r\n   <path d=\"M 0 290.447812 \r\nL 416.687813 290.447812 \r\nL 416.687813 0 \r\nL 0 0 \r\nz\r\n\" style=\"fill:none;\"/>\r\n  </g>\r\n  <g id=\"axes_1\">\r\n   <g id=\"patch_2\">\r\n    <path d=\"M 60.375 241.277812 \r\nL 395.175 241.277812 \r\nL 395.175 23.837812 \r\nL 60.375 23.837812 \r\nz\r\n\" style=\"fill:#ffffff;\"/>\r\n   </g>\r\n   <g id=\"PolyCollection_1\">\r\n    <defs>\r\n     <path d=\"M 60.375 -49.17 \r\nL 60.375 -49.17 \r\nL 63.723 -266.61 \r\nL 67.071 -266.61 \r\nL 70.419 -266.61 \r\nL 73.767 -266.61 \r\nL 77.115 -266.61 \r\nL 80.463 -266.61 \r\nL 83.811 -266.61 \r\nL 87.159 -266.61 \r\nL 90.507 -266.61 \r\nL 93.855 -266.61 \r\nL 97.203 -266.61 \r\nL 100.551 -266.61 \r\nL 103.899 -266.61 \r\nL 107.247 -266.61 \r\nL 110.595 -266.61 \r\nL 113.943 -266.61 \r\nL 117.291 -266.61 \r\nL 120.639 -266.61 \r\nL 123.987 -266.61 \r\nL 127.335 -266.61 \r\nL 130.683 -266.61 \r\nL 134.031 -266.61 \r\nL 137.379 -266.61 \r\nL 140.727 -266.61 \r\nL 144.075 -266.61 \r\nL 147.423 -266.61 \r\nL 150.771 -266.61 \r\nL 154.119 -266.61 \r\nL 157.467 -266.61 \r\nL 160.815 -266.61 \r\nL 164.163 -266.61 \r\nL 167.511 -266.61 \r\nL 170.859 -266.61 \r\nL 174.207 -266.61 \r\nL 177.555 -266.61 \r\nL 180.903 -266.61 \r\nL 184.251 -266.61 \r\nL 187.599 -266.61 \r\nL 190.947 -266.61 \r\nL 194.295 -266.61 \r\nL 197.643 -266.61 \r\nL 200.991 -266.61 \r\nL 204.339 -266.61 \r\nL 207.687 -266.61 \r\nL 211.035 -266.61 \r\nL 214.383 -266.61 \r\nL 217.731 -266.61 \r\nL 221.079 -266.61 \r\nL 224.427 -266.61 \r\nL 227.775 -266.61 \r\nL 231.123 -266.61 \r\nL 234.471 -266.61 \r\nL 237.819 -266.61 \r\nL 241.167 -266.61 \r\nL 244.515 -266.61 \r\nL 247.863 -266.61 \r\nL 251.211 -266.61 \r\nL 254.559 -266.61 \r\nL 257.907 -266.61 \r\nL 261.255 -266.61 \r\nL 264.603 -266.61 \r\nL 267.951 -266.61 \r\nL 271.299 -266.61 \r\nL 274.647 -266.61 \r\nL 277.995 -266.61 \r\nL 281.343 -266.61 \r\nL 284.691 -266.61 \r\nL 288.039 -266.61 \r\nL 291.387 -266.61 \r\nL 294.735 -266.61 \r\nL 298.083 -266.61 \r\nL 301.431 -266.61 \r\nL 304.779 -266.61 \r\nL 308.127 -266.61 \r\nL 311.475 -266.61 \r\nL 314.823 -266.61 \r\nL 318.171 -266.61 \r\nL 321.519 -266.61 \r\nL 324.867 -266.61 \r\nL 328.215 -266.61 \r\nL 331.563 -266.61 \r\nL 334.911 -266.61 \r\nL 338.259 -266.61 \r\nL 341.607 -266.61 \r\nL 344.955 -266.61 \r\nL 348.303 -266.61 \r\nL 351.651 -266.61 \r\nL 354.999 -266.61 \r\nL 358.347 -266.61 \r\nL 361.695 -266.61 \r\nL 365.043 -266.61 \r\nL 368.391 -266.61 \r\nL 371.739 -266.61 \r\nL 375.087 -266.61 \r\nL 378.435 -266.61 \r\nL 381.783 -266.61 \r\nL 385.131 -266.61 \r\nL 388.479 -266.61 \r\nL 391.827 -266.61 \r\nL 395.175 -266.61 \r\nL 395.175 -266.61 \r\nL 395.175 -266.61 \r\nL 391.827 -266.61 \r\nL 388.479 -266.61 \r\nL 385.131 -266.61 \r\nL 381.783 -266.61 \r\nL 378.435 -266.61 \r\nL 375.087 -266.61 \r\nL 371.739 -266.61 \r\nL 368.391 -266.61 \r\nL 365.043 -266.61 \r\nL 361.695 -266.61 \r\nL 358.347 -266.61 \r\nL 354.999 -266.61 \r\nL 351.651 -266.61 \r\nL 348.303 -266.61 \r\nL 344.955 -266.61 \r\nL 341.607 -266.61 \r\nL 338.259 -266.61 \r\nL 334.911 -266.61 \r\nL 331.563 -266.61 \r\nL 328.215 -266.61 \r\nL 324.867 -266.61 \r\nL 321.519 -266.61 \r\nL 318.171 -266.61 \r\nL 314.823 -266.61 \r\nL 311.475 -266.61 \r\nL 308.127 -266.61 \r\nL 304.779 -266.61 \r\nL 301.431 -266.61 \r\nL 298.083 -266.61 \r\nL 294.735 -266.61 \r\nL 291.387 -266.61 \r\nL 288.039 -266.61 \r\nL 284.691 -266.61 \r\nL 281.343 -266.61 \r\nL 277.995 -266.61 \r\nL 274.647 -266.61 \r\nL 271.299 -266.61 \r\nL 267.951 -266.61 \r\nL 264.603 -266.61 \r\nL 261.255 -266.61 \r\nL 257.907 -266.61 \r\nL 254.559 -266.61 \r\nL 251.211 -266.61 \r\nL 247.863 -266.61 \r\nL 244.515 -266.61 \r\nL 241.167 -266.61 \r\nL 237.819 -266.61 \r\nL 234.471 -266.61 \r\nL 231.123 -266.61 \r\nL 227.775 -266.61 \r\nL 224.427 -266.61 \r\nL 221.079 -266.61 \r\nL 217.731 -266.61 \r\nL 214.383 -266.61 \r\nL 211.035 -266.61 \r\nL 207.687 -266.61 \r\nL 204.339 -266.61 \r\nL 200.991 -266.61 \r\nL 197.643 -266.61 \r\nL 194.295 -266.61 \r\nL 190.947 -266.61 \r\nL 187.599 -266.61 \r\nL 184.251 -266.61 \r\nL 180.903 -266.61 \r\nL 177.555 -266.61 \r\nL 174.207 -266.61 \r\nL 170.859 -266.61 \r\nL 167.511 -266.61 \r\nL 164.163 -266.61 \r\nL 160.815 -266.61 \r\nL 157.467 -266.61 \r\nL 154.119 -266.61 \r\nL 150.771 -266.61 \r\nL 147.423 -266.61 \r\nL 144.075 -266.61 \r\nL 140.727 -266.61 \r\nL 137.379 -266.61 \r\nL 134.031 -266.61 \r\nL 130.683 -266.61 \r\nL 127.335 -266.61 \r\nL 123.987 -266.61 \r\nL 120.639 -266.61 \r\nL 117.291 -266.61 \r\nL 113.943 -266.61 \r\nL 110.595 -266.61 \r\nL 107.247 -266.61 \r\nL 103.899 -266.61 \r\nL 100.551 -266.61 \r\nL 97.203 -266.61 \r\nL 93.855 -266.61 \r\nL 90.507 -266.61 \r\nL 87.159 -266.61 \r\nL 83.811 -266.61 \r\nL 80.463 -266.61 \r\nL 77.115 -266.61 \r\nL 73.767 -266.61 \r\nL 70.419 -266.61 \r\nL 67.071 -266.61 \r\nL 63.723 -266.61 \r\nL 60.375 -49.17 \r\nz\r\n\" id=\"m26369368c5\" style=\"stroke:#ff0000;stroke-opacity:0.2;\"/>\r\n    </defs>\r\n    <g clip-path=\"url(#pd5ab3102ac)\">\r\n     <use style=\"fill:#ff0000;fill-opacity:0.2;stroke:#ff0000;stroke-opacity:0.2;\" x=\"0\" xlink:href=\"#m26369368c5\" y=\"290.447812\"/>\r\n    </g>\r\n   </g>\r\n   <g id=\"matplotlib.axis_1\">\r\n    <g id=\"xtick_1\">\r\n     <g id=\"line2d_1\">\r\n      <defs>\r\n       <path d=\"M 0 0 \r\nL 0 3.5 \r\n\" id=\"m34aac18b6c\" style=\"stroke:#000000;stroke-width:0.8;\"/>\r\n      </defs>\r\n      <g>\r\n       <use style=\"stroke:#000000;stroke-width:0.8;\" x=\"60.375\" xlink:href=\"#m34aac18b6c\" y=\"241.277812\"/>\r\n      </g>\r\n     </g>\r\n     <g id=\"text_1\">\r\n      <!-- 0.0 -->\r\n      <defs>\r\n       <path d=\"M 31.78125 66.40625 \r\nQ 24.171875 66.40625 20.328125 58.90625 \r\nQ 16.5 51.421875 16.5 36.375 \r\nQ 16.5 21.390625 20.328125 13.890625 \r\nQ 24.171875 6.390625 31.78125 6.390625 \r\nQ 39.453125 6.390625 43.28125 13.890625 \r\nQ 47.125 21.390625 47.125 36.375 \r\nQ 47.125 51.421875 43.28125 58.90625 \r\nQ 39.453125 66.40625 31.78125 66.40625 \r\nz\r\nM 31.78125 74.21875 \r\nQ 44.046875 74.21875 50.515625 64.515625 \r\nQ 56.984375 54.828125 56.984375 36.375 \r\nQ 56.984375 17.96875 50.515625 8.265625 \r\nQ 44.046875 -1.421875 31.78125 -1.421875 \r\nQ 19.53125 -1.421875 13.0625 8.265625 \r\nQ 6.59375 17.96875 6.59375 36.375 \r\nQ 6.59375 54.828125 13.0625 64.515625 \r\nQ 19.53125 74.21875 31.78125 74.21875 \r\nz\r\n\" id=\"DejaVuSans-48\"/>\r\n       <path d=\"M 10.6875 12.40625 \r\nL 21 12.40625 \r\nL 21 0 \r\nL 10.6875 0 \r\nz\r\n\" id=\"DejaVuSans-46\"/>\r\n      </defs>\r\n      <g transform=\"translate(46.062188 261.955)scale(0.18 -0.18)\">\r\n       <use xlink:href=\"#DejaVuSans-48\"/>\r\n       <use x=\"63.623047\" xlink:href=\"#DejaVuSans-46\"/>\r\n       <use x=\"95.410156\" xlink:href=\"#DejaVuSans-48\"/>\r\n      </g>\r\n     </g>\r\n    </g>\r\n    <g id=\"xtick_2\">\r\n     <g id=\"line2d_2\">\r\n      <g>\r\n       <use style=\"stroke:#000000;stroke-width:0.8;\" x=\"127.335\" xlink:href=\"#m34aac18b6c\" y=\"241.277812\"/>\r\n      </g>\r\n     </g>\r\n     <g id=\"text_2\">\r\n      <!-- 0.2 -->\r\n      <defs>\r\n       <path d=\"M 19.1875 8.296875 \r\nL 53.609375 8.296875 \r\nL 53.609375 0 \r\nL 7.328125 0 \r\nL 7.328125 8.296875 \r\nQ 12.9375 14.109375 22.625 23.890625 \r\nQ 32.328125 33.6875 34.8125 36.53125 \r\nQ 39.546875 41.84375 41.421875 45.53125 \r\nQ 43.3125 49.21875 43.3125 52.78125 \r\nQ 43.3125 58.59375 39.234375 62.25 \r\nQ 35.15625 65.921875 28.609375 65.921875 \r\nQ 23.96875 65.921875 18.8125 64.3125 \r\nQ 13.671875 62.703125 7.8125 59.421875 \r\nL 7.8125 69.390625 \r\nQ 13.765625 71.78125 18.9375 73 \r\nQ 24.125 74.21875 28.421875 74.21875 \r\nQ 39.75 74.21875 46.484375 68.546875 \r\nQ 53.21875 62.890625 53.21875 53.421875 \r\nQ 53.21875 48.921875 51.53125 44.890625 \r\nQ 49.859375 40.875 45.40625 35.40625 \r\nQ 44.1875 33.984375 37.640625 27.21875 \r\nQ 31.109375 20.453125 19.1875 8.296875 \r\nz\r\n\" id=\"DejaVuSans-50\"/>\r\n      </defs>\r\n      <g transform=\"translate(113.022188 261.955)scale(0.18 -0.18)\">\r\n       <use xlink:href=\"#DejaVuSans-48\"/>\r\n       <use x=\"63.623047\" xlink:href=\"#DejaVuSans-46\"/>\r\n       <use x=\"95.410156\" xlink:href=\"#DejaVuSans-50\"/>\r\n      </g>\r\n     </g>\r\n    </g>\r\n    <g id=\"xtick_3\">\r\n     <g id=\"line2d_3\">\r\n      <g>\r\n       <use style=\"stroke:#000000;stroke-width:0.8;\" x=\"194.295\" xlink:href=\"#m34aac18b6c\" y=\"241.277812\"/>\r\n      </g>\r\n     </g>\r\n     <g id=\"text_3\">\r\n      <!-- 0.4 -->\r\n      <defs>\r\n       <path d=\"M 37.796875 64.3125 \r\nL 12.890625 25.390625 \r\nL 37.796875 25.390625 \r\nz\r\nM 35.203125 72.90625 \r\nL 47.609375 72.90625 \r\nL 47.609375 25.390625 \r\nL 58.015625 25.390625 \r\nL 58.015625 17.1875 \r\nL 47.609375 17.1875 \r\nL 47.609375 0 \r\nL 37.796875 0 \r\nL 37.796875 17.1875 \r\nL 4.890625 17.1875 \r\nL 4.890625 26.703125 \r\nz\r\n\" id=\"DejaVuSans-52\"/>\r\n      </defs>\r\n      <g transform=\"translate(179.982188 261.955)scale(0.18 -0.18)\">\r\n       <use xlink:href=\"#DejaVuSans-48\"/>\r\n       <use x=\"63.623047\" xlink:href=\"#DejaVuSans-46\"/>\r\n       <use x=\"95.410156\" xlink:href=\"#DejaVuSans-52\"/>\r\n      </g>\r\n     </g>\r\n    </g>\r\n    <g id=\"xtick_4\">\r\n     <g id=\"line2d_4\">\r\n      <g>\r\n       <use style=\"stroke:#000000;stroke-width:0.8;\" x=\"261.255\" xlink:href=\"#m34aac18b6c\" y=\"241.277812\"/>\r\n      </g>\r\n     </g>\r\n     <g id=\"text_4\">\r\n      <!-- 0.6 -->\r\n      <defs>\r\n       <path d=\"M 33.015625 40.375 \r\nQ 26.375 40.375 22.484375 35.828125 \r\nQ 18.609375 31.296875 18.609375 23.390625 \r\nQ 18.609375 15.53125 22.484375 10.953125 \r\nQ 26.375 6.390625 33.015625 6.390625 \r\nQ 39.65625 6.390625 43.53125 10.953125 \r\nQ 47.40625 15.53125 47.40625 23.390625 \r\nQ 47.40625 31.296875 43.53125 35.828125 \r\nQ 39.65625 40.375 33.015625 40.375 \r\nz\r\nM 52.59375 71.296875 \r\nL 52.59375 62.3125 \r\nQ 48.875 64.0625 45.09375 64.984375 \r\nQ 41.3125 65.921875 37.59375 65.921875 \r\nQ 27.828125 65.921875 22.671875 59.328125 \r\nQ 17.53125 52.734375 16.796875 39.40625 \r\nQ 19.671875 43.65625 24.015625 45.921875 \r\nQ 28.375 48.1875 33.59375 48.1875 \r\nQ 44.578125 48.1875 50.953125 41.515625 \r\nQ 57.328125 34.859375 57.328125 23.390625 \r\nQ 57.328125 12.15625 50.6875 5.359375 \r\nQ 44.046875 -1.421875 33.015625 -1.421875 \r\nQ 20.359375 -1.421875 13.671875 8.265625 \r\nQ 6.984375 17.96875 6.984375 36.375 \r\nQ 6.984375 53.65625 15.1875 63.9375 \r\nQ 23.390625 74.21875 37.203125 74.21875 \r\nQ 40.921875 74.21875 44.703125 73.484375 \r\nQ 48.484375 72.75 52.59375 71.296875 \r\nz\r\n\" id=\"DejaVuSans-54\"/>\r\n      </defs>\r\n      <g transform=\"translate(246.942187 261.955)scale(0.18 -0.18)\">\r\n       <use xlink:href=\"#DejaVuSans-48\"/>\r\n       <use x=\"63.623047\" xlink:href=\"#DejaVuSans-46\"/>\r\n       <use x=\"95.410156\" xlink:href=\"#DejaVuSans-54\"/>\r\n      </g>\r\n     </g>\r\n    </g>\r\n    <g id=\"xtick_5\">\r\n     <g id=\"line2d_5\">\r\n      <g>\r\n       <use style=\"stroke:#000000;stroke-width:0.8;\" x=\"328.215\" xlink:href=\"#m34aac18b6c\" y=\"241.277812\"/>\r\n      </g>\r\n     </g>\r\n     <g id=\"text_5\">\r\n      <!-- 0.8 -->\r\n      <defs>\r\n       <path d=\"M 31.78125 34.625 \r\nQ 24.75 34.625 20.71875 30.859375 \r\nQ 16.703125 27.09375 16.703125 20.515625 \r\nQ 16.703125 13.921875 20.71875 10.15625 \r\nQ 24.75 6.390625 31.78125 6.390625 \r\nQ 38.8125 6.390625 42.859375 10.171875 \r\nQ 46.921875 13.96875 46.921875 20.515625 \r\nQ 46.921875 27.09375 42.890625 30.859375 \r\nQ 38.875 34.625 31.78125 34.625 \r\nz\r\nM 21.921875 38.8125 \r\nQ 15.578125 40.375 12.03125 44.71875 \r\nQ 8.5 49.078125 8.5 55.328125 \r\nQ 8.5 64.0625 14.71875 69.140625 \r\nQ 20.953125 74.21875 31.78125 74.21875 \r\nQ 42.671875 74.21875 48.875 69.140625 \r\nQ 55.078125 64.0625 55.078125 55.328125 \r\nQ 55.078125 49.078125 51.53125 44.71875 \r\nQ 48 40.375 41.703125 38.8125 \r\nQ 48.828125 37.15625 52.796875 32.3125 \r\nQ 56.78125 27.484375 56.78125 20.515625 \r\nQ 56.78125 9.90625 50.3125 4.234375 \r\nQ 43.84375 -1.421875 31.78125 -1.421875 \r\nQ 19.734375 -1.421875 13.25 4.234375 \r\nQ 6.78125 9.90625 6.78125 20.515625 \r\nQ 6.78125 27.484375 10.78125 32.3125 \r\nQ 14.796875 37.15625 21.921875 38.8125 \r\nz\r\nM 18.3125 54.390625 \r\nQ 18.3125 48.734375 21.84375 45.5625 \r\nQ 25.390625 42.390625 31.78125 42.390625 \r\nQ 38.140625 42.390625 41.71875 45.5625 \r\nQ 45.3125 48.734375 45.3125 54.390625 \r\nQ 45.3125 60.0625 41.71875 63.234375 \r\nQ 38.140625 66.40625 31.78125 66.40625 \r\nQ 25.390625 66.40625 21.84375 63.234375 \r\nQ 18.3125 60.0625 18.3125 54.390625 \r\nz\r\n\" id=\"DejaVuSans-56\"/>\r\n      </defs>\r\n      <g transform=\"translate(313.902188 261.955)scale(0.18 -0.18)\">\r\n       <use xlink:href=\"#DejaVuSans-48\"/>\r\n       <use x=\"63.623047\" xlink:href=\"#DejaVuSans-46\"/>\r\n       <use x=\"95.410156\" xlink:href=\"#DejaVuSans-56\"/>\r\n      </g>\r\n     </g>\r\n    </g>\r\n    <g id=\"xtick_6\">\r\n     <g id=\"line2d_6\">\r\n      <g>\r\n       <use style=\"stroke:#000000;stroke-width:0.8;\" x=\"395.175\" xlink:href=\"#m34aac18b6c\" y=\"241.277812\"/>\r\n      </g>\r\n     </g>\r\n     <g id=\"text_6\">\r\n      <!-- 1.0 -->\r\n      <defs>\r\n       <path d=\"M 12.40625 8.296875 \r\nL 28.515625 8.296875 \r\nL 28.515625 63.921875 \r\nL 10.984375 60.40625 \r\nL 10.984375 69.390625 \r\nL 28.421875 72.90625 \r\nL 38.28125 72.90625 \r\nL 38.28125 8.296875 \r\nL 54.390625 8.296875 \r\nL 54.390625 0 \r\nL 12.40625 0 \r\nz\r\n\" id=\"DejaVuSans-49\"/>\r\n      </defs>\r\n      <g transform=\"translate(380.862188 261.955)scale(0.18 -0.18)\">\r\n       <use xlink:href=\"#DejaVuSans-49\"/>\r\n       <use x=\"63.623047\" xlink:href=\"#DejaVuSans-46\"/>\r\n       <use x=\"95.410156\" xlink:href=\"#DejaVuSans-48\"/>\r\n      </g>\r\n     </g>\r\n    </g>\r\n    <g id=\"text_7\">\r\n     <!-- FPR -->\r\n     <defs>\r\n      <path d=\"M 9.8125 72.90625 \r\nL 51.703125 72.90625 \r\nL 51.703125 64.59375 \r\nL 19.671875 64.59375 \r\nL 19.671875 43.109375 \r\nL 48.578125 43.109375 \r\nL 48.578125 34.8125 \r\nL 19.671875 34.8125 \r\nL 19.671875 0 \r\nL 9.8125 0 \r\nz\r\n\" id=\"DejaVuSans-70\"/>\r\n      <path d=\"M 19.671875 64.796875 \r\nL 19.671875 37.40625 \r\nL 32.078125 37.40625 \r\nQ 38.96875 37.40625 42.71875 40.96875 \r\nQ 46.484375 44.53125 46.484375 51.125 \r\nQ 46.484375 57.671875 42.71875 61.234375 \r\nQ 38.96875 64.796875 32.078125 64.796875 \r\nz\r\nM 9.8125 72.90625 \r\nL 32.078125 72.90625 \r\nQ 44.34375 72.90625 50.609375 67.359375 \r\nQ 56.890625 61.8125 56.890625 51.125 \r\nQ 56.890625 40.328125 50.609375 34.8125 \r\nQ 44.34375 29.296875 32.078125 29.296875 \r\nL 19.671875 29.296875 \r\nL 19.671875 0 \r\nL 9.8125 0 \r\nz\r\n\" id=\"DejaVuSans-80\"/>\r\n      <path d=\"M 44.390625 34.1875 \r\nQ 47.5625 33.109375 50.5625 29.59375 \r\nQ 53.5625 26.078125 56.59375 19.921875 \r\nL 66.609375 0 \r\nL 56 0 \r\nL 46.6875 18.703125 \r\nQ 43.0625 26.03125 39.671875 28.421875 \r\nQ 36.28125 30.8125 30.421875 30.8125 \r\nL 19.671875 30.8125 \r\nL 19.671875 0 \r\nL 9.8125 0 \r\nL 9.8125 72.90625 \r\nL 32.078125 72.90625 \r\nQ 44.578125 72.90625 50.734375 67.671875 \r\nQ 56.890625 62.453125 56.890625 51.90625 \r\nQ 56.890625 45.015625 53.6875 40.46875 \r\nQ 50.484375 35.9375 44.390625 34.1875 \r\nz\r\nM 19.671875 64.796875 \r\nL 19.671875 38.921875 \r\nL 32.078125 38.921875 \r\nQ 39.203125 38.921875 42.84375 42.21875 \r\nQ 46.484375 45.515625 46.484375 51.90625 \r\nQ 46.484375 58.296875 42.84375 61.546875 \r\nQ 39.203125 64.796875 32.078125 64.796875 \r\nz\r\n\" id=\"DejaVuSans-82\"/>\r\n     </defs>\r\n     <g transform=\"translate(214.664219 280.33625)scale(0.14 -0.14)\">\r\n      <use xlink:href=\"#DejaVuSans-70\"/>\r\n      <use x=\"57.519531\" xlink:href=\"#DejaVuSans-80\"/>\r\n      <use x=\"117.822266\" xlink:href=\"#DejaVuSans-82\"/>\r\n     </g>\r\n    </g>\r\n   </g>\r\n   <g id=\"matplotlib.axis_2\">\r\n    <g id=\"ytick_1\">\r\n     <g id=\"line2d_7\">\r\n      <defs>\r\n       <path d=\"M 0 0 \r\nL -3.5 0 \r\n\" id=\"m688c809647\" style=\"stroke:#000000;stroke-width:0.8;\"/>\r\n      </defs>\r\n      <g>\r\n       <use style=\"stroke:#000000;stroke-width:0.8;\" x=\"60.375\" xlink:href=\"#m688c809647\" y=\"241.277812\"/>\r\n      </g>\r\n     </g>\r\n     <g id=\"text_8\">\r\n      <!-- 0.0 -->\r\n      <g transform=\"translate(24.749375 248.116406)scale(0.18 -0.18)\">\r\n       <use xlink:href=\"#DejaVuSans-48\"/>\r\n       <use x=\"63.623047\" xlink:href=\"#DejaVuSans-46\"/>\r\n       <use x=\"95.410156\" xlink:href=\"#DejaVuSans-48\"/>\r\n      </g>\r\n     </g>\r\n    </g>\r\n    <g id=\"ytick_2\">\r\n     <g id=\"line2d_8\">\r\n      <g>\r\n       <use style=\"stroke:#000000;stroke-width:0.8;\" x=\"60.375\" xlink:href=\"#m688c809647\" y=\"197.789812\"/>\r\n      </g>\r\n     </g>\r\n     <g id=\"text_9\">\r\n      <!-- 0.2 -->\r\n      <g transform=\"translate(24.749375 204.628406)scale(0.18 -0.18)\">\r\n       <use xlink:href=\"#DejaVuSans-48\"/>\r\n       <use x=\"63.623047\" xlink:href=\"#DejaVuSans-46\"/>\r\n       <use x=\"95.410156\" xlink:href=\"#DejaVuSans-50\"/>\r\n      </g>\r\n     </g>\r\n    </g>\r\n    <g id=\"ytick_3\">\r\n     <g id=\"line2d_9\">\r\n      <g>\r\n       <use style=\"stroke:#000000;stroke-width:0.8;\" x=\"60.375\" xlink:href=\"#m688c809647\" y=\"154.301812\"/>\r\n      </g>\r\n     </g>\r\n     <g id=\"text_10\">\r\n      <!-- 0.4 -->\r\n      <g transform=\"translate(24.749375 161.140406)scale(0.18 -0.18)\">\r\n       <use xlink:href=\"#DejaVuSans-48\"/>\r\n       <use x=\"63.623047\" xlink:href=\"#DejaVuSans-46\"/>\r\n       <use x=\"95.410156\" xlink:href=\"#DejaVuSans-52\"/>\r\n      </g>\r\n     </g>\r\n    </g>\r\n    <g id=\"ytick_4\">\r\n     <g id=\"line2d_10\">\r\n      <g>\r\n       <use style=\"stroke:#000000;stroke-width:0.8;\" x=\"60.375\" xlink:href=\"#m688c809647\" y=\"110.813812\"/>\r\n      </g>\r\n     </g>\r\n     <g id=\"text_11\">\r\n      <!-- 0.6 -->\r\n      <g transform=\"translate(24.749375 117.652406)scale(0.18 -0.18)\">\r\n       <use xlink:href=\"#DejaVuSans-48\"/>\r\n       <use x=\"63.623047\" xlink:href=\"#DejaVuSans-46\"/>\r\n       <use x=\"95.410156\" xlink:href=\"#DejaVuSans-54\"/>\r\n      </g>\r\n     </g>\r\n    </g>\r\n    <g id=\"ytick_5\">\r\n     <g id=\"line2d_11\">\r\n      <g>\r\n       <use style=\"stroke:#000000;stroke-width:0.8;\" x=\"60.375\" xlink:href=\"#m688c809647\" y=\"67.325812\"/>\r\n      </g>\r\n     </g>\r\n     <g id=\"text_12\">\r\n      <!-- 0.8 -->\r\n      <g transform=\"translate(24.749375 74.164406)scale(0.18 -0.18)\">\r\n       <use xlink:href=\"#DejaVuSans-48\"/>\r\n       <use x=\"63.623047\" xlink:href=\"#DejaVuSans-46\"/>\r\n       <use x=\"95.410156\" xlink:href=\"#DejaVuSans-56\"/>\r\n      </g>\r\n     </g>\r\n    </g>\r\n    <g id=\"ytick_6\">\r\n     <g id=\"line2d_12\">\r\n      <g>\r\n       <use style=\"stroke:#000000;stroke-width:0.8;\" x=\"60.375\" xlink:href=\"#m688c809647\" y=\"23.837812\"/>\r\n      </g>\r\n     </g>\r\n     <g id=\"text_13\">\r\n      <!-- 1.0 -->\r\n      <g transform=\"translate(24.749375 30.676406)scale(0.18 -0.18)\">\r\n       <use xlink:href=\"#DejaVuSans-49\"/>\r\n       <use x=\"63.623047\" xlink:href=\"#DejaVuSans-46\"/>\r\n       <use x=\"95.410156\" xlink:href=\"#DejaVuSans-48\"/>\r\n      </g>\r\n     </g>\r\n    </g>\r\n    <g id=\"text_14\">\r\n     <!-- TPR -->\r\n     <defs>\r\n      <path d=\"M -0.296875 72.90625 \r\nL 61.375 72.90625 \r\nL 61.375 64.59375 \r\nL 35.5 64.59375 \r\nL 35.5 0 \r\nL 25.59375 0 \r\nL 25.59375 64.59375 \r\nL -0.296875 64.59375 \r\nz\r\n\" id=\"DejaVuSans-84\"/>\r\n     </defs>\r\n     <g transform=\"translate(17.837812 145.917969)rotate(-90)scale(0.14 -0.14)\">\r\n      <use xlink:href=\"#DejaVuSans-84\"/>\r\n      <use x=\"61.083984\" xlink:href=\"#DejaVuSans-80\"/>\r\n      <use x=\"121.386719\" xlink:href=\"#DejaVuSans-82\"/>\r\n     </g>\r\n    </g>\r\n   </g>\r\n   <g id=\"line2d_13\">\r\n    <path clip-path=\"url(#pd5ab3102ac)\" d=\"M 60.375 241.277812 \r\nL 63.723 23.837812 \r\nL 67.071 23.837812 \r\nL 70.419 23.837812 \r\nL 73.767 23.837812 \r\nL 77.115 23.837812 \r\nL 80.463 23.837812 \r\nL 83.811 23.837812 \r\nL 87.159 23.837812 \r\nL 90.507 23.837812 \r\nL 93.855 23.837812 \r\nL 97.203 23.837812 \r\nL 100.551 23.837812 \r\nL 103.899 23.837812 \r\nL 107.247 23.837812 \r\nL 110.595 23.837812 \r\nL 113.943 23.837812 \r\nL 117.291 23.837812 \r\nL 120.639 23.837812 \r\nL 123.987 23.837812 \r\nL 127.335 23.837812 \r\nL 130.683 23.837812 \r\nL 134.031 23.837812 \r\nL 137.379 23.837812 \r\nL 140.727 23.837812 \r\nL 144.075 23.837812 \r\nL 147.423 23.837812 \r\nL 150.771 23.837812 \r\nL 154.119 23.837812 \r\nL 157.467 23.837812 \r\nL 160.815 23.837812 \r\nL 164.163 23.837812 \r\nL 167.511 23.837812 \r\nL 170.859 23.837812 \r\nL 174.207 23.837812 \r\nL 177.555 23.837812 \r\nL 180.903 23.837812 \r\nL 184.251 23.837812 \r\nL 187.599 23.837812 \r\nL 190.947 23.837812 \r\nL 194.295 23.837812 \r\nL 197.643 23.837812 \r\nL 200.991 23.837812 \r\nL 204.339 23.837812 \r\nL 207.687 23.837812 \r\nL 211.035 23.837812 \r\nL 214.383 23.837812 \r\nL 217.731 23.837812 \r\nL 221.079 23.837812 \r\nL 224.427 23.837812 \r\nL 227.775 23.837812 \r\nL 231.123 23.837812 \r\nL 234.471 23.837812 \r\nL 237.819 23.837812 \r\nL 241.167 23.837812 \r\nL 244.515 23.837812 \r\nL 247.863 23.837812 \r\nL 251.211 23.837812 \r\nL 254.559 23.837812 \r\nL 257.907 23.837812 \r\nL 261.255 23.837812 \r\nL 264.603 23.837812 \r\nL 267.951 23.837812 \r\nL 271.299 23.837812 \r\nL 274.647 23.837812 \r\nL 277.995 23.837812 \r\nL 281.343 23.837812 \r\nL 284.691 23.837812 \r\nL 288.039 23.837812 \r\nL 291.387 23.837812 \r\nL 294.735 23.837812 \r\nL 298.083 23.837812 \r\nL 301.431 23.837812 \r\nL 304.779 23.837812 \r\nL 308.127 23.837812 \r\nL 311.475 23.837812 \r\nL 314.823 23.837812 \r\nL 318.171 23.837812 \r\nL 321.519 23.837812 \r\nL 324.867 23.837812 \r\nL 328.215 23.837812 \r\nL 331.563 23.837812 \r\nL 334.911 23.837812 \r\nL 338.259 23.837812 \r\nL 341.607 23.837812 \r\nL 344.955 23.837812 \r\nL 348.303 23.837812 \r\nL 351.651 23.837812 \r\nL 354.999 23.837812 \r\nL 358.347 23.837812 \r\nL 361.695 23.837812 \r\nL 365.043 23.837812 \r\nL 368.391 23.837812 \r\nL 371.739 23.837812 \r\nL 375.087 23.837812 \r\nL 378.435 23.837812 \r\nL 381.783 23.837812 \r\nL 385.131 23.837812 \r\nL 388.479 23.837812 \r\nL 391.827 23.837812 \r\nL 395.175 23.837812 \r\n\" style=\"fill:none;stroke:#000000;stroke-linecap:square;\"/>\r\n   </g>\r\n   <g id=\"line2d_14\">\r\n    <path clip-path=\"url(#pd5ab3102ac)\" d=\"M 60.375 241.277812 \r\nL 395.175 23.837812 \r\n\" style=\"fill:none;stroke:#000000;stroke-dasharray:3.7,1.6;stroke-dashoffset:0;\"/>\r\n   </g>\r\n   <g id=\"patch_3\">\r\n    <path d=\"M 60.375 241.277812 \r\nL 60.375 23.837812 \r\n\" style=\"fill:none;stroke:#000000;stroke-linecap:square;stroke-linejoin:miter;stroke-width:0.8;\"/>\r\n   </g>\r\n   <g id=\"patch_4\">\r\n    <path d=\"M 395.175 241.277812 \r\nL 395.175 23.837812 \r\n\" style=\"fill:none;stroke:#000000;stroke-linecap:square;stroke-linejoin:miter;stroke-width:0.8;\"/>\r\n   </g>\r\n   <g id=\"patch_5\">\r\n    <path d=\"M 60.375 241.277812 \r\nL 395.175 241.277812 \r\n\" style=\"fill:none;stroke:#000000;stroke-linecap:square;stroke-linejoin:miter;stroke-width:0.8;\"/>\r\n   </g>\r\n   <g id=\"patch_6\">\r\n    <path d=\"M 60.375 23.837812 \r\nL 395.175 23.837812 \r\n\" style=\"fill:none;stroke:#000000;stroke-linecap:square;stroke-linejoin:miter;stroke-width:0.8;\"/>\r\n   </g>\r\n   <g id=\"text_15\">\r\n    <!-- 5 Hidden Layers -->\r\n    <defs>\r\n     <path d=\"M 10.796875 72.90625 \r\nL 49.515625 72.90625 \r\nL 49.515625 64.59375 \r\nL 19.828125 64.59375 \r\nL 19.828125 46.734375 \r\nQ 21.96875 47.46875 24.109375 47.828125 \r\nQ 26.265625 48.1875 28.421875 48.1875 \r\nQ 40.625 48.1875 47.75 41.5 \r\nQ 54.890625 34.8125 54.890625 23.390625 \r\nQ 54.890625 11.625 47.5625 5.09375 \r\nQ 40.234375 -1.421875 26.90625 -1.421875 \r\nQ 22.3125 -1.421875 17.546875 -0.640625 \r\nQ 12.796875 0.140625 7.71875 1.703125 \r\nL 7.71875 11.625 \r\nQ 12.109375 9.234375 16.796875 8.0625 \r\nQ 21.484375 6.890625 26.703125 6.890625 \r\nQ 35.15625 6.890625 40.078125 11.328125 \r\nQ 45.015625 15.765625 45.015625 23.390625 \r\nQ 45.015625 31 40.078125 35.4375 \r\nQ 35.15625 39.890625 26.703125 39.890625 \r\nQ 22.75 39.890625 18.8125 39.015625 \r\nQ 14.890625 38.140625 10.796875 36.28125 \r\nz\r\n\" id=\"DejaVuSans-53\"/>\r\n     <path id=\"DejaVuSans-32\"/>\r\n     <path d=\"M 9.8125 72.90625 \r\nL 19.671875 72.90625 \r\nL 19.671875 43.015625 \r\nL 55.515625 43.015625 \r\nL 55.515625 72.90625 \r\nL 65.375 72.90625 \r\nL 65.375 0 \r\nL 55.515625 0 \r\nL 55.515625 34.71875 \r\nL 19.671875 34.71875 \r\nL 19.671875 0 \r\nL 9.8125 0 \r\nz\r\n\" id=\"DejaVuSans-72\"/>\r\n     <path d=\"M 9.421875 54.6875 \r\nL 18.40625 54.6875 \r\nL 18.40625 0 \r\nL 9.421875 0 \r\nz\r\nM 9.421875 75.984375 \r\nL 18.40625 75.984375 \r\nL 18.40625 64.59375 \r\nL 9.421875 64.59375 \r\nz\r\n\" id=\"DejaVuSans-105\"/>\r\n     <path d=\"M 45.40625 46.390625 \r\nL 45.40625 75.984375 \r\nL 54.390625 75.984375 \r\nL 54.390625 0 \r\nL 45.40625 0 \r\nL 45.40625 8.203125 \r\nQ 42.578125 3.328125 38.25 0.953125 \r\nQ 33.9375 -1.421875 27.875 -1.421875 \r\nQ 17.96875 -1.421875 11.734375 6.484375 \r\nQ 5.515625 14.40625 5.515625 27.296875 \r\nQ 5.515625 40.1875 11.734375 48.09375 \r\nQ 17.96875 56 27.875 56 \r\nQ 33.9375 56 38.25 53.625 \r\nQ 42.578125 51.265625 45.40625 46.390625 \r\nz\r\nM 14.796875 27.296875 \r\nQ 14.796875 17.390625 18.875 11.75 \r\nQ 22.953125 6.109375 30.078125 6.109375 \r\nQ 37.203125 6.109375 41.296875 11.75 \r\nQ 45.40625 17.390625 45.40625 27.296875 \r\nQ 45.40625 37.203125 41.296875 42.84375 \r\nQ 37.203125 48.484375 30.078125 48.484375 \r\nQ 22.953125 48.484375 18.875 42.84375 \r\nQ 14.796875 37.203125 14.796875 27.296875 \r\nz\r\n\" id=\"DejaVuSans-100\"/>\r\n     <path d=\"M 56.203125 29.59375 \r\nL 56.203125 25.203125 \r\nL 14.890625 25.203125 \r\nQ 15.484375 15.921875 20.484375 11.0625 \r\nQ 25.484375 6.203125 34.421875 6.203125 \r\nQ 39.59375 6.203125 44.453125 7.46875 \r\nQ 49.3125 8.734375 54.109375 11.28125 \r\nL 54.109375 2.78125 \r\nQ 49.265625 0.734375 44.1875 -0.34375 \r\nQ 39.109375 -1.421875 33.890625 -1.421875 \r\nQ 20.796875 -1.421875 13.15625 6.1875 \r\nQ 5.515625 13.8125 5.515625 26.8125 \r\nQ 5.515625 40.234375 12.765625 48.109375 \r\nQ 20.015625 56 32.328125 56 \r\nQ 43.359375 56 49.78125 48.890625 \r\nQ 56.203125 41.796875 56.203125 29.59375 \r\nz\r\nM 47.21875 32.234375 \r\nQ 47.125 39.59375 43.09375 43.984375 \r\nQ 39.0625 48.390625 32.421875 48.390625 \r\nQ 24.90625 48.390625 20.390625 44.140625 \r\nQ 15.875 39.890625 15.1875 32.171875 \r\nz\r\n\" id=\"DejaVuSans-101\"/>\r\n     <path d=\"M 54.890625 33.015625 \r\nL 54.890625 0 \r\nL 45.90625 0 \r\nL 45.90625 32.71875 \r\nQ 45.90625 40.484375 42.875 44.328125 \r\nQ 39.84375 48.1875 33.796875 48.1875 \r\nQ 26.515625 48.1875 22.3125 43.546875 \r\nQ 18.109375 38.921875 18.109375 30.90625 \r\nL 18.109375 0 \r\nL 9.078125 0 \r\nL 9.078125 54.6875 \r\nL 18.109375 54.6875 \r\nL 18.109375 46.1875 \r\nQ 21.34375 51.125 25.703125 53.5625 \r\nQ 30.078125 56 35.796875 56 \r\nQ 45.21875 56 50.046875 50.171875 \r\nQ 54.890625 44.34375 54.890625 33.015625 \r\nz\r\n\" id=\"DejaVuSans-110\"/>\r\n     <path d=\"M 9.8125 72.90625 \r\nL 19.671875 72.90625 \r\nL 19.671875 8.296875 \r\nL 55.171875 8.296875 \r\nL 55.171875 0 \r\nL 9.8125 0 \r\nz\r\n\" id=\"DejaVuSans-76\"/>\r\n     <path d=\"M 34.28125 27.484375 \r\nQ 23.390625 27.484375 19.1875 25 \r\nQ 14.984375 22.515625 14.984375 16.5 \r\nQ 14.984375 11.71875 18.140625 8.90625 \r\nQ 21.296875 6.109375 26.703125 6.109375 \r\nQ 34.1875 6.109375 38.703125 11.40625 \r\nQ 43.21875 16.703125 43.21875 25.484375 \r\nL 43.21875 27.484375 \r\nz\r\nM 52.203125 31.203125 \r\nL 52.203125 0 \r\nL 43.21875 0 \r\nL 43.21875 8.296875 \r\nQ 40.140625 3.328125 35.546875 0.953125 \r\nQ 30.953125 -1.421875 24.3125 -1.421875 \r\nQ 15.921875 -1.421875 10.953125 3.296875 \r\nQ 6 8.015625 6 15.921875 \r\nQ 6 25.140625 12.171875 29.828125 \r\nQ 18.359375 34.515625 30.609375 34.515625 \r\nL 43.21875 34.515625 \r\nL 43.21875 35.40625 \r\nQ 43.21875 41.609375 39.140625 45 \r\nQ 35.0625 48.390625 27.6875 48.390625 \r\nQ 23 48.390625 18.546875 47.265625 \r\nQ 14.109375 46.140625 10.015625 43.890625 \r\nL 10.015625 52.203125 \r\nQ 14.9375 54.109375 19.578125 55.046875 \r\nQ 24.21875 56 28.609375 56 \r\nQ 40.484375 56 46.34375 49.84375 \r\nQ 52.203125 43.703125 52.203125 31.203125 \r\nz\r\n\" id=\"DejaVuSans-97\"/>\r\n     <path d=\"M 32.171875 -5.078125 \r\nQ 28.375 -14.84375 24.75 -17.8125 \r\nQ 21.140625 -20.796875 15.09375 -20.796875 \r\nL 7.90625 -20.796875 \r\nL 7.90625 -13.28125 \r\nL 13.1875 -13.28125 \r\nQ 16.890625 -13.28125 18.9375 -11.515625 \r\nQ 21 -9.765625 23.484375 -3.21875 \r\nL 25.09375 0.875 \r\nL 2.984375 54.6875 \r\nL 12.5 54.6875 \r\nL 29.59375 11.921875 \r\nL 46.6875 54.6875 \r\nL 56.203125 54.6875 \r\nz\r\n\" id=\"DejaVuSans-121\"/>\r\n     <path d=\"M 41.109375 46.296875 \r\nQ 39.59375 47.171875 37.8125 47.578125 \r\nQ 36.03125 48 33.890625 48 \r\nQ 26.265625 48 22.1875 43.046875 \r\nQ 18.109375 38.09375 18.109375 28.8125 \r\nL 18.109375 0 \r\nL 9.078125 0 \r\nL 9.078125 54.6875 \r\nL 18.109375 54.6875 \r\nL 18.109375 46.1875 \r\nQ 20.953125 51.171875 25.484375 53.578125 \r\nQ 30.03125 56 36.53125 56 \r\nQ 37.453125 56 38.578125 55.875 \r\nQ 39.703125 55.765625 41.0625 55.515625 \r\nz\r\n\" id=\"DejaVuSans-114\"/>\r\n     <path d=\"M 44.28125 53.078125 \r\nL 44.28125 44.578125 \r\nQ 40.484375 46.53125 36.375 47.5 \r\nQ 32.28125 48.484375 27.875 48.484375 \r\nQ 21.1875 48.484375 17.84375 46.4375 \r\nQ 14.5 44.390625 14.5 40.28125 \r\nQ 14.5 37.15625 16.890625 35.375 \r\nQ 19.28125 33.59375 26.515625 31.984375 \r\nL 29.59375 31.296875 \r\nQ 39.15625 29.25 43.1875 25.515625 \r\nQ 47.21875 21.78125 47.21875 15.09375 \r\nQ 47.21875 7.46875 41.1875 3.015625 \r\nQ 35.15625 -1.421875 24.609375 -1.421875 \r\nQ 20.21875 -1.421875 15.453125 -0.5625 \r\nQ 10.6875 0.296875 5.421875 2 \r\nL 5.421875 11.28125 \r\nQ 10.40625 8.6875 15.234375 7.390625 \r\nQ 20.0625 6.109375 24.8125 6.109375 \r\nQ 31.15625 6.109375 34.5625 8.28125 \r\nQ 37.984375 10.453125 37.984375 14.40625 \r\nQ 37.984375 18.0625 35.515625 20.015625 \r\nQ 33.0625 21.96875 24.703125 23.78125 \r\nL 21.578125 24.515625 \r\nQ 13.234375 26.265625 9.515625 29.90625 \r\nQ 5.8125 33.546875 5.8125 39.890625 \r\nQ 5.8125 47.609375 11.28125 51.796875 \r\nQ 16.75 56 26.8125 56 \r\nQ 31.78125 56 36.171875 55.265625 \r\nQ 40.578125 54.546875 44.28125 53.078125 \r\nz\r\n\" id=\"DejaVuSans-115\"/>\r\n    </defs>\r\n    <g transform=\"translate(170.867188 17.837812)scale(0.14 -0.14)\">\r\n     <use xlink:href=\"#DejaVuSans-53\"/>\r\n     <use x=\"63.623047\" xlink:href=\"#DejaVuSans-32\"/>\r\n     <use x=\"95.410156\" xlink:href=\"#DejaVuSans-72\"/>\r\n     <use x=\"170.605469\" xlink:href=\"#DejaVuSans-105\"/>\r\n     <use x=\"198.388672\" xlink:href=\"#DejaVuSans-100\"/>\r\n     <use x=\"261.865234\" xlink:href=\"#DejaVuSans-100\"/>\r\n     <use x=\"325.341797\" xlink:href=\"#DejaVuSans-101\"/>\r\n     <use x=\"386.865234\" xlink:href=\"#DejaVuSans-110\"/>\r\n     <use x=\"450.244141\" xlink:href=\"#DejaVuSans-32\"/>\r\n     <use x=\"482.03125\" xlink:href=\"#DejaVuSans-76\"/>\r\n     <use x=\"537.744141\" xlink:href=\"#DejaVuSans-97\"/>\r\n     <use x=\"599.023438\" xlink:href=\"#DejaVuSans-121\"/>\r\n     <use x=\"658.203125\" xlink:href=\"#DejaVuSans-101\"/>\r\n     <use x=\"719.726562\" xlink:href=\"#DejaVuSans-114\"/>\r\n     <use x=\"760.839844\" xlink:href=\"#DejaVuSans-115\"/>\r\n    </g>\r\n   </g>\r\n   <g id=\"legend_1\">\r\n    <g id=\"patch_7\">\r\n     <path d=\"M 68.775 86.279063 \r\nL 251.655 86.279063 \r\nQ 254.055 86.279063 254.055 83.879063 \r\nL 254.055 32.237812 \r\nQ 254.055 29.837812 251.655 29.837812 \r\nL 68.775 29.837812 \r\nQ 66.375 29.837812 66.375 32.237812 \r\nL 66.375 83.879063 \r\nQ 66.375 86.279063 68.775 86.279063 \r\nz\r\n\" style=\"fill:#ffffff;opacity:0.8;stroke:#cccccc;stroke-linejoin:miter;\"/>\r\n    </g>\r\n    <g id=\"line2d_15\">\r\n     <path d=\"M 71.175 39.555938 \r\nL 95.175 39.555938 \r\n\" style=\"fill:none;stroke:#000000;stroke-linecap:square;\"/>\r\n    </g>\r\n    <g id=\"line2d_16\"/>\r\n    <g id=\"text_16\">\r\n     <!-- mean AUC = 0.995$\\pm$0.0 -->\r\n     <defs>\r\n      <path d=\"M 52 44.1875 \r\nQ 55.375 50.25 60.0625 53.125 \r\nQ 64.75 56 71.09375 56 \r\nQ 79.640625 56 84.28125 50.015625 \r\nQ 88.921875 44.046875 88.921875 33.015625 \r\nL 88.921875 0 \r\nL 79.890625 0 \r\nL 79.890625 32.71875 \r\nQ 79.890625 40.578125 77.09375 44.375 \r\nQ 74.3125 48.1875 68.609375 48.1875 \r\nQ 61.625 48.1875 57.5625 43.546875 \r\nQ 53.515625 38.921875 53.515625 30.90625 \r\nL 53.515625 0 \r\nL 44.484375 0 \r\nL 44.484375 32.71875 \r\nQ 44.484375 40.625 41.703125 44.40625 \r\nQ 38.921875 48.1875 33.109375 48.1875 \r\nQ 26.21875 48.1875 22.15625 43.53125 \r\nQ 18.109375 38.875 18.109375 30.90625 \r\nL 18.109375 0 \r\nL 9.078125 0 \r\nL 9.078125 54.6875 \r\nL 18.109375 54.6875 \r\nL 18.109375 46.1875 \r\nQ 21.1875 51.21875 25.484375 53.609375 \r\nQ 29.78125 56 35.6875 56 \r\nQ 41.65625 56 45.828125 52.96875 \r\nQ 50 49.953125 52 44.1875 \r\nz\r\n\" id=\"DejaVuSans-109\"/>\r\n      <path d=\"M 34.1875 63.1875 \r\nL 20.796875 26.90625 \r\nL 47.609375 26.90625 \r\nz\r\nM 28.609375 72.90625 \r\nL 39.796875 72.90625 \r\nL 67.578125 0 \r\nL 57.328125 0 \r\nL 50.6875 18.703125 \r\nL 17.828125 18.703125 \r\nL 11.1875 0 \r\nL 0.78125 0 \r\nz\r\n\" id=\"DejaVuSans-65\"/>\r\n      <path d=\"M 8.6875 72.90625 \r\nL 18.609375 72.90625 \r\nL 18.609375 28.609375 \r\nQ 18.609375 16.890625 22.84375 11.734375 \r\nQ 27.09375 6.59375 36.625 6.59375 \r\nQ 46.09375 6.59375 50.34375 11.734375 \r\nQ 54.59375 16.890625 54.59375 28.609375 \r\nL 54.59375 72.90625 \r\nL 64.5 72.90625 \r\nL 64.5 27.390625 \r\nQ 64.5 13.140625 57.4375 5.859375 \r\nQ 50.390625 -1.421875 36.625 -1.421875 \r\nQ 22.796875 -1.421875 15.734375 5.859375 \r\nQ 8.6875 13.140625 8.6875 27.390625 \r\nz\r\n\" id=\"DejaVuSans-85\"/>\r\n      <path d=\"M 64.40625 67.28125 \r\nL 64.40625 56.890625 \r\nQ 59.421875 61.53125 53.78125 63.8125 \r\nQ 48.140625 66.109375 41.796875 66.109375 \r\nQ 29.296875 66.109375 22.65625 58.46875 \r\nQ 16.015625 50.828125 16.015625 36.375 \r\nQ 16.015625 21.96875 22.65625 14.328125 \r\nQ 29.296875 6.6875 41.796875 6.6875 \r\nQ 48.140625 6.6875 53.78125 8.984375 \r\nQ 59.421875 11.28125 64.40625 15.921875 \r\nL 64.40625 5.609375 \r\nQ 59.234375 2.09375 53.4375 0.328125 \r\nQ 47.65625 -1.421875 41.21875 -1.421875 \r\nQ 24.65625 -1.421875 15.125 8.703125 \r\nQ 5.609375 18.84375 5.609375 36.375 \r\nQ 5.609375 53.953125 15.125 64.078125 \r\nQ 24.65625 74.21875 41.21875 74.21875 \r\nQ 47.75 74.21875 53.53125 72.484375 \r\nQ 59.328125 70.75 64.40625 67.28125 \r\nz\r\n\" id=\"DejaVuSans-67\"/>\r\n      <path d=\"M 10.59375 45.40625 \r\nL 73.1875 45.40625 \r\nL 73.1875 37.203125 \r\nL 10.59375 37.203125 \r\nz\r\nM 10.59375 25.484375 \r\nL 73.1875 25.484375 \r\nL 73.1875 17.1875 \r\nL 10.59375 17.1875 \r\nz\r\n\" id=\"DejaVuSans-61\"/>\r\n      <path d=\"M 10.984375 1.515625 \r\nL 10.984375 10.5 \r\nQ 14.703125 8.734375 18.5 7.8125 \r\nQ 22.3125 6.890625 25.984375 6.890625 \r\nQ 35.75 6.890625 40.890625 13.453125 \r\nQ 46.046875 20.015625 46.78125 33.40625 \r\nQ 43.953125 29.203125 39.59375 26.953125 \r\nQ 35.25 24.703125 29.984375 24.703125 \r\nQ 19.046875 24.703125 12.671875 31.3125 \r\nQ 6.296875 37.9375 6.296875 49.421875 \r\nQ 6.296875 60.640625 12.9375 67.421875 \r\nQ 19.578125 74.21875 30.609375 74.21875 \r\nQ 43.265625 74.21875 49.921875 64.515625 \r\nQ 56.59375 54.828125 56.59375 36.375 \r\nQ 56.59375 19.140625 48.40625 8.859375 \r\nQ 40.234375 -1.421875 26.421875 -1.421875 \r\nQ 22.703125 -1.421875 18.890625 -0.6875 \r\nQ 15.09375 0.046875 10.984375 1.515625 \r\nz\r\nM 30.609375 32.421875 \r\nQ 37.25 32.421875 41.125 36.953125 \r\nQ 45.015625 41.5 45.015625 49.421875 \r\nQ 45.015625 57.28125 41.125 61.84375 \r\nQ 37.25 66.40625 30.609375 66.40625 \r\nQ 23.96875 66.40625 20.09375 61.84375 \r\nQ 16.21875 57.28125 16.21875 49.421875 \r\nQ 16.21875 41.5 20.09375 36.953125 \r\nQ 23.96875 32.421875 30.609375 32.421875 \r\nz\r\n\" id=\"DejaVuSans-57\"/>\r\n      <path d=\"M 46 62.703125 \r\nL 46 43.796875 \r\nL 73.1875 43.796875 \r\nL 73.1875 35.5 \r\nL 46 35.5 \r\nL 46 16.609375 \r\nL 37.796875 16.609375 \r\nL 37.796875 35.5 \r\nL 10.59375 35.5 \r\nL 10.59375 43.796875 \r\nL 37.796875 43.796875 \r\nL 37.796875 62.703125 \r\nz\r\nM 10.59375 8.296875 \r\nL 73.1875 8.296875 \r\nL 73.1875 0 \r\nL 10.59375 0 \r\nz\r\n\" id=\"DejaVuSans-177\"/>\r\n     </defs>\r\n     <g transform=\"translate(104.775 43.755938)scale(0.12 -0.12)\">\r\n      <use transform=\"translate(0 0.78125)\" xlink:href=\"#DejaVuSans-109\"/>\r\n      <use transform=\"translate(97.412109 0.78125)\" xlink:href=\"#DejaVuSans-101\"/>\r\n      <use transform=\"translate(158.935547 0.78125)\" xlink:href=\"#DejaVuSans-97\"/>\r\n      <use transform=\"translate(220.214844 0.78125)\" xlink:href=\"#DejaVuSans-110\"/>\r\n      <use transform=\"translate(283.59375 0.78125)\" xlink:href=\"#DejaVuSans-32\"/>\r\n      <use transform=\"translate(315.380859 0.78125)\" xlink:href=\"#DejaVuSans-65\"/>\r\n      <use transform=\"translate(383.789062 0.78125)\" xlink:href=\"#DejaVuSans-85\"/>\r\n      <use transform=\"translate(456.982422 0.78125)\" xlink:href=\"#DejaVuSans-67\"/>\r\n      <use transform=\"translate(526.806641 0.78125)\" xlink:href=\"#DejaVuSans-32\"/>\r\n      <use transform=\"translate(558.59375 0.78125)\" xlink:href=\"#DejaVuSans-61\"/>\r\n      <use transform=\"translate(642.382812 0.78125)\" xlink:href=\"#DejaVuSans-32\"/>\r\n      <use transform=\"translate(674.169922 0.78125)\" xlink:href=\"#DejaVuSans-48\"/>\r\n      <use transform=\"translate(737.792969 0.78125)\" xlink:href=\"#DejaVuSans-46\"/>\r\n      <use transform=\"translate(769.580078 0.78125)\" xlink:href=\"#DejaVuSans-57\"/>\r\n      <use transform=\"translate(833.203125 0.78125)\" xlink:href=\"#DejaVuSans-57\"/>\r\n      <use transform=\"translate(896.826172 0.78125)\" xlink:href=\"#DejaVuSans-53\"/>\r\n      <use transform=\"translate(960.449219 0.78125)\" xlink:href=\"#DejaVuSans-177\"/>\r\n      <use transform=\"translate(1044.238281 0.78125)\" xlink:href=\"#DejaVuSans-48\"/>\r\n      <use transform=\"translate(1107.861328 0.78125)\" xlink:href=\"#DejaVuSans-46\"/>\r\n      <use transform=\"translate(1139.648438 0.78125)\" xlink:href=\"#DejaVuSans-48\"/>\r\n     </g>\r\n    </g>\r\n    <g id=\"line2d_17\">\r\n     <path d=\"M 71.175 57.169688 \r\nL 95.175 57.169688 \r\n\" style=\"fill:none;stroke:#000000;stroke-dasharray:3.7,1.6;stroke-dashoffset:0;\"/>\r\n    </g>\r\n    <g id=\"line2d_18\"/>\r\n    <g id=\"text_17\">\r\n     <!-- chance -->\r\n     <defs>\r\n      <path d=\"M 48.78125 52.59375 \r\nL 48.78125 44.1875 \r\nQ 44.96875 46.296875 41.140625 47.34375 \r\nQ 37.3125 48.390625 33.40625 48.390625 \r\nQ 24.65625 48.390625 19.8125 42.84375 \r\nQ 14.984375 37.3125 14.984375 27.296875 \r\nQ 14.984375 17.28125 19.8125 11.734375 \r\nQ 24.65625 6.203125 33.40625 6.203125 \r\nQ 37.3125 6.203125 41.140625 7.25 \r\nQ 44.96875 8.296875 48.78125 10.40625 \r\nL 48.78125 2.09375 \r\nQ 45.015625 0.34375 40.984375 -0.53125 \r\nQ 36.96875 -1.421875 32.421875 -1.421875 \r\nQ 20.0625 -1.421875 12.78125 6.34375 \r\nQ 5.515625 14.109375 5.515625 27.296875 \r\nQ 5.515625 40.671875 12.859375 48.328125 \r\nQ 20.21875 56 33.015625 56 \r\nQ 37.15625 56 41.109375 55.140625 \r\nQ 45.0625 54.296875 48.78125 52.59375 \r\nz\r\n\" id=\"DejaVuSans-99\"/>\r\n      <path d=\"M 54.890625 33.015625 \r\nL 54.890625 0 \r\nL 45.90625 0 \r\nL 45.90625 32.71875 \r\nQ 45.90625 40.484375 42.875 44.328125 \r\nQ 39.84375 48.1875 33.796875 48.1875 \r\nQ 26.515625 48.1875 22.3125 43.546875 \r\nQ 18.109375 38.921875 18.109375 30.90625 \r\nL 18.109375 0 \r\nL 9.078125 0 \r\nL 9.078125 75.984375 \r\nL 18.109375 75.984375 \r\nL 18.109375 46.1875 \r\nQ 21.34375 51.125 25.703125 53.5625 \r\nQ 30.078125 56 35.796875 56 \r\nQ 45.21875 56 50.046875 50.171875 \r\nQ 54.890625 44.34375 54.890625 33.015625 \r\nz\r\n\" id=\"DejaVuSans-104\"/>\r\n     </defs>\r\n     <g transform=\"translate(104.775 61.369688)scale(0.12 -0.12)\">\r\n      <use xlink:href=\"#DejaVuSans-99\"/>\r\n      <use x=\"54.980469\" xlink:href=\"#DejaVuSans-104\"/>\r\n      <use x=\"118.359375\" xlink:href=\"#DejaVuSans-97\"/>\r\n      <use x=\"179.638672\" xlink:href=\"#DejaVuSans-110\"/>\r\n      <use x=\"243.017578\" xlink:href=\"#DejaVuSans-99\"/>\r\n      <use x=\"297.998047\" xlink:href=\"#DejaVuSans-101\"/>\r\n     </g>\r\n    </g>\r\n    <g id=\"patch_8\">\r\n     <path d=\"M 71.175 78.983438 \r\nL 95.175 78.983438 \r\nL 95.175 70.583438 \r\nL 71.175 70.583438 \r\nz\r\n\" style=\"fill:#ff0000;opacity:0.2;stroke:#ff0000;stroke-linejoin:miter;\"/>\r\n    </g>\r\n    <g id=\"text_18\">\r\n     <!-- $\\pm1$ stdev -->\r\n     <defs>\r\n      <path d=\"M 18.3125 70.21875 \r\nL 18.3125 54.6875 \r\nL 36.8125 54.6875 \r\nL 36.8125 47.703125 \r\nL 18.3125 47.703125 \r\nL 18.3125 18.015625 \r\nQ 18.3125 11.328125 20.140625 9.421875 \r\nQ 21.96875 7.515625 27.59375 7.515625 \r\nL 36.8125 7.515625 \r\nL 36.8125 0 \r\nL 27.59375 0 \r\nQ 17.1875 0 13.234375 3.875 \r\nQ 9.28125 7.765625 9.28125 18.015625 \r\nL 9.28125 47.703125 \r\nL 2.6875 47.703125 \r\nL 2.6875 54.6875 \r\nL 9.28125 54.6875 \r\nL 9.28125 70.21875 \r\nz\r\n\" id=\"DejaVuSans-116\"/>\r\n      <path d=\"M 2.984375 54.6875 \r\nL 12.5 54.6875 \r\nL 29.59375 8.796875 \r\nL 46.6875 54.6875 \r\nL 56.203125 54.6875 \r\nL 35.6875 0 \r\nL 23.484375 0 \r\nz\r\n\" id=\"DejaVuSans-118\"/>\r\n     </defs>\r\n     <g transform=\"translate(104.775 78.983438)scale(0.12 -0.12)\">\r\n      <use transform=\"translate(0 0.015625)\" xlink:href=\"#DejaVuSans-177\"/>\r\n      <use transform=\"translate(83.789062 0.015625)\" xlink:href=\"#DejaVuSans-49\"/>\r\n      <use transform=\"translate(147.412109 0.015625)\" xlink:href=\"#DejaVuSans-32\"/>\r\n      <use transform=\"translate(179.199219 0.015625)\" xlink:href=\"#DejaVuSans-115\"/>\r\n      <use transform=\"translate(231.298828 0.015625)\" xlink:href=\"#DejaVuSans-116\"/>\r\n      <use transform=\"translate(270.507812 0.015625)\" xlink:href=\"#DejaVuSans-100\"/>\r\n      <use transform=\"translate(333.984375 0.015625)\" xlink:href=\"#DejaVuSans-101\"/>\r\n      <use transform=\"translate(395.507812 0.015625)\" xlink:href=\"#DejaVuSans-118\"/>\r\n     </g>\r\n    </g>\r\n   </g>\r\n  </g>\r\n </g>\r\n <defs>\r\n  <clipPath id=\"pd5ab3102ac\">\r\n   <rect height=\"217.44\" width=\"334.8\" x=\"60.375\" y=\"23.837812\"/>\r\n  </clipPath>\r\n </defs>\r\n</svg>\r\n",
      "image/png": "[encoded data removed]"
     },
     "metadata": {
      "needs_background": "light"
     }
    }
   ],
   "source": [
    "plt.plot(base_fpr_cv, mean_tprs_cv, color='k', linewidth=1)\n",
    "#plt.plot(base_fpr_model, tpr_model,color='r',linewidth=1)\n",
    "plt.fill_between(base_fpr_cv, tprs_lower, tprs_upper, alpha=0.2, color='r')\n",
    "\n",
    "plt.plot([0, 1], [0, 1], 'k--', linewidth=1)\n",
    "plt.xlim([0, 1])\n",
    "plt.ylim([0, 1])\n",
    "plt.title('5 Hidden Layers', fontsize=14)\n",
    "plt.ylabel('TPR', fontsize=14)\n",
    "plt.xlabel('FPR', fontsize=14)\n",
    "plt.legend(['mean AUC = ' + str(round(auc_cv, 3)) + '$\\pm$' + str(round(np.mean(std_cv), 3)), 'chance', '$\\pm1$ stdev'],\n",
    "           fontsize=12)\n",
    "\n",
    "plt.show()"
   ]
  },
  {
   "cell_type": "code",
   "execution_count": 1,
   "metadata": {},
   "outputs": [],
   "source": [
    "def plot_confusion_matrix(cm, target_names, title='Confusion matrix', cmap=None, normalize=True, cbar=True):\n",
    "    accuracy = np.trace(cm) / np.sum(cm).astype('float')\n",
    "    misclass = 1 - accuracy\n",
    "\n",
    "    if cmap is None:\n",
    "        cmap = plt.get_cmap('Blues')\n",
    "\n",
    "    plt.figure(figsize=(8, 6))\n",
    "    plt.imshow(cm, interpolation='nearest', cmap=cmap)\n",
    "    plt.title(title)\n",
    "\n",
    "    if target_names is not None:\n",
    "        tick_marks = np.arange(len(target_names))\n",
    "        plt.xticks(tick_marks, target_names)\n",
    "        plt.yticks(tick_marks, target_names, rotation=90, verticalalignment='center')\n",
    "#         plt.yticks([], ['', ''])\n",
    "\n",
    "    if normalize:\n",
    "        cm = cm.astype('float') / cm.sum(axis=1)[:, np.newaxis]\n",
    "\n",
    "    thresh = cm.max() / 1.5 if normalize else cm.max() / 2\n",
    "    for i, j in itertools.product(range(cm.shape[0]), range(cm.shape[1])):\n",
    "        if normalize:\n",
    "            plt.text(j, i, \"{:0.4f}\".format(cm[i, j]),\n",
    "                     horizontalalignment=\"center\",\n",
    "                     color=\"white\" if cm[i, j] > thresh else \"black\")\n",
    "        else:\n",
    "            plt.text(j, i, \"{:,}\".format(cm[i, j]),\n",
    "                     horizontalalignment=\"center\",\n",
    "                     color=\"white\" if cm[i, j] > thresh else \"black\")\n",
    "    if cbar:\n",
    "        plt.colorbar()\n",
    "\n",
    "    plt.tight_layout()\n",
    "    plt.ylabel('True')\n",
    "    plt.xlabel('Predicted\\naccuracy={:0.3f}; misclass={:0.3f}'.format(accuracy, misclass))\n",
    "    plt.show()"
   ]
  },
  {
   "cell_type": "code",
   "execution_count": null,
   "metadata": {},
   "outputs": [],
   "source": []
  }
 ],
 "metadata": {
  "language_info": {
   "codemirror_mode": {
    "name": "ipython",
    "version": 3
   },
   "file_extension": ".py",
   "mimetype": "text/x-python",
   "name": "python",
   "nbconvert_exporter": "python",
   "pygments_lexer": "ipython3",
   "version": "3.7.6-final"
  },
  "orig_nbformat": 2,
  "kernelspec": {
   "name": "python3",
   "display_name": "Python 3"
  }
 },
 "nbformat": 4,
 "nbformat_minor": 2
}