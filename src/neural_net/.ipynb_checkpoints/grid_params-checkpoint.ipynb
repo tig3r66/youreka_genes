{
 "cells": [
  {
   "cell_type": "code",
   "execution_count": 1,
   "metadata": {
    "tags": []
   },
   "outputs": [],
   "source": [
    "import itertools\n",
    "import pandas as pd\n",
    "# for gridsearch\n",
    "from sklearn.model_selection import GridSearchCV\n",
    "from tensorflow.keras.wrappers.scikit_learn import KerasClassifier\n",
    "# for evaluation\n",
    "from sklearn.model_selection import StratifiedKFold, cross_val_score\n",
    "from sklearn.metrics import classification_report, confusion_matrix, roc_curve, auc\n",
    "# build functions\n",
    "import build_fns as build"
   ]
  },
  {
   "cell_type": "code",
   "execution_count": 2,
   "metadata": {},
   "outputs": [],
   "source": [
    "# reading in training dataset\n",
    "X_train = pd.read_csv('split_data/X_train.csv').values\n",
    "y_train = pd.read_csv('split_data/y_train.csv').values"
   ]
  },
  {
   "cell_type": "markdown",
   "metadata": {},
   "source": [
    "# Gridsearch"
   ]
  },
  {
   "cell_type": "code",
   "execution_count": 3,
   "metadata": {},
   "outputs": [],
   "source": [
    "# parameters\n",
    "epochs = [25, 50, 75]\n",
    "batches = [16, 32, 64]\n",
    "optimizers = ['sgd', 'adagrad', 'adam']\n",
    "neurons = [50, 100, 150]\n",
    "kernel_regularizer = [1e-4, 1e-3, 1e-2]\n",
    "# parameter grid\n",
    "param_grid = dict(epochs=epochs,\n",
    "                  batch_size=batches,\n",
    "                  optimizer=optimizers,\n",
    "                  neurons=neurons,\n",
    "                  kernel_regularizer=kernel_regularizer)"
   ]
  },
  {
   "cell_type": "code",
   "execution_count": 4,
   "metadata": {},
   "outputs": [],
   "source": [
    "def gridsearch(model, grid, X, y):\n",
    "    grid = GridSearchCV(estimator=model, param_grid=grid, cv=3, verbose=0, n_jobs=-1)\n",
    "    grid_result = grid.fit(X, y)\n",
    "    return grid_result"
   ]
  },
  {
   "cell_type": "markdown",
   "metadata": {},
   "source": [
    "## 1 Hidden Layer"
   ]
  },
  {
   "cell_type": "code",
   "execution_count": 5,
   "metadata": {
    "scrolled": true
   },
   "outputs": [
    {
     "name": "stdout",
     "output_type": "stream",
     "text": [
      "Train on 578 samples\n",
      "Epoch 1/50\n",
      "578/578 [==============================] - 2s 3ms/sample - loss: 0.6642 - accuracy: 0.7993\n",
      "Epoch 2/50\n",
      "578/578 [==============================] - 0s 169us/sample - loss: 0.4929 - accuracy: 0.8633\n",
      "Epoch 3/50\n",
      "578/578 [==============================] - 0s 163us/sample - loss: 0.4418 - accuracy: 0.8875\n",
      "Epoch 4/50\n",
      "578/578 [==============================] - 0s 166us/sample - loss: 0.4093 - accuracy: 0.8997\n",
      "Epoch 5/50\n",
      "578/578 [==============================] - 0s 165us/sample - loss: 0.3896 - accuracy: 0.9135\n",
      "Epoch 6/50\n",
      "578/578 [==============================] - 0s 165us/sample - loss: 0.3635 - accuracy: 0.9221\n",
      "Epoch 7/50\n",
      "578/578 [==============================] - 0s 163us/sample - loss: 0.3732 - accuracy: 0.9135\n",
      "Epoch 8/50\n",
      "578/578 [==============================] - 0s 165us/sample - loss: 0.3281 - accuracy: 0.9464\n",
      "Epoch 9/50\n",
      "578/578 [==============================] - 0s 164us/sample - loss: 0.3213 - accuracy: 0.9360\n",
      "Epoch 10/50\n",
      "578/578 [==============================] - 0s 164us/sample - loss: 0.3034 - accuracy: 0.9446\n",
      "Epoch 11/50\n",
      "578/578 [==============================] - 0s 164us/sample - loss: 0.2895 - accuracy: 0.9412\n",
      "Epoch 12/50\n",
      "578/578 [==============================] - 0s 164us/sample - loss: 0.2740 - accuracy: 0.9481\n",
      "Epoch 13/50\n",
      "578/578 [==============================] - 0s 164us/sample - loss: 0.2788 - accuracy: 0.9377\n",
      "Epoch 14/50\n",
      "578/578 [==============================] - 0s 165us/sample - loss: 0.2571 - accuracy: 0.9619\n",
      "Epoch 15/50\n",
      "578/578 [==============================] - 0s 163us/sample - loss: 0.2578 - accuracy: 0.9585\n",
      "Epoch 16/50\n",
      "578/578 [==============================] - 0s 165us/sample - loss: 0.2436 - accuracy: 0.9585\n",
      "Epoch 17/50\n",
      "578/578 [==============================] - 0s 163us/sample - loss: 0.2638 - accuracy: 0.9498\n",
      "Epoch 18/50\n",
      "578/578 [==============================] - 0s 165us/sample - loss: 0.2577 - accuracy: 0.9585\n",
      "Epoch 19/50\n",
      "578/578 [==============================] - 0s 165us/sample - loss: 0.2289 - accuracy: 0.9706\n",
      "Epoch 20/50\n",
      "578/578 [==============================] - 0s 164us/sample - loss: 0.2330 - accuracy: 0.9654\n",
      "Epoch 21/50\n",
      "578/578 [==============================] - 0s 164us/sample - loss: 0.2187 - accuracy: 0.9689\n",
      "Epoch 22/50\n",
      "578/578 [==============================] - 0s 164us/sample - loss: 0.2161 - accuracy: 0.9740\n",
      "Epoch 23/50\n",
      "578/578 [==============================] - 0s 167us/sample - loss: 0.2378 - accuracy: 0.9533\n",
      "Epoch 24/50\n",
      "578/578 [==============================] - 0s 165us/sample - loss: 0.2225 - accuracy: 0.9637\n",
      "Epoch 25/50\n",
      "578/578 [==============================] - 0s 166us/sample - loss: 0.2102 - accuracy: 0.9740\n",
      "Epoch 26/50\n",
      "578/578 [==============================] - 0s 166us/sample - loss: 0.2257 - accuracy: 0.9533\n",
      "Epoch 27/50\n",
      "578/578 [==============================] - 0s 166us/sample - loss: 0.2112 - accuracy: 0.9792\n",
      "Epoch 28/50\n",
      "578/578 [==============================] - 0s 166us/sample - loss: 0.2297 - accuracy: 0.9637\n",
      "Epoch 29/50\n",
      "578/578 [==============================] - 0s 165us/sample - loss: 0.2147 - accuracy: 0.9723\n",
      "Epoch 30/50\n",
      "578/578 [==============================] - 0s 165us/sample - loss: 0.2147 - accuracy: 0.9740\n",
      "Epoch 31/50\n",
      "578/578 [==============================] - 0s 165us/sample - loss: 0.1855 - accuracy: 0.9844\n",
      "Epoch 32/50\n",
      "578/578 [==============================] - 0s 166us/sample - loss: 0.1707 - accuracy: 0.9844\n",
      "Epoch 33/50\n",
      "578/578 [==============================] - 0s 165us/sample - loss: 0.2043 - accuracy: 0.9706\n",
      "Epoch 34/50\n",
      "578/578 [==============================] - 0s 165us/sample - loss: 0.2086 - accuracy: 0.9689\n",
      "Epoch 35/50\n",
      "578/578 [==============================] - 0s 165us/sample - loss: 0.1880 - accuracy: 0.9758\n",
      "Epoch 36/50\n",
      "578/578 [==============================] - 0s 165us/sample - loss: 0.1738 - accuracy: 0.9862\n",
      "Epoch 37/50\n",
      "578/578 [==============================] - 0s 165us/sample - loss: 0.1746 - accuracy: 0.9758\n",
      "Epoch 38/50\n",
      "578/578 [==============================] - 0s 166us/sample - loss: 0.1708 - accuracy: 0.9792\n",
      "Epoch 39/50\n",
      "578/578 [==============================] - 0s 166us/sample - loss: 0.1569 - accuracy: 0.9896\n",
      "Epoch 40/50\n",
      "578/578 [==============================] - 0s 166us/sample - loss: 0.1613 - accuracy: 0.9827\n",
      "Epoch 41/50\n",
      "578/578 [==============================] - 0s 168us/sample - loss: 0.1954 - accuracy: 0.9775\n",
      "Epoch 42/50\n",
      "578/578 [==============================] - 0s 166us/sample - loss: 0.2092 - accuracy: 0.9654\n",
      "Epoch 43/50\n",
      "578/578 [==============================] - 0s 168us/sample - loss: 0.1865 - accuracy: 0.9723\n",
      "Epoch 44/50\n",
      "578/578 [==============================] - 0s 167us/sample - loss: 0.1694 - accuracy: 0.9792\n",
      "Epoch 45/50\n",
      "578/578 [==============================] - 0s 167us/sample - loss: 0.1644 - accuracy: 0.9775\n",
      "Epoch 46/50\n",
      "578/578 [==============================] - 0s 166us/sample - loss: 0.1755 - accuracy: 0.9740\n",
      "Epoch 47/50\n",
      "578/578 [==============================] - 0s 168us/sample - loss: 0.2142 - accuracy: 0.9585\n",
      "Epoch 48/50\n",
      "578/578 [==============================] - 0s 167us/sample - loss: 0.2001 - accuracy: 0.9619\n",
      "Epoch 49/50\n",
      "578/578 [==============================] - 0s 168us/sample - loss: 0.1962 - accuracy: 0.9689\n",
      "Epoch 50/50\n",
      "578/578 [==============================] - 0s 167us/sample - loss: 0.2047 - accuracy: 0.9671\n"
     ]
    }
   ],
   "source": [
    "gmodel1 = KerasClassifier(build_fn=build.hidden1)\n",
    "grid_result1 = gridsearch(gmodel1, param_grid, X_train, y_train)"
   ]
  },
  {
   "cell_type": "code",
   "execution_count": 6,
   "metadata": {},
   "outputs": [
    {
     "name": "stdout",
     "output_type": "stream",
     "text": [
      "Best: 0.915272 using {'batch_size': 32, 'epochs': 50, 'kernel_regularizer': 0.001, 'neurons': 150, 'optimizer': 'adam'} for 1 hidden layer\n"
     ]
    }
   ],
   "source": [
    "print(\"Best: %f using %s for 1 hidden layer\" % (grid_result1.best_score_, grid_result1.best_params_))"
   ]
  },
  {
   "cell_type": "markdown",
   "metadata": {},
   "source": [
    "## 5 Hidden Layers"
   ]
  },
  {
   "cell_type": "code",
   "execution_count": 7,
   "metadata": {
    "scrolled": true
   },
   "outputs": [
    {
     "name": "stdout",
     "output_type": "stream",
     "text": [
      "Train on 578 samples\n",
      "Epoch 1/75\n",
      "578/578 [==============================] - 4s 6ms/sample - loss: 1.4428 - accuracy: 0.6817\n",
      "Epoch 2/75\n",
      "578/578 [==============================] - 0s 825us/sample - loss: 1.2787 - accuracy: 0.7958\n",
      "Epoch 3/75\n",
      "578/578 [==============================] - 0s 823us/sample - loss: 1.2738 - accuracy: 0.7768\n",
      "Epoch 4/75\n",
      "578/578 [==============================] - 0s 827us/sample - loss: 1.1812 - accuracy: 0.8114\n",
      "Epoch 5/75\n",
      "578/578 [==============================] - 0s 832us/sample - loss: 1.1902 - accuracy: 0.8149\n",
      "Epoch 6/75\n",
      "578/578 [==============================] - 0s 833us/sample - loss: 1.1276 - accuracy: 0.8253\n",
      "Epoch 7/75\n",
      "578/578 [==============================] - 0s 838us/sample - loss: 1.1530 - accuracy: 0.8149\n",
      "Epoch 8/75\n",
      "578/578 [==============================] - 0s 829us/sample - loss: 1.1480 - accuracy: 0.8114\n",
      "Epoch 9/75\n",
      "578/578 [==============================] - 0s 838us/sample - loss: 1.1656 - accuracy: 0.7941\n",
      "Epoch 10/75\n",
      "578/578 [==============================] - 0s 861us/sample - loss: 1.1282 - accuracy: 0.8304\n",
      "Epoch 11/75\n",
      "578/578 [==============================] - 1s 866us/sample - loss: 1.0627 - accuracy: 0.8512\n",
      "Epoch 12/75\n",
      "578/578 [==============================] - 1s 904us/sample - loss: 1.0519 - accuracy: 0.8408\n",
      "Epoch 13/75\n",
      "578/578 [==============================] - 1s 912us/sample - loss: 1.0901 - accuracy: 0.8270\n",
      "Epoch 14/75\n",
      "578/578 [==============================] - 1s 937us/sample - loss: 1.0619 - accuracy: 0.8512\n",
      "Epoch 15/75\n",
      "578/578 [==============================] - 1s 946us/sample - loss: 1.0416 - accuracy: 0.8512\n",
      "Epoch 16/75\n",
      "578/578 [==============================] - 1s 932us/sample - loss: 1.0084 - accuracy: 0.8651\n",
      "Epoch 17/75\n",
      "578/578 [==============================] - 1s 928us/sample - loss: 0.9902 - accuracy: 0.8651\n",
      "Epoch 18/75\n",
      "578/578 [==============================] - 1s 931us/sample - loss: 0.9957 - accuracy: 0.8633\n",
      "Epoch 19/75\n",
      "578/578 [==============================] - 1s 931us/sample - loss: 0.9686 - accuracy: 0.8806\n",
      "Epoch 20/75\n",
      "578/578 [==============================] - 1s 926us/sample - loss: 0.9537 - accuracy: 0.8616\n",
      "Epoch 21/75\n",
      "578/578 [==============================] - 1s 932us/sample - loss: 1.0253 - accuracy: 0.8581\n",
      "Epoch 22/75\n",
      "578/578 [==============================] - 1s 919us/sample - loss: 0.9644 - accuracy: 0.8772\n",
      "Epoch 23/75\n",
      "578/578 [==============================] - 1s 928us/sample - loss: 0.9658 - accuracy: 0.8720\n",
      "Epoch 24/75\n",
      "578/578 [==============================] - 1s 913us/sample - loss: 0.9783 - accuracy: 0.8616\n",
      "Epoch 25/75\n",
      "578/578 [==============================] - 1s 925us/sample - loss: 0.9339 - accuracy: 0.8858\n",
      "Epoch 26/75\n",
      "578/578 [==============================] - 1s 911us/sample - loss: 0.9172 - accuracy: 0.8945\n",
      "Epoch 27/75\n",
      "578/578 [==============================] - 1s 914us/sample - loss: 0.9008 - accuracy: 0.8927\n",
      "Epoch 28/75\n",
      "578/578 [==============================] - 1s 905us/sample - loss: 0.9212 - accuracy: 0.8702\n",
      "Epoch 29/75\n",
      "578/578 [==============================] - 1s 917us/sample - loss: 0.9191 - accuracy: 0.8702\n",
      "Epoch 30/75\n",
      "578/578 [==============================] - 1s 926us/sample - loss: 0.9368 - accuracy: 0.8806\n",
      "Epoch 31/75\n",
      "578/578 [==============================] - 1s 943us/sample - loss: 0.9111 - accuracy: 0.8979\n",
      "Epoch 32/75\n",
      "578/578 [==============================] - 1s 903us/sample - loss: 0.8819 - accuracy: 0.8893\n",
      "Epoch 33/75\n",
      "578/578 [==============================] - 1s 905us/sample - loss: 0.8679 - accuracy: 0.8997\n",
      "Epoch 34/75\n",
      "578/578 [==============================] - 1s 907us/sample - loss: 0.9316 - accuracy: 0.8702\n",
      "Epoch 35/75\n",
      "578/578 [==============================] - 1s 907us/sample - loss: 0.8955 - accuracy: 0.8858\n",
      "Epoch 36/75\n",
      "578/578 [==============================] - 1s 908us/sample - loss: 0.8589 - accuracy: 0.8875\n",
      "Epoch 37/75\n",
      "578/578 [==============================] - 1s 908us/sample - loss: 0.8612 - accuracy: 0.8927\n",
      "Epoch 38/75\n",
      "578/578 [==============================] - 1s 914us/sample - loss: 0.8509 - accuracy: 0.9066\n",
      "Epoch 39/75\n",
      "578/578 [==============================] - 1s 897us/sample - loss: 0.8546 - accuracy: 0.8945\n",
      "Epoch 40/75\n",
      "578/578 [==============================] - 1s 915us/sample - loss: 0.8376 - accuracy: 0.8945\n",
      "Epoch 41/75\n",
      "578/578 [==============================] - 1s 901us/sample - loss: 0.8430 - accuracy: 0.9100\n",
      "Epoch 42/75\n",
      "578/578 [==============================] - 1s 917us/sample - loss: 0.7992 - accuracy: 0.9273\n",
      "Epoch 43/75\n",
      "578/578 [==============================] - 1s 927us/sample - loss: 0.8173 - accuracy: 0.9083\n",
      "Epoch 44/75\n",
      "578/578 [==============================] - 1s 925us/sample - loss: 0.8516 - accuracy: 0.8789\n",
      "Epoch 45/75\n",
      "578/578 [==============================] - 1s 930us/sample - loss: 0.8177 - accuracy: 0.9014\n",
      "Epoch 46/75\n",
      "578/578 [==============================] - 1s 920us/sample - loss: 0.7981 - accuracy: 0.9187\n",
      "Epoch 47/75\n",
      "578/578 [==============================] - 1s 919us/sample - loss: 0.8036 - accuracy: 0.9083\n",
      "Epoch 48/75\n",
      "578/578 [==============================] - 1s 907us/sample - loss: 0.8108 - accuracy: 0.8997\n",
      "Epoch 49/75\n",
      "578/578 [==============================] - 1s 911us/sample - loss: 0.7674 - accuracy: 0.9187\n",
      "Epoch 50/75\n",
      "578/578 [==============================] - 1s 910us/sample - loss: 0.8144 - accuracy: 0.8979\n",
      "Epoch 51/75\n",
      "578/578 [==============================] - 1s 921us/sample - loss: 0.7718 - accuracy: 0.9170\n",
      "Epoch 52/75\n",
      "578/578 [==============================] - 1s 913us/sample - loss: 0.7727 - accuracy: 0.9152\n",
      "Epoch 53/75\n",
      "578/578 [==============================] - 1s 925us/sample - loss: 0.7726 - accuracy: 0.9239\n",
      "Epoch 54/75\n",
      "578/578 [==============================] - 1s 911us/sample - loss: 0.7477 - accuracy: 0.9221\n",
      "Epoch 55/75\n",
      "578/578 [==============================] - 1s 923us/sample - loss: 0.7184 - accuracy: 0.9412\n",
      "Epoch 56/75\n",
      "578/578 [==============================] - 1s 905us/sample - loss: 0.7392 - accuracy: 0.9325\n",
      "Epoch 57/75\n",
      "578/578 [==============================] - 1s 931us/sample - loss: 0.7313 - accuracy: 0.9273\n",
      "Epoch 58/75\n",
      "578/578 [==============================] - 1s 904us/sample - loss: 0.7869 - accuracy: 0.9048\n",
      "Epoch 59/75\n",
      "578/578 [==============================] - 1s 924us/sample - loss: 0.7599 - accuracy: 0.9118\n",
      "Epoch 60/75\n",
      "578/578 [==============================] - 1s 905us/sample - loss: 0.7242 - accuracy: 0.9273\n",
      "Epoch 61/75\n",
      "578/578 [==============================] - 1s 928us/sample - loss: 0.7355 - accuracy: 0.9204\n",
      "Epoch 62/75\n",
      "578/578 [==============================] - 1s 908us/sample - loss: 0.7226 - accuracy: 0.9273\n",
      "Epoch 63/75\n",
      "578/578 [==============================] - 1s 923us/sample - loss: 0.6555 - accuracy: 0.9602\n",
      "Epoch 64/75\n",
      "578/578 [==============================] - 1s 880us/sample - loss: 0.7244 - accuracy: 0.9221\n",
      "Epoch 65/75\n",
      "578/578 [==============================] - 1s 907us/sample - loss: 0.6908 - accuracy: 0.9308\n",
      "Epoch 66/75\n",
      "578/578 [==============================] - 1s 917us/sample - loss: 0.6409 - accuracy: 0.9516\n",
      "Epoch 67/75\n",
      "578/578 [==============================] - 1s 910us/sample - loss: 0.6550 - accuracy: 0.9394\n",
      "Epoch 68/75\n",
      "578/578 [==============================] - 1s 910us/sample - loss: 0.6439 - accuracy: 0.9481\n",
      "Epoch 69/75\n",
      "578/578 [==============================] - 1s 904us/sample - loss: 0.6471 - accuracy: 0.9394\n",
      "Epoch 70/75\n",
      "578/578 [==============================] - 1s 918us/sample - loss: 0.6587 - accuracy: 0.9429\n",
      "Epoch 71/75\n",
      "578/578 [==============================] - 1s 898us/sample - loss: 0.6553 - accuracy: 0.9343\n",
      "Epoch 72/75\n",
      "578/578 [==============================] - 1s 920us/sample - loss: 0.6759 - accuracy: 0.9343\n",
      "Epoch 73/75\n",
      "578/578 [==============================] - 1s 902us/sample - loss: 0.6840 - accuracy: 0.9377\n",
      "Epoch 74/75\n",
      "578/578 [==============================] - 1s 920us/sample - loss: 0.6513 - accuracy: 0.9325\n",
      "Epoch 75/75\n",
      "578/578 [==============================] - 1s 902us/sample - loss: 0.6740 - accuracy: 0.9308\n"
     ]
    }
   ],
   "source": [
    "gmodel5 = KerasClassifier(build_fn=build.hidden5)\n",
    "grid_result5 = gridsearch(gmodel5, param_grid, X_train, y_train)"
   ]
  },
  {
   "cell_type": "code",
   "execution_count": 8,
   "metadata": {},
   "outputs": [
    {
     "name": "stdout",
     "output_type": "stream",
     "text": [
      "Best: 0.908310 using {'batch_size': 16, 'epochs': 75, 'kernel_regularizer': 0.001, 'neurons': 150, 'optimizer': 'adam'} for 5 hidden layers\n"
     ]
    }
   ],
   "source": [
    "print(\"Best: %f using %s for 5 hidden layers\" % (grid_result5.best_score_, grid_result5.best_params_))"
   ]
  },
  {
   "cell_type": "code",
   "execution_count": null,
   "metadata": {},
   "outputs": [],
   "source": [
    "# 10 and 15 hidden layers computationally expensive (I ran out of memory with 16 GB of RAM)"
   ]
  },
  {
   "cell_type": "markdown",
   "metadata": {},
   "source": [
    "## 10 Hidden Layers"
   ]
  },
  {
   "cell_type": "code",
   "execution_count": null,
   "metadata": {},
   "outputs": [],
   "source": [
    "gmodel10 = KerasClassifier(build_fn=build.hidden10)\n",
    "grid_result10 = gridsearch(gmodel10, param_grid, X_train, y_train)"
   ]
  },
  {
   "cell_type": "code",
   "execution_count": null,
   "metadata": {},
   "outputs": [],
   "source": [
    "print(\"Best: %f using %s for 10 hidden layers\" % (grid_result10.best_score_, grid_result10.best_params_))"
   ]
  },
  {
   "cell_type": "markdown",
   "metadata": {},
   "source": [
    "## 15 Hidden Layers"
   ]
  },
  {
   "cell_type": "code",
   "execution_count": null,
   "metadata": {},
   "outputs": [],
   "source": [
    "gmodel15 = KerasClassifier(build_fn=build.hidden15)\n",
    "grid_result15 = gridsearch(gmodel15, param_grid, X_train, y_train)"
   ]
  },
  {
   "cell_type": "code",
   "execution_count": null,
   "metadata": {},
   "outputs": [],
   "source": [
    "print(\"Best: %f using %s for 15 hidden layers\" % (grid_result15.best_score_, grid_result15.best_params_))"
   ]
  },
  {
   "cell_type": "code",
   "execution_count": null,
   "metadata": {},
   "outputs": [],
   "source": []
  }
 ],
 "metadata": {
  "kernelspec": {
   "display_name": "Python 3.6.10 64-bit ('fixed_comp': conda)",
   "language": "python",
   "name": "python361064bitfixedcompconda32530266be754506bb3fd7f382850727"
  },
  "language_info": {
   "codemirror_mode": {
    "name": "ipython",
    "version": 3
   },
   "file_extension": ".py",
   "mimetype": "text/x-python",
   "name": "python",
   "nbconvert_exporter": "python",
   "pygments_lexer": "ipython3",
   "version": "3.6.10"
  }
 },
 "nbformat": 4,
 "nbformat_minor": 4
}
