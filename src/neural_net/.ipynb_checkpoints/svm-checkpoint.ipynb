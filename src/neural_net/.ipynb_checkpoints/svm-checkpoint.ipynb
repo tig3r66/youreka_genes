{
 "cells": [
  {
   "cell_type": "code",
   "execution_count": 1,
   "metadata": {
    "tags": []
   },
   "outputs": [],
   "source": [
    "import itertools\n",
    "import pandas as pd\n",
    "import numpy as np\n",
    "from sklearn.metrics import classification_report, confusion_matrix, roc_curve, auc\n",
    "from sklearn import svm\n",
    "from sklearn.model_selection import GridSearchCV"
   ]
  },
  {
   "cell_type": "code",
   "execution_count": 2,
   "metadata": {},
   "outputs": [],
   "source": [
    "# reading in training dataset\n",
    "X_train = pd.read_csv('split_data/X_train.csv')\n",
    "X_test = pd.read_csv('split_data/X_test.csv')\n",
    "y_train = pd.read_csv('split_data/y_train.csv')\n",
    "y_test = pd.read_csv('split_data/y_test.csv')"
   ]
  },
  {
   "cell_type": "markdown",
   "metadata": {},
   "source": [
    "# Initial Testing"
   ]
  },
  {
   "cell_type": "markdown",
   "metadata": {},
   "source": [
    "## Linear SVM"
   ]
  },
  {
   "cell_type": "code",
   "execution_count": 3,
   "metadata": {},
   "outputs": [
    {
     "data": {
      "text/plain": [
       "SVC(C=100000.0, class_weight='balanced', gamma=0.1, kernel='linear')"
      ]
     },
     "execution_count": 3,
     "metadata": {},
     "output_type": "execute_result"
    }
   ],
   "source": [
    "linmod = svm.SVC(kernel='linear', C=1e5, gamma=0.1, class_weight='balanced')\n",
    "linmod.fit(X_train, y_train.values.ravel())"
   ]
  },
  {
   "cell_type": "code",
   "execution_count": 4,
   "metadata": {
    "scrolled": true
   },
   "outputs": [
    {
     "name": "stdout",
     "output_type": "stream",
     "text": [
      "              precision    recall  f1-score   support\n",
      "\n",
      "           0      0.841     0.841     0.841        63\n",
      "           1      0.783     0.783     0.783        46\n",
      "\n",
      "    accuracy                          0.817       109\n",
      "   macro avg      0.812     0.812     0.812       109\n",
      "weighted avg      0.817     0.817     0.817       109\n",
      "\n"
     ]
    }
   ],
   "source": [
    "linpreds = linmod.predict(X_test)\n",
    "print(classification_report(y_test, linpreds, digits=3))"
   ]
  },
  {
   "cell_type": "markdown",
   "metadata": {},
   "source": [
    "## Polynomial SVM"
   ]
  },
  {
   "cell_type": "code",
   "execution_count": 5,
   "metadata": {},
   "outputs": [
    {
     "data": {
      "text/plain": [
       "(SVC(C=100000.0, class_weight='balanced', gamma=0.1, kernel='poly'),)"
      ]
     },
     "execution_count": 5,
     "metadata": {},
     "output_type": "execute_result"
    }
   ],
   "source": [
    "poly = svm.SVC(kernel='poly', C=1e5, gamma=0.1, class_weight='balanced')\n",
    "poly.fit(X_train, y_train.values.ravel()),"
   ]
  },
  {
   "cell_type": "code",
   "execution_count": 6,
   "metadata": {
    "scrolled": true
   },
   "outputs": [
    {
     "name": "stdout",
     "output_type": "stream",
     "text": [
      "              precision    recall  f1-score   support\n",
      "\n",
      "           0      0.881     0.825     0.852        63\n",
      "           1      0.780     0.848     0.812        46\n",
      "\n",
      "    accuracy                          0.835       109\n",
      "   macro avg      0.831     0.837     0.832       109\n",
      "weighted avg      0.839     0.835     0.836       109\n",
      "\n"
     ]
    }
   ],
   "source": [
    "polypreds = poly.predict(X_test)\n",
    "print(classification_report(y_test, polypreds, digits=3))"
   ]
  },
  {
   "cell_type": "markdown",
   "metadata": {},
   "source": [
    "## RBF Kernel"
   ]
  },
  {
   "cell_type": "code",
   "execution_count": 7,
   "metadata": {},
   "outputs": [
    {
     "data": {
      "text/plain": [
       "SVC(C=100000.0, class_weight='balanced', gamma=0.1)"
      ]
     },
     "execution_count": 7,
     "metadata": {},
     "output_type": "execute_result"
    }
   ],
   "source": [
    "rbf = svm.SVC(kernel='rbf', C=1e5, gamma=0.1, class_weight='balanced')\n",
    "rbf.fit(X_train, y_train.values.ravel())"
   ]
  },
  {
   "cell_type": "code",
   "execution_count": 8,
   "metadata": {
    "scrolled": false
   },
   "outputs": [
    {
     "name": "stdout",
     "output_type": "stream",
     "text": [
      "              precision    recall  f1-score   support\n",
      "\n",
      "           0      0.866     0.921     0.892        63\n",
      "           1      0.881     0.804     0.841        46\n",
      "\n",
      "    accuracy                          0.872       109\n",
      "   macro avg      0.873     0.862     0.867       109\n",
      "weighted avg      0.872     0.872     0.871       109\n",
      "\n"
     ]
    }
   ],
   "source": [
    "rbfpreds = rbf.predict(X_test)\n",
    "print(classification_report(y_test, rbfpreds, digits=3))"
   ]
  },
  {
   "cell_type": "markdown",
   "metadata": {},
   "source": [
    "## Sigmoid Kernel"
   ]
  },
  {
   "cell_type": "code",
   "execution_count": 9,
   "metadata": {},
   "outputs": [
    {
     "data": {
      "text/plain": [
       "SVC(C=100000.0, class_weight='balanced', gamma=0.1, kernel='sigmoid')"
      ]
     },
     "execution_count": 9,
     "metadata": {},
     "output_type": "execute_result"
    }
   ],
   "source": [
    "sigmoid = svm.SVC(kernel='sigmoid', C=1e5, gamma=0.1, class_weight='balanced')\n",
    "sigmoid.fit(X_train, y_train.values.ravel())"
   ]
  },
  {
   "cell_type": "code",
   "execution_count": 10,
   "metadata": {
    "scrolled": true
   },
   "outputs": [
    {
     "name": "stdout",
     "output_type": "stream",
     "text": [
      "              precision    recall  f1-score   support\n",
      "\n",
      "           0      0.814     0.762     0.787        63\n",
      "           1      0.700     0.761     0.729        46\n",
      "\n",
      "    accuracy                          0.761       109\n",
      "   macro avg      0.757     0.761     0.758       109\n",
      "weighted avg      0.766     0.761     0.763       109\n",
      "\n"
     ]
    }
   ],
   "source": [
    "sigmoidpreds = sigmoid.predict(X_test)\n",
    "print(classification_report(y_test, sigmoidpreds, digits=3))"
   ]
  },
  {
   "cell_type": "markdown",
   "metadata": {},
   "source": [
    "# Grid Search"
   ]
  },
  {
   "cell_type": "code",
   "execution_count": 11,
   "metadata": {},
   "outputs": [],
   "source": [
    "def gridsearch(model, grid, X, y):\n",
    "    grid = GridSearchCV(estimator=model, param_grid=grid, cv=5, verbose=0, n_jobs=-1)\n",
    "    grid_result = grid.fit(X, y)\n",
    "    return grid_result"
   ]
  },
  {
   "cell_type": "code",
   "execution_count": 12,
   "metadata": {},
   "outputs": [],
   "source": [
    "kernel = ['linear', 'poly', 'rbf']\n",
    "gamma = [1e-1, 1e-2, 1e-3]\n",
    "C = [1e4, 1e5, 1e6]\n",
    "params = dict(kernel=kernel, gamma=gamma, C=C)"
   ]
  },
  {
   "cell_type": "code",
   "execution_count": 13,
   "metadata": {},
   "outputs": [],
   "source": [
    "gridmodel = svm.SVC()\n",
    "grid_result = gridsearch(gridmodel, params, X_train, y_train.values.ravel())"
   ]
  },
  {
   "cell_type": "code",
   "execution_count": 14,
   "metadata": {},
   "outputs": [
    {
     "name": "stdout",
     "output_type": "stream",
     "text": [
      "Best: 0.9429535232383808 using {'C': 10000.0, 'gamma': 0.1, 'kernel': 'rbf'}\n"
     ]
    }
   ],
   "source": [
    "print(f'Best: {grid_result.best_score_} using {grid_result.best_params_}')"
   ]
  },
  {
   "cell_type": "markdown",
   "metadata": {},
   "source": [
    "# Final Model"
   ]
  },
  {
   "cell_type": "code",
   "execution_count": 15,
   "metadata": {},
   "outputs": [
    {
     "data": {
      "text/plain": [
       "SVC(C=10000.0, gamma=0.1, probability=True)"
      ]
     },
     "execution_count": 15,
     "metadata": {},
     "output_type": "execute_result"
    }
   ],
   "source": [
    "frbf = svm.SVC(kernel=grid_result.best_params_['kernel'],\n",
    "               gamma=grid_result.best_params_['gamma'],\n",
    "               C=grid_result.best_params_['C'],\n",
    "               probability=True\n",
    "              )\n",
    "frbf.fit(X_train, y_train.values.ravel())"
   ]
  },
  {
   "cell_type": "code",
   "execution_count": 16,
   "metadata": {
    "scrolled": true
   },
   "outputs": [
    {
     "name": "stdout",
     "output_type": "stream",
     "text": [
      "              precision    recall  f1-score   support\n",
      "\n",
      "           0      0.866     0.921     0.892        63\n",
      "           1      0.881     0.804     0.841        46\n",
      "\n",
      "    accuracy                          0.872       109\n",
      "   macro avg      0.873     0.862     0.867       109\n",
      "weighted avg      0.872     0.872     0.871       109\n",
      "\n"
     ]
    }
   ],
   "source": [
    "frbfpreds = frbf.predict(X_test)\n",
    "print(classification_report(y_test, frbfpreds, digits=3))"
   ]
  },
  {
   "cell_type": "markdown",
   "metadata": {},
   "source": [
    "## Plotting"
   ]
  },
  {
   "cell_type": "code",
   "execution_count": 17,
   "metadata": {},
   "outputs": [],
   "source": [
    "def make_roc(model, X, y):\n",
    "    base_fpr = np.linspace(0, 1, 101)\n",
    "    y_score = model.predict_proba(X)\n",
    "    fpr, tpr, thresholds = roc_curve(y_test, y_score[:, 1])\n",
    "    tpr = np.interp(base_fpr, fpr, tpr)\n",
    "    return tpr, thresholds"
   ]
  },
  {
   "cell_type": "code",
   "execution_count": 18,
   "metadata": {},
   "outputs": [],
   "source": [
    "base_fpr = np.linspace(0, 1, 101)\n",
    "ftpr, fthresh = make_roc(frbf, X_test, y_test.values.ravel())\n",
    "ftprs = np.array(ftpr)\n",
    "fauc = auc(base_fpr, ftprs)"
   ]
  },
  {
   "cell_type": "code",
   "execution_count": 19,
   "metadata": {},
   "outputs": [],
   "source": [
    "import matplotlib.pyplot as plt\n",
    "#matplotlib inline"
   ]
  },
  {
   "cell_type": "code",
   "execution_count": 20,
   "metadata": {},
   "outputs": [
    {
     "data": {
      "text/plain": [
       "<matplotlib.legend.Legend at 0x7f805ea8ba90>"
      ]
     },
     "execution_count": 20,
     "metadata": {},
     "output_type": "execute_result"
    },
    {
     "data": {
      "image/png": "[encoded data removed]",
      "text/plain": [
       "<Figure size 432x288 with 1 Axes>"
      ]
     },
     "metadata": {
      "needs_background": "light"
     },
     "output_type": "display_data"
    }
   ],
   "source": [
    "plt.plot(base_fpr, ftprs, linewidth=1)\n",
    "plt.plot([0, 1], [0, 1], 'k--', linewidth=1)\n",
    "plt.xlim([0, 1])\n",
    "plt.ylim([0, 1.02])\n",
    "plt.title('1 Hidden Layer', fontsize=14)\n",
    "plt.ylabel('TPR', fontsize=14)\n",
    "plt.xlabel('FPR', fontsize=14)\n",
    "plt.legend(['AUC = ' + str(round(fauc, 3)), 'chance'], fontsize=12, loc='lower right')"
   ]
  },
  {
   "cell_type": "code",
   "execution_count": 21,
   "metadata": {},
   "outputs": [],
   "source": [
    "def plot_cm(cm, target_names, title='Confusion matrix', cmap=None, normalize=True, cbar=True):\n",
    "    \"\"\"Plots a confusion matrix based on a nested array.\n",
    "    Arguments:\n",
    "        cm (list): square matrix with classification counts.\n",
    "        target_names (list): classifier names.\n",
    "        title (str): title of the confusion matrix plot.\n",
    "        cmap (str): colour theme for the plot.\n",
    "        normalize (bool): plots proportions instead of counts.\n",
    "        cbar (bool): shows colourbar if True.\n",
    "    \"\"\"\n",
    "    accuracy = np.trace(cm) / np.sum(cm).astype('float')\n",
    "    misclass = 1 - accuracy\n",
    "\n",
    "    if cmap is None:\n",
    "        cmap = plt.get_cmap('Blues')\n",
    "\n",
    "    fig = plt.figure(figsize=(4, 3), dpi=300)\n",
    "    ax1 = fig.add_subplot()\n",
    "#     ax1.text(-.1, 1.1, 'B', transform=ax1.transAxes, fontsize=16, fontweight='bold', va='top', ha='right')\n",
    "    plt.imshow(cm, interpolation='nearest', cmap=cmap)\n",
    "    plt.title(title)\n",
    "\n",
    "    if target_names is not None:\n",
    "        tick_marks = np.arange(len(target_names))\n",
    "        plt.xticks(tick_marks, target_names)\n",
    "        plt.yticks(tick_marks, target_names, rotation=90, verticalalignment='center')\n",
    "\n",
    "    if normalize:\n",
    "        cm = cm.astype('float') / cm.sum(axis=1)[:, np.newaxis]\n",
    "\n",
    "    thresh = cm.max() / 1.5 if normalize else cm.max() / 2\n",
    "    for i, j in itertools.product(range(cm.shape[0]), range(cm.shape[1])):\n",
    "        if normalize:\n",
    "            plt.text(j, i, \"{:0.4f}\".format(cm[i, j]),\n",
    "                     horizontalalignment=\"center\",\n",
    "                     color=\"white\" if cm[i, j] > thresh else \"black\")\n",
    "        else:\n",
    "            plt.text(j, i, \"{:,}\".format(cm[i, j]),\n",
    "                     horizontalalignment=\"center\",\n",
    "                     color=\"white\" if cm[i, j] > thresh else \"black\")\n",
    "    if cbar:\n",
    "        plt.colorbar()\n",
    "\n",
    "    plt.tight_layout()\n",
    "    plt.ylabel('True')\n",
    "    plt.xlabel('Predicted\\naccuracy={:0.3f}; misclass={:0.3f}'.format(accuracy, misclass))\n",
    "    plt.show()\n",
    "\n",
    "    return fig"
   ]
  },
  {
   "cell_type": "code",
   "execution_count": 22,
   "metadata": {},
   "outputs": [],
   "source": [
    "fcm_rbf = confusion_matrix(y_test, frbfpreds)"
   ]
  },
  {
   "cell_type": "code",
   "execution_count": 24,
   "metadata": {},
   "outputs": [
    {
     "data": {
      "image/png": "[encoded data removed]",
      "text/plain": [
       "<Figure size 1200x900 with 2 Axes>"
      ]
     },
     "metadata": {
      "needs_background": "light"
     },
     "output_type": "display_data"
    }
   ],
   "source": [
    "cm_rbf = plot_cm(fcm_rbf, ['A', 'B'], title='Gaussian RBF SVM', normalize=False)"
   ]
  },
  {
   "cell_type": "code",
   "execution_count": null,
   "metadata": {},
   "outputs": [],
   "source": []
  }
 ],
 "metadata": {
  "kernelspec": {
   "display_name": "Python 3.6.10 64-bit ('fixed_comp': conda)",
   "language": "python",
   "name": "python361064bitfixedcompconda32530266be754506bb3fd7f382850727"
  },
  "language_info": {
   "codemirror_mode": {
    "name": "ipython",
    "version": 3
   },
   "file_extension": ".py",
   "mimetype": "text/x-python",
   "name": "python",
   "nbconvert_exporter": "python",
   "pygments_lexer": "ipython3",
   "version": "3.6.10"
  }
 },
 "nbformat": 4,
 "nbformat_minor": 4
}
