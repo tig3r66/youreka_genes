{
 "cells": [
  {
   "cell_type": "code",
   "execution_count": 4,
   "metadata": {},
   "outputs": [],
   "source": [
    "import itertools\n",
    "import numpy as np\n",
    "import pandas as pd\n",
    "# for data scaling and splitting\n",
    "from sklearn.preprocessing import MinMaxScaler\n",
    "from sklearn.model_selection import train_test_split\n",
    "# for neural net\n",
    "from tensorflow.keras.models import Sequential, load_model\n",
    "from tensorflow.keras.layers import Dense, Dropout, BatchNormalization\n",
    "from tensorflow.keras.wrappers.scikit_learn import KerasClassifier\n",
    "from tensorflow.keras import regularizers\n",
    "# for evaluation\n",
    "from sklearn.model_selection import GridSearchCV"
   ]
  },
  {
   "cell_type": "code",
   "execution_count": 5,
   "metadata": {},
   "outputs": [
    {
     "data": {
      "text/html": [
       "<div>\n",
       "<style scoped>\n",
       "    .dataframe tbody tr th:only-of-type {\n",
       "        vertical-align: middle;\n",
       "    }\n",
       "\n",
       "    .dataframe tbody tr th {\n",
       "        vertical-align: top;\n",
       "    }\n",
       "\n",
       "    .dataframe thead th {\n",
       "        text-align: right;\n",
       "    }\n",
       "</style>\n",
       "<table border=\"1\" class=\"dataframe\">\n",
       "  <thead>\n",
       "    <tr style=\"text-align: right;\">\n",
       "      <th></th>\n",
       "      <th>CELL_LINE_NAME</th>\n",
       "      <th>cluster</th>\n",
       "      <th>TSPAN6</th>\n",
       "      <th>TNMD</th>\n",
       "      <th>DPM1</th>\n",
       "      <th>SCYL3</th>\n",
       "      <th>C1orf112</th>\n",
       "      <th>FGR</th>\n",
       "      <th>CFH</th>\n",
       "      <th>FUCA2</th>\n",
       "      <th>...</th>\n",
       "      <th>C6orf10</th>\n",
       "      <th>TMEM225</th>\n",
       "      <th>NOTCH4</th>\n",
       "      <th>PBX2</th>\n",
       "      <th>AGER</th>\n",
       "      <th>RNF5</th>\n",
       "      <th>AGPAT1</th>\n",
       "      <th>DFNB59</th>\n",
       "      <th>PRRT1</th>\n",
       "      <th>FKBPL</th>\n",
       "    </tr>\n",
       "  </thead>\n",
       "  <tbody>\n",
       "    <tr>\n",
       "      <th>0</th>\n",
       "      <td>1240123</td>\n",
       "      <td>2</td>\n",
       "      <td>8.319417</td>\n",
       "      <td>3.111183</td>\n",
       "      <td>9.643558</td>\n",
       "      <td>4.757258</td>\n",
       "      <td>3.919757</td>\n",
       "      <td>3.602185</td>\n",
       "      <td>3.329644</td>\n",
       "      <td>9.076950</td>\n",
       "      <td>...</td>\n",
       "      <td>3.085394</td>\n",
       "      <td>3.462811</td>\n",
       "      <td>3.339030</td>\n",
       "      <td>4.614897</td>\n",
       "      <td>3.395845</td>\n",
       "      <td>3.419193</td>\n",
       "      <td>3.971646</td>\n",
       "      <td>3.729310</td>\n",
       "      <td>3.320022</td>\n",
       "      <td>6.447316</td>\n",
       "    </tr>\n",
       "    <tr>\n",
       "      <th>1</th>\n",
       "      <td>1240131</td>\n",
       "      <td>1</td>\n",
       "      <td>7.611268</td>\n",
       "      <td>2.704739</td>\n",
       "      <td>10.276079</td>\n",
       "      <td>3.650299</td>\n",
       "      <td>3.481567</td>\n",
       "      <td>3.145538</td>\n",
       "      <td>3.565127</td>\n",
       "      <td>7.861068</td>\n",
       "      <td>...</td>\n",
       "      <td>2.801456</td>\n",
       "      <td>2.985889</td>\n",
       "      <td>3.180068</td>\n",
       "      <td>5.415729</td>\n",
       "      <td>3.299858</td>\n",
       "      <td>3.028414</td>\n",
       "      <td>3.877889</td>\n",
       "      <td>3.911516</td>\n",
       "      <td>3.379405</td>\n",
       "      <td>4.729557</td>\n",
       "    </tr>\n",
       "    <tr>\n",
       "      <th>2</th>\n",
       "      <td>1240132</td>\n",
       "      <td>1</td>\n",
       "      <td>7.678658</td>\n",
       "      <td>2.845781</td>\n",
       "      <td>10.180954</td>\n",
       "      <td>3.573048</td>\n",
       "      <td>3.431235</td>\n",
       "      <td>3.090781</td>\n",
       "      <td>4.116643</td>\n",
       "      <td>8.121190</td>\n",
       "      <td>...</td>\n",
       "      <td>2.934962</td>\n",
       "      <td>2.952937</td>\n",
       "      <td>3.164655</td>\n",
       "      <td>5.707506</td>\n",
       "      <td>3.434295</td>\n",
       "      <td>2.961345</td>\n",
       "      <td>4.272194</td>\n",
       "      <td>3.085696</td>\n",
       "      <td>3.002557</td>\n",
       "      <td>5.653588</td>\n",
       "    </tr>\n",
       "    <tr>\n",
       "      <th>3</th>\n",
       "      <td>1240134</td>\n",
       "      <td>1</td>\n",
       "      <td>3.265063</td>\n",
       "      <td>3.063746</td>\n",
       "      <td>10.490285</td>\n",
       "      <td>3.340791</td>\n",
       "      <td>3.676912</td>\n",
       "      <td>3.512821</td>\n",
       "      <td>3.873922</td>\n",
       "      <td>8.790851</td>\n",
       "      <td>...</td>\n",
       "      <td>3.041839</td>\n",
       "      <td>3.398847</td>\n",
       "      <td>3.106710</td>\n",
       "      <td>5.773963</td>\n",
       "      <td>3.412641</td>\n",
       "      <td>3.136110</td>\n",
       "      <td>4.422262</td>\n",
       "      <td>3.522122</td>\n",
       "      <td>3.509437</td>\n",
       "      <td>5.953242</td>\n",
       "    </tr>\n",
       "    <tr>\n",
       "      <th>4</th>\n",
       "      <td>1240140</td>\n",
       "      <td>1</td>\n",
       "      <td>7.090138</td>\n",
       "      <td>2.988043</td>\n",
       "      <td>10.264692</td>\n",
       "      <td>4.119555</td>\n",
       "      <td>3.432585</td>\n",
       "      <td>3.308033</td>\n",
       "      <td>3.318371</td>\n",
       "      <td>6.927761</td>\n",
       "      <td>...</td>\n",
       "      <td>3.028787</td>\n",
       "      <td>3.225982</td>\n",
       "      <td>3.275820</td>\n",
       "      <td>5.334283</td>\n",
       "      <td>3.864678</td>\n",
       "      <td>3.259242</td>\n",
       "      <td>3.840581</td>\n",
       "      <td>5.809553</td>\n",
       "      <td>3.674587</td>\n",
       "      <td>5.577503</td>\n",
       "    </tr>\n",
       "  </tbody>\n",
       "</table>\n",
       "<p>5 rows × 16384 columns</p>\n",
       "</div>"
      ],
      "text/plain": [
       "   CELL_LINE_NAME  cluster    TSPAN6      TNMD       DPM1     SCYL3  C1orf112  \\\n",
       "0         1240123        2  8.319417  3.111183   9.643558  4.757258  3.919757   \n",
       "1         1240131        1  7.611268  2.704739  10.276079  3.650299  3.481567   \n",
       "2         1240132        1  7.678658  2.845781  10.180954  3.573048  3.431235   \n",
       "3         1240134        1  3.265063  3.063746  10.490285  3.340791  3.676912   \n",
       "4         1240140        1  7.090138  2.988043  10.264692  4.119555  3.432585   \n",
       "\n",
       "        FGR       CFH     FUCA2  ...   C6orf10   TMEM225    NOTCH4      PBX2  \\\n",
       "0  3.602185  3.329644  9.076950  ...  3.085394  3.462811  3.339030  4.614897   \n",
       "1  3.145538  3.565127  7.861068  ...  2.801456  2.985889  3.180068  5.415729   \n",
       "2  3.090781  4.116643  8.121190  ...  2.934962  2.952937  3.164655  5.707506   \n",
       "3  3.512821  3.873922  8.790851  ...  3.041839  3.398847  3.106710  5.773963   \n",
       "4  3.308033  3.318371  6.927761  ...  3.028787  3.225982  3.275820  5.334283   \n",
       "\n",
       "       AGER      RNF5    AGPAT1    DFNB59     PRRT1     FKBPL  \n",
       "0  3.395845  3.419193  3.971646  3.729310  3.320022  6.447316  \n",
       "1  3.299858  3.028414  3.877889  3.911516  3.379405  4.729557  \n",
       "2  3.434295  2.961345  4.272194  3.085696  3.002557  5.653588  \n",
       "3  3.412641  3.136110  4.422262  3.522122  3.509437  5.953242  \n",
       "4  3.864678  3.259242  3.840581  5.809553  3.674587  5.577503  \n",
       "\n",
       "[5 rows x 16384 columns]"
      ]
     },
     "execution_count": 5,
     "metadata": {},
     "output_type": "execute_result"
    }
   ],
   "source": [
    "data = pd.read_csv(\"data/combined_expression.csv\")\n",
    "data.head()"
   ]
  },
  {
   "cell_type": "code",
   "execution_count": 6,
   "metadata": {},
   "outputs": [
    {
     "data": {
      "text/plain": [
       "(541, 16384)"
      ]
     },
     "execution_count": 6,
     "metadata": {},
     "output_type": "execute_result"
    }
   ],
   "source": [
    "data.shape"
   ]
  },
  {
   "cell_type": "code",
   "execution_count": 7,
   "metadata": {},
   "outputs": [],
   "source": [
    "selected_genes = pd.read_csv('cleaned/boruta.csv')\n",
    "selected_genes = selected_genes.values.tolist()\n",
    "selected_genes = list(itertools.chain(*selected_genes))"
   ]
  },
  {
   "cell_type": "code",
   "execution_count": 8,
   "metadata": {},
   "outputs": [],
   "source": [
    "# retrieving proper columns\n",
    "X = data.loc[:, selected_genes]\n",
    "y = data['cluster'].values\n",
    "\n",
    "# scaling the data\n",
    "scalar = MinMaxScaler()\n",
    "x_scaled = scalar.fit_transform(X)\n",
    "\n",
    "# splitting data (20% test, 80% train)\n",
    "X_train, X_test, y_train, y_test = train_test_split(x_scaled, y, test_size=0.2, random_state=0)"
   ]
  },
  {
   "cell_type": "markdown",
   "metadata": {},
   "source": [
    "# Gridsearch"
   ]
  },
  {
   "cell_type": "markdown",
   "metadata": {},
   "source": [
    "## 1 Hidden Layer"
   ]
  },
  {
   "cell_type": "code",
   "execution_count": 9,
   "metadata": {},
   "outputs": [],
   "source": [
    "def one_layer(optimizer='sgd', init='normal', dropout=0.3, neurons=100):\n",
    "    model = Sequential()\n",
    "    # hidden layer\n",
    "    model.add(Dense(neurons, activation='relu', kernel_regularizer=regularizers.l2(1e-4)))\n",
    "    model.add(BatchNormalization())\n",
    "    model.add(Dropout(dropout))\n",
    "    # output layer\n",
    "    model.add(Dense(1, activation='sigmoid'))\n",
    "    # compiling\n",
    "    model.compile(optimizer=optimizer, loss='binary_crossentropy', metrics=['accuracy'])\n",
    "    return model"
   ]
  },
  {
   "cell_type": "code",
   "execution_count": 10,
   "metadata": {
    "scrolled": true,
    "tags": []
   },
   "outputs": [
    {
     "name": "stdout",
     "output_type": "stream",
     "text": [
      "Fitting 3 folds for each of 81 candidates, totalling 243 fits\n"
     ]
    },
    {
     "name": "stderr",
     "output_type": "stream",
     "text": [
      "[Parallel(n_jobs=-1)]: Using backend LokyBackend with 12 concurrent workers.\n",
      "[Parallel(n_jobs=-1)]: Done  26 tasks      | elapsed:   37.1s\n",
      "[Parallel(n_jobs=-1)]: Done 176 tasks      | elapsed:  3.6min\n",
      "[Parallel(n_jobs=-1)]: Done 243 out of 243 | elapsed:  4.7min finished\n"
     ]
    },
    {
     "name": "stdout",
     "output_type": "stream",
     "text": [
      "Train on 432 samples\n",
      "Epoch 1/25\n",
      "432/432 [==============================] - 2s 4ms/sample - loss: 0.6408 - accuracy: 0.6690\n",
      "Epoch 2/25\n",
      "432/432 [==============================] - 0s 199us/sample - loss: 0.4488 - accuracy: 0.8194\n",
      "Epoch 3/25\n",
      "432/432 [==============================] - 0s 202us/sample - loss: 0.4110 - accuracy: 0.8426\n",
      "Epoch 4/25\n",
      "432/432 [==============================] - 0s 209us/sample - loss: 0.4067 - accuracy: 0.8472\n",
      "Epoch 5/25\n",
      "432/432 [==============================] - 0s 224us/sample - loss: 0.3789 - accuracy: 0.8611\n",
      "Epoch 6/25\n",
      "432/432 [==============================] - 0s 207us/sample - loss: 0.3802 - accuracy: 0.8843\n",
      "Epoch 7/25\n",
      "432/432 [==============================] - 0s 204us/sample - loss: 0.3598 - accuracy: 0.8889\n",
      "Epoch 8/25\n",
      "432/432 [==============================] - 0s 207us/sample - loss: 0.3507 - accuracy: 0.8866\n",
      "Epoch 9/25\n",
      "432/432 [==============================] - 0s 204us/sample - loss: 0.3637 - accuracy: 0.8657\n",
      "Epoch 10/25\n",
      "432/432 [==============================] - 0s 199us/sample - loss: 0.3540 - accuracy: 0.8773\n",
      "Epoch 11/25\n",
      "432/432 [==============================] - 0s 202us/sample - loss: 0.3352 - accuracy: 0.8796\n",
      "Epoch 12/25\n",
      "432/432 [==============================] - 0s 206us/sample - loss: 0.3477 - accuracy: 0.8681\n",
      "Epoch 13/25\n",
      "432/432 [==============================] - 0s 201us/sample - loss: 0.3229 - accuracy: 0.8912\n",
      "Epoch 14/25\n",
      "432/432 [==============================] - 0s 199us/sample - loss: 0.3033 - accuracy: 0.8912\n",
      "Epoch 15/25\n",
      "432/432 [==============================] - 0s 198us/sample - loss: 0.2882 - accuracy: 0.9167\n",
      "Epoch 16/25\n",
      "432/432 [==============================] - 0s 202us/sample - loss: 0.3035 - accuracy: 0.9028\n",
      "Epoch 17/25\n",
      "432/432 [==============================] - 0s 200us/sample - loss: 0.3189 - accuracy: 0.9028\n",
      "Epoch 18/25\n",
      "432/432 [==============================] - 0s 195us/sample - loss: 0.3206 - accuracy: 0.9051\n",
      "Epoch 19/25\n",
      "432/432 [==============================] - 0s 197us/sample - loss: 0.2726 - accuracy: 0.9051\n",
      "Epoch 20/25\n",
      "432/432 [==============================] - 0s 198us/sample - loss: 0.3076 - accuracy: 0.8935\n",
      "Epoch 21/25\n",
      "432/432 [==============================] - 0s 205us/sample - loss: 0.2782 - accuracy: 0.9213\n",
      "Epoch 22/25\n",
      "432/432 [==============================] - 0s 203us/sample - loss: 0.2884 - accuracy: 0.8935\n",
      "Epoch 23/25\n",
      "432/432 [==============================] - 0s 196us/sample - loss: 0.2820 - accuracy: 0.9074\n",
      "Epoch 24/25\n",
      "432/432 [==============================] - 0s 199us/sample - loss: 0.2706 - accuracy: 0.9236\n",
      "Epoch 25/25\n",
      "432/432 [==============================] - 0s 201us/sample - loss: 0.2615 - accuracy: 0.9259\n"
     ]
    }
   ],
   "source": [
    "model = KerasClassifier(build_fn=one_layer)\n",
    "# parameters\n",
    "epochs = [25, 50, 75]\n",
    "batches = [16, 32, 64]\n",
    "optimizers = ['sgd', 'adagrad', 'adam']\n",
    "neurons = [100, 200, 300]\n",
    "# grid search\n",
    "param_grid = dict(epochs=epochs, batch_size=batches, optimizer=optimizers, neurons=neurons)\n",
    "grid = GridSearchCV(estimator=model, param_grid=param_grid, cv=3, verbose=1, n_jobs=-1)\n",
    "grid_result = grid.fit(X_train, y_train)"
   ]
  },
  {
   "cell_type": "code",
   "execution_count": 11,
   "metadata": {},
   "outputs": [
    {
     "name": "stdout",
     "output_type": "stream",
     "text": [
      "Best: 0.877315 using {'batch_size': 32, 'epochs': 25, 'neurons': 100, 'optimizer': 'sgd'} for 1 hidden layer\n"
     ]
    }
   ],
   "source": [
    "print(\"Best: %f using %s for 1 hidden layer\" % (grid_result.best_score_, grid_result.best_params_))"
   ]
  },
  {
   "cell_type": "markdown",
   "metadata": {},
   "source": [
    "## 5 Hidden Layers"
   ]
  },
  {
   "cell_type": "code",
   "execution_count": 20,
   "metadata": {},
   "outputs": [],
   "source": [
    "def five_layers(optimizer='sgd', init='normal', dropout=0.3, neurons=100):\n",
    "    model = Sequential()\n",
    "    hidden_layers = len(selected_genes)\n",
    "    # add 5 hidden layers\n",
    "    for i in range(5):\n",
    "        model.add(Dense(neurons, activation='relu', kernel_regularizer=regularizers.l2(1e-4)))\n",
    "        model.add(BatchNormalization())\n",
    "        model.add(Dropout(dropout))\n",
    "\n",
    "    model.add(Dense(1, activation='sigmoid'))\n",
    "    # compiling\n",
    "    model.compile(optimizer=optimizer, loss='binary_crossentropy', metrics=['accuracy'])\n",
    "    return model"
   ]
  },
  {
   "cell_type": "code",
   "execution_count": 13,
   "metadata": {
    "scrolled": true,
    "tags": []
   },
   "outputs": [
    {
     "name": "stdout",
     "output_type": "stream",
     "text": [
      "Fitting 3 folds for each of 81 candidates, totalling 243 fits\n",
      "[Parallel(n_jobs=-1)]: Using backend LokyBackend with 12 concurrent workers.\n",
      "[Parallel(n_jobs=-1)]: Done  26 tasks      | elapsed:  1.8min\n",
      "[Parallel(n_jobs=-1)]: Done 176 tasks      | elapsed: 12.5min\n",
      "[Parallel(n_jobs=-1)]: Done 243 out of 243 | elapsed: 16.6min finished\n",
      "Train on 432 samples\n",
      "Epoch 1/25\n",
      "432/432 [==============================] - 4s 9ms/sample - loss: 0.8980 - accuracy: 0.6042\n",
      "Epoch 2/25\n",
      "432/432 [==============================] - 0s 961us/sample - loss: 0.7217 - accuracy: 0.7755\n",
      "Epoch 3/25\n",
      "432/432 [==============================] - 0s 960us/sample - loss: 0.6448 - accuracy: 0.8218\n",
      "Epoch 4/25\n",
      "432/432 [==============================] - 0s 951us/sample - loss: 0.5806 - accuracy: 0.8009\n",
      "Epoch 5/25\n",
      "432/432 [==============================] - 0s 953us/sample - loss: 0.5460 - accuracy: 0.8356\n",
      "Epoch 6/25\n",
      "432/432 [==============================] - 0s 989us/sample - loss: 0.5612 - accuracy: 0.8380\n",
      "Epoch 7/25\n",
      "432/432 [==============================] - 0s 991us/sample - loss: 0.5919 - accuracy: 0.8241\n",
      "Epoch 8/25\n",
      "432/432 [==============================] - 0s 1ms/sample - loss: 0.5449 - accuracy: 0.8472\n",
      "Epoch 9/25\n",
      "432/432 [==============================] - 0s 986us/sample - loss: 0.5242 - accuracy: 0.8704\n",
      "Epoch 10/25\n",
      "432/432 [==============================] - 0s 974us/sample - loss: 0.5347 - accuracy: 0.8542\n",
      "Epoch 11/25\n",
      "432/432 [==============================] - 0s 957us/sample - loss: 0.5568 - accuracy: 0.8542\n",
      "Epoch 12/25\n",
      "432/432 [==============================] - 0s 951us/sample - loss: 0.5084 - accuracy: 0.8565\n",
      "Epoch 13/25\n",
      "432/432 [==============================] - 0s 953us/sample - loss: 0.5295 - accuracy: 0.8542\n",
      "Epoch 14/25\n",
      "432/432 [==============================] - 0s 963us/sample - loss: 0.4668 - accuracy: 0.8866\n",
      "Epoch 15/25\n",
      "432/432 [==============================] - 0s 978us/sample - loss: 0.5041 - accuracy: 0.8750\n",
      "Epoch 16/25\n",
      "432/432 [==============================] - 0s 974us/sample - loss: 0.4887 - accuracy: 0.9028\n",
      "Epoch 17/25\n",
      "432/432 [==============================] - 0s 980us/sample - loss: 0.4991 - accuracy: 0.8657\n",
      "Epoch 18/25\n",
      "432/432 [==============================] - 0s 977us/sample - loss: 0.4709 - accuracy: 0.8681\n",
      "Epoch 19/25\n",
      "432/432 [==============================] - 0s 978us/sample - loss: 0.5216 - accuracy: 0.8519\n",
      "Epoch 20/25\n",
      "432/432 [==============================] - 0s 1ms/sample - loss: 0.4722 - accuracy: 0.8912\n",
      "Epoch 21/25\n",
      "432/432 [==============================] - 0s 1ms/sample - loss: 0.4425 - accuracy: 0.8773\n",
      "Epoch 22/25\n",
      "432/432 [==============================] - 0s 1ms/sample - loss: 0.4642 - accuracy: 0.8796\n",
      "Epoch 23/25\n",
      "432/432 [==============================] - 0s 1ms/sample - loss: 0.4540 - accuracy: 0.8634\n",
      "Epoch 24/25\n",
      "432/432 [==============================] - 0s 1ms/sample - loss: 0.4165 - accuracy: 0.8935\n",
      "Epoch 25/25\n",
      "432/432 [==============================] - 0s 1ms/sample - loss: 0.4673 - accuracy: 0.8796\n"
     ]
    }
   ],
   "source": [
    "model = KerasClassifier(build_fn=five_layers)\n",
    "# parameters\n",
    "epochs = [25, 50, 75]\n",
    "batches = [16, 32, 64]\n",
    "optimizers = ['sgd', 'adagrad', 'adam']\n",
    "neurons = [100, 200, 300]\n",
    "# grid search\n",
    "param_grid = dict(epochs=epochs, batch_size=batches, optimizer=optimizers, neurons=neurons)\n",
    "grid = GridSearchCV(estimator=model, param_grid=param_grid, cv=3, verbose=1, n_jobs=-1)\n",
    "grid_result = grid.fit(X_train, y_train)"
   ]
  },
  {
   "cell_type": "code",
   "execution_count": 14,
   "metadata": {
    "tags": []
   },
   "outputs": [
    {
     "name": "stdout",
     "output_type": "stream",
     "text": [
      "Best: 0.884259 using {'batch_size': 16, 'epochs': 25, 'neurons': 300, 'optimizer': 'sgd'} for 5 hidden layers\n"
     ]
    }
   ],
   "source": [
    "print(\"Best: %f using %s for 5 hidden layers\" % (grid_result.best_score_, grid_result.best_params_))"
   ]
  }
 ],
 "metadata": {
  "kernelspec": {
   "display_name": "Python 3.6.10 64-bit ('fixed_comp': conda)",
   "language": "python",
   "name": "python361064bitfixedcompconda32530266be754506bb3fd7f382850727"
  },
  "language_info": {
   "codemirror_mode": {
    "name": "ipython",
    "version": 3
   },
   "file_extension": ".py",
   "mimetype": "text/x-python",
   "name": "python",
   "nbconvert_exporter": "python",
   "pygments_lexer": "ipython3",
   "version": "3.6.10"
  }
 },
 "nbformat": 4,
 "nbformat_minor": 4
}
