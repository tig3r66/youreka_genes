{
 "cells": [
  {
   "cell_type": "code",
   "execution_count": 282,
   "metadata": {},
   "outputs": [],
   "source": [
    "import itertools\n",
    "import numpy as np\n",
    "import pandas as pd\n",
    "import matplotlib.pyplot as plt\n",
    "# for data scaling and splitting\n",
    "from sklearn.preprocessing import MinMaxScaler \n",
    "from sklearn.model_selection import train_test_split\n",
    "# for neural net\n",
    "from tensorflow.keras.models import Sequential, load_model\n",
    "from tensorflow.keras.layers import Dense, Dropout\n",
    "from tensorflow.keras.wrappers.scikit_learn import KerasClassifier\n",
    "# for evaluation\n",
    "from sklearn.model_selection import KFold, cross_val_score, GridSearchCV\n",
    "from sklearn.metrics import classification_report, confusion_matrix"
   ]
  },
  {
   "cell_type": "code",
   "execution_count": 283,
   "metadata": {},
   "outputs": [
    {
     "data": {
      "text/plain": [
       "(642, 16383)"
      ]
     },
     "execution_count": 283,
     "metadata": {},
     "output_type": "execute_result"
    }
   ],
   "source": [
    "data = pd.read_csv(\"data/combined_expression.csv\")\n",
    "data['classification'].map({1: 0, 2: 1})\n",
    "data.head()\n",
    "data.shape"
   ]
  },
  {
   "cell_type": "code",
   "execution_count": 284,
   "metadata": {},
   "outputs": [],
   "source": [
    "selected_genes = pd.read_csv('cleaned/boruta-99-25-0.01.csv')\n",
    "selected_genes = selected_genes.values.tolist()\n",
    "selected_genes = list(itertools.chain(*selected_genes))"
   ]
  },
  {
   "cell_type": "code",
   "execution_count": 490,
   "metadata": {},
   "outputs": [],
   "source": [
    "# retrieving proper columns\n",
    "X = data.loc[:, selected_genes]\n",
    "y = data['classification'].values\n",
    "\n",
    "# scaling the data\n",
    "scalar = MinMaxScaler()\n",
    "x_scaled = scalar.fit_transform(X)\n",
    "\n",
    "# splitting data (20% test, 80% train)\n",
    "X_train, X_test, y_train, y_test = train_test_split(x_scaled, y, test_size=0.2)"
   ]
  },
  {
   "cell_type": "markdown",
   "metadata": {},
   "source": [
    "# 4 Hidden Layers (with batch normalization)"
   ]
  },
  {
   "cell_type": "code",
   "execution_count": 497,
   "metadata": {},
   "outputs": [],
   "source": [
    "from tensorflow.keras.layers import BatchNormalization\n",
    "\n",
    "def create_model(optimizer='rmsprop',init='glorot_uniform', dropout=0.3):\n",
    "    model = Sequential()\n",
    "    # adding layers and adding droplayers to avoid overfitting\n",
    "    hidden_layers = len(selected_genes)\n",
    "    model.add(Dense(hidden_layers, activation='relu'))\n",
    "    model.add(BatchNormalization())\n",
    "    model.add(Dropout(dropout))\n",
    "\n",
    "    model.add(Dense((hidden_layers*1.35), activation='relu'))\n",
    "    model.add(BatchNormalization())\n",
    "    model.add(Dropout(dropout))\n",
    "    \n",
    "    model.add(Dense((hidden_layers), activation='relu'))\n",
    "    model.add(BatchNormalization())\n",
    "    model.add(Dropout(dropout))\n",
    "    \n",
    "    model.add(Dense((hidden_layers*0.5), activation='relu'))\n",
    "    model.add(BatchNormalization())\n",
    "    model.add(Dropout(dropout))\n",
    "    \n",
    "    model.add(Dense(1, activation='sigmoid'))\n",
    "    # compiling\n",
    "    model.compile(optimizer=optimizer, loss='binary_crossentropy', metrics=['accuracy'])\n",
    "    return model"
   ]
  },
  {
   "cell_type": "code",
   "execution_count": 498,
   "metadata": {},
   "outputs": [],
   "source": [
    "# parameters selected from previous gridsearch\n",
    "model = KerasClassifier(build_fn=create_model, epochs=50, batch_size=32, optimizer='Adam',init='normal')\n",
    "# kfold = KFold(n_splits=3, shuffle=True)\n",
    "# results = cross_val_score(model, X_train, y_train, cv=kfold)\n",
    "# print(\"Baseline Accuracy: %.2f%% (%.2f%%)\" % (results.mean()*100, results.std()*100))"
   ]
  },
  {
   "cell_type": "code",
   "execution_count": 499,
   "metadata": {
    "scrolled": true
   },
   "outputs": [
    {
     "name": "stdout",
     "output_type": "stream",
     "text": [
      "Train on 513 samples, validate on 129 samples\n",
      "Epoch 1/50\n",
      "513/513 [==============================] - 3s 6ms/sample - loss: 0.8783 - accuracy: 0.5361 - val_loss: 0.8877 - val_accuracy: 0.0078\n",
      "Epoch 2/50\n",
      "513/513 [==============================] - 0s 682us/sample - loss: 0.6939 - accuracy: 0.6511 - val_loss: 0.9033 - val_accuracy: 0.0078\n",
      "Epoch 3/50\n",
      "513/513 [==============================] - 0s 659us/sample - loss: 0.6072 - accuracy: 0.6940 - val_loss: 1.2746 - val_accuracy: 0.0000e+00\n",
      "Epoch 4/50\n",
      "513/513 [==============================] - 0s 670us/sample - loss: 0.5455 - accuracy: 0.7388 - val_loss: 1.1510 - val_accuracy: 0.0078\n",
      "Epoch 5/50\n",
      "513/513 [==============================] - 0s 670us/sample - loss: 0.4784 - accuracy: 0.7758 - val_loss: 1.3274 - val_accuracy: 0.0078\n",
      "Epoch 6/50\n",
      "513/513 [==============================] - 0s 657us/sample - loss: 0.4858 - accuracy: 0.7875 - val_loss: 1.7537 - val_accuracy: 0.0000e+00\n",
      "Epoch 7/50\n",
      "513/513 [==============================] - 0s 662us/sample - loss: 0.4291 - accuracy: 0.8090 - val_loss: 1.6988 - val_accuracy: 0.0078\n",
      "Epoch 8/50\n",
      "513/513 [==============================] - 0s 662us/sample - loss: 0.3824 - accuracy: 0.8246 - val_loss: 2.0343 - val_accuracy: 0.0155\n",
      "Epoch 9/50\n",
      "513/513 [==============================] - 0s 662us/sample - loss: 0.4150 - accuracy: 0.8207 - val_loss: 1.9811 - val_accuracy: 0.0310\n",
      "Epoch 10/50\n",
      "513/513 [==============================] - 0s 659us/sample - loss: 0.3652 - accuracy: 0.8421 - val_loss: 2.2429 - val_accuracy: 0.0233\n",
      "Epoch 11/50\n",
      "513/513 [==============================] - 0s 666us/sample - loss: 0.3407 - accuracy: 0.8538 - val_loss: 3.2588 - val_accuracy: 0.0155\n",
      "Epoch 12/50\n",
      "513/513 [==============================] - 0s 694us/sample - loss: 0.3009 - accuracy: 0.8830 - val_loss: 2.2168 - val_accuracy: 0.0310\n",
      "Epoch 13/50\n",
      "513/513 [==============================] - 0s 692us/sample - loss: 0.2737 - accuracy: 0.8908 - val_loss: 2.7811 - val_accuracy: 0.0310\n",
      "Epoch 14/50\n",
      "513/513 [==============================] - 0s 672us/sample - loss: 0.2472 - accuracy: 0.8967 - val_loss: 3.0133 - val_accuracy: 0.0310\n",
      "Epoch 15/50\n",
      "513/513 [==============================] - 0s 684us/sample - loss: 0.2553 - accuracy: 0.8928 - val_loss: 4.3187 - val_accuracy: 0.0155\n",
      "Epoch 16/50\n",
      "513/513 [==============================] - 0s 689us/sample - loss: 0.2582 - accuracy: 0.8811 - val_loss: 3.9581 - val_accuracy: 0.0233\n",
      "Epoch 17/50\n",
      "513/513 [==============================] - 0s 687us/sample - loss: 0.1999 - accuracy: 0.9142 - val_loss: 4.5213 - val_accuracy: 0.0310\n",
      "Epoch 18/50\n",
      "513/513 [==============================] - 0s 689us/sample - loss: 0.2367 - accuracy: 0.9084 - val_loss: 3.2741 - val_accuracy: 0.0543\n",
      "Epoch 19/50\n",
      "513/513 [==============================] - 0s 697us/sample - loss: 0.1656 - accuracy: 0.9435 - val_loss: 3.7161 - val_accuracy: 0.0388\n",
      "Epoch 20/50\n",
      "513/513 [==============================] - 0s 718us/sample - loss: 0.2437 - accuracy: 0.9064 - val_loss: 4.5121 - val_accuracy: 0.0233\n",
      "Epoch 21/50\n",
      "513/513 [==============================] - 0s 782us/sample - loss: 0.1830 - accuracy: 0.9298 - val_loss: 4.1882 - val_accuracy: 0.0233\n",
      "Epoch 22/50\n",
      "513/513 [==============================] - 0s 772us/sample - loss: 0.1847 - accuracy: 0.9162 - val_loss: 3.9431 - val_accuracy: 0.0698\n",
      "Epoch 23/50\n",
      "513/513 [==============================] - 0s 749us/sample - loss: 0.1588 - accuracy: 0.9454 - val_loss: 5.4871 - val_accuracy: 0.0310\n",
      "Epoch 24/50\n",
      "513/513 [==============================] - 0s 737us/sample - loss: 0.1660 - accuracy: 0.9220 - val_loss: 4.8506 - val_accuracy: 0.0465\n",
      "Epoch 25/50\n",
      "513/513 [==============================] - 0s 725us/sample - loss: 0.1317 - accuracy: 0.9552 - val_loss: 4.0775 - val_accuracy: 0.0543\n",
      "Epoch 26/50\n",
      "513/513 [==============================] - 0s 709us/sample - loss: 0.1587 - accuracy: 0.9454 - val_loss: 5.3872 - val_accuracy: 0.0388\n",
      "Epoch 27/50\n",
      "513/513 [==============================] - 0s 713us/sample - loss: 0.1326 - accuracy: 0.9493 - val_loss: 2.4814 - val_accuracy: 0.1318\n",
      "Epoch 28/50\n",
      "513/513 [==============================] - 0s 751us/sample - loss: 0.1856 - accuracy: 0.9376 - val_loss: 3.6057 - val_accuracy: 0.0930\n",
      "Epoch 29/50\n",
      "513/513 [==============================] - 0s 760us/sample - loss: 0.1333 - accuracy: 0.9493 - val_loss: 2.2099 - val_accuracy: 0.1163\n",
      "Epoch 30/50\n",
      "513/513 [==============================] - 0s 728us/sample - loss: 0.0868 - accuracy: 0.9708 - val_loss: 5.4518 - val_accuracy: 0.0465\n",
      "Epoch 31/50\n",
      "513/513 [==============================] - 0s 741us/sample - loss: 0.1248 - accuracy: 0.9571 - val_loss: 3.1641 - val_accuracy: 0.1240\n",
      "Epoch 32/50\n",
      "513/513 [==============================] - 0s 744us/sample - loss: 0.1174 - accuracy: 0.9571 - val_loss: 5.8097 - val_accuracy: 0.0543\n",
      "Epoch 33/50\n",
      "513/513 [==============================] - 0s 785us/sample - loss: 0.1114 - accuracy: 0.9532 - val_loss: 4.2709 - val_accuracy: 0.0543\n",
      "Epoch 34/50\n",
      "513/513 [==============================] - 0s 783us/sample - loss: 0.1225 - accuracy: 0.9493 - val_loss: 2.6709 - val_accuracy: 0.1318\n",
      "Epoch 35/50\n",
      "513/513 [==============================] - 0s 790us/sample - loss: 0.0958 - accuracy: 0.9630 - val_loss: 4.7611 - val_accuracy: 0.0543\n",
      "Epoch 36/50\n",
      "513/513 [==============================] - 0s 735us/sample - loss: 0.1000 - accuracy: 0.9630 - val_loss: 6.4826 - val_accuracy: 0.0543\n",
      "Epoch 37/50\n",
      "513/513 [==============================] - 0s 761us/sample - loss: 0.1006 - accuracy: 0.9688 - val_loss: 5.8539 - val_accuracy: 0.0698\n",
      "Epoch 38/50\n",
      "513/513 [==============================] - 0s 748us/sample - loss: 0.1233 - accuracy: 0.9454 - val_loss: 5.9661 - val_accuracy: 0.0775\n",
      "Epoch 39/50\n",
      "513/513 [==============================] - 0s 800us/sample - loss: 0.0625 - accuracy: 0.9805 - val_loss: 3.7791 - val_accuracy: 0.1163\n",
      "Epoch 40/50\n",
      "513/513 [==============================] - 0s 774us/sample - loss: 0.0822 - accuracy: 0.9669 - val_loss: 8.2512 - val_accuracy: 0.0620\n",
      "Epoch 41/50\n",
      "513/513 [==============================] - 0s 755us/sample - loss: 0.0948 - accuracy: 0.9630 - val_loss: 4.9758 - val_accuracy: 0.0775\n",
      "Epoch 42/50\n",
      "513/513 [==============================] - 0s 755us/sample - loss: 0.0936 - accuracy: 0.9630 - val_loss: 6.7775 - val_accuracy: 0.0620\n",
      "Epoch 43/50\n",
      "513/513 [==============================] - 0s 768us/sample - loss: 0.0650 - accuracy: 0.9688 - val_loss: 5.3998 - val_accuracy: 0.0775\n",
      "Epoch 44/50\n",
      "513/513 [==============================] - 0s 775us/sample - loss: 0.0908 - accuracy: 0.9688 - val_loss: 6.7682 - val_accuracy: 0.0698\n",
      "Epoch 45/50\n",
      "513/513 [==============================] - 0s 773us/sample - loss: 0.0732 - accuracy: 0.9630 - val_loss: 5.6251 - val_accuracy: 0.1163\n",
      "Epoch 46/50\n",
      "513/513 [==============================] - 0s 750us/sample - loss: 0.0706 - accuracy: 0.9727 - val_loss: 3.8454 - val_accuracy: 0.1395\n",
      "Epoch 47/50\n",
      "513/513 [==============================] - 0s 767us/sample - loss: 0.0897 - accuracy: 0.9747 - val_loss: 2.1905 - val_accuracy: 0.1783\n",
      "Epoch 48/50\n",
      "513/513 [==============================] - 0s 771us/sample - loss: 0.0741 - accuracy: 0.9747 - val_loss: -0.1263 - val_accuracy: 0.2791\n",
      "Epoch 49/50\n",
      "513/513 [==============================] - 0s 771us/sample - loss: 0.0603 - accuracy: 0.9747 - val_loss: 2.8183 - val_accuracy: 0.1550\n",
      "Epoch 50/50\n",
      "513/513 [==============================] - 0s 774us/sample - loss: 0.0978 - accuracy: 0.9610 - val_loss: 4.5023 - val_accuracy: 0.0930\n"
     ]
    }
   ],
   "source": [
    "history = model.fit(X_train, y_train, validation_data=(X_test,y_test))\n",
    "y_pred = model.predict(X_test)"
   ]
  },
  {
   "cell_type": "code",
   "execution_count": 500,
   "metadata": {
    "scrolled": true
   },
   "outputs": [
    {
     "name": "stdout",
     "output_type": "stream",
     "text": [
      "              precision    recall  f1-score   support\n",
      "\n",
      "           1       0.79      0.86      0.82        87\n",
      "           2       0.65      0.52      0.58        42\n",
      "\n",
      "    accuracy                           0.75       129\n",
      "   macro avg       0.72      0.69      0.70       129\n",
      "weighted avg       0.74      0.75      0.74       129\n",
      "\n"
     ]
    }
   ],
   "source": [
    "print(classification_report(y_test, y_pred))"
   ]
  },
  {
   "cell_type": "code",
   "execution_count": 501,
   "metadata": {
    "scrolled": true
   },
   "outputs": [
    {
     "name": "stdout",
     "output_type": "stream",
     "text": [
      "[[75 12]\n",
      " [20 22]]\n"
     ]
    }
   ],
   "source": [
    "print(confusion_matrix(y_test, y_pred))"
   ]
  },
  {
   "cell_type": "code",
   "execution_count": 502,
   "metadata": {
    "scrolled": true
   },
   "outputs": [
    {
     "data": {
      "image/png": "[encoded data removed]",
      "text/plain": [
       "<Figure size 432x288 with 1 Axes>"
      ]
     },
     "metadata": {
      "needs_background": "light"
     },
     "output_type": "display_data"
    }
   ],
   "source": [
    "plt.plot(history.history['accuracy'])\n",
    "plt.plot(history.history['val_accuracy'])\n",
    "plt.plot(history.history['loss'])\n",
    "plt.ylabel('accuracy')\n",
    "plt.xlabel('epoch')\n",
    "plt.legend(['train', 'test', 'loss'], loc='upper right')\n",
    "plt.ylim(0, 1)\n",
    "plt.show()"
   ]
  },
  {
   "cell_type": "markdown",
   "metadata": {},
   "source": [
    "# 3 Hidden Layers"
   ]
  },
  {
   "cell_type": "code",
   "execution_count": 391,
   "metadata": {},
   "outputs": [],
   "source": [
    "def create_model2(optimizer='rmsprop',init='glorot_uniform', dropout=0.3):\n",
    "    model = Sequential()\n",
    "    # adding layers and adding droplayers to avoid overfitting\n",
    "    hidden_layers = len(selected_genes)\n",
    "    model.add(BatchNormalization())\n",
    "    model.add(Dense(hidden_layers*1.5, activation='relu'))\n",
    "    model.add(Dropout(dropout))\n",
    "    \n",
    "    model.add(BatchNormalization())\n",
    "    model.add(Dense((hidden_layers), activation='relu'))\n",
    "    model.add(Dropout(dropout))\n",
    "\n",
    "    model.add(BatchNormalization())\n",
    "    model.add(Dense((hidden_layers*0.5), activation='relu'))\n",
    "    model.add(Dropout(dropout))\n",
    "    \n",
    "    model.add(Dense(1, activation='sigmoid'))\n",
    "    # compiling\n",
    "    model.compile(optimizer=optimizer, loss='binary_crossentropy', metrics=['accuracy'])\n",
    "    return model"
   ]
  },
  {
   "cell_type": "code",
   "execution_count": 392,
   "metadata": {},
   "outputs": [
    {
     "name": "stdout",
     "output_type": "stream",
     "text": [
      "Train on 342 samples\n",
      "Epoch 1/50\n",
      "342/342 [==============================] - 2s 6ms/sample - loss: 0.7389 - accuracy: 0.5994\n",
      "Epoch 2/50\n",
      "342/342 [==============================] - 0s 464us/sample - loss: 0.5929 - accuracy: 0.7018\n",
      "Epoch 3/50\n",
      "342/342 [==============================] - 0s 480us/sample - loss: 0.4636 - accuracy: 0.7632\n",
      "Epoch 4/50\n",
      "342/342 [==============================] - 0s 467us/sample - loss: 0.4055 - accuracy: 0.8012\n",
      "Epoch 5/50\n",
      "342/342 [==============================] - 0s 468us/sample - loss: 0.3572 - accuracy: 0.8392\n",
      "Epoch 6/50\n",
      "342/342 [==============================] - 0s 501us/sample - loss: 0.3484 - accuracy: 0.8596\n",
      "Epoch 7/50\n",
      "342/342 [==============================] - 0s 475us/sample - loss: 0.2708 - accuracy: 0.9035\n",
      "Epoch 8/50\n",
      "342/342 [==============================] - 0s 485us/sample - loss: 0.2027 - accuracy: 0.9240\n",
      "Epoch 9/50\n",
      "342/342 [==============================] - 0s 485us/sample - loss: 0.2312 - accuracy: 0.9035\n",
      "Epoch 10/50\n",
      "342/342 [==============================] - 0s 492us/sample - loss: 0.1432 - accuracy: 0.9444\n",
      "Epoch 11/50\n",
      "342/342 [==============================] - 0s 501us/sample - loss: 0.1670 - accuracy: 0.9444\n",
      "Epoch 12/50\n",
      "342/342 [==============================] - 0s 476us/sample - loss: 0.1608 - accuracy: 0.9503\n",
      "Epoch 13/50\n",
      "342/342 [==============================] - 0s 480us/sample - loss: 0.1567 - accuracy: 0.9357\n",
      "Epoch 14/50\n",
      "342/342 [==============================] - 0s 481us/sample - loss: 0.1419 - accuracy: 0.9444\n",
      "Epoch 15/50\n",
      "342/342 [==============================] - 0s 473us/sample - loss: 0.0818 - accuracy: 0.9591\n",
      "Epoch 16/50\n",
      "342/342 [==============================] - 0s 476us/sample - loss: 0.0832 - accuracy: 0.9649\n",
      "Epoch 17/50\n",
      "342/342 [==============================] - 0s 469us/sample - loss: 0.0448 - accuracy: 0.9912\n",
      "Epoch 18/50\n",
      "342/342 [==============================] - 0s 480us/sample - loss: 0.0769 - accuracy: 0.9825\n",
      "Epoch 19/50\n",
      "342/342 [==============================] - 0s 506us/sample - loss: 0.0554 - accuracy: 0.9766\n",
      "Epoch 20/50\n",
      "342/342 [==============================] - 0s 510us/sample - loss: 0.0984 - accuracy: 0.9591\n",
      "Epoch 21/50\n",
      "342/342 [==============================] - 0s 529us/sample - loss: 0.0936 - accuracy: 0.9561\n",
      "Epoch 22/50\n",
      "342/342 [==============================] - 0s 509us/sample - loss: 0.0802 - accuracy: 0.9737\n",
      "Epoch 23/50\n",
      "342/342 [==============================] - 0s 542us/sample - loss: 0.0375 - accuracy: 0.9883\n",
      "Epoch 24/50\n",
      "342/342 [==============================] - 0s 518us/sample - loss: 0.0466 - accuracy: 0.9825\n",
      "Epoch 25/50\n",
      "342/342 [==============================] - 0s 531us/sample - loss: 0.0303 - accuracy: 0.9912\n",
      "Epoch 26/50\n",
      "342/342 [==============================] - 0s 513us/sample - loss: 0.0592 - accuracy: 0.9708\n",
      "Epoch 27/50\n",
      "342/342 [==============================] - 0s 514us/sample - loss: 0.0381 - accuracy: 0.9795\n",
      "Epoch 28/50\n",
      "342/342 [==============================] - 0s 516us/sample - loss: 0.0250 - accuracy: 0.9971\n",
      "Epoch 29/50\n",
      "342/342 [==============================] - 0s 519us/sample - loss: 0.0352 - accuracy: 0.9854\n",
      "Epoch 30/50\n",
      "342/342 [==============================] - 0s 518us/sample - loss: 0.0432 - accuracy: 0.9883\n",
      "Epoch 31/50\n",
      "342/342 [==============================] - 0s 518us/sample - loss: 0.0375 - accuracy: 0.9883\n",
      "Epoch 32/50\n",
      "342/342 [==============================] - 0s 511us/sample - loss: 0.0328 - accuracy: 0.9854\n",
      "Epoch 33/50\n",
      "342/342 [==============================] - 0s 524us/sample - loss: 0.0202 - accuracy: 0.9912\n",
      "Epoch 34/50\n",
      "342/342 [==============================] - 0s 529us/sample - loss: 0.0189 - accuracy: 0.9912\n",
      "Epoch 35/50\n",
      "342/342 [==============================] - 0s 519us/sample - loss: 0.0340 - accuracy: 0.9883\n",
      "Epoch 36/50\n",
      "342/342 [==============================] - 0s 515us/sample - loss: 0.0604 - accuracy: 0.9766\n",
      "Epoch 37/50\n",
      "342/342 [==============================] - 0s 516us/sample - loss: 0.0419 - accuracy: 0.9795\n",
      "Epoch 38/50\n",
      "342/342 [==============================] - 0s 526us/sample - loss: 0.0275 - accuracy: 0.9912\n",
      "Epoch 39/50\n",
      "342/342 [==============================] - 0s 516us/sample - loss: 0.0229 - accuracy: 0.9912\n",
      "Epoch 40/50\n",
      "342/342 [==============================] - 0s 516us/sample - loss: 0.0528 - accuracy: 0.9766\n",
      "Epoch 41/50\n",
      "342/342 [==============================] - 0s 514us/sample - loss: 0.0135 - accuracy: 0.9942\n",
      "Epoch 42/50\n",
      "342/342 [==============================] - 0s 520us/sample - loss: 0.0430 - accuracy: 0.9825\n",
      "Epoch 43/50\n",
      "342/342 [==============================] - 0s 520us/sample - loss: 0.0375 - accuracy: 0.9854\n",
      "Epoch 44/50\n",
      "342/342 [==============================] - 0s 518us/sample - loss: 0.0759 - accuracy: 0.9766\n",
      "Epoch 45/50\n",
      "342/342 [==============================] - 0s 512us/sample - loss: 0.0669 - accuracy: 0.9825\n",
      "Epoch 46/50\n",
      "342/342 [==============================] - 0s 514us/sample - loss: 0.1112 - accuracy: 0.9737\n",
      "Epoch 47/50\n",
      "342/342 [==============================] - 0s 518us/sample - loss: 0.0558 - accuracy: 0.9795\n",
      "Epoch 48/50\n",
      "342/342 [==============================] - 0s 502us/sample - loss: 0.0391 - accuracy: 0.9883\n",
      "Epoch 49/50\n",
      "342/342 [==============================] - 0s 510us/sample - loss: 0.0251 - accuracy: 0.9912\n",
      "Epoch 50/50\n",
      "342/342 [==============================] - 0s 525us/sample - loss: 0.0178 - accuracy: 0.9971\n",
      "171/1 [==========================================================================================================================================================================================================================================================================================================================================================================================================================================================================================================================================================================================================================================================================================================================================================================================================================================================================================================================================================================================================================================================================================================================================================================================================================================================================================================================================================================================================================================================================================================================================================================================================================================================================================================================================================================================================================================================================================================================================================================================================================================================================================================================================================================================================================================================================================================================================================================================================================================================================================================================================================================================================================================================================================================================================================================================================================================================================================================================================================================================================================================================================================================================================================================================================================================================================================================================================================================================================================================================================================================================================================================================================================================================================================================================================================================================================================================================================================================================================================================================================================================================================================================================================================================================================================================================================================================================================================================================================================================================================================================================================================================================================================================================================================================================================================================================================================================================================================================================================================================================================================================================================================================================================================================================================================================================================================================================================] - 0s 2ms/sample - loss: 1.2002 - accuracy: 0.8304\n"
     ]
    },
    {
     "name": "stdout",
     "output_type": "stream",
     "text": [
      "Train on 342 samples\n",
      "Epoch 1/50\n",
      "342/342 [==============================] - 2s 6ms/sample - loss: 0.7837 - accuracy: 0.5556\n",
      "Epoch 2/50\n",
      "342/342 [==============================] - 0s 469us/sample - loss: 0.5597 - accuracy: 0.7222\n",
      "Epoch 3/50\n",
      "342/342 [==============================] - 0s 480us/sample - loss: 0.4896 - accuracy: 0.7602\n",
      "Epoch 4/50\n",
      "342/342 [==============================] - 0s 487us/sample - loss: 0.3924 - accuracy: 0.8070\n",
      "Epoch 5/50\n",
      "342/342 [==============================] - 0s 487us/sample - loss: 0.3704 - accuracy: 0.8421\n",
      "Epoch 6/50\n",
      "342/342 [==============================] - 0s 497us/sample - loss: 0.3633 - accuracy: 0.8099\n",
      "Epoch 7/50\n",
      "342/342 [==============================] - 0s 463us/sample - loss: 0.2470 - accuracy: 0.9035\n",
      "Epoch 8/50\n",
      "342/342 [==============================] - 0s 459us/sample - loss: 0.2729 - accuracy: 0.9006\n",
      "Epoch 9/50\n",
      "342/342 [==============================] - 0s 493us/sample - loss: 0.1914 - accuracy: 0.9152\n",
      "Epoch 10/50\n",
      "342/342 [==============================] - 0s 477us/sample - loss: 0.1535 - accuracy: 0.9415\n",
      "Epoch 11/50\n",
      "342/342 [==============================] - 0s 491us/sample - loss: 0.1285 - accuracy: 0.9591\n",
      "Epoch 12/50\n",
      "342/342 [==============================] - 0s 508us/sample - loss: 0.1377 - accuracy: 0.9444\n",
      "Epoch 13/50\n",
      "342/342 [==============================] - 0s 524us/sample - loss: 0.1049 - accuracy: 0.9649\n",
      "Epoch 14/50\n",
      "342/342 [==============================] - 0s 492us/sample - loss: 0.1291 - accuracy: 0.9591\n",
      "Epoch 15/50\n",
      "342/342 [==============================] - 0s 500us/sample - loss: 0.0876 - accuracy: 0.9825\n",
      "Epoch 16/50\n",
      "342/342 [==============================] - 0s 473us/sample - loss: 0.0713 - accuracy: 0.9825\n",
      "Epoch 17/50\n",
      "342/342 [==============================] - 0s 484us/sample - loss: 0.0793 - accuracy: 0.9649\n",
      "Epoch 18/50\n",
      "342/342 [==============================] - 0s 492us/sample - loss: 0.0520 - accuracy: 0.9795\n",
      "Epoch 19/50\n",
      "342/342 [==============================] - 0s 501us/sample - loss: 0.0547 - accuracy: 0.9766\n",
      "Epoch 20/50\n",
      "342/342 [==============================] - 0s 518us/sample - loss: 0.0679 - accuracy: 0.9766\n",
      "Epoch 21/50\n",
      "342/342 [==============================] - 0s 513us/sample - loss: 0.0666 - accuracy: 0.9854\n",
      "Epoch 22/50\n",
      "342/342 [==============================] - 0s 533us/sample - loss: 0.0565 - accuracy: 0.9795\n",
      "Epoch 23/50\n",
      "342/342 [==============================] - 0s 557us/sample - loss: 0.0333 - accuracy: 0.9942\n",
      "Epoch 24/50\n",
      "342/342 [==============================] - 0s 513us/sample - loss: 0.0280 - accuracy: 0.9942\n",
      "Epoch 25/50\n",
      "342/342 [==============================] - 0s 551us/sample - loss: 0.0298 - accuracy: 0.9912\n",
      "Epoch 26/50\n",
      "342/342 [==============================] - 0s 565us/sample - loss: 0.0356 - accuracy: 0.9854\n",
      "Epoch 27/50\n",
      "342/342 [==============================] - 0s 530us/sample - loss: 0.0386 - accuracy: 0.9854\n",
      "Epoch 28/50\n",
      "342/342 [==============================] - 0s 535us/sample - loss: 0.0121 - accuracy: 0.9971\n",
      "Epoch 29/50\n",
      "342/342 [==============================] - 0s 525us/sample - loss: 0.0192 - accuracy: 0.9942\n",
      "Epoch 30/50\n",
      "342/342 [==============================] - 0s 527us/sample - loss: 0.0269 - accuracy: 0.9854\n",
      "Epoch 31/50\n",
      "342/342 [==============================] - 0s 510us/sample - loss: 0.0220 - accuracy: 0.9942\n",
      "Epoch 32/50\n",
      "342/342 [==============================] - 0s 523us/sample - loss: 0.0419 - accuracy: 0.9854\n",
      "Epoch 33/50\n",
      "342/342 [==============================] - 0s 525us/sample - loss: 0.0208 - accuracy: 0.9912\n",
      "Epoch 34/50\n",
      "342/342 [==============================] - 0s 566us/sample - loss: 0.0312 - accuracy: 0.9912\n",
      "Epoch 35/50\n",
      "342/342 [==============================] - 0s 584us/sample - loss: 0.0253 - accuracy: 0.9912\n",
      "Epoch 36/50\n",
      "342/342 [==============================] - 0s 539us/sample - loss: 0.0435 - accuracy: 0.9825\n",
      "Epoch 37/50\n",
      "342/342 [==============================] - 0s 537us/sample - loss: 0.0120 - accuracy: 1.0000\n",
      "Epoch 38/50\n",
      "342/342 [==============================] - 0s 568us/sample - loss: 0.0284 - accuracy: 0.9883\n",
      "Epoch 39/50\n",
      "342/342 [==============================] - 0s 555us/sample - loss: 0.0303 - accuracy: 0.9912\n",
      "Epoch 40/50\n",
      "342/342 [==============================] - 0s 541us/sample - loss: 0.0409 - accuracy: 0.9912\n",
      "Epoch 41/50\n",
      "342/342 [==============================] - 0s 518us/sample - loss: 0.0246 - accuracy: 0.9942\n",
      "Epoch 42/50\n",
      "342/342 [==============================] - 0s 513us/sample - loss: 0.0189 - accuracy: 0.9883\n",
      "Epoch 43/50\n",
      "342/342 [==============================] - 0s 512us/sample - loss: 0.0464 - accuracy: 0.9854\n",
      "Epoch 44/50\n",
      "342/342 [==============================] - 0s 513us/sample - loss: 0.0239 - accuracy: 0.9883\n",
      "Epoch 45/50\n",
      "342/342 [==============================] - 0s 509us/sample - loss: 0.0115 - accuracy: 0.9971\n",
      "Epoch 46/50\n",
      "342/342 [==============================] - 0s 543us/sample - loss: 0.0133 - accuracy: 0.9971\n",
      "Epoch 47/50\n",
      "342/342 [==============================] - 0s 572us/sample - loss: 0.0086 - accuracy: 0.9971\n",
      "Epoch 48/50\n",
      "342/342 [==============================] - 0s 547us/sample - loss: 0.0111 - accuracy: 0.9971\n",
      "Epoch 49/50\n",
      "342/342 [==============================] - 0s 553us/sample - loss: 0.0334 - accuracy: 0.9912\n",
      "Epoch 50/50\n",
      "342/342 [==============================] - 0s 508us/sample - loss: 0.0427 - accuracy: 0.9825\n",
      "171/1 [==========================================================================================================================================================================================================================================================================================================================================================================================================================================================================================================================================================================================================================================================================================================================================================================================================================================================================================================================================================================================================================================================================================================================================================================================================================================================================================================================================================================================================================================================================================================================================================================================================================================================================================================================================================================================================================================================================================================================================================================================================================================================================================================================================================================================================================================================================================================================================================================================================================================================================================================================================================================================================================================================================================================================================================================================================================================================================================================================================================================================================================================================================================================================================================================================================================================================================================================================================================================================================================================================================================================================================================================================================================================================================================================================================================================================================================================================================================================================================================================================================================================================================================================================================================================================================================================================================================================================================================================================================================================================================================================================================================================================================================================================================================================================================================================================================================================================================================================================================================================================================================================================================================================================================================================================================================================================================================================================================] - 0s 2ms/sample - loss: 2.9908 - accuracy: 0.7193\n"
     ]
    },
    {
     "name": "stdout",
     "output_type": "stream",
     "text": [
      "Train on 342 samples\n",
      "Epoch 1/50\n",
      "342/342 [==============================] - 2s 6ms/sample - loss: 0.6606 - accuracy: 0.6287\n",
      "Epoch 2/50\n",
      "342/342 [==============================] - 0s 449us/sample - loss: 0.4696 - accuracy: 0.7982\n",
      "Epoch 3/50\n",
      "342/342 [==============================] - 0s 464us/sample - loss: 0.4042 - accuracy: 0.8070\n",
      "Epoch 4/50\n",
      "342/342 [==============================] - 0s 464us/sample - loss: 0.3635 - accuracy: 0.8567\n",
      "Epoch 5/50\n",
      "342/342 [==============================] - 0s 462us/sample - loss: 0.2600 - accuracy: 0.8918\n",
      "Epoch 6/50\n",
      "342/342 [==============================] - 0s 471us/sample - loss: 0.2628 - accuracy: 0.8889\n",
      "Epoch 7/50\n",
      "342/342 [==============================] - 0s 470us/sample - loss: 0.1995 - accuracy: 0.9211\n",
      "Epoch 8/50\n",
      "342/342 [==============================] - 0s 477us/sample - loss: 0.1757 - accuracy: 0.9444\n",
      "Epoch 9/50\n",
      "342/342 [==============================] - 0s 470us/sample - loss: 0.1711 - accuracy: 0.9386\n",
      "Epoch 10/50\n",
      "342/342 [==============================] - 0s 460us/sample - loss: 0.1374 - accuracy: 0.9532\n",
      "Epoch 11/50\n",
      "342/342 [==============================] - 0s 457us/sample - loss: 0.1014 - accuracy: 0.9620\n",
      "Epoch 12/50\n",
      "342/342 [==============================] - 0s 460us/sample - loss: 0.0785 - accuracy: 0.9678\n",
      "Epoch 13/50\n",
      "342/342 [==============================] - 0s 474us/sample - loss: 0.1007 - accuracy: 0.9620\n",
      "Epoch 14/50\n",
      "342/342 [==============================] - 0s 472us/sample - loss: 0.0654 - accuracy: 0.9766\n",
      "Epoch 15/50\n",
      "342/342 [==============================] - 0s 468us/sample - loss: 0.0816 - accuracy: 0.9678\n",
      "Epoch 16/50\n",
      "342/342 [==============================] - 0s 494us/sample - loss: 0.0630 - accuracy: 0.9737\n",
      "Epoch 17/50\n",
      "342/342 [==============================] - 0s 521us/sample - loss: 0.0486 - accuracy: 0.9854\n",
      "Epoch 18/50\n",
      "342/342 [==============================] - 0s 522us/sample - loss: 0.1006 - accuracy: 0.9444\n",
      "Epoch 19/50\n",
      "342/342 [==============================] - 0s 518us/sample - loss: 0.0693 - accuracy: 0.9766\n",
      "Epoch 20/50\n",
      "342/342 [==============================] - 0s 525us/sample - loss: 0.0576 - accuracy: 0.9795\n",
      "Epoch 21/50\n",
      "342/342 [==============================] - 0s 510us/sample - loss: 0.0299 - accuracy: 0.9912\n",
      "Epoch 22/50\n",
      "342/342 [==============================] - 0s 510us/sample - loss: 0.0590 - accuracy: 0.9825\n",
      "Epoch 23/50\n",
      "342/342 [==============================] - 0s 507us/sample - loss: 0.0218 - accuracy: 0.9971\n",
      "Epoch 24/50\n",
      "342/342 [==============================] - 0s 512us/sample - loss: 0.0653 - accuracy: 0.9795\n",
      "Epoch 25/50\n",
      "342/342 [==============================] - 0s 512us/sample - loss: 0.0180 - accuracy: 0.9971\n",
      "Epoch 26/50\n",
      "342/342 [==============================] - 0s 527us/sample - loss: 0.0203 - accuracy: 0.9942\n",
      "Epoch 27/50\n",
      "342/342 [==============================] - 0s 516us/sample - loss: 0.0321 - accuracy: 0.9883\n",
      "Epoch 28/50\n",
      "342/342 [==============================] - 0s 514us/sample - loss: 0.0389 - accuracy: 0.9825\n",
      "Epoch 29/50\n",
      "342/342 [==============================] - 0s 523us/sample - loss: 0.0174 - accuracy: 0.9912\n",
      "Epoch 30/50\n",
      "342/342 [==============================] - 0s 526us/sample - loss: 0.0324 - accuracy: 0.9912\n",
      "Epoch 31/50\n",
      "342/342 [==============================] - 0s 524us/sample - loss: 0.0582 - accuracy: 0.9825\n",
      "Epoch 32/50\n",
      "342/342 [==============================] - 0s 518us/sample - loss: 0.0908 - accuracy: 0.9620\n",
      "Epoch 33/50\n",
      "342/342 [==============================] - 0s 517us/sample - loss: 0.0362 - accuracy: 0.9912\n",
      "Epoch 34/50\n",
      "342/342 [==============================] - 0s 528us/sample - loss: 0.0261 - accuracy: 0.9912\n",
      "Epoch 35/50\n",
      "342/342 [==============================] - 0s 518us/sample - loss: 0.0474 - accuracy: 0.9795\n",
      "Epoch 36/50\n",
      "342/342 [==============================] - 0s 527us/sample - loss: 0.0274 - accuracy: 0.9942\n",
      "Epoch 37/50\n",
      "342/342 [==============================] - 0s 517us/sample - loss: 0.0272 - accuracy: 0.9854\n",
      "Epoch 38/50\n",
      "342/342 [==============================] - 0s 523us/sample - loss: 0.0241 - accuracy: 0.9883\n",
      "Epoch 39/50\n",
      "342/342 [==============================] - 0s 519us/sample - loss: 0.0376 - accuracy: 0.9825\n",
      "Epoch 40/50\n",
      "342/342 [==============================] - 0s 515us/sample - loss: 0.0251 - accuracy: 0.9971\n",
      "Epoch 41/50\n",
      "342/342 [==============================] - 0s 507us/sample - loss: 0.0294 - accuracy: 0.9883\n",
      "Epoch 42/50\n",
      "342/342 [==============================] - 0s 513us/sample - loss: 0.0345 - accuracy: 0.9883\n",
      "Epoch 43/50\n",
      "342/342 [==============================] - 0s 522us/sample - loss: 0.0141 - accuracy: 0.9942\n",
      "Epoch 44/50\n",
      "342/342 [==============================] - 0s 526us/sample - loss: 0.0411 - accuracy: 0.9825\n",
      "Epoch 45/50\n",
      "342/342 [==============================] - 0s 520us/sample - loss: 0.0170 - accuracy: 0.9912\n",
      "Epoch 46/50\n",
      "342/342 [==============================] - 0s 520us/sample - loss: 0.0121 - accuracy: 0.9971\n",
      "Epoch 47/50\n",
      "342/342 [==============================] - 0s 525us/sample - loss: 0.0130 - accuracy: 0.9942\n",
      "Epoch 48/50\n",
      "342/342 [==============================] - 0s 513us/sample - loss: 0.0352 - accuracy: 0.9883\n",
      "Epoch 49/50\n",
      "342/342 [==============================] - 0s 508us/sample - loss: 0.0268 - accuracy: 0.9942\n",
      "Epoch 50/50\n",
      "342/342 [==============================] - 0s 545us/sample - loss: 0.0241 - accuracy: 0.9912\n",
      "171/1 [==========================================================================================================================================================================================================================================================================================================================================================================================================================================================================================================================================================================================================================================================================================================================================================================================================================================================================================================================================================================================================================================================================================================================================================================================================================================================================================================================================================================================================================================================================================================================================================================================================================================================================================================================================================================================================================================================================================================================================================================================================================================================================================================================================================================================================================================================================================================================================================================================================================================================================================================================================================================================================================================================================================================================================================================================================================================================================================================================================================================================================================================================================================================================================================================================================================================================================================================================================================================================================================================================================================================================================================================================================================================================================================================================================================================================================================================================================================================================================================================================================================================================================================================================================================================================================================================================================================================================================================================================================================================================================================================================================================================================================================================================================================================================================================================================================================================================================================================================================================================================================================================================================================================================================================================================================================================================================================================================================] - 0s 2ms/sample - loss: 2.6538 - accuracy: 0.6316\n"
     ]
    },
    {
     "name": "stdout",
     "output_type": "stream",
     "text": [
      "Baseline Accuracy: 72.71% (8.14%)\n"
     ]
    }
   ],
   "source": [
    "# parameters selected from previous gridsearch\n",
    "model = KerasClassifier(build_fn=create_model2, epochs=50, batch_size=32, optimizer='Adam', init='normal')\n",
    "# kfold = KFold(n_splits=3, shuffle=True)\n",
    "# results = cross_val_score(model, X_train, y_train, cv=kfold)\n",
    "# print(\"Baseline Accuracy: %.2f%% (%.2f%%)\" % (results.mean()*100, results.std()*100))"
   ]
  },
  {
   "cell_type": "code",
   "execution_count": 393,
   "metadata": {
    "scrolled": true
   },
   "outputs": [
    {
     "name": "stdout",
     "output_type": "stream",
     "text": [
      "Train on 513 samples, validate on 129 samples\n",
      "Epoch 1/50\n",
      "513/513 [==============================] - 2s 4ms/sample - loss: 0.7397 - accuracy: 0.6335 - val_loss: 0.8388 - val_accuracy: 0.0310\n",
      "Epoch 2/50\n",
      "513/513 [==============================] - 0s 566us/sample - loss: 0.5176 - accuracy: 0.7329 - val_loss: 1.0511 - val_accuracy: 0.0078\n",
      "Epoch 3/50\n",
      "513/513 [==============================] - 0s 580us/sample - loss: 0.4778 - accuracy: 0.7934 - val_loss: 1.2000 - val_accuracy: 0.0000e+00\n",
      "Epoch 4/50\n",
      "513/513 [==============================] - 0s 579us/sample - loss: 0.4146 - accuracy: 0.8031 - val_loss: 1.5053 - val_accuracy: 0.0000e+00\n",
      "Epoch 5/50\n",
      "513/513 [==============================] - 0s 602us/sample - loss: 0.3314 - accuracy: 0.8694 - val_loss: 1.6903 - val_accuracy: 0.0000e+00\n",
      "Epoch 6/50\n",
      "513/513 [==============================] - 0s 603us/sample - loss: 0.2967 - accuracy: 0.8635 - val_loss: 1.9582 - val_accuracy: 0.0000e+00\n",
      "Epoch 7/50\n",
      "513/513 [==============================] - 0s 644us/sample - loss: 0.2362 - accuracy: 0.9064 - val_loss: 2.4333 - val_accuracy: 0.0000e+00\n",
      "Epoch 8/50\n",
      "513/513 [==============================] - 0s 653us/sample - loss: 0.2276 - accuracy: 0.9064 - val_loss: 3.0965 - val_accuracy: 0.0000e+00\n",
      "Epoch 9/50\n",
      "513/513 [==============================] - 0s 669us/sample - loss: 0.2118 - accuracy: 0.9084 - val_loss: 3.4960 - val_accuracy: 0.0000e+00\n",
      "Epoch 10/50\n",
      "513/513 [==============================] - 0s 680us/sample - loss: 0.1794 - accuracy: 0.9298 - val_loss: 4.5132 - val_accuracy: 0.0000e+00\n",
      "Epoch 11/50\n",
      "513/513 [==============================] - 0s 661us/sample - loss: 0.1552 - accuracy: 0.9376 - val_loss: 5.2403 - val_accuracy: 0.0000e+00\n",
      "Epoch 12/50\n",
      "513/513 [==============================] - 0s 658us/sample - loss: 0.1278 - accuracy: 0.9532 - val_loss: 5.6818 - val_accuracy: 0.0000e+00\n",
      "Epoch 13/50\n",
      "513/513 [==============================] - 0s 662us/sample - loss: 0.1314 - accuracy: 0.9571 - val_loss: 6.1068 - val_accuracy: 0.0078\n",
      "Epoch 14/50\n",
      "513/513 [==============================] - 0s 669us/sample - loss: 0.0988 - accuracy: 0.9708 - val_loss: 6.2672 - val_accuracy: 0.0078\n",
      "Epoch 15/50\n",
      "513/513 [==============================] - 0s 680us/sample - loss: 0.0712 - accuracy: 0.9747 - val_loss: 6.8018 - val_accuracy: 0.0078\n",
      "Epoch 16/50\n",
      "513/513 [==============================] - 0s 674us/sample - loss: 0.1116 - accuracy: 0.9493 - val_loss: 7.0745 - val_accuracy: 0.0078\n",
      "Epoch 17/50\n",
      "513/513 [==============================] - 0s 681us/sample - loss: 0.0550 - accuracy: 0.9766 - val_loss: 6.8055 - val_accuracy: 0.0078\n",
      "Epoch 18/50\n",
      "513/513 [==============================] - 0s 661us/sample - loss: 0.0875 - accuracy: 0.9649 - val_loss: 6.2981 - val_accuracy: 0.0233\n",
      "Epoch 19/50\n",
      "513/513 [==============================] - 0s 676us/sample - loss: 0.0550 - accuracy: 0.9805 - val_loss: 6.4027 - val_accuracy: 0.0233\n",
      "Epoch 20/50\n",
      "513/513 [==============================] - 0s 684us/sample - loss: 0.0924 - accuracy: 0.9688 - val_loss: 6.1869 - val_accuracy: 0.0233\n",
      "Epoch 21/50\n",
      "513/513 [==============================] - 0s 689us/sample - loss: 0.0619 - accuracy: 0.9747 - val_loss: 6.2502 - val_accuracy: 0.0155\n",
      "Epoch 22/50\n",
      "513/513 [==============================] - 0s 673us/sample - loss: 0.0609 - accuracy: 0.9786 - val_loss: 6.4550 - val_accuracy: 0.0310\n",
      "Epoch 23/50\n",
      "513/513 [==============================] - 0s 671us/sample - loss: 0.0700 - accuracy: 0.9688 - val_loss: 6.6009 - val_accuracy: 0.0233\n",
      "Epoch 24/50\n",
      "513/513 [==============================] - 0s 666us/sample - loss: 0.0597 - accuracy: 0.9825 - val_loss: 6.6874 - val_accuracy: 0.0310\n",
      "Epoch 25/50\n",
      "513/513 [==============================] - 0s 670us/sample - loss: 0.0981 - accuracy: 0.9669 - val_loss: 6.7629 - val_accuracy: 0.0388\n",
      "Epoch 26/50\n",
      "513/513 [==============================] - 0s 669us/sample - loss: 0.0503 - accuracy: 0.9825 - val_loss: 6.0652 - val_accuracy: 0.0310\n",
      "Epoch 27/50\n",
      "513/513 [==============================] - 0s 674us/sample - loss: 0.0682 - accuracy: 0.9727 - val_loss: 6.0678 - val_accuracy: 0.0543\n",
      "Epoch 28/50\n",
      "513/513 [==============================] - 0s 683us/sample - loss: 0.0741 - accuracy: 0.9747 - val_loss: 5.7552 - val_accuracy: 0.0388\n",
      "Epoch 29/50\n",
      "513/513 [==============================] - 0s 668us/sample - loss: 0.0568 - accuracy: 0.9805 - val_loss: 5.3824 - val_accuracy: 0.0698\n",
      "Epoch 30/50\n",
      "513/513 [==============================] - 0s 672us/sample - loss: 0.0740 - accuracy: 0.9727 - val_loss: 4.6451 - val_accuracy: 0.0775\n",
      "Epoch 31/50\n",
      "513/513 [==============================] - 0s 667us/sample - loss: 0.0633 - accuracy: 0.9766 - val_loss: 4.0914 - val_accuracy: 0.1240\n",
      "Epoch 32/50\n",
      "513/513 [==============================] - 0s 665us/sample - loss: 0.0458 - accuracy: 0.9844 - val_loss: 4.7163 - val_accuracy: 0.0465\n",
      "Epoch 33/50\n",
      "513/513 [==============================] - 0s 664us/sample - loss: 0.0636 - accuracy: 0.9708 - val_loss: 4.3473 - val_accuracy: 0.0853\n",
      "Epoch 34/50\n",
      "513/513 [==============================] - 0s 673us/sample - loss: 0.0378 - accuracy: 0.9883 - val_loss: 4.4781 - val_accuracy: 0.0698\n",
      "Epoch 35/50\n",
      "513/513 [==============================] - 0s 665us/sample - loss: 0.0311 - accuracy: 0.9864 - val_loss: 4.9273 - val_accuracy: 0.0543\n",
      "Epoch 36/50\n",
      "513/513 [==============================] - 0s 660us/sample - loss: 0.0540 - accuracy: 0.9805 - val_loss: 5.3348 - val_accuracy: 0.0543\n",
      "Epoch 37/50\n",
      "513/513 [==============================] - 0s 646us/sample - loss: 0.0232 - accuracy: 0.9942 - val_loss: 4.6483 - val_accuracy: 0.0775\n",
      "Epoch 38/50\n",
      "513/513 [==============================] - 0s 686us/sample - loss: 0.0196 - accuracy: 0.9942 - val_loss: 4.4737 - val_accuracy: 0.0543\n",
      "Epoch 39/50\n",
      "513/513 [==============================] - 0s 694us/sample - loss: 0.0207 - accuracy: 0.9961 - val_loss: 4.1519 - val_accuracy: 0.0543\n",
      "Epoch 40/50\n",
      "513/513 [==============================] - 0s 665us/sample - loss: 0.0231 - accuracy: 0.9903 - val_loss: 4.0560 - val_accuracy: 0.0853\n",
      "Epoch 41/50\n",
      "513/513 [==============================] - 0s 667us/sample - loss: 0.0290 - accuracy: 0.9883 - val_loss: 4.3305 - val_accuracy: 0.0698\n",
      "Epoch 42/50\n",
      "513/513 [==============================] - 0s 658us/sample - loss: 0.0348 - accuracy: 0.9883 - val_loss: 4.7342 - val_accuracy: 0.0620\n",
      "Epoch 43/50\n",
      "513/513 [==============================] - 0s 676us/sample - loss: 0.0336 - accuracy: 0.9903 - val_loss: 5.1363 - val_accuracy: 0.0543\n",
      "Epoch 44/50\n",
      "513/513 [==============================] - 0s 667us/sample - loss: 0.0391 - accuracy: 0.9786 - val_loss: 5.0473 - val_accuracy: 0.0775\n",
      "Epoch 45/50\n",
      "513/513 [==============================] - 0s 643us/sample - loss: 0.0243 - accuracy: 0.9922 - val_loss: 4.6712 - val_accuracy: 0.1085\n",
      "Epoch 46/50\n",
      "513/513 [==============================] - 0s 642us/sample - loss: 0.0478 - accuracy: 0.9766 - val_loss: 4.7384 - val_accuracy: 0.0543\n",
      "Epoch 47/50\n",
      "513/513 [==============================] - 0s 660us/sample - loss: 0.0194 - accuracy: 0.9922 - val_loss: 4.4037 - val_accuracy: 0.0543\n",
      "Epoch 48/50\n",
      "513/513 [==============================] - 0s 645us/sample - loss: 0.0243 - accuracy: 0.9883 - val_loss: 4.4295 - val_accuracy: 0.0465\n",
      "Epoch 49/50\n",
      "513/513 [==============================] - 0s 646us/sample - loss: 0.0223 - accuracy: 0.9922 - val_loss: 4.3053 - val_accuracy: 0.0698\n",
      "Epoch 50/50\n",
      "513/513 [==============================] - 0s 666us/sample - loss: 0.0262 - accuracy: 0.9903 - val_loss: 3.9318 - val_accuracy: 0.0543\n"
     ]
    }
   ],
   "source": [
    "history = model.fit(X_train, y_train, validation_data=(X_test, y_test), shuffle=True)\n",
    "y_pred = model.predict(X_test)"
   ]
  },
  {
   "cell_type": "code",
   "execution_count": 394,
   "metadata": {},
   "outputs": [
    {
     "name": "stdout",
     "output_type": "stream",
     "text": [
      "              precision    recall  f1-score   support\n",
      "\n",
      "           1       0.68      0.90      0.77        67\n",
      "           2       0.83      0.55      0.66        62\n",
      "\n",
      "    accuracy                           0.73       129\n",
      "   macro avg       0.76      0.72      0.72       129\n",
      "weighted avg       0.75      0.73      0.72       129\n",
      "\n"
     ]
    }
   ],
   "source": [
    "print(classification_report(y_test, y_pred))"
   ]
  },
  {
   "cell_type": "code",
   "execution_count": 395,
   "metadata": {
    "scrolled": false
   },
   "outputs": [
    {
     "name": "stdout",
     "output_type": "stream",
     "text": [
      "[[60  7]\n",
      " [28 34]]\n"
     ]
    }
   ],
   "source": [
    "print(confusion_matrix(y_test, y_pred))"
   ]
  },
  {
   "cell_type": "code",
   "execution_count": 403,
   "metadata": {},
   "outputs": [
    {
     "data": {
      "image/png": "[encoded data removed]",
      "text/plain": [
       "<Figure size 432x288 with 1 Axes>"
      ]
     },
     "metadata": {
      "needs_background": "light"
     },
     "output_type": "display_data"
    }
   ],
   "source": [
    "plt.plot(history.history['accuracy'])\n",
    "plt.plot(history.history['val_accuracy'])\n",
    "plt.plot(history.history['loss'])\n",
    "plt.ylabel('accuracy')\n",
    "plt.xlabel('epoch')\n",
    "plt.legend(['train', 'test', 'loss'], loc='upper right')\n",
    "plt.xlim(0, 50)\n",
    "plt.show()"
   ]
  },
  {
   "cell_type": "markdown",
   "metadata": {},
   "source": [
    "# 2 Hidden Layers"
   ]
  },
  {
   "cell_type": "code",
   "execution_count": 474,
   "metadata": {},
   "outputs": [],
   "source": [
    "def create_model(optimizer='rmsprop',init='glorot_uniform', dropout=0.3):\n",
    "    model = Sequential()\n",
    "    # adding layers and adding droplayers to avoid overfitting\n",
    "    hidden_layers = len(selected_genes)\n",
    "    model.add(Dense(hidden_layers*1.5, activation='relu'))\n",
    "    model.add(BatchNormalization())\n",
    "    model.add(Dropout(dropout))\n",
    "    \n",
    "    model.add(Dense((hidden_layers), activation='relu'))\n",
    "    model.add(BatchNormalization())\n",
    "    model.add(Dropout(dropout))\n",
    "    \n",
    "    model.add(Dense(1, activation='sigmoid'))\n",
    "    # compiling\n",
    "    model.compile(optimizer=optimizer, loss='binary_crossentropy', metrics=['accuracy'])\n",
    "    return model"
   ]
  },
  {
   "cell_type": "code",
   "execution_count": 475,
   "metadata": {},
   "outputs": [],
   "source": [
    "# parameters selected from previous gridsearch\n",
    "model = KerasClassifier(build_fn=create_model, epochs=50, batch_size=32, optimizer='Adamax',init='uniform')\n",
    "# kfold = KFold(n_splits=3, shuffle=True)\n",
    "# results = cross_val_score(model, X_train, y_train, cv=kfold)\n",
    "# print(\"Baseline Accuracy: %.2f%% (%.2f%%)\" % (results.mean()*100, results.std()*100))"
   ]
  },
  {
   "cell_type": "code",
   "execution_count": 476,
   "metadata": {
    "scrolled": true
   },
   "outputs": [
    {
     "name": "stdout",
     "output_type": "stream",
     "text": [
      "Train on 513 samples\n",
      "Epoch 1/50\n",
      "513/513 [==============================] - 2s 3ms/sample - loss: 0.8869 - accuracy: 0.5906\n",
      "Epoch 2/50\n",
      "513/513 [==============================] - 0s 344us/sample - loss: 0.6353 - accuracy: 0.6940\n",
      "Epoch 3/50\n",
      "513/513 [==============================] - 0s 344us/sample - loss: 0.5967 - accuracy: 0.7407\n",
      "Epoch 4/50\n",
      "513/513 [==============================] - 0s 347us/sample - loss: 0.5564 - accuracy: 0.7212\n",
      "Epoch 5/50\n",
      "513/513 [==============================] - 0s 346us/sample - loss: 0.5398 - accuracy: 0.7524\n",
      "Epoch 6/50\n",
      "513/513 [==============================] - 0s 362us/sample - loss: 0.4925 - accuracy: 0.7739\n",
      "Epoch 7/50\n",
      "513/513 [==============================] - 0s 349us/sample - loss: 0.4582 - accuracy: 0.7895\n",
      "Epoch 8/50\n",
      "513/513 [==============================] - 0s 346us/sample - loss: 0.4838 - accuracy: 0.7680\n",
      "Epoch 9/50\n",
      "513/513 [==============================] - 0s 357us/sample - loss: 0.4234 - accuracy: 0.8109\n",
      "Epoch 10/50\n",
      "513/513 [==============================] - 0s 349us/sample - loss: 0.4246 - accuracy: 0.7856\n",
      "Epoch 11/50\n",
      "513/513 [==============================] - 0s 347us/sample - loss: 0.4108 - accuracy: 0.8148\n",
      "Epoch 12/50\n",
      "513/513 [==============================] - 0s 346us/sample - loss: 0.3599 - accuracy: 0.8460\n",
      "Epoch 13/50\n",
      "513/513 [==============================] - 0s 345us/sample - loss: 0.3887 - accuracy: 0.8265\n",
      "Epoch 14/50\n",
      "513/513 [==============================] - 0s 343us/sample - loss: 0.3599 - accuracy: 0.8460\n",
      "Epoch 15/50\n",
      "513/513 [==============================] - 0s 346us/sample - loss: 0.3737 - accuracy: 0.8596\n",
      "Epoch 16/50\n",
      "513/513 [==============================] - 0s 344us/sample - loss: 0.3828 - accuracy: 0.8207\n",
      "Epoch 17/50\n",
      "513/513 [==============================] - 0s 354us/sample - loss: 0.3230 - accuracy: 0.8694\n",
      "Epoch 18/50\n",
      "513/513 [==============================] - 0s 349us/sample - loss: 0.3110 - accuracy: 0.8616\n",
      "Epoch 19/50\n",
      "513/513 [==============================] - 0s 357us/sample - loss: 0.3095 - accuracy: 0.8830\n",
      "Epoch 20/50\n",
      "513/513 [==============================] - 0s 354us/sample - loss: 0.3083 - accuracy: 0.8577\n",
      "Epoch 21/50\n",
      "513/513 [==============================] - 0s 360us/sample - loss: 0.2633 - accuracy: 0.8967\n",
      "Epoch 22/50\n",
      "513/513 [==============================] - 0s 350us/sample - loss: 0.2477 - accuracy: 0.9006\n",
      "Epoch 23/50\n",
      "513/513 [==============================] - 0s 359us/sample - loss: 0.2701 - accuracy: 0.8713\n",
      "Epoch 24/50\n",
      "513/513 [==============================] - 0s 361us/sample - loss: 0.2548 - accuracy: 0.8850\n",
      "Epoch 25/50\n",
      "513/513 [==============================] - 0s 370us/sample - loss: 0.2505 - accuracy: 0.8908\n",
      "Epoch 26/50\n",
      "513/513 [==============================] - 0s 361us/sample - loss: 0.2387 - accuracy: 0.9084\n",
      "Epoch 27/50\n",
      "513/513 [==============================] - 0s 361us/sample - loss: 0.2754 - accuracy: 0.8733\n",
      "Epoch 28/50\n",
      "513/513 [==============================] - 0s 355us/sample - loss: 0.2175 - accuracy: 0.9201\n",
      "Epoch 29/50\n",
      "513/513 [==============================] - 0s 360us/sample - loss: 0.2323 - accuracy: 0.9259\n",
      "Epoch 30/50\n",
      "513/513 [==============================] - 0s 406us/sample - loss: 0.2330 - accuracy: 0.9025\n",
      "Epoch 31/50\n",
      "513/513 [==============================] - 0s 365us/sample - loss: 0.2315 - accuracy: 0.9025\n",
      "Epoch 32/50\n",
      "513/513 [==============================] - 0s 358us/sample - loss: 0.2165 - accuracy: 0.9142\n",
      "Epoch 33/50\n",
      "513/513 [==============================] - 0s 373us/sample - loss: 0.1613 - accuracy: 0.9552\n",
      "Epoch 34/50\n",
      "513/513 [==============================] - 0s 367us/sample - loss: 0.2040 - accuracy: 0.9298\n",
      "Epoch 35/50\n",
      "513/513 [==============================] - 0s 369us/sample - loss: 0.1877 - accuracy: 0.9298\n",
      "Epoch 36/50\n",
      "513/513 [==============================] - 0s 384us/sample - loss: 0.2197 - accuracy: 0.9142\n",
      "Epoch 37/50\n",
      "513/513 [==============================] - 0s 392us/sample - loss: 0.1780 - accuracy: 0.9318\n",
      "Epoch 38/50\n",
      "513/513 [==============================] - 0s 395us/sample - loss: 0.1734 - accuracy: 0.9454\n",
      "Epoch 39/50\n",
      "513/513 [==============================] - 0s 408us/sample - loss: 0.1556 - accuracy: 0.9435\n",
      "Epoch 40/50\n",
      "513/513 [==============================] - 0s 392us/sample - loss: 0.1619 - accuracy: 0.9337\n",
      "Epoch 41/50\n",
      "513/513 [==============================] - 0s 389us/sample - loss: 0.1423 - accuracy: 0.9454\n",
      "Epoch 42/50\n",
      "513/513 [==============================] - 0s 395us/sample - loss: 0.1797 - accuracy: 0.9337\n",
      "Epoch 43/50\n",
      "513/513 [==============================] - 0s 391us/sample - loss: 0.1570 - accuracy: 0.9376\n",
      "Epoch 44/50\n",
      "513/513 [==============================] - 0s 386us/sample - loss: 0.1657 - accuracy: 0.9357\n",
      "Epoch 45/50\n",
      "513/513 [==============================] - 0s 385us/sample - loss: 0.1575 - accuracy: 0.9415\n",
      "Epoch 46/50\n",
      "513/513 [==============================] - 0s 388us/sample - loss: 0.1240 - accuracy: 0.9591\n",
      "Epoch 47/50\n",
      "513/513 [==============================] - 0s 393us/sample - loss: 0.1510 - accuracy: 0.9435\n",
      "Epoch 48/50\n",
      "513/513 [==============================] - 0s 406us/sample - loss: 0.1364 - accuracy: 0.9435\n",
      "Epoch 49/50\n",
      "513/513 [==============================] - 0s 391us/sample - loss: 0.1419 - accuracy: 0.9532\n",
      "Epoch 50/50\n",
      "513/513 [==============================] - 0s 395us/sample - loss: 0.1318 - accuracy: 0.9493\n"
     ]
    }
   ],
   "source": [
    "model.fit(X_train, y_train)\n",
    "y_pred = model.predict(X_test)"
   ]
  },
  {
   "cell_type": "code",
   "execution_count": 477,
   "metadata": {},
   "outputs": [
    {
     "name": "stdout",
     "output_type": "stream",
     "text": [
      "              precision    recall  f1-score   support\n",
      "\n",
      "           1       0.61      0.96      0.74        67\n",
      "           2       0.88      0.34      0.49        62\n",
      "\n",
      "    accuracy                           0.66       129\n",
      "   macro avg       0.74      0.65      0.62       129\n",
      "weighted avg       0.74      0.66      0.62       129\n",
      "\n"
     ]
    }
   ],
   "source": [
    "print(classification_report(y_test, y_pred))"
   ]
  },
  {
   "cell_type": "code",
   "execution_count": 466,
   "metadata": {},
   "outputs": [
    {
     "name": "stdout",
     "output_type": "stream",
     "text": [
      "[[48 19]\n",
      " [26 36]]\n"
     ]
    }
   ],
   "source": [
    "print(confusion_matrix(y_test, y_pred))"
   ]
  },
  {
   "cell_type": "code",
   "execution_count": 402,
   "metadata": {},
   "outputs": [],
   "source": [
    "model.model.save('models/hidden_2.h5')"
   ]
  },
  {
   "cell_type": "markdown",
   "metadata": {},
   "source": [
    "# 1 Hidden Layer"
   ]
  },
  {
   "cell_type": "code",
   "execution_count": 447,
   "metadata": {},
   "outputs": [],
   "source": [
    "def create_model(optimizer='rmsprop',init='glorot_uniform', dropout=0.3):\n",
    "    model = Sequential()\n",
    "    # adding layers and adding droplayers to avoid overfitting\n",
    "    hidden_layers = len(selected_genes)\n",
    "    model.add(Dense(hidden_layers, activation='relu'))\n",
    "    model.add(BatchNormalization())\n",
    "    model.add(Dropout(dropout))\n",
    "    \n",
    "    model.add(Dense(1, activation='sigmoid'))\n",
    "    # compiling\n",
    "    model.compile(optimizer=optimizer, loss='binary_crossentropy', metrics=['accuracy'])\n",
    "    return model"
   ]
  },
  {
   "cell_type": "code",
   "execution_count": 452,
   "metadata": {},
   "outputs": [],
   "source": [
    "# parameters selected from previous gridsearch\n",
    "model = KerasClassifier(build_fn=create_model, epochs=50, batch_size=16, optimizer='Adamax',init='uniform')\n",
    "# kfold = KFold(n_splits=3, shuffle=True)\n",
    "# results = cross_val_score(model, X_train, y_train, cv=kfold)\n",
    "# print(\"Baseline Accuracy: %.2f%% (%.2f%%)\" % (results.mean()*100, results.std()*100))"
   ]
  },
  {
   "cell_type": "code",
   "execution_count": 453,
   "metadata": {
    "scrolled": true
   },
   "outputs": [
    {
     "name": "stdout",
     "output_type": "stream",
     "text": [
      "Train on 513 samples\n",
      "Epoch 1/50\n",
      "513/513 [==============================] - 1s 2ms/sample - loss: 0.7165 - accuracy: 0.6238\n",
      "Epoch 2/50\n",
      "513/513 [==============================] - 0s 300us/sample - loss: 0.5545 - accuracy: 0.7251\n",
      "Epoch 3/50\n",
      "513/513 [==============================] - 0s 317us/sample - loss: 0.4661 - accuracy: 0.7758\n",
      "Epoch 4/50\n",
      "513/513 [==============================] - 0s 297us/sample - loss: 0.4446 - accuracy: 0.7992\n",
      "Epoch 5/50\n",
      "513/513 [==============================] - 0s 294us/sample - loss: 0.4202 - accuracy: 0.8187\n",
      "Epoch 6/50\n",
      "513/513 [==============================] - 0s 293us/sample - loss: 0.4035 - accuracy: 0.8148\n",
      "Epoch 7/50\n",
      "513/513 [==============================] - 0s 292us/sample - loss: 0.3858 - accuracy: 0.8324\n",
      "Epoch 8/50\n",
      "513/513 [==============================] - 0s 312us/sample - loss: 0.3890 - accuracy: 0.8324\n",
      "Epoch 9/50\n",
      "513/513 [==============================] - 0s 302us/sample - loss: 0.3431 - accuracy: 0.8558\n",
      "Epoch 10/50\n",
      "513/513 [==============================] - 0s 301us/sample - loss: 0.3285 - accuracy: 0.8752\n",
      "Epoch 11/50\n",
      "513/513 [==============================] - 0s 299us/sample - loss: 0.3056 - accuracy: 0.8811\n",
      "Epoch 12/50\n",
      "513/513 [==============================] - 0s 294us/sample - loss: 0.3252 - accuracy: 0.8830\n",
      "Epoch 13/50\n",
      "513/513 [==============================] - 0s 303us/sample - loss: 0.2917 - accuracy: 0.8928\n",
      "Epoch 14/50\n",
      "513/513 [==============================] - 0s 313us/sample - loss: 0.2880 - accuracy: 0.8733\n",
      "Epoch 15/50\n",
      "513/513 [==============================] - 0s 296us/sample - loss: 0.2763 - accuracy: 0.8830\n",
      "Epoch 16/50\n",
      "513/513 [==============================] - 0s 310us/sample - loss: 0.2540 - accuracy: 0.8986\n",
      "Epoch 17/50\n",
      "513/513 [==============================] - 0s 319us/sample - loss: 0.2404 - accuracy: 0.9318\n",
      "Epoch 18/50\n",
      "513/513 [==============================] - 0s 308us/sample - loss: 0.2498 - accuracy: 0.9084\n",
      "Epoch 19/50\n",
      "513/513 [==============================] - 0s 315us/sample - loss: 0.2500 - accuracy: 0.9123\n",
      "Epoch 20/50\n",
      "513/513 [==============================] - 0s 308us/sample - loss: 0.2466 - accuracy: 0.9064\n",
      "Epoch 21/50\n",
      "513/513 [==============================] - 0s 318us/sample - loss: 0.2213 - accuracy: 0.9201\n",
      "Epoch 22/50\n",
      "513/513 [==============================] - 0s 299us/sample - loss: 0.2256 - accuracy: 0.9025\n",
      "Epoch 23/50\n",
      "513/513 [==============================] - 0s 297us/sample - loss: 0.2237 - accuracy: 0.9103\n",
      "Epoch 24/50\n",
      "513/513 [==============================] - 0s 300us/sample - loss: 0.2064 - accuracy: 0.9279\n",
      "Epoch 25/50\n",
      "513/513 [==============================] - 0s 311us/sample - loss: 0.1828 - accuracy: 0.9435\n",
      "Epoch 26/50\n",
      "513/513 [==============================] - 0s 311us/sample - loss: 0.1944 - accuracy: 0.9415\n",
      "Epoch 27/50\n",
      "513/513 [==============================] - 0s 312us/sample - loss: 0.1638 - accuracy: 0.9454\n",
      "Epoch 28/50\n",
      "513/513 [==============================] - 0s 311us/sample - loss: 0.2001 - accuracy: 0.9337\n",
      "Epoch 29/50\n",
      "513/513 [==============================] - 0s 303us/sample - loss: 0.1878 - accuracy: 0.9376\n",
      "Epoch 30/50\n",
      "513/513 [==============================] - 0s 311us/sample - loss: 0.1665 - accuracy: 0.9552\n",
      "Epoch 31/50\n",
      "513/513 [==============================] - 0s 305us/sample - loss: 0.1474 - accuracy: 0.9571\n",
      "Epoch 32/50\n",
      "513/513 [==============================] - 0s 306us/sample - loss: 0.1647 - accuracy: 0.9513\n",
      "Epoch 33/50\n",
      "513/513 [==============================] - 0s 309us/sample - loss: 0.1489 - accuracy: 0.9591\n",
      "Epoch 34/50\n",
      "513/513 [==============================] - 0s 309us/sample - loss: 0.1442 - accuracy: 0.9571\n",
      "Epoch 35/50\n",
      "513/513 [==============================] - 0s 318us/sample - loss: 0.1441 - accuracy: 0.9532\n",
      "Epoch 36/50\n",
      "513/513 [==============================] - 0s 312us/sample - loss: 0.1351 - accuracy: 0.9630\n",
      "Epoch 37/50\n",
      "513/513 [==============================] - 0s 314us/sample - loss: 0.1184 - accuracy: 0.9649\n",
      "Epoch 38/50\n",
      "513/513 [==============================] - 0s 331us/sample - loss: 0.1206 - accuracy: 0.9766\n",
      "Epoch 39/50\n",
      "513/513 [==============================] - 0s 333us/sample - loss: 0.1192 - accuracy: 0.9610\n",
      "Epoch 40/50\n",
      "513/513 [==============================] - 0s 332us/sample - loss: 0.1021 - accuracy: 0.9708\n",
      "Epoch 41/50\n",
      "513/513 [==============================] - 0s 311us/sample - loss: 0.1063 - accuracy: 0.9766\n",
      "Epoch 42/50\n",
      "513/513 [==============================] - 0s 328us/sample - loss: 0.1018 - accuracy: 0.9805\n",
      "Epoch 43/50\n",
      "513/513 [==============================] - 0s 370us/sample - loss: 0.0950 - accuracy: 0.9825\n",
      "Epoch 44/50\n",
      "513/513 [==============================] - 0s 370us/sample - loss: 0.1179 - accuracy: 0.9669\n",
      "Epoch 45/50\n",
      "513/513 [==============================] - 0s 374us/sample - loss: 0.0779 - accuracy: 0.9903\n",
      "Epoch 46/50\n",
      "513/513 [==============================] - 0s 364us/sample - loss: 0.0882 - accuracy: 0.9825\n",
      "Epoch 47/50\n",
      "513/513 [==============================] - 0s 347us/sample - loss: 0.1042 - accuracy: 0.9708\n",
      "Epoch 48/50\n",
      "513/513 [==============================] - 0s 333us/sample - loss: 0.0830 - accuracy: 0.9864\n",
      "Epoch 49/50\n",
      "513/513 [==============================] - 0s 337us/sample - loss: 0.0769 - accuracy: 0.9903\n",
      "Epoch 50/50\n",
      "513/513 [==============================] - 0s 351us/sample - loss: 0.1021 - accuracy: 0.9727\n"
     ]
    }
   ],
   "source": [
    "model.fit(X_train, y_train)\n",
    "y_pred = model.predict(X_test)"
   ]
  },
  {
   "cell_type": "code",
   "execution_count": 454,
   "metadata": {},
   "outputs": [
    {
     "name": "stdout",
     "output_type": "stream",
     "text": [
      "              precision    recall  f1-score   support\n",
      "\n",
      "           1       0.67      0.84      0.75        67\n",
      "           2       0.76      0.56      0.65        62\n",
      "\n",
      "    accuracy                           0.71       129\n",
      "   macro avg       0.72      0.70      0.70       129\n",
      "weighted avg       0.72      0.71      0.70       129\n",
      "\n"
     ]
    }
   ],
   "source": [
    "print(classification_report(y_test, y_pred))"
   ]
  },
  {
   "cell_type": "code",
   "execution_count": 455,
   "metadata": {},
   "outputs": [
    {
     "name": "stdout",
     "output_type": "stream",
     "text": [
      "[[56 11]\n",
      " [27 35]]\n"
     ]
    }
   ],
   "source": [
    "print(confusion_matrix(y_test, y_pred))"
   ]
  },
  {
   "cell_type": "code",
   "execution_count": 27,
   "metadata": {},
   "outputs": [],
   "source": [
    "model.model.save('models/hidden_1.h5')"
   ]
  },
  {
   "cell_type": "code",
   "execution_count": null,
   "metadata": {},
   "outputs": [],
   "source": []
  }
 ],
 "metadata": {
  "kernelspec": {
   "display_name": "Python 3",
   "language": "python",
   "name": "python3"
  },
  "language_info": {
   "codemirror_mode": {
    "name": "ipython",
    "version": 3
   },
   "file_extension": ".py",
   "mimetype": "text/x-python",
   "name": "python",
   "nbconvert_exporter": "python",
   "pygments_lexer": "ipython3",
   "version": "3.6.10"
  }
 },
 "nbformat": 4,
 "nbformat_minor": 4
}
