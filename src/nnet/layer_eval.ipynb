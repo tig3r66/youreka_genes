{
 "cells": [
  {
   "cell_type": "code",
   "execution_count": 282,
   "metadata": {},
   "outputs": [],
   "source": [
    "import itertools\n",
    "import numpy as np\n",
    "import pandas as pd\n",
    "import matplotlib.pyplot as plt\n",
    "# for data scaling and splitting\n",
    "from sklearn.preprocessing import MinMaxScaler \n",
    "from sklearn.model_selection import train_test_split\n",
    "# for neural net\n",
    "from tensorflow.keras.models import Sequential, load_model\n",
    "from tensorflow.keras.layers import Dense, Dropout\n",
    "from tensorflow.keras.wrappers.scikit_learn import KerasClassifier\n",
    "# for evaluation\n",
    "from sklearn.model_selection import KFold, cross_val_score, GridSearchCV\n",
    "from sklearn.metrics import classification_report, confusion_matrix"
   ]
  },
  {
   "cell_type": "code",
   "execution_count": 283,
   "metadata": {},
   "outputs": [
    {
     "data": {
      "text/plain": [
       "(642, 16383)"
      ]
     },
     "execution_count": 283,
     "metadata": {},
     "output_type": "execute_result"
    }
   ],
   "source": [
    "data = pd.read_csv(\"data/combined_expression.csv\")\n",
    "data['classification'].map({1: 0, 2: 1})\n",
    "data.head()\n",
    "data.shape"
   ]
  },
  {
   "cell_type": "code",
   "execution_count": 284,
   "metadata": {},
   "outputs": [],
   "source": [
    "selected_genes = pd.read_csv('cleaned/boruta-99-25-0.01.csv')\n",
    "selected_genes = selected_genes.values.tolist()\n",
    "selected_genes = list(itertools.chain(*selected_genes))"
   ]
  },
  {
   "cell_type": "code",
   "execution_count": 738,
   "metadata": {},
   "outputs": [],
   "source": [
    "# retrieving proper columns\n",
    "X = data.loc[:, selected_genes]\n",
    "y = data['classification'].values\n",
    "\n",
    "# scaling the data\n",
    "scalar = MinMaxScaler()\n",
    "x_scaled = scalar.fit_transform(X)\n",
    "\n",
    "# splitting data (20% test, 80% train)\n",
    "X_train, X_test, y_train, y_test = train_test_split(x_scaled, y, test_size=0.2)"
   ]
  },
  {
   "cell_type": "markdown",
   "metadata": {},
   "source": [
    "# 4 Hidden Layers (with batch normalization)"
   ]
  },
  {
   "cell_type": "code",
   "execution_count": 767,
   "metadata": {},
   "outputs": [],
   "source": [
    "from tensorflow.keras.layers import BatchNormalization\n",
    "\n",
    "def create_model(optimizer='rmsprop',init='glorot_uniform', dropout=0.3):\n",
    "    model = Sequential()\n",
    "    # adding layers and adding droplayers to avoid overfitting\n",
    "    hidden_layers = len(selected_genes)\n",
    "    model.add(Dense(hidden_layers, activation='relu'))\n",
    "    model.add(BatchNormalization())\n",
    "    model.add(Dropout(dropout))\n",
    "\n",
    "    model.add(Dense((hidden_layers*1.5), activation='relu'))\n",
    "    model.add(BatchNormalization())\n",
    "    model.add(Dropout(dropout))\n",
    "    \n",
    "    model.add(Dense((hidden_layers), activation='relu'))\n",
    "    model.add(BatchNormalization())\n",
    "    model.add(Dropout(dropout))\n",
    "    \n",
    "    model.add(Dense((hidden_layers*0.25), activation='relu'))\n",
    "    model.add(BatchNormalization())\n",
    "    model.add(Dropout(dropout))\n",
    "    \n",
    "    model.add(Dense(1, activation='sigmoid'))\n",
    "    # compiling\n",
    "    model.compile(optimizer=optimizer, loss='binary_crossentropy', metrics=['accuracy'])\n",
    "    return model"
   ]
  },
  {
   "cell_type": "code",
   "execution_count": 773,
   "metadata": {},
   "outputs": [],
   "source": [
    "# parameters selected from previous gridsearch\n",
    "model = KerasClassifier(build_fn=create_model, epochs=50, batch_size=32, optimizer='Adam',init='normal')\n",
    "# kfold = KFold(n_splits=3, shuffle=True)\n",
    "# results = cross_val_score(model, X_train, y_train, cv=kfold)\n",
    "# print(\"Baseline Accuracy: %.2f%% (%.2f%%)\" % (results.mean()*100, results.std()*100))"
   ]
  },
  {
   "cell_type": "code",
   "execution_count": 774,
   "metadata": {
    "scrolled": true
   },
   "outputs": [
    {
     "name": "stdout",
     "output_type": "stream",
     "text": [
      "Train on 513 samples, validate on 129 samples\n",
      "Epoch 1/50\n",
      "513/513 [==============================] - 3s 6ms/sample - loss: 0.9322 - accuracy: 0.5458 - val_loss: 1.0558 - val_accuracy: 0.0000e+00\n",
      "Epoch 2/50\n",
      "513/513 [==============================] - 0s 646us/sample - loss: 0.7391 - accuracy: 0.6647 - val_loss: 1.1220 - val_accuracy: 0.0000e+00\n",
      "Epoch 3/50\n",
      "513/513 [==============================] - 0s 644us/sample - loss: 0.6796 - accuracy: 0.6686 - val_loss: 1.0936 - val_accuracy: 0.0000e+00\n",
      "Epoch 4/50\n",
      "513/513 [==============================] - 0s 643us/sample - loss: 0.5798 - accuracy: 0.7154 - val_loss: 1.3205 - val_accuracy: 0.0000e+00\n",
      "Epoch 5/50\n",
      "513/513 [==============================] - 0s 676us/sample - loss: 0.5131 - accuracy: 0.7836 - val_loss: 1.4281 - val_accuracy: 0.0000e+00\n",
      "Epoch 6/50\n",
      "513/513 [==============================] - 0s 652us/sample - loss: 0.5527 - accuracy: 0.7407 - val_loss: 1.6394 - val_accuracy: 0.0000e+00\n",
      "Epoch 7/50\n",
      "513/513 [==============================] - 0s 649us/sample - loss: 0.4435 - accuracy: 0.7875 - val_loss: 1.5052 - val_accuracy: 0.0000e+00\n",
      "Epoch 8/50\n",
      "513/513 [==============================] - 0s 642us/sample - loss: 0.4280 - accuracy: 0.8012 - val_loss: 1.7155 - val_accuracy: 0.0000e+00\n",
      "Epoch 9/50\n",
      "513/513 [==============================] - 0s 645us/sample - loss: 0.4216 - accuracy: 0.8051 - val_loss: 1.9644 - val_accuracy: 0.0000e+00\n",
      "Epoch 10/50\n",
      "513/513 [==============================] - 0s 648us/sample - loss: 0.4197 - accuracy: 0.8109 - val_loss: 2.5598 - val_accuracy: 0.0078\n",
      "Epoch 11/50\n",
      "513/513 [==============================] - 0s 642us/sample - loss: 0.3554 - accuracy: 0.8382 - val_loss: 2.7598 - val_accuracy: 0.0000e+00\n",
      "Epoch 12/50\n",
      "513/513 [==============================] - 0s 645us/sample - loss: 0.3546 - accuracy: 0.8558 - val_loss: 2.6716 - val_accuracy: 0.0000e+00\n",
      "Epoch 13/50\n",
      "513/513 [==============================] - 0s 663us/sample - loss: 0.3259 - accuracy: 0.8577 - val_loss: 1.4899 - val_accuracy: 0.0233\n",
      "Epoch 14/50\n",
      "513/513 [==============================] - 0s 655us/sample - loss: 0.2973 - accuracy: 0.8752 - val_loss: 2.1416 - val_accuracy: 0.0155\n",
      "Epoch 15/50\n",
      "513/513 [==============================] - 0s 660us/sample - loss: 0.2700 - accuracy: 0.8850 - val_loss: 1.8388 - val_accuracy: 0.0388\n",
      "Epoch 16/50\n",
      "513/513 [==============================] - 0s 650us/sample - loss: 0.2304 - accuracy: 0.9103 - val_loss: 1.6087 - val_accuracy: 0.0930\n",
      "Epoch 17/50\n",
      "513/513 [==============================] - 0s 661us/sample - loss: 0.2484 - accuracy: 0.8811 - val_loss: 2.1261 - val_accuracy: 0.0310\n",
      "Epoch 18/50\n",
      "513/513 [==============================] - 0s 662us/sample - loss: 0.2391 - accuracy: 0.9103 - val_loss: 2.4378 - val_accuracy: 0.0310\n",
      "Epoch 19/50\n",
      "513/513 [==============================] - 0s 658us/sample - loss: 0.1880 - accuracy: 0.9318 - val_loss: 1.6669 - val_accuracy: 0.0775\n",
      "Epoch 20/50\n",
      "513/513 [==============================] - 0s 697us/sample - loss: 0.1873 - accuracy: 0.9220 - val_loss: 1.6676 - val_accuracy: 0.0775\n",
      "Epoch 21/50\n",
      "513/513 [==============================] - 0s 723us/sample - loss: 0.1974 - accuracy: 0.9181 - val_loss: 3.0953 - val_accuracy: 0.0310\n",
      "Epoch 22/50\n",
      "513/513 [==============================] - 0s 741us/sample - loss: 0.1593 - accuracy: 0.9376 - val_loss: 1.5713 - val_accuracy: 0.0930\n",
      "Epoch 23/50\n",
      "513/513 [==============================] - 0s 716us/sample - loss: 0.2042 - accuracy: 0.9396 - val_loss: 2.7856 - val_accuracy: 0.0310\n",
      "Epoch 24/50\n",
      "513/513 [==============================] - 0s 720us/sample - loss: 0.1902 - accuracy: 0.9181 - val_loss: 3.7531 - val_accuracy: 0.0233\n",
      "Epoch 25/50\n",
      "513/513 [==============================] - 0s 721us/sample - loss: 0.1352 - accuracy: 0.9415 - val_loss: 3.6115 - val_accuracy: 0.0233\n",
      "Epoch 26/50\n",
      "513/513 [==============================] - 0s 708us/sample - loss: 0.1561 - accuracy: 0.9493 - val_loss: 1.9730 - val_accuracy: 0.0775\n",
      "Epoch 27/50\n",
      "513/513 [==============================] - 0s 718us/sample - loss: 0.1563 - accuracy: 0.9376 - val_loss: 3.5111 - val_accuracy: 0.0310\n",
      "Epoch 28/50\n",
      "513/513 [==============================] - 0s 712us/sample - loss: 0.1128 - accuracy: 0.9708 - val_loss: 1.5995 - val_accuracy: 0.1163\n",
      "Epoch 29/50\n",
      "513/513 [==============================] - 0s 707us/sample - loss: 0.1183 - accuracy: 0.9591 - val_loss: 4.6802 - val_accuracy: 0.0233\n",
      "Epoch 30/50\n",
      "513/513 [==============================] - 0s 719us/sample - loss: 0.1198 - accuracy: 0.9591 - val_loss: 3.1955 - val_accuracy: 0.0233\n",
      "Epoch 31/50\n",
      "513/513 [==============================] - 0s 706us/sample - loss: 0.1225 - accuracy: 0.9552 - val_loss: 4.3170 - val_accuracy: 0.0310\n",
      "Epoch 32/50\n",
      "513/513 [==============================] - 0s 708us/sample - loss: 0.1229 - accuracy: 0.9532 - val_loss: -0.6677 - val_accuracy: 0.2481\n",
      "Epoch 33/50\n",
      "513/513 [==============================] - 0s 719us/sample - loss: 0.1198 - accuracy: 0.9493 - val_loss: 3.2115 - val_accuracy: 0.0465\n",
      "Epoch 34/50\n",
      "513/513 [==============================] - 0s 698us/sample - loss: 0.0929 - accuracy: 0.9727 - val_loss: 0.8595 - val_accuracy: 0.1163\n",
      "Epoch 35/50\n",
      "513/513 [==============================] - 0s 700us/sample - loss: 0.1114 - accuracy: 0.9669 - val_loss: 1.2730 - val_accuracy: 0.1163\n",
      "Epoch 36/50\n",
      "513/513 [==============================] - 0s 714us/sample - loss: 0.1067 - accuracy: 0.9630 - val_loss: 2.2120 - val_accuracy: 0.0930\n",
      "Epoch 37/50\n",
      "513/513 [==============================] - 0s 699us/sample - loss: 0.0735 - accuracy: 0.9786 - val_loss: 1.6978 - val_accuracy: 0.1085\n",
      "Epoch 38/50\n",
      "513/513 [==============================] - 0s 703us/sample - loss: 0.0809 - accuracy: 0.9747 - val_loss: 4.6436 - val_accuracy: 0.0310\n",
      "Epoch 39/50\n",
      "513/513 [==============================] - 0s 712us/sample - loss: 0.0838 - accuracy: 0.9669 - val_loss: 3.4742 - val_accuracy: 0.0853\n",
      "Epoch 40/50\n",
      "513/513 [==============================] - 0s 697us/sample - loss: 0.1111 - accuracy: 0.9727 - val_loss: 3.0761 - val_accuracy: 0.0698\n",
      "Epoch 41/50\n",
      "513/513 [==============================] - 0s 706us/sample - loss: 0.0726 - accuracy: 0.9805 - val_loss: 2.4852 - val_accuracy: 0.0853\n",
      "Epoch 42/50\n",
      "513/513 [==============================] - 0s 706us/sample - loss: 0.0892 - accuracy: 0.9669 - val_loss: 2.7657 - val_accuracy: 0.0698\n",
      "Epoch 43/50\n",
      "513/513 [==============================] - 0s 703us/sample - loss: 0.0756 - accuracy: 0.9688 - val_loss: 2.2333 - val_accuracy: 0.0620\n",
      "Epoch 44/50\n",
      "513/513 [==============================] - 0s 722us/sample - loss: 0.0553 - accuracy: 0.9825 - val_loss: 2.6946 - val_accuracy: 0.0698\n",
      "Epoch 45/50\n",
      "513/513 [==============================] - 0s 701us/sample - loss: 0.1058 - accuracy: 0.9552 - val_loss: 2.0614 - val_accuracy: 0.0775\n",
      "Epoch 46/50\n",
      "513/513 [==============================] - 0s 699us/sample - loss: 0.0553 - accuracy: 0.9844 - val_loss: 3.5822 - val_accuracy: 0.0465\n",
      "Epoch 47/50\n",
      "513/513 [==============================] - 0s 723us/sample - loss: 0.0745 - accuracy: 0.9747 - val_loss: 2.5861 - val_accuracy: 0.1085\n",
      "Epoch 48/50\n",
      "513/513 [==============================] - 0s 726us/sample - loss: 0.0834 - accuracy: 0.9688 - val_loss: 2.2978 - val_accuracy: 0.1085\n",
      "Epoch 49/50\n",
      "513/513 [==============================] - 0s 720us/sample - loss: 0.0623 - accuracy: 0.9747 - val_loss: 2.1038 - val_accuracy: 0.0930\n",
      "Epoch 50/50\n",
      "513/513 [==============================] - 0s 711us/sample - loss: 0.0753 - accuracy: 0.9708 - val_loss: 1.4913 - val_accuracy: 0.1085\n"
     ]
    }
   ],
   "source": [
    "history = model.fit(X_train, y_train, validation_data=(X_test,y_test))\n",
    "y_pred = model.predict(X_test)"
   ]
  },
  {
   "cell_type": "code",
   "execution_count": 775,
   "metadata": {
    "scrolled": true
   },
   "outputs": [
    {
     "name": "stdout",
     "output_type": "stream",
     "text": [
      "              precision    recall  f1-score   support\n",
      "\n",
      "           1       0.83      0.83      0.83        82\n",
      "           2       0.70      0.70      0.70        47\n",
      "\n",
      "    accuracy                           0.78       129\n",
      "   macro avg       0.77      0.77      0.77       129\n",
      "weighted avg       0.78      0.78      0.78       129\n",
      "\n"
     ]
    }
   ],
   "source": [
    "print(classification_report(y_test, y_pred))"
   ]
  },
  {
   "cell_type": "code",
   "execution_count": 776,
   "metadata": {
    "scrolled": true
   },
   "outputs": [
    {
     "name": "stdout",
     "output_type": "stream",
     "text": [
      "[[68 14]\n",
      " [14 33]]\n"
     ]
    }
   ],
   "source": [
    "print(confusion_matrix(y_test, y_pred))"
   ]
  },
  {
   "cell_type": "code",
   "execution_count": 777,
   "metadata": {
    "scrolled": true
   },
   "outputs": [
    {
     "data": {
      "image/png": "[encoded data removed]",
      "text/plain": [
       "<Figure size 432x288 with 1 Axes>"
      ]
     },
     "metadata": {
      "needs_background": "light"
     },
     "output_type": "display_data"
    }
   ],
   "source": [
    "plt.plot(history.history['accuracy'])\n",
    "plt.plot(history.history['val_accuracy'])\n",
    "plt.plot(history.history['loss'])\n",
    "plt.ylabel('accuracy')\n",
    "plt.xlabel('epoch')\n",
    "plt.legend(['train', 'test', 'loss'], loc='upper right')\n",
    "plt.ylim(0, 1)\n",
    "plt.show()"
   ]
  },
  {
   "cell_type": "markdown",
   "metadata": {},
   "source": [
    "# 3 Hidden Layers"
   ]
  },
  {
   "cell_type": "code",
   "execution_count": 790,
   "metadata": {},
   "outputs": [],
   "source": [
    "def create_model2(optimizer='rmsprop',init='glorot_uniform', dropout=0.3):\n",
    "    model = Sequential()\n",
    "    # adding layers and adding droplayers to avoid overfitting\n",
    "    hidden_layers = len(selected_genes)\n",
    "    model.add(BatchNormalization())\n",
    "    model.add(Dense(hidden_layers, activation='relu'))\n",
    "    model.add(Dropout(dropout))\n",
    "    \n",
    "    model.add(BatchNormalization())\n",
    "    model.add(Dense((hidden_layers*1.5), activation='relu'))\n",
    "    model.add(Dropout(dropout))\n",
    "\n",
    "    model.add(BatchNormalization())\n",
    "    model.add(Dense((hidden_layers*0.25), activation='relu'))\n",
    "    model.add(Dropout(dropout))\n",
    "    \n",
    "    model.add(Dense(1, activation='sigmoid'))\n",
    "    # compiling\n",
    "    model.compile(optimizer=optimizer, loss='binary_crossentropy', metrics=['accuracy'])\n",
    "    return model"
   ]
  },
  {
   "cell_type": "code",
   "execution_count": 791,
   "metadata": {},
   "outputs": [],
   "source": [
    "# parameters selected from previous gridsearch\n",
    "model = KerasClassifier(build_fn=create_model2, epochs=50, batch_size=32, optimizer='Adam', init='normal')\n",
    "# kfold = KFold(n_splits=3, shuffle=True)\n",
    "# results = cross_val_score(model, X_train, y_train, cv=kfold)\n",
    "# print(\"Baseline Accuracy: %.2f%% (%.2f%%)\" % (results.mean()*100, results.std()*100))"
   ]
  },
  {
   "cell_type": "code",
   "execution_count": 792,
   "metadata": {
    "scrolled": true
   },
   "outputs": [
    {
     "name": "stdout",
     "output_type": "stream",
     "text": [
      "Train on 513 samples, validate on 129 samples\n",
      "Epoch 1/50\n",
      "513/513 [==============================] - 2s 4ms/sample - loss: 0.7383 - accuracy: 0.6160 - val_loss: 1.0372 - val_accuracy: 0.0000e+00\n",
      "Epoch 2/50\n",
      "513/513 [==============================] - 0s 514us/sample - loss: 0.6258 - accuracy: 0.7154 - val_loss: 1.1123 - val_accuracy: 0.0000e+00\n",
      "Epoch 3/50\n",
      "513/513 [==============================] - 0s 518us/sample - loss: 0.5198 - accuracy: 0.7407 - val_loss: 1.3031 - val_accuracy: 0.0000e+00\n",
      "Epoch 4/50\n",
      "513/513 [==============================] - 0s 514us/sample - loss: 0.4508 - accuracy: 0.7934 - val_loss: 1.3428 - val_accuracy: 0.0000e+00\n",
      "Epoch 5/50\n",
      "513/513 [==============================] - 0s 521us/sample - loss: 0.4182 - accuracy: 0.8148 - val_loss: 1.5371 - val_accuracy: 0.0000e+00\n",
      "Epoch 6/50\n",
      "513/513 [==============================] - 0s 523us/sample - loss: 0.3852 - accuracy: 0.8090 - val_loss: 1.7426 - val_accuracy: 0.0000e+00\n",
      "Epoch 7/50\n",
      "513/513 [==============================] - 0s 513us/sample - loss: 0.3331 - accuracy: 0.8635 - val_loss: 1.8282 - val_accuracy: 0.0000e+00\n",
      "Epoch 8/50\n",
      "513/513 [==============================] - 0s 520us/sample - loss: 0.3053 - accuracy: 0.8694 - val_loss: 1.8860 - val_accuracy: 0.0000e+00\n",
      "Epoch 9/50\n",
      "513/513 [==============================] - 0s 512us/sample - loss: 0.2937 - accuracy: 0.8811 - val_loss: 2.4158 - val_accuracy: 0.0000e+00\n",
      "Epoch 10/50\n",
      "513/513 [==============================] - 0s 512us/sample - loss: 0.2114 - accuracy: 0.9103 - val_loss: 2.4400 - val_accuracy: 0.0000e+00\n",
      "Epoch 11/50\n",
      "513/513 [==============================] - 0s 526us/sample - loss: 0.1957 - accuracy: 0.9201 - val_loss: 2.9308 - val_accuracy: 0.0000e+00\n",
      "Epoch 12/50\n",
      "513/513 [==============================] - 0s 532us/sample - loss: 0.1749 - accuracy: 0.9279 - val_loss: 3.4122 - val_accuracy: 0.0000e+00\n",
      "Epoch 13/50\n",
      "513/513 [==============================] - 0s 518us/sample - loss: 0.1731 - accuracy: 0.9240 - val_loss: 3.1750 - val_accuracy: 0.0078\n",
      "Epoch 14/50\n",
      "513/513 [==============================] - 0s 529us/sample - loss: 0.1333 - accuracy: 0.9454 - val_loss: 3.5606 - val_accuracy: 0.0000e+00\n",
      "Epoch 15/50\n",
      "513/513 [==============================] - 0s 545us/sample - loss: 0.1418 - accuracy: 0.9454 - val_loss: 3.3974 - val_accuracy: 0.0233\n",
      "Epoch 16/50\n",
      "513/513 [==============================] - 0s 534us/sample - loss: 0.1422 - accuracy: 0.9493 - val_loss: 3.6562 - val_accuracy: 0.0155\n",
      "Epoch 17/50\n",
      "513/513 [==============================] - 0s 540us/sample - loss: 0.1326 - accuracy: 0.9474 - val_loss: 3.9261 - val_accuracy: 0.0155\n",
      "Epoch 18/50\n",
      "513/513 [==============================] - 0s 537us/sample - loss: 0.0904 - accuracy: 0.9649 - val_loss: 4.1620 - val_accuracy: 0.0078\n",
      "Epoch 19/50\n",
      "513/513 [==============================] - 0s 534us/sample - loss: 0.1047 - accuracy: 0.9649 - val_loss: 4.1238 - val_accuracy: 0.0155\n",
      "Epoch 20/50\n",
      "513/513 [==============================] - 0s 548us/sample - loss: 0.0721 - accuracy: 0.9786 - val_loss: 4.6672 - val_accuracy: 0.0543\n",
      "Epoch 21/50\n",
      "513/513 [==============================] - 0s 536us/sample - loss: 0.0650 - accuracy: 0.9805 - val_loss: 4.4302 - val_accuracy: 0.0310\n",
      "Epoch 22/50\n",
      "513/513 [==============================] - 0s 540us/sample - loss: 0.0988 - accuracy: 0.9688 - val_loss: 5.1308 - val_accuracy: 0.0620\n",
      "Epoch 23/50\n",
      "513/513 [==============================] - 0s 528us/sample - loss: 0.0681 - accuracy: 0.9747 - val_loss: 5.4226 - val_accuracy: 0.0543\n",
      "Epoch 24/50\n",
      "513/513 [==============================] - 0s 546us/sample - loss: 0.0722 - accuracy: 0.9747 - val_loss: 4.2663 - val_accuracy: 0.0620\n",
      "Epoch 25/50\n",
      "513/513 [==============================] - 0s 561us/sample - loss: 0.0505 - accuracy: 0.9864 - val_loss: 4.3489 - val_accuracy: 0.0775\n",
      "Epoch 26/50\n",
      "513/513 [==============================] - 0s 573us/sample - loss: 0.0667 - accuracy: 0.9766 - val_loss: 4.2079 - val_accuracy: 0.0698\n",
      "Epoch 27/50\n",
      "513/513 [==============================] - 0s 568us/sample - loss: 0.0839 - accuracy: 0.9747 - val_loss: 4.4594 - val_accuracy: 0.0775\n",
      "Epoch 28/50\n",
      "513/513 [==============================] - 0s 566us/sample - loss: 0.0455 - accuracy: 0.9805 - val_loss: 3.7455 - val_accuracy: 0.0930\n",
      "Epoch 29/50\n",
      "513/513 [==============================] - 0s 578us/sample - loss: 0.0707 - accuracy: 0.9688 - val_loss: 4.2997 - val_accuracy: 0.1085\n",
      "Epoch 30/50\n",
      "513/513 [==============================] - 0s 580us/sample - loss: 0.0736 - accuracy: 0.9669 - val_loss: 4.4580 - val_accuracy: 0.0698\n",
      "Epoch 31/50\n",
      "513/513 [==============================] - 0s 572us/sample - loss: 0.0864 - accuracy: 0.9708 - val_loss: 4.5236 - val_accuracy: 0.0930\n",
      "Epoch 32/50\n",
      "513/513 [==============================] - 0s 566us/sample - loss: 0.0366 - accuracy: 0.9942 - val_loss: 4.2319 - val_accuracy: 0.1008\n",
      "Epoch 33/50\n",
      "513/513 [==============================] - 0s 583us/sample - loss: 0.0500 - accuracy: 0.9786 - val_loss: 4.0650 - val_accuracy: 0.0775\n",
      "Epoch 34/50\n",
      "513/513 [==============================] - 0s 576us/sample - loss: 0.0632 - accuracy: 0.9786 - val_loss: 3.8454 - val_accuracy: 0.1008\n",
      "Epoch 35/50\n",
      "513/513 [==============================] - 0s 570us/sample - loss: 0.0685 - accuracy: 0.9708 - val_loss: 3.5100 - val_accuracy: 0.0698\n",
      "Epoch 36/50\n",
      "513/513 [==============================] - 0s 567us/sample - loss: 0.0544 - accuracy: 0.9844 - val_loss: 4.1357 - val_accuracy: 0.0930\n",
      "Epoch 37/50\n",
      "513/513 [==============================] - 0s 574us/sample - loss: 0.0475 - accuracy: 0.9903 - val_loss: 4.0755 - val_accuracy: 0.0930\n",
      "Epoch 38/50\n",
      "513/513 [==============================] - 0s 557us/sample - loss: 0.0802 - accuracy: 0.9669 - val_loss: 4.1682 - val_accuracy: 0.1008\n",
      "Epoch 39/50\n",
      "513/513 [==============================] - 0s 550us/sample - loss: 0.0650 - accuracy: 0.9727 - val_loss: 3.8369 - val_accuracy: 0.1163\n",
      "Epoch 40/50\n",
      "513/513 [==============================] - 0s 569us/sample - loss: 0.0430 - accuracy: 0.9805 - val_loss: 3.6327 - val_accuracy: 0.1240\n",
      "Epoch 41/50\n",
      "513/513 [==============================] - 0s 563us/sample - loss: 0.0414 - accuracy: 0.9883 - val_loss: 3.4692 - val_accuracy: 0.1240\n",
      "Epoch 42/50\n",
      "513/513 [==============================] - 0s 569us/sample - loss: 0.0462 - accuracy: 0.9844 - val_loss: 3.9785 - val_accuracy: 0.1163\n",
      "Epoch 43/50\n",
      "513/513 [==============================] - 0s 579us/sample - loss: 0.0454 - accuracy: 0.9805 - val_loss: 4.2077 - val_accuracy: 0.1163\n",
      "Epoch 44/50\n",
      "513/513 [==============================] - 0s 611us/sample - loss: 0.0355 - accuracy: 0.9844 - val_loss: 4.4371 - val_accuracy: 0.1008\n",
      "Epoch 45/50\n",
      "513/513 [==============================] - 0s 617us/sample - loss: 0.0191 - accuracy: 0.9981 - val_loss: 3.9202 - val_accuracy: 0.1008\n",
      "Epoch 46/50\n",
      "513/513 [==============================] - 0s 590us/sample - loss: 0.0312 - accuracy: 0.9883 - val_loss: 4.0857 - val_accuracy: 0.0930\n",
      "Epoch 47/50\n",
      "513/513 [==============================] - 0s 590us/sample - loss: 0.0485 - accuracy: 0.9844 - val_loss: 3.9163 - val_accuracy: 0.0930\n",
      "Epoch 48/50\n",
      "513/513 [==============================] - 0s 593us/sample - loss: 0.0313 - accuracy: 0.9903 - val_loss: 3.8852 - val_accuracy: 0.1163\n",
      "Epoch 49/50\n",
      "513/513 [==============================] - 0s 585us/sample - loss: 0.0350 - accuracy: 0.9805 - val_loss: 4.1681 - val_accuracy: 0.1008\n",
      "Epoch 50/50\n",
      "513/513 [==============================] - 0s 580us/sample - loss: 0.0449 - accuracy: 0.9844 - val_loss: 4.2446 - val_accuracy: 0.0930\n"
     ]
    }
   ],
   "source": [
    "history = model.fit(X_train, y_train, validation_data=(X_test, y_test), shuffle=True)\n",
    "y_pred = model.predict(X_test)"
   ]
  },
  {
   "cell_type": "code",
   "execution_count": 793,
   "metadata": {},
   "outputs": [
    {
     "name": "stdout",
     "output_type": "stream",
     "text": [
      "              precision    recall  f1-score   support\n",
      "\n",
      "           1       0.83      0.85      0.84        82\n",
      "           2       0.73      0.70      0.72        47\n",
      "\n",
      "    accuracy                           0.80       129\n",
      "   macro avg       0.78      0.78      0.78       129\n",
      "weighted avg       0.80      0.80      0.80       129\n",
      "\n"
     ]
    }
   ],
   "source": [
    "print(classification_report(y_test, y_pred))"
   ]
  },
  {
   "cell_type": "code",
   "execution_count": 794,
   "metadata": {
    "scrolled": false
   },
   "outputs": [
    {
     "name": "stdout",
     "output_type": "stream",
     "text": [
      "[[70 12]\n",
      " [14 33]]\n"
     ]
    }
   ],
   "source": [
    "print(confusion_matrix(y_test, y_pred))"
   ]
  },
  {
   "cell_type": "code",
   "execution_count": 795,
   "metadata": {},
   "outputs": [
    {
     "data": {
      "image/png": "[encoded data removed]",
      "text/plain": [
       "<Figure size 432x288 with 1 Axes>"
      ]
     },
     "metadata": {
      "needs_background": "light"
     },
     "output_type": "display_data"
    }
   ],
   "source": [
    "plt.plot(history.history['accuracy'])\n",
    "plt.plot(history.history['val_accuracy'])\n",
    "plt.plot(history.history['loss'])\n",
    "plt.ylabel('accuracy')\n",
    "plt.xlabel('epoch')\n",
    "plt.legend(['train', 'test', 'loss'], loc='upper right')\n",
    "plt.xlim(0, 50)\n",
    "plt.show()"
   ]
  },
  {
   "cell_type": "markdown",
   "metadata": {},
   "source": [
    "# 2 Hidden Layers"
   ]
  },
  {
   "cell_type": "code",
   "execution_count": 474,
   "metadata": {},
   "outputs": [],
   "source": [
    "def create_model(optimizer='rmsprop',init='glorot_uniform', dropout=0.3):\n",
    "    model = Sequential()\n",
    "    # adding layers and adding droplayers to avoid overfitting\n",
    "    hidden_layers = len(selected_genes)\n",
    "    model.add(Dense(hidden_layers*1.5, activation='relu'))\n",
    "    model.add(BatchNormalization())\n",
    "    model.add(Dropout(dropout))\n",
    "    \n",
    "    model.add(Dense((hidden_layers), activation='relu'))\n",
    "    model.add(BatchNormalization())\n",
    "    model.add(Dropout(dropout))\n",
    "    \n",
    "    model.add(Dense(1, activation='sigmoid'))\n",
    "    # compiling\n",
    "    model.compile(optimizer=optimizer, loss='binary_crossentropy', metrics=['accuracy'])\n",
    "    return model"
   ]
  },
  {
   "cell_type": "code",
   "execution_count": 475,
   "metadata": {},
   "outputs": [],
   "source": [
    "# parameters selected from previous gridsearch\n",
    "model = KerasClassifier(build_fn=create_model, epochs=50, batch_size=32, optimizer='Adamax',init='uniform')\n",
    "# kfold = KFold(n_splits=3, shuffle=True)\n",
    "# results = cross_val_score(model, X_train, y_train, cv=kfold)\n",
    "# print(\"Baseline Accuracy: %.2f%% (%.2f%%)\" % (results.mean()*100, results.std()*100))"
   ]
  },
  {
   "cell_type": "code",
   "execution_count": 476,
   "metadata": {
    "scrolled": true
   },
   "outputs": [
    {
     "name": "stdout",
     "output_type": "stream",
     "text": [
      "Train on 513 samples\n",
      "Epoch 1/50\n",
      "513/513 [==============================] - 2s 3ms/sample - loss: 0.8869 - accuracy: 0.5906\n",
      "Epoch 2/50\n",
      "513/513 [==============================] - 0s 344us/sample - loss: 0.6353 - accuracy: 0.6940\n",
      "Epoch 3/50\n",
      "513/513 [==============================] - 0s 344us/sample - loss: 0.5967 - accuracy: 0.7407\n",
      "Epoch 4/50\n",
      "513/513 [==============================] - 0s 347us/sample - loss: 0.5564 - accuracy: 0.7212\n",
      "Epoch 5/50\n",
      "513/513 [==============================] - 0s 346us/sample - loss: 0.5398 - accuracy: 0.7524\n",
      "Epoch 6/50\n",
      "513/513 [==============================] - 0s 362us/sample - loss: 0.4925 - accuracy: 0.7739\n",
      "Epoch 7/50\n",
      "513/513 [==============================] - 0s 349us/sample - loss: 0.4582 - accuracy: 0.7895\n",
      "Epoch 8/50\n",
      "513/513 [==============================] - 0s 346us/sample - loss: 0.4838 - accuracy: 0.7680\n",
      "Epoch 9/50\n",
      "513/513 [==============================] - 0s 357us/sample - loss: 0.4234 - accuracy: 0.8109\n",
      "Epoch 10/50\n",
      "513/513 [==============================] - 0s 349us/sample - loss: 0.4246 - accuracy: 0.7856\n",
      "Epoch 11/50\n",
      "513/513 [==============================] - 0s 347us/sample - loss: 0.4108 - accuracy: 0.8148\n",
      "Epoch 12/50\n",
      "513/513 [==============================] - 0s 346us/sample - loss: 0.3599 - accuracy: 0.8460\n",
      "Epoch 13/50\n",
      "513/513 [==============================] - 0s 345us/sample - loss: 0.3887 - accuracy: 0.8265\n",
      "Epoch 14/50\n",
      "513/513 [==============================] - 0s 343us/sample - loss: 0.3599 - accuracy: 0.8460\n",
      "Epoch 15/50\n",
      "513/513 [==============================] - 0s 346us/sample - loss: 0.3737 - accuracy: 0.8596\n",
      "Epoch 16/50\n",
      "513/513 [==============================] - 0s 344us/sample - loss: 0.3828 - accuracy: 0.8207\n",
      "Epoch 17/50\n",
      "513/513 [==============================] - 0s 354us/sample - loss: 0.3230 - accuracy: 0.8694\n",
      "Epoch 18/50\n",
      "513/513 [==============================] - 0s 349us/sample - loss: 0.3110 - accuracy: 0.8616\n",
      "Epoch 19/50\n",
      "513/513 [==============================] - 0s 357us/sample - loss: 0.3095 - accuracy: 0.8830\n",
      "Epoch 20/50\n",
      "513/513 [==============================] - 0s 354us/sample - loss: 0.3083 - accuracy: 0.8577\n",
      "Epoch 21/50\n",
      "513/513 [==============================] - 0s 360us/sample - loss: 0.2633 - accuracy: 0.8967\n",
      "Epoch 22/50\n",
      "513/513 [==============================] - 0s 350us/sample - loss: 0.2477 - accuracy: 0.9006\n",
      "Epoch 23/50\n",
      "513/513 [==============================] - 0s 359us/sample - loss: 0.2701 - accuracy: 0.8713\n",
      "Epoch 24/50\n",
      "513/513 [==============================] - 0s 361us/sample - loss: 0.2548 - accuracy: 0.8850\n",
      "Epoch 25/50\n",
      "513/513 [==============================] - 0s 370us/sample - loss: 0.2505 - accuracy: 0.8908\n",
      "Epoch 26/50\n",
      "513/513 [==============================] - 0s 361us/sample - loss: 0.2387 - accuracy: 0.9084\n",
      "Epoch 27/50\n",
      "513/513 [==============================] - 0s 361us/sample - loss: 0.2754 - accuracy: 0.8733\n",
      "Epoch 28/50\n",
      "513/513 [==============================] - 0s 355us/sample - loss: 0.2175 - accuracy: 0.9201\n",
      "Epoch 29/50\n",
      "513/513 [==============================] - 0s 360us/sample - loss: 0.2323 - accuracy: 0.9259\n",
      "Epoch 30/50\n",
      "513/513 [==============================] - 0s 406us/sample - loss: 0.2330 - accuracy: 0.9025\n",
      "Epoch 31/50\n",
      "513/513 [==============================] - 0s 365us/sample - loss: 0.2315 - accuracy: 0.9025\n",
      "Epoch 32/50\n",
      "513/513 [==============================] - 0s 358us/sample - loss: 0.2165 - accuracy: 0.9142\n",
      "Epoch 33/50\n",
      "513/513 [==============================] - 0s 373us/sample - loss: 0.1613 - accuracy: 0.9552\n",
      "Epoch 34/50\n",
      "513/513 [==============================] - 0s 367us/sample - loss: 0.2040 - accuracy: 0.9298\n",
      "Epoch 35/50\n",
      "513/513 [==============================] - 0s 369us/sample - loss: 0.1877 - accuracy: 0.9298\n",
      "Epoch 36/50\n",
      "513/513 [==============================] - 0s 384us/sample - loss: 0.2197 - accuracy: 0.9142\n",
      "Epoch 37/50\n",
      "513/513 [==============================] - 0s 392us/sample - loss: 0.1780 - accuracy: 0.9318\n",
      "Epoch 38/50\n",
      "513/513 [==============================] - 0s 395us/sample - loss: 0.1734 - accuracy: 0.9454\n",
      "Epoch 39/50\n",
      "513/513 [==============================] - 0s 408us/sample - loss: 0.1556 - accuracy: 0.9435\n",
      "Epoch 40/50\n",
      "513/513 [==============================] - 0s 392us/sample - loss: 0.1619 - accuracy: 0.9337\n",
      "Epoch 41/50\n",
      "513/513 [==============================] - 0s 389us/sample - loss: 0.1423 - accuracy: 0.9454\n",
      "Epoch 42/50\n",
      "513/513 [==============================] - 0s 395us/sample - loss: 0.1797 - accuracy: 0.9337\n",
      "Epoch 43/50\n",
      "513/513 [==============================] - 0s 391us/sample - loss: 0.1570 - accuracy: 0.9376\n",
      "Epoch 44/50\n",
      "513/513 [==============================] - 0s 386us/sample - loss: 0.1657 - accuracy: 0.9357\n",
      "Epoch 45/50\n",
      "513/513 [==============================] - 0s 385us/sample - loss: 0.1575 - accuracy: 0.9415\n",
      "Epoch 46/50\n",
      "513/513 [==============================] - 0s 388us/sample - loss: 0.1240 - accuracy: 0.9591\n",
      "Epoch 47/50\n",
      "513/513 [==============================] - 0s 393us/sample - loss: 0.1510 - accuracy: 0.9435\n",
      "Epoch 48/50\n",
      "513/513 [==============================] - 0s 406us/sample - loss: 0.1364 - accuracy: 0.9435\n",
      "Epoch 49/50\n",
      "513/513 [==============================] - 0s 391us/sample - loss: 0.1419 - accuracy: 0.9532\n",
      "Epoch 50/50\n",
      "513/513 [==============================] - 0s 395us/sample - loss: 0.1318 - accuracy: 0.9493\n"
     ]
    }
   ],
   "source": [
    "model.fit(X_train, y_train)\n",
    "y_pred = model.predict(X_test)"
   ]
  },
  {
   "cell_type": "code",
   "execution_count": 477,
   "metadata": {},
   "outputs": [
    {
     "name": "stdout",
     "output_type": "stream",
     "text": [
      "              precision    recall  f1-score   support\n",
      "\n",
      "           1       0.61      0.96      0.74        67\n",
      "           2       0.88      0.34      0.49        62\n",
      "\n",
      "    accuracy                           0.66       129\n",
      "   macro avg       0.74      0.65      0.62       129\n",
      "weighted avg       0.74      0.66      0.62       129\n",
      "\n"
     ]
    }
   ],
   "source": [
    "print(classification_report(y_test, y_pred))"
   ]
  },
  {
   "cell_type": "code",
   "execution_count": 466,
   "metadata": {},
   "outputs": [
    {
     "name": "stdout",
     "output_type": "stream",
     "text": [
      "[[48 19]\n",
      " [26 36]]\n"
     ]
    }
   ],
   "source": [
    "print(confusion_matrix(y_test, y_pred))"
   ]
  },
  {
   "cell_type": "code",
   "execution_count": 402,
   "metadata": {},
   "outputs": [],
   "source": [
    "model.model.save('models/hidden_2.h5')"
   ]
  },
  {
   "cell_type": "markdown",
   "metadata": {},
   "source": [
    "# 1 Hidden Layer"
   ]
  },
  {
   "cell_type": "code",
   "execution_count": 447,
   "metadata": {},
   "outputs": [],
   "source": [
    "def create_model(optimizer='rmsprop',init='glorot_uniform', dropout=0.3):\n",
    "    model = Sequential()\n",
    "    # adding layers and adding droplayers to avoid overfitting\n",
    "    hidden_layers = len(selected_genes)\n",
    "    model.add(Dense(hidden_layers, activation='relu'))\n",
    "    model.add(BatchNormalization())\n",
    "    model.add(Dropout(dropout))\n",
    "    \n",
    "    model.add(Dense(1, activation='sigmoid'))\n",
    "    # compiling\n",
    "    model.compile(optimizer=optimizer, loss='binary_crossentropy', metrics=['accuracy'])\n",
    "    return model"
   ]
  },
  {
   "cell_type": "code",
   "execution_count": 452,
   "metadata": {},
   "outputs": [],
   "source": [
    "# parameters selected from previous gridsearch\n",
    "model = KerasClassifier(build_fn=create_model, epochs=50, batch_size=16, optimizer='Adamax',init='uniform')\n",
    "# kfold = KFold(n_splits=3, shuffle=True)\n",
    "# results = cross_val_score(model, X_train, y_train, cv=kfold)\n",
    "# print(\"Baseline Accuracy: %.2f%% (%.2f%%)\" % (results.mean()*100, results.std()*100))"
   ]
  },
  {
   "cell_type": "code",
   "execution_count": 453,
   "metadata": {
    "scrolled": true
   },
   "outputs": [
    {
     "name": "stdout",
     "output_type": "stream",
     "text": [
      "Train on 513 samples\n",
      "Epoch 1/50\n",
      "513/513 [==============================] - 1s 2ms/sample - loss: 0.7165 - accuracy: 0.6238\n",
      "Epoch 2/50\n",
      "513/513 [==============================] - 0s 300us/sample - loss: 0.5545 - accuracy: 0.7251\n",
      "Epoch 3/50\n",
      "513/513 [==============================] - 0s 317us/sample - loss: 0.4661 - accuracy: 0.7758\n",
      "Epoch 4/50\n",
      "513/513 [==============================] - 0s 297us/sample - loss: 0.4446 - accuracy: 0.7992\n",
      "Epoch 5/50\n",
      "513/513 [==============================] - 0s 294us/sample - loss: 0.4202 - accuracy: 0.8187\n",
      "Epoch 6/50\n",
      "513/513 [==============================] - 0s 293us/sample - loss: 0.4035 - accuracy: 0.8148\n",
      "Epoch 7/50\n",
      "513/513 [==============================] - 0s 292us/sample - loss: 0.3858 - accuracy: 0.8324\n",
      "Epoch 8/50\n",
      "513/513 [==============================] - 0s 312us/sample - loss: 0.3890 - accuracy: 0.8324\n",
      "Epoch 9/50\n",
      "513/513 [==============================] - 0s 302us/sample - loss: 0.3431 - accuracy: 0.8558\n",
      "Epoch 10/50\n",
      "513/513 [==============================] - 0s 301us/sample - loss: 0.3285 - accuracy: 0.8752\n",
      "Epoch 11/50\n",
      "513/513 [==============================] - 0s 299us/sample - loss: 0.3056 - accuracy: 0.8811\n",
      "Epoch 12/50\n",
      "513/513 [==============================] - 0s 294us/sample - loss: 0.3252 - accuracy: 0.8830\n",
      "Epoch 13/50\n",
      "513/513 [==============================] - 0s 303us/sample - loss: 0.2917 - accuracy: 0.8928\n",
      "Epoch 14/50\n",
      "513/513 [==============================] - 0s 313us/sample - loss: 0.2880 - accuracy: 0.8733\n",
      "Epoch 15/50\n",
      "513/513 [==============================] - 0s 296us/sample - loss: 0.2763 - accuracy: 0.8830\n",
      "Epoch 16/50\n",
      "513/513 [==============================] - 0s 310us/sample - loss: 0.2540 - accuracy: 0.8986\n",
      "Epoch 17/50\n",
      "513/513 [==============================] - 0s 319us/sample - loss: 0.2404 - accuracy: 0.9318\n",
      "Epoch 18/50\n",
      "513/513 [==============================] - 0s 308us/sample - loss: 0.2498 - accuracy: 0.9084\n",
      "Epoch 19/50\n",
      "513/513 [==============================] - 0s 315us/sample - loss: 0.2500 - accuracy: 0.9123\n",
      "Epoch 20/50\n",
      "513/513 [==============================] - 0s 308us/sample - loss: 0.2466 - accuracy: 0.9064\n",
      "Epoch 21/50\n",
      "513/513 [==============================] - 0s 318us/sample - loss: 0.2213 - accuracy: 0.9201\n",
      "Epoch 22/50\n",
      "513/513 [==============================] - 0s 299us/sample - loss: 0.2256 - accuracy: 0.9025\n",
      "Epoch 23/50\n",
      "513/513 [==============================] - 0s 297us/sample - loss: 0.2237 - accuracy: 0.9103\n",
      "Epoch 24/50\n",
      "513/513 [==============================] - 0s 300us/sample - loss: 0.2064 - accuracy: 0.9279\n",
      "Epoch 25/50\n",
      "513/513 [==============================] - 0s 311us/sample - loss: 0.1828 - accuracy: 0.9435\n",
      "Epoch 26/50\n",
      "513/513 [==============================] - 0s 311us/sample - loss: 0.1944 - accuracy: 0.9415\n",
      "Epoch 27/50\n",
      "513/513 [==============================] - 0s 312us/sample - loss: 0.1638 - accuracy: 0.9454\n",
      "Epoch 28/50\n",
      "513/513 [==============================] - 0s 311us/sample - loss: 0.2001 - accuracy: 0.9337\n",
      "Epoch 29/50\n",
      "513/513 [==============================] - 0s 303us/sample - loss: 0.1878 - accuracy: 0.9376\n",
      "Epoch 30/50\n",
      "513/513 [==============================] - 0s 311us/sample - loss: 0.1665 - accuracy: 0.9552\n",
      "Epoch 31/50\n",
      "513/513 [==============================] - 0s 305us/sample - loss: 0.1474 - accuracy: 0.9571\n",
      "Epoch 32/50\n",
      "513/513 [==============================] - 0s 306us/sample - loss: 0.1647 - accuracy: 0.9513\n",
      "Epoch 33/50\n",
      "513/513 [==============================] - 0s 309us/sample - loss: 0.1489 - accuracy: 0.9591\n",
      "Epoch 34/50\n",
      "513/513 [==============================] - 0s 309us/sample - loss: 0.1442 - accuracy: 0.9571\n",
      "Epoch 35/50\n",
      "513/513 [==============================] - 0s 318us/sample - loss: 0.1441 - accuracy: 0.9532\n",
      "Epoch 36/50\n",
      "513/513 [==============================] - 0s 312us/sample - loss: 0.1351 - accuracy: 0.9630\n",
      "Epoch 37/50\n",
      "513/513 [==============================] - 0s 314us/sample - loss: 0.1184 - accuracy: 0.9649\n",
      "Epoch 38/50\n",
      "513/513 [==============================] - 0s 331us/sample - loss: 0.1206 - accuracy: 0.9766\n",
      "Epoch 39/50\n",
      "513/513 [==============================] - 0s 333us/sample - loss: 0.1192 - accuracy: 0.9610\n",
      "Epoch 40/50\n",
      "513/513 [==============================] - 0s 332us/sample - loss: 0.1021 - accuracy: 0.9708\n",
      "Epoch 41/50\n",
      "513/513 [==============================] - 0s 311us/sample - loss: 0.1063 - accuracy: 0.9766\n",
      "Epoch 42/50\n",
      "513/513 [==============================] - 0s 328us/sample - loss: 0.1018 - accuracy: 0.9805\n",
      "Epoch 43/50\n",
      "513/513 [==============================] - 0s 370us/sample - loss: 0.0950 - accuracy: 0.9825\n",
      "Epoch 44/50\n",
      "513/513 [==============================] - 0s 370us/sample - loss: 0.1179 - accuracy: 0.9669\n",
      "Epoch 45/50\n",
      "513/513 [==============================] - 0s 374us/sample - loss: 0.0779 - accuracy: 0.9903\n",
      "Epoch 46/50\n",
      "513/513 [==============================] - 0s 364us/sample - loss: 0.0882 - accuracy: 0.9825\n",
      "Epoch 47/50\n",
      "513/513 [==============================] - 0s 347us/sample - loss: 0.1042 - accuracy: 0.9708\n",
      "Epoch 48/50\n",
      "513/513 [==============================] - 0s 333us/sample - loss: 0.0830 - accuracy: 0.9864\n",
      "Epoch 49/50\n",
      "513/513 [==============================] - 0s 337us/sample - loss: 0.0769 - accuracy: 0.9903\n",
      "Epoch 50/50\n",
      "513/513 [==============================] - 0s 351us/sample - loss: 0.1021 - accuracy: 0.9727\n"
     ]
    }
   ],
   "source": [
    "model.fit(X_train, y_train)\n",
    "y_pred = model.predict(X_test)"
   ]
  },
  {
   "cell_type": "code",
   "execution_count": 454,
   "metadata": {},
   "outputs": [
    {
     "name": "stdout",
     "output_type": "stream",
     "text": [
      "              precision    recall  f1-score   support\n",
      "\n",
      "           1       0.67      0.84      0.75        67\n",
      "           2       0.76      0.56      0.65        62\n",
      "\n",
      "    accuracy                           0.71       129\n",
      "   macro avg       0.72      0.70      0.70       129\n",
      "weighted avg       0.72      0.71      0.70       129\n",
      "\n"
     ]
    }
   ],
   "source": [
    "print(classification_report(y_test, y_pred))"
   ]
  },
  {
   "cell_type": "code",
   "execution_count": 455,
   "metadata": {},
   "outputs": [
    {
     "name": "stdout",
     "output_type": "stream",
     "text": [
      "[[56 11]\n",
      " [27 35]]\n"
     ]
    }
   ],
   "source": [
    "print(confusion_matrix(y_test, y_pred))"
   ]
  },
  {
   "cell_type": "code",
   "execution_count": 27,
   "metadata": {},
   "outputs": [],
   "source": [
    "model.model.save('models/hidden_1.h5')"
   ]
  },
  {
   "cell_type": "code",
   "execution_count": null,
   "metadata": {},
   "outputs": [],
   "source": []
  }
 ],
 "metadata": {
  "kernelspec": {
   "display_name": "Python 3",
   "language": "python",
   "name": "python3"
  },
  "language_info": {
   "codemirror_mode": {
    "name": "ipython",
    "version": 3
   },
   "file_extension": ".py",
   "mimetype": "text/x-python",
   "name": "python",
   "nbconvert_exporter": "python",
   "pygments_lexer": "ipython3",
   "version": "3.6.10"
  }
 },
 "nbformat": 4,
 "nbformat_minor": 4
}
