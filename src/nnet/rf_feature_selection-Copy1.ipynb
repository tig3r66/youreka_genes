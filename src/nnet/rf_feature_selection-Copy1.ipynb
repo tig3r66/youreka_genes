{
 "cells": [
  {
   "cell_type": "code",
   "execution_count": 12,
   "metadata": {},
   "outputs": [],
   "source": [
    "import numpy as np\n",
    "import pandas as pd\n",
    "from sklearn.ensemble import RandomForestClassifier\n",
    "from sklearn.model_selection import train_test_split\n",
    "from sklearn.feature_selection import SelectFromModel\n",
    "from sklearn.metrics import accuracy_score\n",
    "from sklearn import preprocessing"
   ]
  },
  {
   "cell_type": "code",
   "execution_count": 13,
   "metadata": {},
   "outputs": [],
   "source": [
    "data = pd.read_csv(\"data/combined_expression.csv\")"
   ]
  },
  {
   "cell_type": "code",
   "execution_count": 14,
   "metadata": {
    "scrolled": true
   },
   "outputs": [
    {
     "data": {
      "text/html": [
       "<div>\n",
       "<style scoped>\n",
       "    .dataframe tbody tr th:only-of-type {\n",
       "        vertical-align: middle;\n",
       "    }\n",
       "\n",
       "    .dataframe tbody tr th {\n",
       "        vertical-align: top;\n",
       "    }\n",
       "\n",
       "    .dataframe thead th {\n",
       "        text-align: right;\n",
       "    }\n",
       "</style>\n",
       "<table border=\"1\" class=\"dataframe\">\n",
       "  <thead>\n",
       "    <tr style=\"text-align: right;\">\n",
       "      <th></th>\n",
       "      <th>CELL_LINE_NAME</th>\n",
       "      <th>classification</th>\n",
       "      <th>TSPAN6</th>\n",
       "      <th>TNMD</th>\n",
       "      <th>DPM1</th>\n",
       "      <th>SCYL3</th>\n",
       "      <th>C1orf112</th>\n",
       "      <th>FGR</th>\n",
       "      <th>CFH</th>\n",
       "      <th>FUCA2</th>\n",
       "      <th>...</th>\n",
       "      <th>COL15A1</th>\n",
       "      <th>C6orf10</th>\n",
       "      <th>TMEM225</th>\n",
       "      <th>NOTCH4</th>\n",
       "      <th>PBX2</th>\n",
       "      <th>AGER</th>\n",
       "      <th>RNF5</th>\n",
       "      <th>AGPAT1</th>\n",
       "      <th>DFNB59</th>\n",
       "      <th>PRRT1</th>\n",
       "    </tr>\n",
       "  </thead>\n",
       "  <tbody>\n",
       "    <tr>\n",
       "      <th>0</th>\n",
       "      <td>1240121</td>\n",
       "      <td>1</td>\n",
       "      <td>6.419526</td>\n",
       "      <td>3.182094</td>\n",
       "      <td>9.320548</td>\n",
       "      <td>3.759654</td>\n",
       "      <td>3.802619</td>\n",
       "      <td>3.215753</td>\n",
       "      <td>4.698729</td>\n",
       "      <td>7.873672</td>\n",
       "      <td>...</td>\n",
       "      <td>3.245454</td>\n",
       "      <td>2.953508</td>\n",
       "      <td>3.543429</td>\n",
       "      <td>3.352022</td>\n",
       "      <td>4.672310</td>\n",
       "      <td>3.641128</td>\n",
       "      <td>3.135310</td>\n",
       "      <td>3.737072</td>\n",
       "      <td>3.450927</td>\n",
       "      <td>3.168800</td>\n",
       "    </tr>\n",
       "    <tr>\n",
       "      <th>1</th>\n",
       "      <td>1240122</td>\n",
       "      <td>2</td>\n",
       "      <td>7.646494</td>\n",
       "      <td>2.626819</td>\n",
       "      <td>10.153853</td>\n",
       "      <td>3.564755</td>\n",
       "      <td>3.942749</td>\n",
       "      <td>3.290760</td>\n",
       "      <td>3.551675</td>\n",
       "      <td>8.252413</td>\n",
       "      <td>...</td>\n",
       "      <td>2.786709</td>\n",
       "      <td>3.077382</td>\n",
       "      <td>3.728232</td>\n",
       "      <td>3.208882</td>\n",
       "      <td>4.586840</td>\n",
       "      <td>3.395654</td>\n",
       "      <td>3.586800</td>\n",
       "      <td>3.519128</td>\n",
       "      <td>3.115323</td>\n",
       "      <td>3.051645</td>\n",
       "    </tr>\n",
       "    <tr>\n",
       "      <th>2</th>\n",
       "      <td>1240123</td>\n",
       "      <td>1</td>\n",
       "      <td>8.319417</td>\n",
       "      <td>3.111183</td>\n",
       "      <td>9.643558</td>\n",
       "      <td>4.757258</td>\n",
       "      <td>3.919757</td>\n",
       "      <td>3.602185</td>\n",
       "      <td>3.329644</td>\n",
       "      <td>9.076950</td>\n",
       "      <td>...</td>\n",
       "      <td>3.459089</td>\n",
       "      <td>3.085394</td>\n",
       "      <td>3.462811</td>\n",
       "      <td>3.339030</td>\n",
       "      <td>4.614897</td>\n",
       "      <td>3.395845</td>\n",
       "      <td>3.419193</td>\n",
       "      <td>3.971646</td>\n",
       "      <td>3.729310</td>\n",
       "      <td>3.320022</td>\n",
       "    </tr>\n",
       "    <tr>\n",
       "      <th>3</th>\n",
       "      <td>1240124</td>\n",
       "      <td>1</td>\n",
       "      <td>9.006994</td>\n",
       "      <td>3.028173</td>\n",
       "      <td>9.686700</td>\n",
       "      <td>4.280504</td>\n",
       "      <td>3.147646</td>\n",
       "      <td>3.188881</td>\n",
       "      <td>3.293807</td>\n",
       "      <td>8.678790</td>\n",
       "      <td>...</td>\n",
       "      <td>2.835403</td>\n",
       "      <td>2.960303</td>\n",
       "      <td>3.415083</td>\n",
       "      <td>3.290171</td>\n",
       "      <td>4.770123</td>\n",
       "      <td>3.400821</td>\n",
       "      <td>3.383734</td>\n",
       "      <td>3.798107</td>\n",
       "      <td>2.822404</td>\n",
       "      <td>3.297547</td>\n",
       "    </tr>\n",
       "    <tr>\n",
       "      <th>4</th>\n",
       "      <td>1240127</td>\n",
       "      <td>1</td>\n",
       "      <td>7.985676</td>\n",
       "      <td>2.694729</td>\n",
       "      <td>10.676134</td>\n",
       "      <td>4.159685</td>\n",
       "      <td>3.804637</td>\n",
       "      <td>3.481942</td>\n",
       "      <td>3.111261</td>\n",
       "      <td>7.555407</td>\n",
       "      <td>...</td>\n",
       "      <td>2.896523</td>\n",
       "      <td>2.849899</td>\n",
       "      <td>3.480114</td>\n",
       "      <td>3.226128</td>\n",
       "      <td>5.832710</td>\n",
       "      <td>3.612179</td>\n",
       "      <td>3.347095</td>\n",
       "      <td>4.457963</td>\n",
       "      <td>5.198524</td>\n",
       "      <td>4.553586</td>\n",
       "    </tr>\n",
       "  </tbody>\n",
       "</table>\n",
       "<p>5 rows × 16383 columns</p>\n",
       "</div>"
      ],
      "text/plain": [
       "   CELL_LINE_NAME  classification    TSPAN6      TNMD       DPM1     SCYL3  \\\n",
       "0         1240121               1  6.419526  3.182094   9.320548  3.759654   \n",
       "1         1240122               2  7.646494  2.626819  10.153853  3.564755   \n",
       "2         1240123               1  8.319417  3.111183   9.643558  4.757258   \n",
       "3         1240124               1  9.006994  3.028173   9.686700  4.280504   \n",
       "4         1240127               1  7.985676  2.694729  10.676134  4.159685   \n",
       "\n",
       "   C1orf112       FGR       CFH     FUCA2  ...   COL15A1   C6orf10   TMEM225  \\\n",
       "0  3.802619  3.215753  4.698729  7.873672  ...  3.245454  2.953508  3.543429   \n",
       "1  3.942749  3.290760  3.551675  8.252413  ...  2.786709  3.077382  3.728232   \n",
       "2  3.919757  3.602185  3.329644  9.076950  ...  3.459089  3.085394  3.462811   \n",
       "3  3.147646  3.188881  3.293807  8.678790  ...  2.835403  2.960303  3.415083   \n",
       "4  3.804637  3.481942  3.111261  7.555407  ...  2.896523  2.849899  3.480114   \n",
       "\n",
       "     NOTCH4      PBX2      AGER      RNF5    AGPAT1    DFNB59     PRRT1  \n",
       "0  3.352022  4.672310  3.641128  3.135310  3.737072  3.450927  3.168800  \n",
       "1  3.208882  4.586840  3.395654  3.586800  3.519128  3.115323  3.051645  \n",
       "2  3.339030  4.614897  3.395845  3.419193  3.971646  3.729310  3.320022  \n",
       "3  3.290171  4.770123  3.400821  3.383734  3.798107  2.822404  3.297547  \n",
       "4  3.226128  5.832710  3.612179  3.347095  4.457963  5.198524  4.553586  \n",
       "\n",
       "[5 rows x 16383 columns]"
      ]
     },
     "execution_count": 14,
     "metadata": {},
     "output_type": "execute_result"
    }
   ],
   "source": [
    "data.head()"
   ]
  },
  {
   "cell_type": "code",
   "execution_count": 15,
   "metadata": {},
   "outputs": [],
   "source": [
    "X = data.drop(columns=['CELL_LINE_NAME', 'classification'])\n",
    "y = data['classification']\n",
    "feat_labels = list(X.columns)"
   ]
  },
  {
   "cell_type": "code",
   "execution_count": 16,
   "metadata": {},
   "outputs": [],
   "source": [
    "min_max_scaler = preprocessing.MinMaxScaler()\n",
    "x_scaled = min_max_scaler.fit_transform(X)\n",
    "X = pd.DataFrame(x_scaled)"
   ]
  },
  {
   "cell_type": "code",
   "execution_count": 17,
   "metadata": {},
   "outputs": [],
   "source": [
    "# 20% test, 80% train\n",
    "X_train, X_test, y_train, y_test = train_test_split(X, y, test_size=0.2, random_state=0)"
   ]
  },
  {
   "cell_type": "code",
   "execution_count": 18,
   "metadata": {},
   "outputs": [
    {
     "data": {
      "text/plain": [
       "RandomForestClassifier(bootstrap=True, ccp_alpha=0.0, class_weight=None,\n",
       "                       criterion='gini', max_depth=None, max_features='auto',\n",
       "                       max_leaf_nodes=None, max_samples=None,\n",
       "                       min_impurity_decrease=0.0, min_impurity_split=None,\n",
       "                       min_samples_leaf=1, min_samples_split=2,\n",
       "                       min_weight_fraction_leaf=0.0, n_estimators=100,\n",
       "                       n_jobs=-1, oob_score=False, random_state=0, verbose=0,\n",
       "                       warm_start=False)"
      ]
     },
     "execution_count": 18,
     "metadata": {},
     "output_type": "execute_result"
    }
   ],
   "source": [
    "# create and train the classifier\n",
    "clf = RandomForestClassifier(n_estimators=100, random_state=0, n_jobs=-1)\n",
    "clf.fit(X_train, y_train)"
   ]
  },
  {
   "cell_type": "code",
   "execution_count": 19,
   "metadata": {},
   "outputs": [],
   "source": [
    "# associating each feature with its relative importance\n",
    "feat_importances = list(zip(feat_labels, clf.feature_importances_))"
   ]
  },
  {
   "cell_type": "code",
   "execution_count": 27,
   "metadata": {},
   "outputs": [],
   "source": [
    "# sorting the feature importances\n",
    "def sort_tuple(tup):\n",
    "    tup.sort(key = lambda x: x[1], reverse=True)\n",
    "    return tup\n",
    "feat_importances = sort_tuple(feat_importances)"
   ]
  },
  {
   "cell_type": "code",
   "execution_count": 38,
   "metadata": {},
   "outputs": [
    {
     "data": {
      "text/plain": [
       "40"
      ]
     },
     "execution_count": 38,
     "metadata": {},
     "output_type": "execute_result"
    }
   ],
   "source": [
    "genes = [i[0] for i in feat_importances if i[1] >= 1e-3]\n",
    "len(genes)"
   ]
  },
  {
   "cell_type": "code",
   "execution_count": 40,
   "metadata": {},
   "outputs": [],
   "source": [
    "s_feats = pd.DataFrame(genes)\n",
    "s_feats.to_csv('cleaned/selected_genes.csv', index=False)"
   ]
  },
  {
   "cell_type": "code",
   "execution_count": null,
   "metadata": {},
   "outputs": [],
   "source": []
  }
 ],
 "metadata": {
  "kernelspec": {
   "display_name": "Python 3",
   "language": "python",
   "name": "python3"
  },
  "language_info": {
   "codemirror_mode": {
    "name": "ipython",
    "version": 3
   },
   "file_extension": ".py",
   "mimetype": "text/x-python",
   "name": "python",
   "nbconvert_exporter": "python",
   "pygments_lexer": "ipython3",
   "version": "3.6.10"
  }
 },
 "nbformat": 4,
 "nbformat_minor": 4
}
